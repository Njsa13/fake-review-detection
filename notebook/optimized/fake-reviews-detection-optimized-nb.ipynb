{
 "cells": [
  {
   "cell_type": "markdown",
   "id": "b83b3e25",
   "metadata": {
    "papermill": {
     "duration": 0.005481,
     "end_time": "2025-05-06T10:20:07.313431",
     "exception": false,
     "start_time": "2025-05-06T10:20:07.307950",
     "status": "completed"
    },
    "tags": []
   },
   "source": [
    "## Import Library"
   ]
  },
  {
   "cell_type": "code",
   "execution_count": 1,
   "id": "5c9d4a85",
   "metadata": {
    "execution": {
     "iopub.execute_input": "2025-05-06T10:20:07.323982Z",
     "iopub.status.busy": "2025-05-06T10:20:07.323688Z",
     "iopub.status.idle": "2025-05-06T10:20:11.576423Z",
     "shell.execute_reply": "2025-05-06T10:20:11.575116Z"
    },
    "papermill": {
     "duration": 4.260051,
     "end_time": "2025-05-06T10:20:11.578209",
     "exception": false,
     "start_time": "2025-05-06T10:20:07.318158",
     "status": "completed"
    },
    "tags": []
   },
   "outputs": [
    {
     "name": "stdout",
     "output_type": "stream",
     "text": [
      "Requirement already satisfied: optuna in /usr/local/lib/python3.11/dist-packages (4.2.1)\r\n",
      "Requirement already satisfied: alembic>=1.5.0 in /usr/local/lib/python3.11/dist-packages (from optuna) (1.15.2)\r\n",
      "Requirement already satisfied: colorlog in /usr/local/lib/python3.11/dist-packages (from optuna) (6.9.0)\r\n",
      "Requirement already satisfied: numpy in /usr/local/lib/python3.11/dist-packages (from optuna) (1.26.4)\r\n",
      "Requirement already satisfied: packaging>=20.0 in /usr/local/lib/python3.11/dist-packages (from optuna) (24.2)\r\n",
      "Requirement already satisfied: sqlalchemy>=1.4.2 in /usr/local/lib/python3.11/dist-packages (from optuna) (2.0.38)\r\n",
      "Requirement already satisfied: tqdm in /usr/local/lib/python3.11/dist-packages (from optuna) (4.67.1)\r\n",
      "Requirement already satisfied: PyYAML in /usr/local/lib/python3.11/dist-packages (from optuna) (6.0.2)\r\n",
      "Requirement already satisfied: Mako in /usr/local/lib/python3.11/dist-packages (from alembic>=1.5.0->optuna) (1.3.9)\r\n",
      "Requirement already satisfied: typing-extensions>=4.12 in /usr/local/lib/python3.11/dist-packages (from alembic>=1.5.0->optuna) (4.13.1)\r\n",
      "Requirement already satisfied: greenlet!=0.4.17 in /usr/local/lib/python3.11/dist-packages (from sqlalchemy>=1.4.2->optuna) (3.1.1)\r\n",
      "Requirement already satisfied: mkl_fft in /usr/local/lib/python3.11/dist-packages (from numpy->optuna) (1.3.8)\r\n",
      "Requirement already satisfied: mkl_random in /usr/local/lib/python3.11/dist-packages (from numpy->optuna) (1.2.4)\r\n",
      "Requirement already satisfied: mkl_umath in /usr/local/lib/python3.11/dist-packages (from numpy->optuna) (0.1.1)\r\n",
      "Requirement already satisfied: mkl in /usr/local/lib/python3.11/dist-packages (from numpy->optuna) (2025.1.0)\r\n",
      "Requirement already satisfied: tbb4py in /usr/local/lib/python3.11/dist-packages (from numpy->optuna) (2022.1.0)\r\n",
      "Requirement already satisfied: mkl-service in /usr/local/lib/python3.11/dist-packages (from numpy->optuna) (2.4.1)\r\n",
      "Requirement already satisfied: MarkupSafe>=0.9.2 in /usr/local/lib/python3.11/dist-packages (from Mako->alembic>=1.5.0->optuna) (3.0.2)\r\n",
      "Requirement already satisfied: intel-openmp<2026,>=2024 in /usr/local/lib/python3.11/dist-packages (from mkl->numpy->optuna) (2024.2.0)\r\n",
      "Requirement already satisfied: tbb==2022.* in /usr/local/lib/python3.11/dist-packages (from mkl->numpy->optuna) (2022.1.0)\r\n",
      "Requirement already satisfied: tcmlib==1.* in /usr/local/lib/python3.11/dist-packages (from tbb==2022.*->mkl->numpy->optuna) (1.2.0)\r\n",
      "Requirement already satisfied: intel-cmplr-lib-rt in /usr/local/lib/python3.11/dist-packages (from mkl_umath->numpy->optuna) (2024.2.0)\r\n",
      "Requirement already satisfied: intel-cmplr-lib-ur==2024.2.0 in /usr/local/lib/python3.11/dist-packages (from intel-openmp<2026,>=2024->mkl->numpy->optuna) (2024.2.0)\r\n"
     ]
    }
   ],
   "source": [
    "!pip install optuna"
   ]
  },
  {
   "cell_type": "code",
   "execution_count": 2,
   "id": "f89134e7",
   "metadata": {
    "execution": {
     "iopub.execute_input": "2025-05-06T10:20:11.591877Z",
     "iopub.status.busy": "2025-05-06T10:20:11.591482Z",
     "iopub.status.idle": "2025-05-06T10:20:17.144498Z",
     "shell.execute_reply": "2025-05-06T10:20:17.143643Z"
    },
    "papermill": {
     "duration": 5.56266,
     "end_time": "2025-05-06T10:20:17.146131",
     "exception": false,
     "start_time": "2025-05-06T10:20:11.583471",
     "status": "completed"
    },
    "tags": []
   },
   "outputs": [
    {
     "name": "stdout",
     "output_type": "stream",
     "text": [
      "Collecting timeout-decorator\r\n",
      "  Downloading timeout-decorator-0.5.0.tar.gz (4.8 kB)\r\n",
      "  Preparing metadata (setup.py) ... \u001b[?25l\u001b[?25hdone\r\n",
      "Building wheels for collected packages: timeout-decorator\r\n",
      "  Building wheel for timeout-decorator (setup.py) ... \u001b[?25l\u001b[?25hdone\r\n",
      "  Created wheel for timeout-decorator: filename=timeout_decorator-0.5.0-py3-none-any.whl size=5007 sha256=9a96120df29863dd63cb27837d0edcc16f654c5f47ff149173a55d9d69dddfcd\r\n",
      "  Stored in directory: /root/.cache/pip/wheels/aa/cd/d1/51736c6b95846b2613a520ce146a8f305c4016a987bc9faec7\r\n",
      "Successfully built timeout-decorator\r\n",
      "Installing collected packages: timeout-decorator\r\n",
      "Successfully installed timeout-decorator-0.5.0\r\n"
     ]
    }
   ],
   "source": [
    "!pip install timeout-decorator"
   ]
  },
  {
   "cell_type": "code",
   "execution_count": 3,
   "id": "a66e1f2f",
   "metadata": {
    "execution": {
     "iopub.execute_input": "2025-05-06T10:20:17.158570Z",
     "iopub.status.busy": "2025-05-06T10:20:17.158045Z",
     "iopub.status.idle": "2025-05-06T10:20:17.163186Z",
     "shell.execute_reply": "2025-05-06T10:20:17.162387Z"
    },
    "papermill": {
     "duration": 0.012837,
     "end_time": "2025-05-06T10:20:17.164472",
     "exception": false,
     "start_time": "2025-05-06T10:20:17.151635",
     "status": "completed"
    },
    "tags": []
   },
   "outputs": [
    {
     "name": "stdout",
     "output_type": "stream",
     "text": [
      "Number of CPU cores: 4\n"
     ]
    }
   ],
   "source": [
    "import os\n",
    "\n",
    "cpu_count = os.cpu_count()\n",
    "print(f\"Number of CPU cores: {cpu_count}\")"
   ]
  },
  {
   "cell_type": "code",
   "execution_count": 4,
   "id": "4bc66309",
   "metadata": {
    "execution": {
     "iopub.execute_input": "2025-05-06T10:20:17.175749Z",
     "iopub.status.busy": "2025-05-06T10:20:17.175126Z",
     "iopub.status.idle": "2025-05-06T10:20:21.267472Z",
     "shell.execute_reply": "2025-05-06T10:20:21.266703Z"
    },
    "papermill": {
     "duration": 4.099656,
     "end_time": "2025-05-06T10:20:21.269026",
     "exception": false,
     "start_time": "2025-05-06T10:20:17.169370",
     "status": "completed"
    },
    "tags": []
   },
   "outputs": [],
   "source": [
    "import pandas as pd\n",
    "import matplotlib.pyplot as plt\n",
    "import seaborn as sns\n",
    "from sklearn.ensemble import RandomForestClassifier\n",
    "from sklearn.svm import SVC\n",
    "from sklearn.naive_bayes import MultinomialNB\n",
    "from xgboost import XGBClassifier\n",
    "from sklearn.feature_extraction.text import TfidfVectorizer\n",
    "from sklearn.model_selection import train_test_split\n",
    "from collections import Counter\n",
    "import time\n",
    "from sklearn.metrics import accuracy_score, precision_score, recall_score, f1_score, classification_report, confusion_matrix\n",
    "import optuna\n",
    "import timeout_decorator\n",
    "from timeout_decorator.timeout_decorator import TimeoutError\n",
    "import joblib"
   ]
  },
  {
   "cell_type": "markdown",
   "id": "0dfc8db8",
   "metadata": {
    "papermill": {
     "duration": 0.004838,
     "end_time": "2025-05-06T10:20:21.279055",
     "exception": false,
     "start_time": "2025-05-06T10:20:21.274217",
     "status": "completed"
    },
    "tags": []
   },
   "source": [
    "## Import Dataset"
   ]
  },
  {
   "cell_type": "code",
   "execution_count": 5,
   "id": "caf1e3a2",
   "metadata": {
    "execution": {
     "iopub.execute_input": "2025-05-06T10:20:21.290526Z",
     "iopub.status.busy": "2025-05-06T10:20:21.289663Z",
     "iopub.status.idle": "2025-05-06T10:20:22.241805Z",
     "shell.execute_reply": "2025-05-06T10:20:22.241111Z"
    },
    "papermill": {
     "duration": 0.959431,
     "end_time": "2025-05-06T10:20:22.243302",
     "exception": false,
     "start_time": "2025-05-06T10:20:21.283871",
     "status": "completed"
    },
    "tags": []
   },
   "outputs": [],
   "source": [
    "df = pd.read_csv('/kaggle/input/preprocessed-fake-reviews-dataset/preprocessed-fake-reviews-dataset.csv')"
   ]
  },
  {
   "cell_type": "code",
   "execution_count": 6,
   "id": "be9a5d0c",
   "metadata": {
    "execution": {
     "iopub.execute_input": "2025-05-06T10:20:22.255917Z",
     "iopub.status.busy": "2025-05-06T10:20:22.255624Z",
     "iopub.status.idle": "2025-05-06T10:20:22.280811Z",
     "shell.execute_reply": "2025-05-06T10:20:22.280056Z"
    },
    "papermill": {
     "duration": 0.0327,
     "end_time": "2025-05-06T10:20:22.282102",
     "exception": false,
     "start_time": "2025-05-06T10:20:22.249402",
     "status": "completed"
    },
    "tags": []
   },
   "outputs": [
    {
     "data": {
      "text/html": [
       "<div>\n",
       "<style scoped>\n",
       "    .dataframe tbody tr th:only-of-type {\n",
       "        vertical-align: middle;\n",
       "    }\n",
       "\n",
       "    .dataframe tbody tr th {\n",
       "        vertical-align: top;\n",
       "    }\n",
       "\n",
       "    .dataframe thead th {\n",
       "        text-align: right;\n",
       "    }\n",
       "</style>\n",
       "<table border=\"1\" class=\"dataframe\">\n",
       "  <thead>\n",
       "    <tr style=\"text-align: right;\">\n",
       "      <th></th>\n",
       "      <th>rating</th>\n",
       "      <th>label</th>\n",
       "      <th>text_</th>\n",
       "      <th>cleaned_text</th>\n",
       "      <th>category_Books_5</th>\n",
       "      <th>category_Clothing_Shoes_and_Jewelry_5</th>\n",
       "      <th>category_Electronics_5</th>\n",
       "      <th>category_Home_and_Kitchen_5</th>\n",
       "      <th>category_Kindle_Store_5</th>\n",
       "      <th>category_Movies_and_TV_5</th>\n",
       "      <th>category_Pet_Supplies_5</th>\n",
       "      <th>category_Sports_and_Outdoors_5</th>\n",
       "      <th>category_Tools_and_Home_Improvement_5</th>\n",
       "      <th>category_Toys_and_Games_5</th>\n",
       "    </tr>\n",
       "  </thead>\n",
       "  <tbody>\n",
       "    <tr>\n",
       "      <th>0</th>\n",
       "      <td>5.0</td>\n",
       "      <td>1</td>\n",
       "      <td>Love this!  Well made, sturdy, and very comfor...</td>\n",
       "      <td>Love this  Well made sturdy and very comfortab...</td>\n",
       "      <td>False</td>\n",
       "      <td>False</td>\n",
       "      <td>False</td>\n",
       "      <td>True</td>\n",
       "      <td>False</td>\n",
       "      <td>False</td>\n",
       "      <td>False</td>\n",
       "      <td>False</td>\n",
       "      <td>False</td>\n",
       "      <td>False</td>\n",
       "    </tr>\n",
       "    <tr>\n",
       "      <th>1</th>\n",
       "      <td>5.0</td>\n",
       "      <td>1</td>\n",
       "      <td>love it, a great upgrade from the original.  I...</td>\n",
       "      <td>love it a great upgrade from the original  Ive...</td>\n",
       "      <td>False</td>\n",
       "      <td>False</td>\n",
       "      <td>False</td>\n",
       "      <td>True</td>\n",
       "      <td>False</td>\n",
       "      <td>False</td>\n",
       "      <td>False</td>\n",
       "      <td>False</td>\n",
       "      <td>False</td>\n",
       "      <td>False</td>\n",
       "    </tr>\n",
       "    <tr>\n",
       "      <th>2</th>\n",
       "      <td>5.0</td>\n",
       "      <td>1</td>\n",
       "      <td>This pillow saved my back. I love the look and...</td>\n",
       "      <td>This pillow saved my back I love the look and ...</td>\n",
       "      <td>False</td>\n",
       "      <td>False</td>\n",
       "      <td>False</td>\n",
       "      <td>True</td>\n",
       "      <td>False</td>\n",
       "      <td>False</td>\n",
       "      <td>False</td>\n",
       "      <td>False</td>\n",
       "      <td>False</td>\n",
       "      <td>False</td>\n",
       "    </tr>\n",
       "    <tr>\n",
       "      <th>3</th>\n",
       "      <td>1.0</td>\n",
       "      <td>1</td>\n",
       "      <td>Missing information on how to use it, but it i...</td>\n",
       "      <td>Missing information on how to use it but it is...</td>\n",
       "      <td>False</td>\n",
       "      <td>False</td>\n",
       "      <td>False</td>\n",
       "      <td>True</td>\n",
       "      <td>False</td>\n",
       "      <td>False</td>\n",
       "      <td>False</td>\n",
       "      <td>False</td>\n",
       "      <td>False</td>\n",
       "      <td>False</td>\n",
       "    </tr>\n",
       "    <tr>\n",
       "      <th>4</th>\n",
       "      <td>5.0</td>\n",
       "      <td>1</td>\n",
       "      <td>Very nice set. Good quality. We have had the s...</td>\n",
       "      <td>Very nice set Good quality We have had the set...</td>\n",
       "      <td>False</td>\n",
       "      <td>False</td>\n",
       "      <td>False</td>\n",
       "      <td>True</td>\n",
       "      <td>False</td>\n",
       "      <td>False</td>\n",
       "      <td>False</td>\n",
       "      <td>False</td>\n",
       "      <td>False</td>\n",
       "      <td>False</td>\n",
       "    </tr>\n",
       "  </tbody>\n",
       "</table>\n",
       "</div>"
      ],
      "text/plain": [
       "   rating  label                                              text_  \\\n",
       "0     5.0      1  Love this!  Well made, sturdy, and very comfor...   \n",
       "1     5.0      1  love it, a great upgrade from the original.  I...   \n",
       "2     5.0      1  This pillow saved my back. I love the look and...   \n",
       "3     1.0      1  Missing information on how to use it, but it i...   \n",
       "4     5.0      1  Very nice set. Good quality. We have had the s...   \n",
       "\n",
       "                                        cleaned_text  category_Books_5  \\\n",
       "0  Love this  Well made sturdy and very comfortab...             False   \n",
       "1  love it a great upgrade from the original  Ive...             False   \n",
       "2  This pillow saved my back I love the look and ...             False   \n",
       "3  Missing information on how to use it but it is...             False   \n",
       "4  Very nice set Good quality We have had the set...             False   \n",
       "\n",
       "   category_Clothing_Shoes_and_Jewelry_5  category_Electronics_5  \\\n",
       "0                                  False                   False   \n",
       "1                                  False                   False   \n",
       "2                                  False                   False   \n",
       "3                                  False                   False   \n",
       "4                                  False                   False   \n",
       "\n",
       "   category_Home_and_Kitchen_5  category_Kindle_Store_5  \\\n",
       "0                         True                    False   \n",
       "1                         True                    False   \n",
       "2                         True                    False   \n",
       "3                         True                    False   \n",
       "4                         True                    False   \n",
       "\n",
       "   category_Movies_and_TV_5  category_Pet_Supplies_5  \\\n",
       "0                     False                    False   \n",
       "1                     False                    False   \n",
       "2                     False                    False   \n",
       "3                     False                    False   \n",
       "4                     False                    False   \n",
       "\n",
       "   category_Sports_and_Outdoors_5  category_Tools_and_Home_Improvement_5  \\\n",
       "0                           False                                  False   \n",
       "1                           False                                  False   \n",
       "2                           False                                  False   \n",
       "3                           False                                  False   \n",
       "4                           False                                  False   \n",
       "\n",
       "   category_Toys_and_Games_5  \n",
       "0                      False  \n",
       "1                      False  \n",
       "2                      False  \n",
       "3                      False  \n",
       "4                      False  "
      ]
     },
     "execution_count": 6,
     "metadata": {},
     "output_type": "execute_result"
    }
   ],
   "source": [
    "df.head()"
   ]
  },
  {
   "cell_type": "code",
   "execution_count": 7,
   "id": "b6eb3836",
   "metadata": {
    "execution": {
     "iopub.execute_input": "2025-05-06T10:20:22.293616Z",
     "iopub.status.busy": "2025-05-06T10:20:22.293332Z",
     "iopub.status.idle": "2025-05-06T10:20:22.310417Z",
     "shell.execute_reply": "2025-05-06T10:20:22.309705Z"
    },
    "papermill": {
     "duration": 0.024027,
     "end_time": "2025-05-06T10:20:22.311591",
     "exception": false,
     "start_time": "2025-05-06T10:20:22.287564",
     "status": "completed"
    },
    "tags": []
   },
   "outputs": [
    {
     "data": {
      "text/plain": [
       "rating                                   0\n",
       "label                                    0\n",
       "text_                                    0\n",
       "cleaned_text                             1\n",
       "category_Books_5                         0\n",
       "category_Clothing_Shoes_and_Jewelry_5    0\n",
       "category_Electronics_5                   0\n",
       "category_Home_and_Kitchen_5              0\n",
       "category_Kindle_Store_5                  0\n",
       "category_Movies_and_TV_5                 0\n",
       "category_Pet_Supplies_5                  0\n",
       "category_Sports_and_Outdoors_5           0\n",
       "category_Tools_and_Home_Improvement_5    0\n",
       "category_Toys_and_Games_5                0\n",
       "dtype: int64"
      ]
     },
     "execution_count": 7,
     "metadata": {},
     "output_type": "execute_result"
    }
   ],
   "source": [
    "df.isnull().sum()"
   ]
  },
  {
   "cell_type": "code",
   "execution_count": 8,
   "id": "d0cedd4b",
   "metadata": {
    "execution": {
     "iopub.execute_input": "2025-05-06T10:20:22.323253Z",
     "iopub.status.busy": "2025-05-06T10:20:22.322976Z",
     "iopub.status.idle": "2025-05-06T10:20:22.335514Z",
     "shell.execute_reply": "2025-05-06T10:20:22.334894Z"
    },
    "papermill": {
     "duration": 0.019749,
     "end_time": "2025-05-06T10:20:22.336792",
     "exception": false,
     "start_time": "2025-05-06T10:20:22.317043",
     "status": "completed"
    },
    "tags": []
   },
   "outputs": [],
   "source": [
    "df['cleaned_text'] = df['cleaned_text'].fillna(\"\")"
   ]
  },
  {
   "cell_type": "code",
   "execution_count": 9,
   "id": "96307426",
   "metadata": {
    "execution": {
     "iopub.execute_input": "2025-05-06T10:20:22.348742Z",
     "iopub.status.busy": "2025-05-06T10:20:22.348467Z",
     "iopub.status.idle": "2025-05-06T10:20:22.364539Z",
     "shell.execute_reply": "2025-05-06T10:20:22.363873Z"
    },
    "papermill": {
     "duration": 0.023608,
     "end_time": "2025-05-06T10:20:22.365799",
     "exception": false,
     "start_time": "2025-05-06T10:20:22.342191",
     "status": "completed"
    },
    "tags": []
   },
   "outputs": [
    {
     "data": {
      "text/plain": [
       "rating                                   0\n",
       "label                                    0\n",
       "text_                                    0\n",
       "cleaned_text                             0\n",
       "category_Books_5                         0\n",
       "category_Clothing_Shoes_and_Jewelry_5    0\n",
       "category_Electronics_5                   0\n",
       "category_Home_and_Kitchen_5              0\n",
       "category_Kindle_Store_5                  0\n",
       "category_Movies_and_TV_5                 0\n",
       "category_Pet_Supplies_5                  0\n",
       "category_Sports_and_Outdoors_5           0\n",
       "category_Tools_and_Home_Improvement_5    0\n",
       "category_Toys_and_Games_5                0\n",
       "dtype: int64"
      ]
     },
     "execution_count": 9,
     "metadata": {},
     "output_type": "execute_result"
    }
   ],
   "source": [
    "df.isnull().sum()"
   ]
  },
  {
   "cell_type": "code",
   "execution_count": 10,
   "id": "d82fafc5",
   "metadata": {
    "execution": {
     "iopub.execute_input": "2025-05-06T10:20:22.377396Z",
     "iopub.status.busy": "2025-05-06T10:20:22.376951Z",
     "iopub.status.idle": "2025-05-06T10:20:22.404167Z",
     "shell.execute_reply": "2025-05-06T10:20:22.403155Z"
    },
    "papermill": {
     "duration": 0.034482,
     "end_time": "2025-05-06T10:20:22.405601",
     "exception": false,
     "start_time": "2025-05-06T10:20:22.371119",
     "status": "completed"
    },
    "tags": []
   },
   "outputs": [
    {
     "name": "stdout",
     "output_type": "stream",
     "text": [
      "<class 'pandas.core.frame.DataFrame'>\n",
      "RangeIndex: 40432 entries, 0 to 40431\n",
      "Data columns (total 14 columns):\n",
      " #   Column                                 Non-Null Count  Dtype  \n",
      "---  ------                                 --------------  -----  \n",
      " 0   rating                                 40432 non-null  float64\n",
      " 1   label                                  40432 non-null  int64  \n",
      " 2   text_                                  40432 non-null  object \n",
      " 3   cleaned_text                           40432 non-null  object \n",
      " 4   category_Books_5                       40432 non-null  bool   \n",
      " 5   category_Clothing_Shoes_and_Jewelry_5  40432 non-null  bool   \n",
      " 6   category_Electronics_5                 40432 non-null  bool   \n",
      " 7   category_Home_and_Kitchen_5            40432 non-null  bool   \n",
      " 8   category_Kindle_Store_5                40432 non-null  bool   \n",
      " 9   category_Movies_and_TV_5               40432 non-null  bool   \n",
      " 10  category_Pet_Supplies_5                40432 non-null  bool   \n",
      " 11  category_Sports_and_Outdoors_5         40432 non-null  bool   \n",
      " 12  category_Tools_and_Home_Improvement_5  40432 non-null  bool   \n",
      " 13  category_Toys_and_Games_5              40432 non-null  bool   \n",
      "dtypes: bool(10), float64(1), int64(1), object(2)\n",
      "memory usage: 1.6+ MB\n"
     ]
    }
   ],
   "source": [
    "df.info()"
   ]
  },
  {
   "cell_type": "code",
   "execution_count": 11,
   "id": "a4c94592",
   "metadata": {
    "execution": {
     "iopub.execute_input": "2025-05-06T10:20:22.418119Z",
     "iopub.status.busy": "2025-05-06T10:20:22.417872Z",
     "iopub.status.idle": "2025-05-06T10:20:22.434572Z",
     "shell.execute_reply": "2025-05-06T10:20:22.433778Z"
    },
    "papermill": {
     "duration": 0.024283,
     "end_time": "2025-05-06T10:20:22.435852",
     "exception": false,
     "start_time": "2025-05-06T10:20:22.411569",
     "status": "completed"
    },
    "tags": []
   },
   "outputs": [
    {
     "data": {
      "text/html": [
       "<div>\n",
       "<style scoped>\n",
       "    .dataframe tbody tr th:only-of-type {\n",
       "        vertical-align: middle;\n",
       "    }\n",
       "\n",
       "    .dataframe tbody tr th {\n",
       "        vertical-align: top;\n",
       "    }\n",
       "\n",
       "    .dataframe thead th {\n",
       "        text-align: right;\n",
       "    }\n",
       "</style>\n",
       "<table border=\"1\" class=\"dataframe\">\n",
       "  <thead>\n",
       "    <tr style=\"text-align: right;\">\n",
       "      <th></th>\n",
       "      <th>rating</th>\n",
       "      <th>label</th>\n",
       "    </tr>\n",
       "  </thead>\n",
       "  <tbody>\n",
       "    <tr>\n",
       "      <th>count</th>\n",
       "      <td>40432.000000</td>\n",
       "      <td>40432.000000</td>\n",
       "    </tr>\n",
       "    <tr>\n",
       "      <th>mean</th>\n",
       "      <td>4.256579</td>\n",
       "      <td>0.500000</td>\n",
       "    </tr>\n",
       "    <tr>\n",
       "      <th>std</th>\n",
       "      <td>1.144354</td>\n",
       "      <td>0.500006</td>\n",
       "    </tr>\n",
       "    <tr>\n",
       "      <th>min</th>\n",
       "      <td>1.000000</td>\n",
       "      <td>0.000000</td>\n",
       "    </tr>\n",
       "    <tr>\n",
       "      <th>25%</th>\n",
       "      <td>4.000000</td>\n",
       "      <td>0.000000</td>\n",
       "    </tr>\n",
       "    <tr>\n",
       "      <th>50%</th>\n",
       "      <td>5.000000</td>\n",
       "      <td>0.500000</td>\n",
       "    </tr>\n",
       "    <tr>\n",
       "      <th>75%</th>\n",
       "      <td>5.000000</td>\n",
       "      <td>1.000000</td>\n",
       "    </tr>\n",
       "    <tr>\n",
       "      <th>max</th>\n",
       "      <td>5.000000</td>\n",
       "      <td>1.000000</td>\n",
       "    </tr>\n",
       "  </tbody>\n",
       "</table>\n",
       "</div>"
      ],
      "text/plain": [
       "             rating         label\n",
       "count  40432.000000  40432.000000\n",
       "mean       4.256579      0.500000\n",
       "std        1.144354      0.500006\n",
       "min        1.000000      0.000000\n",
       "25%        4.000000      0.000000\n",
       "50%        5.000000      0.500000\n",
       "75%        5.000000      1.000000\n",
       "max        5.000000      1.000000"
      ]
     },
     "execution_count": 11,
     "metadata": {},
     "output_type": "execute_result"
    }
   ],
   "source": [
    "df.describe()"
   ]
  },
  {
   "cell_type": "markdown",
   "id": "54043a66",
   "metadata": {
    "papermill": {
     "duration": 0.005358,
     "end_time": "2025-05-06T10:20:22.446848",
     "exception": false,
     "start_time": "2025-05-06T10:20:22.441490",
     "status": "completed"
    },
    "tags": []
   },
   "source": [
    "## Data Splitting"
   ]
  },
  {
   "cell_type": "code",
   "execution_count": 12,
   "id": "ec9a1870",
   "metadata": {
    "execution": {
     "iopub.execute_input": "2025-05-06T10:20:22.459060Z",
     "iopub.status.busy": "2025-05-06T10:20:22.458444Z",
     "iopub.status.idle": "2025-05-06T10:20:22.490074Z",
     "shell.execute_reply": "2025-05-06T10:20:22.489303Z"
    },
    "papermill": {
     "duration": 0.039307,
     "end_time": "2025-05-06T10:20:22.491573",
     "exception": false,
     "start_time": "2025-05-06T10:20:22.452266",
     "status": "completed"
    },
    "tags": []
   },
   "outputs": [],
   "source": [
    "X_train, X_test, y_train, y_test = train_test_split(df, df['label'], test_size=0.2, random_state=42, stratify=df['label'])"
   ]
  },
  {
   "cell_type": "code",
   "execution_count": 13,
   "id": "25f21b9f",
   "metadata": {
    "execution": {
     "iopub.execute_input": "2025-05-06T10:20:22.504400Z",
     "iopub.status.busy": "2025-05-06T10:20:22.504095Z",
     "iopub.status.idle": "2025-05-06T10:20:22.511473Z",
     "shell.execute_reply": "2025-05-06T10:20:22.510666Z"
    },
    "papermill": {
     "duration": 0.015074,
     "end_time": "2025-05-06T10:20:22.512726",
     "exception": false,
     "start_time": "2025-05-06T10:20:22.497652",
     "status": "completed"
    },
    "tags": []
   },
   "outputs": [
    {
     "name": "stdout",
     "output_type": "stream",
     "text": [
      "Jumlah Real Review Train (0): 16172\n",
      "Jumlah Fake Review Train (1): 16173\n",
      "Jumlah Real Review Test (0): 4044\n",
      "Jumlah Fake Review Test (1): 4043\n"
     ]
    }
   ],
   "source": [
    "train_label_counts = y_train.value_counts()\n",
    "test_label_counts = y_test.value_counts()\n",
    "\n",
    "print(\"Jumlah Real Review Train (0):\", train_label_counts[0])\n",
    "print(\"Jumlah Fake Review Train (1):\", train_label_counts[1])\n",
    "print(\"Jumlah Real Review Test (0):\", test_label_counts[0])\n",
    "print(\"Jumlah Fake Review Test (1):\", test_label_counts[1])"
   ]
  },
  {
   "cell_type": "code",
   "execution_count": 14,
   "id": "c780ab48",
   "metadata": {
    "execution": {
     "iopub.execute_input": "2025-05-06T10:20:22.525069Z",
     "iopub.status.busy": "2025-05-06T10:20:22.524565Z",
     "iopub.status.idle": "2025-05-06T10:20:22.900062Z",
     "shell.execute_reply": "2025-05-06T10:20:22.899219Z"
    },
    "papermill": {
     "duration": 0.383197,
     "end_time": "2025-05-06T10:20:22.901572",
     "exception": false,
     "start_time": "2025-05-06T10:20:22.518375",
     "status": "completed"
    },
    "tags": []
   },
   "outputs": [
    {
     "data": {
      "image/png": "[encoded data removed]",
      "text/plain": [
       "<Figure size 1200x500 with 2 Axes>"
      ]
     },
     "metadata": {},
     "output_type": "display_data"
    }
   ],
   "source": [
    "train_counts = Counter(y_train)\n",
    "test_counts = Counter(y_test)\n",
    "\n",
    "fig, axes = plt.subplots(1, 2, figsize=(12, 5))\n",
    "\n",
    "axes[0].bar(train_counts.keys(), train_counts.values(), color=['blue', 'orange'])\n",
    "axes[0].set_title('Distribusi Data Train')\n",
    "axes[0].set_xticks([0, 1])\n",
    "axes[0].set_xticklabels(['0', '1'])\n",
    "axes[0].set_xlabel('Kelas')\n",
    "axes[0].set_ylabel('Jumlah Data')\n",
    "axes[0].grid(axis='y', linestyle='--', alpha=0.7)\n",
    "\n",
    "axes[1].bar(test_counts.keys(), test_counts.values(), color=['blue', 'orange'])\n",
    "axes[1].set_title('Distribusi Data Test')\n",
    "axes[1].set_xticks([0, 1])\n",
    "axes[1].set_xticklabels(['0', '1'])\n",
    "axes[1].set_xlabel('Kelas')\n",
    "axes[1].set_ylabel('Jumlah Data')\n",
    "axes[1].grid(axis='y', linestyle='--', alpha=0.7)\n",
    "\n",
    "plt.tight_layout()\n",
    "plt.show()"
   ]
  },
  {
   "cell_type": "markdown",
   "id": "7ffa61d8",
   "metadata": {
    "papermill": {
     "duration": 0.006071,
     "end_time": "2025-05-06T10:20:22.914267",
     "exception": false,
     "start_time": "2025-05-06T10:20:22.908196",
     "status": "completed"
    },
    "tags": []
   },
   "source": [
    "## TF-IDF"
   ]
  },
  {
   "cell_type": "code",
   "execution_count": 15,
   "id": "025023b1",
   "metadata": {
    "execution": {
     "iopub.execute_input": "2025-05-06T10:20:22.927519Z",
     "iopub.status.busy": "2025-05-06T10:20:22.927257Z",
     "iopub.status.idle": "2025-05-06T10:20:27.295883Z",
     "shell.execute_reply": "2025-05-06T10:20:27.294994Z"
    },
    "papermill": {
     "duration": 4.376819,
     "end_time": "2025-05-06T10:20:27.297304",
     "exception": false,
     "start_time": "2025-05-06T10:20:22.920485",
     "status": "completed"
    },
    "tags": []
   },
   "outputs": [],
   "source": [
    "vectorizer = TfidfVectorizer(ngram_range=(1,2), min_df=30, max_df=0.90, strip_accents='unicode', sublinear_tf=True)\n",
    "X_train_tfidf = vectorizer.fit_transform(X_train['cleaned_text'])\n",
    "X_test_tfidf = vectorizer.transform(X_test['cleaned_text'])"
   ]
  },
  {
   "cell_type": "code",
   "execution_count": 16,
   "id": "f09b64e5",
   "metadata": {
    "execution": {
     "iopub.execute_input": "2025-05-06T10:20:27.312763Z",
     "iopub.status.busy": "2025-05-06T10:20:27.311942Z",
     "iopub.status.idle": "2025-05-06T10:20:27.317011Z",
     "shell.execute_reply": "2025-05-06T10:20:27.316266Z"
    },
    "papermill": {
     "duration": 0.013641,
     "end_time": "2025-05-06T10:20:27.318155",
     "exception": false,
     "start_time": "2025-05-06T10:20:27.304514",
     "status": "completed"
    },
    "tags": []
   },
   "outputs": [
    {
     "name": "stdout",
     "output_type": "stream",
     "text": [
      "Jumlah fitur yang diekstrak: 10256\n"
     ]
    }
   ],
   "source": [
    "print(\"Jumlah fitur yang diekstrak:\", len(vectorizer.vocabulary_))"
   ]
  },
  {
   "cell_type": "markdown",
   "id": "c2e05712",
   "metadata": {
    "papermill": {
     "duration": 0.006022,
     "end_time": "2025-05-06T10:20:27.330483",
     "exception": false,
     "start_time": "2025-05-06T10:20:27.324461",
     "status": "completed"
    },
    "tags": []
   },
   "source": [
    "## Naive Bayes"
   ]
  },
  {
   "cell_type": "code",
   "execution_count": 17,
   "id": "6a8e1fa1",
   "metadata": {
    "execution": {
     "iopub.execute_input": "2025-05-06T10:20:27.344127Z",
     "iopub.status.busy": "2025-05-06T10:20:27.343628Z",
     "iopub.status.idle": "2025-05-06T10:20:27.349094Z",
     "shell.execute_reply": "2025-05-06T10:20:27.348461Z"
    },
    "papermill": {
     "duration": 0.013561,
     "end_time": "2025-05-06T10:20:27.350195",
     "exception": false,
     "start_time": "2025-05-06T10:20:27.336634",
     "status": "completed"
    },
    "tags": []
   },
   "outputs": [],
   "source": [
    "@timeout_decorator.timeout(900, use_signals=False)\n",
    "def train(alpha, fit_prior):\n",
    "    nb_model = MultinomialNB(alpha=alpha, fit_prior=fit_prior)\n",
    "    nb_model.fit(X_train_tfidf, y_train)\n",
    "    return nb_model\n",
    "\n",
    "def objective(trial):\n",
    "    alpha = trial.suggest_float(\"alpha\", 1e-3, 1e1, log=True)\n",
    "    fit_prior = trial.suggest_categorical(\"fit_prior\", [True, False])\n",
    "\n",
    "    try:\n",
    "        nb_model = train(alpha, fit_prior)\n",
    "        y_pred = nb_model.predict(X_test_tfidf)\n",
    "        accuracy = accuracy_score(y_test, y_pred)\n",
    "    except TimeoutError:\n",
    "        raise optuna.exceptions.TrialPruned()\n",
    "    return accuracy"
   ]
  },
  {
   "cell_type": "code",
   "execution_count": 18,
   "id": "b87e562a",
   "metadata": {
    "execution": {
     "iopub.execute_input": "2025-05-06T10:20:27.363515Z",
     "iopub.status.busy": "2025-05-06T10:20:27.363264Z",
     "iopub.status.idle": "2025-05-06T10:20:29.200421Z",
     "shell.execute_reply": "2025-05-06T10:20:29.199439Z"
    },
    "papermill": {
     "duration": 1.845671,
     "end_time": "2025-05-06T10:20:29.202004",
     "exception": false,
     "start_time": "2025-05-06T10:20:27.356333",
     "status": "completed"
    },
    "tags": []
   },
   "outputs": [
    {
     "name": "stderr",
     "output_type": "stream",
     "text": [
      "[I 2025-05-06 10:20:27,365] A new study created in memory with name: no-name-8acb4b0a-32f2-4764-bb3b-27dd912a4df0\n",
      "[I 2025-05-06 10:20:27,475] Trial 0 finished with value: 0.9025596636577222 and parameters: {'alpha': 1.0, 'fit_prior': True}. Best is trial 0 with value: 0.9025596636577222.\n",
      "[I 2025-05-06 10:20:27,513] Trial 3 finished with value: 0.9047854581426982 and parameters: {'alpha': 0.0016133999929245626, 'fit_prior': True}. Best is trial 3 with value: 0.9047854581426982.\n",
      "[I 2025-05-06 10:20:27,520] Trial 1 finished with value: 0.9047854581426982 and parameters: {'alpha': 0.0046137367787185204, 'fit_prior': True}. Best is trial 3 with value: 0.9047854581426982.\n",
      "[I 2025-05-06 10:20:27,555] Trial 2 finished with value: 0.89600593545196 and parameters: {'alpha': 5.378417022795471, 'fit_prior': True}. Best is trial 3 with value: 0.9047854581426982.\n",
      "[I 2025-05-06 10:20:27,610] Trial 4 finished with value: 0.9034252504018796 and parameters: {'alpha': 0.28602810474910384, 'fit_prior': True}. Best is trial 3 with value: 0.9047854581426982.\n",
      "[I 2025-05-06 10:20:27,634] Trial 5 finished with value: 0.9042908371460369 and parameters: {'alpha': 0.11701542838428897, 'fit_prior': False}. Best is trial 3 with value: 0.9047854581426982.\n",
      "[I 2025-05-06 10:20:27,670] Trial 6 finished with value: 0.9046618028935328 and parameters: {'alpha': 0.003858712137232011, 'fit_prior': False}. Best is trial 3 with value: 0.9047854581426982.\n",
      "[I 2025-05-06 10:20:27,700] Trial 7 finished with value: 0.9046618028935328 and parameters: {'alpha': 0.023589275567387907, 'fit_prior': False}. Best is trial 3 with value: 0.9047854581426982.\n",
      "[I 2025-05-06 10:20:27,740] Trial 8 finished with value: 0.9040435266477062 and parameters: {'alpha': 0.5764596683368519, 'fit_prior': True}. Best is trial 3 with value: 0.9047854581426982.\n",
      "[I 2025-05-06 10:20:27,744] Trial 9 finished with value: 0.9047854581426982 and parameters: {'alpha': 0.02486360173589588, 'fit_prior': True}. Best is trial 3 with value: 0.9047854581426982.\n",
      "[I 2025-05-06 10:20:27,810] Trial 10 finished with value: 0.9023123531593916 and parameters: {'alpha': 1.1006555892144234, 'fit_prior': True}. Best is trial 3 with value: 0.9047854581426982.\n",
      "[I 2025-05-06 10:20:27,820] Trial 11 finished with value: 0.8994682824285891 and parameters: {'alpha': 2.3483967898624165, 'fit_prior': False}. Best is trial 3 with value: 0.9047854581426982.\n",
      "[I 2025-05-06 10:20:27,888] Trial 12 finished with value: 0.9046618028935328 and parameters: {'alpha': 0.010215530344913641, 'fit_prior': False}. Best is trial 3 with value: 0.9047854581426982.\n",
      "[I 2025-05-06 10:20:27,890] Trial 13 finished with value: 0.9046618028935328 and parameters: {'alpha': 0.01108357639227241, 'fit_prior': False}. Best is trial 3 with value: 0.9047854581426982.\n",
      "[I 2025-05-06 10:20:27,959] Trial 15 finished with value: 0.9049091133918635 and parameters: {'alpha': 0.0011198496331877772, 'fit_prior': True}. Best is trial 15 with value: 0.9049091133918635.\n",
      "[I 2025-05-06 10:20:27,964] Trial 14 finished with value: 0.9049091133918635 and parameters: {'alpha': 0.0010795963849497506, 'fit_prior': True}. Best is trial 15 with value: 0.9049091133918635.\n",
      "[I 2025-05-06 10:20:28,022] Trial 16 finished with value: 0.9047854581426982 and parameters: {'alpha': 0.0014771599202347632, 'fit_prior': True}. Best is trial 15 with value: 0.9049091133918635.\n",
      "[I 2025-05-06 10:20:28,050] Trial 17 finished with value: 0.9047854581426982 and parameters: {'alpha': 0.0013475193915375003, 'fit_prior': True}. Best is trial 15 with value: 0.9049091133918635.\n",
      "[I 2025-05-06 10:20:28,088] Trial 19 finished with value: 0.9047854581426982 and parameters: {'alpha': 0.0014156552802513916, 'fit_prior': True}. Best is trial 15 with value: 0.9049091133918635.\n",
      "[I 2025-05-06 10:20:28,138] Trial 18 finished with value: 0.9049091133918635 and parameters: {'alpha': 0.0010957946171371376, 'fit_prior': True}. Best is trial 15 with value: 0.9049091133918635.\n",
      "[I 2025-05-06 10:20:28,177] Trial 20 finished with value: 0.9047854581426982 and parameters: {'alpha': 0.0013979141285555001, 'fit_prior': True}. Best is trial 15 with value: 0.9049091133918635.\n",
      "[I 2025-05-06 10:20:28,208] Trial 22 finished with value: 0.9049091133918635 and parameters: {'alpha': 0.04889557341160529, 'fit_prior': True}. Best is trial 15 with value: 0.9049091133918635.\n",
      "[I 2025-05-06 10:20:28,229] Trial 21 finished with value: 0.9047854581426982 and parameters: {'alpha': 0.05257635967860476, 'fit_prior': True}. Best is trial 15 with value: 0.9049091133918635.\n",
      "[I 2025-05-06 10:20:28,287] Trial 23 finished with value: 0.9047854581426982 and parameters: {'alpha': 0.05467741916752194, 'fit_prior': True}. Best is trial 15 with value: 0.9049091133918635.\n",
      "[I 2025-05-06 10:20:28,304] Trial 24 finished with value: 0.9047854581426982 and parameters: {'alpha': 0.004093369838160641, 'fit_prior': True}. Best is trial 15 with value: 0.9049091133918635.\n",
      "[I 2025-05-06 10:20:28,365] Trial 25 finished with value: 0.9047854581426982 and parameters: {'alpha': 0.00414425163437519, 'fit_prior': True}. Best is trial 15 with value: 0.9049091133918635.\n",
      "[I 2025-05-06 10:20:28,388] Trial 26 finished with value: 0.9047854581426982 and parameters: {'alpha': 0.003895306347891425, 'fit_prior': True}. Best is trial 15 with value: 0.9049091133918635.\n",
      "[I 2025-05-06 10:20:28,442] Trial 27 finished with value: 0.9047854581426982 and parameters: {'alpha': 0.004350613074488333, 'fit_prior': True}. Best is trial 15 with value: 0.9049091133918635.\n",
      "[I 2025-05-06 10:20:28,446] Trial 28 finished with value: 0.9049091133918635 and parameters: {'alpha': 0.003242546502095669, 'fit_prior': True}. Best is trial 15 with value: 0.9049091133918635.\n",
      "[I 2025-05-06 10:20:28,521] Trial 30 finished with value: 0.9047854581426982 and parameters: {'alpha': 0.009288299291326864, 'fit_prior': True}. Best is trial 15 with value: 0.9049091133918635.\n",
      "[I 2025-05-06 10:20:28,536] Trial 29 finished with value: 0.9047854581426982 and parameters: {'alpha': 0.009248963084075626, 'fit_prior': True}. Best is trial 15 with value: 0.9049091133918635.\n",
      "[I 2025-05-06 10:20:28,594] Trial 31 finished with value: 0.9046618028935328 and parameters: {'alpha': 0.01250743639619922, 'fit_prior': True}. Best is trial 15 with value: 0.9049091133918635.\n",
      "[I 2025-05-06 10:20:28,608] Trial 32 finished with value: 0.9047854581426982 and parameters: {'alpha': 0.009650519668513125, 'fit_prior': True}. Best is trial 15 with value: 0.9049091133918635.\n",
      "[I 2025-05-06 10:20:28,657] Trial 33 finished with value: 0.9049091133918635 and parameters: {'alpha': 0.0024454092783018026, 'fit_prior': True}. Best is trial 15 with value: 0.9049091133918635.\n",
      "[I 2025-05-06 10:20:28,685] Trial 34 finished with value: 0.9049091133918635 and parameters: {'alpha': 0.001044012067960964, 'fit_prior': True}. Best is trial 15 with value: 0.9049091133918635.\n",
      "[I 2025-05-06 10:20:28,745] Trial 35 finished with value: 0.9047854581426982 and parameters: {'alpha': 0.0022708335972019536, 'fit_prior': True}. Best is trial 15 with value: 0.9049091133918635.\n",
      "[I 2025-05-06 10:20:28,748] Trial 36 finished with value: 0.9047854581426982 and parameters: {'alpha': 0.0024045780424983686, 'fit_prior': True}. Best is trial 15 with value: 0.9049091133918635.\n",
      "[I 2025-05-06 10:20:28,806] Trial 37 finished with value: 0.9047854581426982 and parameters: {'alpha': 0.002186256549347499, 'fit_prior': True}. Best is trial 15 with value: 0.9049091133918635.\n",
      "[I 2025-05-06 10:20:28,835] Trial 38 finished with value: 0.9047854581426982 and parameters: {'alpha': 0.0022833857664170103, 'fit_prior': True}. Best is trial 15 with value: 0.9049091133918635.\n",
      "[I 2025-05-06 10:20:28,871] Trial 39 finished with value: 0.9039198713985409 and parameters: {'alpha': 0.20358374966233653, 'fit_prior': True}. Best is trial 15 with value: 0.9049091133918635.\n",
      "[I 2025-05-06 10:20:28,910] Trial 40 finished with value: 0.9039198713985409 and parameters: {'alpha': 0.20210180795455168, 'fit_prior': True}. Best is trial 15 with value: 0.9049091133918635.\n",
      "[I 2025-05-06 10:20:28,953] Trial 41 finished with value: 0.9039198713985409 and parameters: {'alpha': 0.18906813496136912, 'fit_prior': False}. Best is trial 15 with value: 0.9049091133918635.\n",
      "[I 2025-05-06 10:20:29,004] Trial 42 finished with value: 0.8946457277111414 and parameters: {'alpha': 7.5849028751568826, 'fit_prior': False}. Best is trial 15 with value: 0.9049091133918635.\n",
      "[I 2025-05-06 10:20:29,012] Trial 43 finished with value: 0.8927908989736615 and parameters: {'alpha': 9.525601884618279, 'fit_prior': False}. Best is trial 15 with value: 0.9049091133918635.\n",
      "[I 2025-05-06 10:20:29,077] Trial 44 finished with value: 0.9047854581426982 and parameters: {'alpha': 0.006275998828766696, 'fit_prior': False}. Best is trial 15 with value: 0.9049091133918635.\n",
      "[I 2025-05-06 10:20:29,084] Trial 45 finished with value: 0.8941511067144801 and parameters: {'alpha': 8.216461770655457, 'fit_prior': True}. Best is trial 15 with value: 0.9049091133918635.\n",
      "[I 2025-05-06 10:20:29,153] Trial 47 finished with value: 0.9049091133918635 and parameters: {'alpha': 0.0010342176185876937, 'fit_prior': True}. Best is trial 15 with value: 0.9049091133918635.\n",
      "[I 2025-05-06 10:20:29,160] Trial 46 finished with value: 0.9049091133918635 and parameters: {'alpha': 0.006867354324866621, 'fit_prior': True}. Best is trial 15 with value: 0.9049091133918635.\n",
      "[I 2025-05-06 10:20:29,181] Trial 49 finished with value: 0.9040435266477062 and parameters: {'alpha': 0.55444465044333, 'fit_prior': True}. Best is trial 15 with value: 0.9049091133918635.\n",
      "[I 2025-05-06 10:20:29,195] Trial 48 finished with value: 0.9047854581426982 and parameters: {'alpha': 0.02315330858081588, 'fit_prior': True}. Best is trial 15 with value: 0.9049091133918635.\n"
     ]
    }
   ],
   "source": [
    "# Hyperparameter Tuning\n",
    "study = optuna.create_study(direction='maximize', sampler=optuna.samplers.TPESampler(seed=42))\n",
    "study.enqueue_trial({\n",
    "    \"alpha\": 1.0,\n",
    "    \"fit_prior\": True\n",
    "})\n",
    "study.optimize(objective, n_trials=50, n_jobs=4)"
   ]
  },
  {
   "cell_type": "code",
   "execution_count": 19,
   "id": "c5d2ed2a",
   "metadata": {
    "execution": {
     "iopub.execute_input": "2025-05-06T10:20:29.221817Z",
     "iopub.status.busy": "2025-05-06T10:20:29.220910Z",
     "iopub.status.idle": "2025-05-06T10:20:29.226222Z",
     "shell.execute_reply": "2025-05-06T10:20:29.225561Z"
    },
    "papermill": {
     "duration": 0.016269,
     "end_time": "2025-05-06T10:20:29.227405",
     "exception": false,
     "start_time": "2025-05-06T10:20:29.211136",
     "status": "completed"
    },
    "tags": []
   },
   "outputs": [
    {
     "name": "stdout",
     "output_type": "stream",
     "text": [
      "Best parameters: {'alpha': 0.0011198496331877772, 'fit_prior': True}\n",
      "Best accuracy: 0.9049091133918635\n"
     ]
    }
   ],
   "source": [
    "print(\"Best parameters:\", study.best_params)\n",
    "print(\"Best accuracy:\", study.best_value)"
   ]
  },
  {
   "cell_type": "code",
   "execution_count": 20,
   "id": "0643a590",
   "metadata": {
    "execution": {
     "iopub.execute_input": "2025-05-06T10:20:29.246374Z",
     "iopub.status.busy": "2025-05-06T10:20:29.246098Z",
     "iopub.status.idle": "2025-05-06T10:20:29.274659Z",
     "shell.execute_reply": "2025-05-06T10:20:29.273788Z"
    },
    "papermill": {
     "duration": 0.039483,
     "end_time": "2025-05-06T10:20:29.276020",
     "exception": false,
     "start_time": "2025-05-06T10:20:29.236537",
     "status": "completed"
    },
    "tags": []
   },
   "outputs": [
    {
     "name": "stdout",
     "output_type": "stream",
     "text": [
      "Training Time: 0.02 s\n"
     ]
    }
   ],
   "source": [
    "# Re-training\n",
    "best_params = study.best_params\n",
    "nb_model = MultinomialNB(alpha=best_params['alpha'], fit_prior=best_params['fit_prior'])\n",
    "start = time.time()\n",
    "nb_model.fit(X_train_tfidf, y_train)\n",
    "print(f\"Training Time: {time.time() - start:.2f} s\")"
   ]
  },
  {
   "cell_type": "code",
   "execution_count": 21,
   "id": "28c7075d",
   "metadata": {
    "execution": {
     "iopub.execute_input": "2025-05-06T10:20:29.294769Z",
     "iopub.status.busy": "2025-05-06T10:20:29.294496Z",
     "iopub.status.idle": "2025-05-06T10:20:29.318212Z",
     "shell.execute_reply": "2025-05-06T10:20:29.317404Z"
    },
    "papermill": {
     "duration": 0.034436,
     "end_time": "2025-05-06T10:20:29.319446",
     "exception": false,
     "start_time": "2025-05-06T10:20:29.285010",
     "status": "completed"
    },
    "tags": []
   },
   "outputs": [
    {
     "name": "stdout",
     "output_type": "stream",
     "text": [
      "Akurasi: 0.9049\n",
      "Presisi (Fake Review): 0.9054\n",
      "Recall (Fake Review): 0.9043\n",
      "F1-Score (Fake Review): 0.9048\n"
     ]
    }
   ],
   "source": [
    "# Evaluation\n",
    "nb_y_pred = nb_model.predict(X_test_tfidf)\n",
    "\n",
    "accuracy = accuracy_score(y_test, nb_y_pred)\n",
    "print(f'Akurasi: {accuracy:.4f}')\n",
    "\n",
    "precision_cg = precision_score(y_test, nb_y_pred)\n",
    "print(f'Presisi (Fake Review): {precision_cg:.4f}')\n",
    "\n",
    "recall_cg = recall_score(y_test, nb_y_pred)\n",
    "print(f'Recall (Fake Review): {recall_cg:.4f}')\n",
    "\n",
    "f1_cg = f1_score(y_test, nb_y_pred)\n",
    "print(f'F1-Score (Fake Review): {f1_cg:.4f}')"
   ]
  },
  {
   "cell_type": "code",
   "execution_count": 22,
   "id": "6815d3bf",
   "metadata": {
    "execution": {
     "iopub.execute_input": "2025-05-06T10:20:29.337756Z",
     "iopub.status.busy": "2025-05-06T10:20:29.337501Z",
     "iopub.status.idle": "2025-05-06T10:20:29.523462Z",
     "shell.execute_reply": "2025-05-06T10:20:29.522620Z"
    },
    "papermill": {
     "duration": 0.196739,
     "end_time": "2025-05-06T10:20:29.524967",
     "exception": false,
     "start_time": "2025-05-06T10:20:29.328228",
     "status": "completed"
    },
    "tags": []
   },
   "outputs": [
    {
     "data": {
      "image/png": "[encoded data removed]",
      "text/plain": [
       "<Figure size 600x600 with 2 Axes>"
      ]
     },
     "metadata": {},
     "output_type": "display_data"
    }
   ],
   "source": [
    "conf_matrix = confusion_matrix(y_test, nb_y_pred)\n",
    "plt.figure(figsize=(6, 6))\n",
    "sns.heatmap(conf_matrix, annot=True, fmt='d', cmap='Blues', xticklabels=['Real Review', 'Fake Review'], yticklabels=['Real Review', 'Fake Review'])\n",
    "plt.title('Confusion Matrix')\n",
    "plt.ylabel('Actual Label')\n",
    "plt.xlabel('Predicted Label')\n",
    "plt.show()"
   ]
  },
  {
   "cell_type": "code",
   "execution_count": 23,
   "id": "0fe5a586",
   "metadata": {
    "execution": {
     "iopub.execute_input": "2025-05-06T10:20:29.545105Z",
     "iopub.status.busy": "2025-05-06T10:20:29.544448Z",
     "iopub.status.idle": "2025-05-06T10:20:29.566397Z",
     "shell.execute_reply": "2025-05-06T10:20:29.565478Z"
    },
    "papermill": {
     "duration": 0.033147,
     "end_time": "2025-05-06T10:20:29.567723",
     "exception": false,
     "start_time": "2025-05-06T10:20:29.534576",
     "status": "completed"
    },
    "tags": []
   },
   "outputs": [
    {
     "name": "stdout",
     "output_type": "stream",
     "text": [
      "Classification Report:\n",
      "              precision    recall  f1-score   support\n",
      "\n",
      " Real Review       0.90      0.91      0.90      4044\n",
      " Fake Review       0.91      0.90      0.90      4043\n",
      "\n",
      "    accuracy                           0.90      8087\n",
      "   macro avg       0.90      0.90      0.90      8087\n",
      "weighted avg       0.90      0.90      0.90      8087\n",
      "\n"
     ]
    }
   ],
   "source": [
    "print(\"Classification Report:\")\n",
    "print(classification_report(y_test, nb_y_pred, target_names=['Real Review', 'Fake Review']))"
   ]
  },
  {
   "cell_type": "markdown",
   "id": "0d065742",
   "metadata": {
    "papermill": {
     "duration": 0.009007,
     "end_time": "2025-05-06T10:20:29.586488",
     "exception": false,
     "start_time": "2025-05-06T10:20:29.577481",
     "status": "completed"
    },
    "tags": []
   },
   "source": [
    "## Save Model"
   ]
  },
  {
   "cell_type": "code",
   "execution_count": 24,
   "id": "5321b09c",
   "metadata": {
    "execution": {
     "iopub.execute_input": "2025-05-06T10:20:29.605800Z",
     "iopub.status.busy": "2025-05-06T10:20:29.605536Z",
     "iopub.status.idle": "2025-05-06T10:20:29.611897Z",
     "shell.execute_reply": "2025-05-06T10:20:29.611274Z"
    },
    "papermill": {
     "duration": 0.017433,
     "end_time": "2025-05-06T10:20:29.613053",
     "exception": false,
     "start_time": "2025-05-06T10:20:29.595620",
     "status": "completed"
    },
    "tags": []
   },
   "outputs": [
    {
     "data": {
      "text/plain": [
       "['/kaggle/working/nb.pkl']"
      ]
     },
     "execution_count": 24,
     "metadata": {},
     "output_type": "execute_result"
    }
   ],
   "source": [
    "joblib.dump(nb_model, '/kaggle/working/nb.pkl')"
   ]
  }
 ],
 "metadata": {
  "kaggle": {
   "accelerator": "none",
   "dataSources": [
    {
     "datasetId": 7266239,
     "sourceId": 11588322,
     "sourceType": "datasetVersion"
    }
   ],
   "dockerImageVersionId": 31012,
   "isGpuEnabled": false,
   "isInternetEnabled": true,
   "language": "python",
   "sourceType": "notebook"
  },
  "kernelspec": {
   "display_name": "Python 3",
   "language": "python",
   "name": "python3"
  },
  "language_info": {
   "codemirror_mode": {
    "name": "ipython",
    "version": 3
   },
   "file_extension": ".py",
   "mimetype": "text/x-python",
   "name": "python",
   "nbconvert_exporter": "python",
   "pygments_lexer": "ipython3",
   "version": "3.11.11"
  },
  "papermill": {
   "default_parameters": {},
   "duration": 29.077235,
   "end_time": "2025-05-06T10:20:32.240099",
   "environment_variables": {},
   "exception": null,
   "input_path": "__notebook__.ipynb",
   "output_path": "__notebook__.ipynb",
   "parameters": {},
   "start_time": "2025-05-06T10:20:03.162864",
   "version": "2.6.0"
  }
 },
 "nbformat": 4,
 "nbformat_minor": 5
}
