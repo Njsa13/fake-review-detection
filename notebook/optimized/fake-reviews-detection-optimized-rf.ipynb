{
 "cells": [
  {
   "cell_type": "markdown",
   "id": "e3b5477f",
   "metadata": {
    "papermill": {
     "duration": 0.006161,
     "end_time": "2025-05-05T15:56:23.209254",
     "exception": false,
     "start_time": "2025-05-05T15:56:23.203093",
     "status": "completed"
    },
    "tags": []
   },
   "source": [
    "## Import Library"
   ]
  },
  {
   "cell_type": "code",
   "execution_count": 1,
   "id": "aed974a6",
   "metadata": {
    "execution": {
     "iopub.execute_input": "2025-05-05T15:56:23.220227Z",
     "iopub.status.busy": "2025-05-05T15:56:23.219850Z",
     "iopub.status.idle": "2025-05-05T15:56:28.125993Z",
     "shell.execute_reply": "2025-05-05T15:56:28.124775Z"
    },
    "papermill": {
     "duration": 4.914244,
     "end_time": "2025-05-05T15:56:28.128418",
     "exception": false,
     "start_time": "2025-05-05T15:56:23.214174",
     "status": "completed"
    },
    "tags": []
   },
   "outputs": [
    {
     "name": "stdout",
     "output_type": "stream",
     "text": [
      "Requirement already satisfied: optuna in /usr/local/lib/python3.11/dist-packages (4.2.1)\r\n",
      "Requirement already satisfied: alembic>=1.5.0 in /usr/local/lib/python3.11/dist-packages (from optuna) (1.15.2)\r\n",
      "Requirement already satisfied: colorlog in /usr/local/lib/python3.11/dist-packages (from optuna) (6.9.0)\r\n",
      "Requirement already satisfied: numpy in /usr/local/lib/python3.11/dist-packages (from optuna) (1.26.4)\r\n",
      "Requirement already satisfied: packaging>=20.0 in /usr/local/lib/python3.11/dist-packages (from optuna) (24.2)\r\n",
      "Requirement already satisfied: sqlalchemy>=1.4.2 in /usr/local/lib/python3.11/dist-packages (from optuna) (2.0.38)\r\n",
      "Requirement already satisfied: tqdm in /usr/local/lib/python3.11/dist-packages (from optuna) (4.67.1)\r\n",
      "Requirement already satisfied: PyYAML in /usr/local/lib/python3.11/dist-packages (from optuna) (6.0.2)\r\n",
      "Requirement already satisfied: Mako in /usr/local/lib/python3.11/dist-packages (from alembic>=1.5.0->optuna) (1.3.9)\r\n",
      "Requirement already satisfied: typing-extensions>=4.12 in /usr/local/lib/python3.11/dist-packages (from alembic>=1.5.0->optuna) (4.13.1)\r\n",
      "Requirement already satisfied: greenlet!=0.4.17 in /usr/local/lib/python3.11/dist-packages (from sqlalchemy>=1.4.2->optuna) (3.1.1)\r\n",
      "Requirement already satisfied: mkl_fft in /usr/local/lib/python3.11/dist-packages (from numpy->optuna) (1.3.8)\r\n",
      "Requirement already satisfied: mkl_random in /usr/local/lib/python3.11/dist-packages (from numpy->optuna) (1.2.4)\r\n",
      "Requirement already satisfied: mkl_umath in /usr/local/lib/python3.11/dist-packages (from numpy->optuna) (0.1.1)\r\n",
      "Requirement already satisfied: mkl in /usr/local/lib/python3.11/dist-packages (from numpy->optuna) (2025.1.0)\r\n",
      "Requirement already satisfied: tbb4py in /usr/local/lib/python3.11/dist-packages (from numpy->optuna) (2022.1.0)\r\n",
      "Requirement already satisfied: mkl-service in /usr/local/lib/python3.11/dist-packages (from numpy->optuna) (2.4.1)\r\n",
      "Requirement already satisfied: MarkupSafe>=0.9.2 in /usr/local/lib/python3.11/dist-packages (from Mako->alembic>=1.5.0->optuna) (3.0.2)\r\n",
      "Requirement already satisfied: intel-openmp<2026,>=2024 in /usr/local/lib/python3.11/dist-packages (from mkl->numpy->optuna) (2024.2.0)\r\n",
      "Requirement already satisfied: tbb==2022.* in /usr/local/lib/python3.11/dist-packages (from mkl->numpy->optuna) (2022.1.0)\r\n",
      "Requirement already satisfied: tcmlib==1.* in /usr/local/lib/python3.11/dist-packages (from tbb==2022.*->mkl->numpy->optuna) (1.2.0)\r\n",
      "Requirement already satisfied: intel-cmplr-lib-rt in /usr/local/lib/python3.11/dist-packages (from mkl_umath->numpy->optuna) (2024.2.0)\r\n",
      "Requirement already satisfied: intel-cmplr-lib-ur==2024.2.0 in /usr/local/lib/python3.11/dist-packages (from intel-openmp<2026,>=2024->mkl->numpy->optuna) (2024.2.0)\r\n"
     ]
    }
   ],
   "source": [
    "!pip install optuna"
   ]
  },
  {
   "cell_type": "code",
   "execution_count": 2,
   "id": "c912fa63",
   "metadata": {
    "execution": {
     "iopub.execute_input": "2025-05-05T15:56:28.140480Z",
     "iopub.status.busy": "2025-05-05T15:56:28.140140Z",
     "iopub.status.idle": "2025-05-05T15:56:34.217979Z",
     "shell.execute_reply": "2025-05-05T15:56:34.216847Z"
    },
    "papermill": {
     "duration": 6.086132,
     "end_time": "2025-05-05T15:56:34.219781",
     "exception": false,
     "start_time": "2025-05-05T15:56:28.133649",
     "status": "completed"
    },
    "tags": []
   },
   "outputs": [
    {
     "name": "stdout",
     "output_type": "stream",
     "text": [
      "Collecting timeout-decorator\r\n",
      "  Downloading timeout-decorator-0.5.0.tar.gz (4.8 kB)\r\n",
      "  Preparing metadata (setup.py) ... \u001b[?25l\u001b[?25hdone\r\n",
      "Building wheels for collected packages: timeout-decorator\r\n",
      "  Building wheel for timeout-decorator (setup.py) ... \u001b[?25l\u001b[?25hdone\r\n",
      "  Created wheel for timeout-decorator: filename=timeout_decorator-0.5.0-py3-none-any.whl size=5007 sha256=a7c18f597ad48744648bd010b7d0e754ed42269f862377cef9bb1ef1d7b09809\r\n",
      "  Stored in directory: /root/.cache/pip/wheels/aa/cd/d1/51736c6b95846b2613a520ce146a8f305c4016a987bc9faec7\r\n",
      "Successfully built timeout-decorator\r\n",
      "Installing collected packages: timeout-decorator\r\n",
      "Successfully installed timeout-decorator-0.5.0\r\n"
     ]
    }
   ],
   "source": [
    "!pip install timeout-decorator"
   ]
  },
  {
   "cell_type": "code",
   "execution_count": 3,
   "id": "796d4be0",
   "metadata": {
    "execution": {
     "iopub.execute_input": "2025-05-05T15:56:34.232777Z",
     "iopub.status.busy": "2025-05-05T15:56:34.231819Z",
     "iopub.status.idle": "2025-05-05T15:56:34.238366Z",
     "shell.execute_reply": "2025-05-05T15:56:34.237383Z"
    },
    "papermill": {
     "duration": 0.014568,
     "end_time": "2025-05-05T15:56:34.239846",
     "exception": false,
     "start_time": "2025-05-05T15:56:34.225278",
     "status": "completed"
    },
    "tags": []
   },
   "outputs": [
    {
     "name": "stdout",
     "output_type": "stream",
     "text": [
      "Number of CPU cores: 4\n"
     ]
    }
   ],
   "source": [
    "import os\n",
    "\n",
    "cpu_count = os.cpu_count()\n",
    "print(f\"Number of CPU cores: {cpu_count}\")"
   ]
  },
  {
   "cell_type": "code",
   "execution_count": 4,
   "id": "d9f9a985",
   "metadata": {
    "execution": {
     "iopub.execute_input": "2025-05-05T15:56:34.252466Z",
     "iopub.status.busy": "2025-05-05T15:56:34.252105Z",
     "iopub.status.idle": "2025-05-05T15:56:39.243268Z",
     "shell.execute_reply": "2025-05-05T15:56:39.242420Z"
    },
    "papermill": {
     "duration": 4.999572,
     "end_time": "2025-05-05T15:56:39.245012",
     "exception": false,
     "start_time": "2025-05-05T15:56:34.245440",
     "status": "completed"
    },
    "tags": []
   },
   "outputs": [],
   "source": [
    "import pandas as pd\n",
    "import matplotlib.pyplot as plt\n",
    "import seaborn as sns\n",
    "from sklearn.ensemble import RandomForestClassifier\n",
    "from sklearn.svm import SVC\n",
    "from sklearn.naive_bayes import MultinomialNB\n",
    "from xgboost import XGBClassifier\n",
    "from sklearn.feature_extraction.text import TfidfVectorizer\n",
    "from sklearn.model_selection import train_test_split\n",
    "from collections import Counter\n",
    "import time\n",
    "from sklearn.metrics import accuracy_score, precision_score, recall_score, f1_score, classification_report, confusion_matrix\n",
    "import optuna\n",
    "import timeout_decorator\n",
    "from timeout_decorator.timeout_decorator import TimeoutError\n",
    "import joblib"
   ]
  },
  {
   "cell_type": "markdown",
   "id": "407ee79b",
   "metadata": {
    "papermill": {
     "duration": 0.005285,
     "end_time": "2025-05-05T15:56:39.255992",
     "exception": false,
     "start_time": "2025-05-05T15:56:39.250707",
     "status": "completed"
    },
    "tags": []
   },
   "source": [
    "## Import Dataset"
   ]
  },
  {
   "cell_type": "code",
   "execution_count": 5,
   "id": "28cf3bcb",
   "metadata": {
    "execution": {
     "iopub.execute_input": "2025-05-05T15:56:39.267586Z",
     "iopub.status.busy": "2025-05-05T15:56:39.267154Z",
     "iopub.status.idle": "2025-05-05T15:56:40.100718Z",
     "shell.execute_reply": "2025-05-05T15:56:40.099836Z"
    },
    "papermill": {
     "duration": 0.841231,
     "end_time": "2025-05-05T15:56:40.102393",
     "exception": false,
     "start_time": "2025-05-05T15:56:39.261162",
     "status": "completed"
    },
    "tags": []
   },
   "outputs": [],
   "source": [
    "df = pd.read_csv('/kaggle/input/preprocessed-fake-reviews-dataset/preprocessed-fake-reviews-dataset.csv')"
   ]
  },
  {
   "cell_type": "code",
   "execution_count": 6,
   "id": "6b71fc92",
   "metadata": {
    "execution": {
     "iopub.execute_input": "2025-05-05T15:56:40.114908Z",
     "iopub.status.busy": "2025-05-05T15:56:40.114533Z",
     "iopub.status.idle": "2025-05-05T15:56:40.145477Z",
     "shell.execute_reply": "2025-05-05T15:56:40.144471Z"
    },
    "papermill": {
     "duration": 0.039228,
     "end_time": "2025-05-05T15:56:40.147097",
     "exception": false,
     "start_time": "2025-05-05T15:56:40.107869",
     "status": "completed"
    },
    "tags": []
   },
   "outputs": [
    {
     "data": {
      "text/html": [
       "<div>\n",
       "<style scoped>\n",
       "    .dataframe tbody tr th:only-of-type {\n",
       "        vertical-align: middle;\n",
       "    }\n",
       "\n",
       "    .dataframe tbody tr th {\n",
       "        vertical-align: top;\n",
       "    }\n",
       "\n",
       "    .dataframe thead th {\n",
       "        text-align: right;\n",
       "    }\n",
       "</style>\n",
       "<table border=\"1\" class=\"dataframe\">\n",
       "  <thead>\n",
       "    <tr style=\"text-align: right;\">\n",
       "      <th></th>\n",
       "      <th>rating</th>\n",
       "      <th>label</th>\n",
       "      <th>text_</th>\n",
       "      <th>cleaned_text</th>\n",
       "      <th>category_Books_5</th>\n",
       "      <th>category_Clothing_Shoes_and_Jewelry_5</th>\n",
       "      <th>category_Electronics_5</th>\n",
       "      <th>category_Home_and_Kitchen_5</th>\n",
       "      <th>category_Kindle_Store_5</th>\n",
       "      <th>category_Movies_and_TV_5</th>\n",
       "      <th>category_Pet_Supplies_5</th>\n",
       "      <th>category_Sports_and_Outdoors_5</th>\n",
       "      <th>category_Tools_and_Home_Improvement_5</th>\n",
       "      <th>category_Toys_and_Games_5</th>\n",
       "    </tr>\n",
       "  </thead>\n",
       "  <tbody>\n",
       "    <tr>\n",
       "      <th>0</th>\n",
       "      <td>5.0</td>\n",
       "      <td>1</td>\n",
       "      <td>Love this!  Well made, sturdy, and very comfor...</td>\n",
       "      <td>Love this  Well made sturdy and very comfortab...</td>\n",
       "      <td>False</td>\n",
       "      <td>False</td>\n",
       "      <td>False</td>\n",
       "      <td>True</td>\n",
       "      <td>False</td>\n",
       "      <td>False</td>\n",
       "      <td>False</td>\n",
       "      <td>False</td>\n",
       "      <td>False</td>\n",
       "      <td>False</td>\n",
       "    </tr>\n",
       "    <tr>\n",
       "      <th>1</th>\n",
       "      <td>5.0</td>\n",
       "      <td>1</td>\n",
       "      <td>love it, a great upgrade from the original.  I...</td>\n",
       "      <td>love it a great upgrade from the original  Ive...</td>\n",
       "      <td>False</td>\n",
       "      <td>False</td>\n",
       "      <td>False</td>\n",
       "      <td>True</td>\n",
       "      <td>False</td>\n",
       "      <td>False</td>\n",
       "      <td>False</td>\n",
       "      <td>False</td>\n",
       "      <td>False</td>\n",
       "      <td>False</td>\n",
       "    </tr>\n",
       "    <tr>\n",
       "      <th>2</th>\n",
       "      <td>5.0</td>\n",
       "      <td>1</td>\n",
       "      <td>This pillow saved my back. I love the look and...</td>\n",
       "      <td>This pillow saved my back I love the look and ...</td>\n",
       "      <td>False</td>\n",
       "      <td>False</td>\n",
       "      <td>False</td>\n",
       "      <td>True</td>\n",
       "      <td>False</td>\n",
       "      <td>False</td>\n",
       "      <td>False</td>\n",
       "      <td>False</td>\n",
       "      <td>False</td>\n",
       "      <td>False</td>\n",
       "    </tr>\n",
       "    <tr>\n",
       "      <th>3</th>\n",
       "      <td>1.0</td>\n",
       "      <td>1</td>\n",
       "      <td>Missing information on how to use it, but it i...</td>\n",
       "      <td>Missing information on how to use it but it is...</td>\n",
       "      <td>False</td>\n",
       "      <td>False</td>\n",
       "      <td>False</td>\n",
       "      <td>True</td>\n",
       "      <td>False</td>\n",
       "      <td>False</td>\n",
       "      <td>False</td>\n",
       "      <td>False</td>\n",
       "      <td>False</td>\n",
       "      <td>False</td>\n",
       "    </tr>\n",
       "    <tr>\n",
       "      <th>4</th>\n",
       "      <td>5.0</td>\n",
       "      <td>1</td>\n",
       "      <td>Very nice set. Good quality. We have had the s...</td>\n",
       "      <td>Very nice set Good quality We have had the set...</td>\n",
       "      <td>False</td>\n",
       "      <td>False</td>\n",
       "      <td>False</td>\n",
       "      <td>True</td>\n",
       "      <td>False</td>\n",
       "      <td>False</td>\n",
       "      <td>False</td>\n",
       "      <td>False</td>\n",
       "      <td>False</td>\n",
       "      <td>False</td>\n",
       "    </tr>\n",
       "  </tbody>\n",
       "</table>\n",
       "</div>"
      ],
      "text/plain": [
       "   rating  label                                              text_  \\\n",
       "0     5.0      1  Love this!  Well made, sturdy, and very comfor...   \n",
       "1     5.0      1  love it, a great upgrade from the original.  I...   \n",
       "2     5.0      1  This pillow saved my back. I love the look and...   \n",
       "3     1.0      1  Missing information on how to use it, but it i...   \n",
       "4     5.0      1  Very nice set. Good quality. We have had the s...   \n",
       "\n",
       "                                        cleaned_text  category_Books_5  \\\n",
       "0  Love this  Well made sturdy and very comfortab...             False   \n",
       "1  love it a great upgrade from the original  Ive...             False   \n",
       "2  This pillow saved my back I love the look and ...             False   \n",
       "3  Missing information on how to use it but it is...             False   \n",
       "4  Very nice set Good quality We have had the set...             False   \n",
       "\n",
       "   category_Clothing_Shoes_and_Jewelry_5  category_Electronics_5  \\\n",
       "0                                  False                   False   \n",
       "1                                  False                   False   \n",
       "2                                  False                   False   \n",
       "3                                  False                   False   \n",
       "4                                  False                   False   \n",
       "\n",
       "   category_Home_and_Kitchen_5  category_Kindle_Store_5  \\\n",
       "0                         True                    False   \n",
       "1                         True                    False   \n",
       "2                         True                    False   \n",
       "3                         True                    False   \n",
       "4                         True                    False   \n",
       "\n",
       "   category_Movies_and_TV_5  category_Pet_Supplies_5  \\\n",
       "0                     False                    False   \n",
       "1                     False                    False   \n",
       "2                     False                    False   \n",
       "3                     False                    False   \n",
       "4                     False                    False   \n",
       "\n",
       "   category_Sports_and_Outdoors_5  category_Tools_and_Home_Improvement_5  \\\n",
       "0                           False                                  False   \n",
       "1                           False                                  False   \n",
       "2                           False                                  False   \n",
       "3                           False                                  False   \n",
       "4                           False                                  False   \n",
       "\n",
       "   category_Toys_and_Games_5  \n",
       "0                      False  \n",
       "1                      False  \n",
       "2                      False  \n",
       "3                      False  \n",
       "4                      False  "
      ]
     },
     "execution_count": 6,
     "metadata": {},
     "output_type": "execute_result"
    }
   ],
   "source": [
    "df.head()"
   ]
  },
  {
   "cell_type": "code",
   "execution_count": 7,
   "id": "122535a8",
   "metadata": {
    "execution": {
     "iopub.execute_input": "2025-05-05T15:56:40.160041Z",
     "iopub.status.busy": "2025-05-05T15:56:40.159400Z",
     "iopub.status.idle": "2025-05-05T15:56:40.178382Z",
     "shell.execute_reply": "2025-05-05T15:56:40.177454Z"
    },
    "papermill": {
     "duration": 0.027125,
     "end_time": "2025-05-05T15:56:40.179908",
     "exception": false,
     "start_time": "2025-05-05T15:56:40.152783",
     "status": "completed"
    },
    "tags": []
   },
   "outputs": [
    {
     "data": {
      "text/plain": [
       "rating                                   0\n",
       "label                                    0\n",
       "text_                                    0\n",
       "cleaned_text                             1\n",
       "category_Books_5                         0\n",
       "category_Clothing_Shoes_and_Jewelry_5    0\n",
       "category_Electronics_5                   0\n",
       "category_Home_and_Kitchen_5              0\n",
       "category_Kindle_Store_5                  0\n",
       "category_Movies_and_TV_5                 0\n",
       "category_Pet_Supplies_5                  0\n",
       "category_Sports_and_Outdoors_5           0\n",
       "category_Tools_and_Home_Improvement_5    0\n",
       "category_Toys_and_Games_5                0\n",
       "dtype: int64"
      ]
     },
     "execution_count": 7,
     "metadata": {},
     "output_type": "execute_result"
    }
   ],
   "source": [
    "df.isnull().sum()"
   ]
  },
  {
   "cell_type": "code",
   "execution_count": 8,
   "id": "dfec7987",
   "metadata": {
    "execution": {
     "iopub.execute_input": "2025-05-05T15:56:40.192662Z",
     "iopub.status.busy": "2025-05-05T15:56:40.192328Z",
     "iopub.status.idle": "2025-05-05T15:56:40.205913Z",
     "shell.execute_reply": "2025-05-05T15:56:40.205098Z"
    },
    "papermill": {
     "duration": 0.02167,
     "end_time": "2025-05-05T15:56:40.207488",
     "exception": false,
     "start_time": "2025-05-05T15:56:40.185818",
     "status": "completed"
    },
    "tags": []
   },
   "outputs": [],
   "source": [
    "df['cleaned_text'] = df['cleaned_text'].fillna(\"\")"
   ]
  },
  {
   "cell_type": "code",
   "execution_count": 9,
   "id": "ec9f6840",
   "metadata": {
    "execution": {
     "iopub.execute_input": "2025-05-05T15:56:40.220247Z",
     "iopub.status.busy": "2025-05-05T15:56:40.219951Z",
     "iopub.status.idle": "2025-05-05T15:56:40.238301Z",
     "shell.execute_reply": "2025-05-05T15:56:40.237517Z"
    },
    "papermill": {
     "duration": 0.026607,
     "end_time": "2025-05-05T15:56:40.239754",
     "exception": false,
     "start_time": "2025-05-05T15:56:40.213147",
     "status": "completed"
    },
    "tags": []
   },
   "outputs": [
    {
     "data": {
      "text/plain": [
       "rating                                   0\n",
       "label                                    0\n",
       "text_                                    0\n",
       "cleaned_text                             0\n",
       "category_Books_5                         0\n",
       "category_Clothing_Shoes_and_Jewelry_5    0\n",
       "category_Electronics_5                   0\n",
       "category_Home_and_Kitchen_5              0\n",
       "category_Kindle_Store_5                  0\n",
       "category_Movies_and_TV_5                 0\n",
       "category_Pet_Supplies_5                  0\n",
       "category_Sports_and_Outdoors_5           0\n",
       "category_Tools_and_Home_Improvement_5    0\n",
       "category_Toys_and_Games_5                0\n",
       "dtype: int64"
      ]
     },
     "execution_count": 9,
     "metadata": {},
     "output_type": "execute_result"
    }
   ],
   "source": [
    "df.isnull().sum()"
   ]
  },
  {
   "cell_type": "code",
   "execution_count": 10,
   "id": "2093199c",
   "metadata": {
    "execution": {
     "iopub.execute_input": "2025-05-05T15:56:40.252538Z",
     "iopub.status.busy": "2025-05-05T15:56:40.252240Z",
     "iopub.status.idle": "2025-05-05T15:56:40.287401Z",
     "shell.execute_reply": "2025-05-05T15:56:40.286522Z"
    },
    "papermill": {
     "duration": 0.043312,
     "end_time": "2025-05-05T15:56:40.288846",
     "exception": false,
     "start_time": "2025-05-05T15:56:40.245534",
     "status": "completed"
    },
    "tags": []
   },
   "outputs": [
    {
     "name": "stdout",
     "output_type": "stream",
     "text": [
      "<class 'pandas.core.frame.DataFrame'>\n",
      "RangeIndex: 40432 entries, 0 to 40431\n",
      "Data columns (total 14 columns):\n",
      " #   Column                                 Non-Null Count  Dtype  \n",
      "---  ------                                 --------------  -----  \n",
      " 0   rating                                 40432 non-null  float64\n",
      " 1   label                                  40432 non-null  int64  \n",
      " 2   text_                                  40432 non-null  object \n",
      " 3   cleaned_text                           40432 non-null  object \n",
      " 4   category_Books_5                       40432 non-null  bool   \n",
      " 5   category_Clothing_Shoes_and_Jewelry_5  40432 non-null  bool   \n",
      " 6   category_Electronics_5                 40432 non-null  bool   \n",
      " 7   category_Home_and_Kitchen_5            40432 non-null  bool   \n",
      " 8   category_Kindle_Store_5                40432 non-null  bool   \n",
      " 9   category_Movies_and_TV_5               40432 non-null  bool   \n",
      " 10  category_Pet_Supplies_5                40432 non-null  bool   \n",
      " 11  category_Sports_and_Outdoors_5         40432 non-null  bool   \n",
      " 12  category_Tools_and_Home_Improvement_5  40432 non-null  bool   \n",
      " 13  category_Toys_and_Games_5              40432 non-null  bool   \n",
      "dtypes: bool(10), float64(1), int64(1), object(2)\n",
      "memory usage: 1.6+ MB\n"
     ]
    }
   ],
   "source": [
    "df.info()"
   ]
  },
  {
   "cell_type": "code",
   "execution_count": 11,
   "id": "517f5af2",
   "metadata": {
    "execution": {
     "iopub.execute_input": "2025-05-05T15:56:40.301843Z",
     "iopub.status.busy": "2025-05-05T15:56:40.301527Z",
     "iopub.status.idle": "2025-05-05T15:56:40.321054Z",
     "shell.execute_reply": "2025-05-05T15:56:40.320207Z"
    },
    "papermill": {
     "duration": 0.027617,
     "end_time": "2025-05-05T15:56:40.322476",
     "exception": false,
     "start_time": "2025-05-05T15:56:40.294859",
     "status": "completed"
    },
    "tags": []
   },
   "outputs": [
    {
     "data": {
      "text/html": [
       "<div>\n",
       "<style scoped>\n",
       "    .dataframe tbody tr th:only-of-type {\n",
       "        vertical-align: middle;\n",
       "    }\n",
       "\n",
       "    .dataframe tbody tr th {\n",
       "        vertical-align: top;\n",
       "    }\n",
       "\n",
       "    .dataframe thead th {\n",
       "        text-align: right;\n",
       "    }\n",
       "</style>\n",
       "<table border=\"1\" class=\"dataframe\">\n",
       "  <thead>\n",
       "    <tr style=\"text-align: right;\">\n",
       "      <th></th>\n",
       "      <th>rating</th>\n",
       "      <th>label</th>\n",
       "    </tr>\n",
       "  </thead>\n",
       "  <tbody>\n",
       "    <tr>\n",
       "      <th>count</th>\n",
       "      <td>40432.000000</td>\n",
       "      <td>40432.000000</td>\n",
       "    </tr>\n",
       "    <tr>\n",
       "      <th>mean</th>\n",
       "      <td>4.256579</td>\n",
       "      <td>0.500000</td>\n",
       "    </tr>\n",
       "    <tr>\n",
       "      <th>std</th>\n",
       "      <td>1.144354</td>\n",
       "      <td>0.500006</td>\n",
       "    </tr>\n",
       "    <tr>\n",
       "      <th>min</th>\n",
       "      <td>1.000000</td>\n",
       "      <td>0.000000</td>\n",
       "    </tr>\n",
       "    <tr>\n",
       "      <th>25%</th>\n",
       "      <td>4.000000</td>\n",
       "      <td>0.000000</td>\n",
       "    </tr>\n",
       "    <tr>\n",
       "      <th>50%</th>\n",
       "      <td>5.000000</td>\n",
       "      <td>0.500000</td>\n",
       "    </tr>\n",
       "    <tr>\n",
       "      <th>75%</th>\n",
       "      <td>5.000000</td>\n",
       "      <td>1.000000</td>\n",
       "    </tr>\n",
       "    <tr>\n",
       "      <th>max</th>\n",
       "      <td>5.000000</td>\n",
       "      <td>1.000000</td>\n",
       "    </tr>\n",
       "  </tbody>\n",
       "</table>\n",
       "</div>"
      ],
      "text/plain": [
       "             rating         label\n",
       "count  40432.000000  40432.000000\n",
       "mean       4.256579      0.500000\n",
       "std        1.144354      0.500006\n",
       "min        1.000000      0.000000\n",
       "25%        4.000000      0.000000\n",
       "50%        5.000000      0.500000\n",
       "75%        5.000000      1.000000\n",
       "max        5.000000      1.000000"
      ]
     },
     "execution_count": 11,
     "metadata": {},
     "output_type": "execute_result"
    }
   ],
   "source": [
    "df.describe()"
   ]
  },
  {
   "cell_type": "markdown",
   "id": "1eebc6fa",
   "metadata": {
    "papermill": {
     "duration": 0.005821,
     "end_time": "2025-05-05T15:56:40.334250",
     "exception": false,
     "start_time": "2025-05-05T15:56:40.328429",
     "status": "completed"
    },
    "tags": []
   },
   "source": [
    "## Data Splitting"
   ]
  },
  {
   "cell_type": "code",
   "execution_count": 12,
   "id": "4285ca24",
   "metadata": {
    "execution": {
     "iopub.execute_input": "2025-05-05T15:56:40.347622Z",
     "iopub.status.busy": "2025-05-05T15:56:40.346817Z",
     "iopub.status.idle": "2025-05-05T15:56:40.380320Z",
     "shell.execute_reply": "2025-05-05T15:56:40.379414Z"
    },
    "papermill": {
     "duration": 0.041834,
     "end_time": "2025-05-05T15:56:40.381971",
     "exception": false,
     "start_time": "2025-05-05T15:56:40.340137",
     "status": "completed"
    },
    "tags": []
   },
   "outputs": [],
   "source": [
    "X_train, X_test, y_train, y_test = train_test_split(df, df['label'], test_size=0.2, random_state=42, stratify=df['label'])"
   ]
  },
  {
   "cell_type": "code",
   "execution_count": 13,
   "id": "90f9ea4b",
   "metadata": {
    "execution": {
     "iopub.execute_input": "2025-05-05T15:56:40.395411Z",
     "iopub.status.busy": "2025-05-05T15:56:40.395032Z",
     "iopub.status.idle": "2025-05-05T15:56:40.404439Z",
     "shell.execute_reply": "2025-05-05T15:56:40.403542Z"
    },
    "papermill": {
     "duration": 0.017838,
     "end_time": "2025-05-05T15:56:40.405909",
     "exception": false,
     "start_time": "2025-05-05T15:56:40.388071",
     "status": "completed"
    },
    "tags": []
   },
   "outputs": [
    {
     "name": "stdout",
     "output_type": "stream",
     "text": [
      "Jumlah Real Review Train (0): 16172\n",
      "Jumlah Fake Review Train (1): 16173\n",
      "Jumlah Real Review Test (0): 4044\n",
      "Jumlah Fake Review Test (1): 4043\n"
     ]
    }
   ],
   "source": [
    "train_label_counts = y_train.value_counts()\n",
    "test_label_counts = y_test.value_counts()\n",
    "\n",
    "print(\"Jumlah Real Review Train (0):\", train_label_counts[0])\n",
    "print(\"Jumlah Fake Review Train (1):\", train_label_counts[1])\n",
    "print(\"Jumlah Real Review Test (0):\", test_label_counts[0])\n",
    "print(\"Jumlah Fake Review Test (1):\", test_label_counts[1])"
   ]
  },
  {
   "cell_type": "code",
   "execution_count": 14,
   "id": "427094ba",
   "metadata": {
    "execution": {
     "iopub.execute_input": "2025-05-05T15:56:40.419185Z",
     "iopub.status.busy": "2025-05-05T15:56:40.418839Z",
     "iopub.status.idle": "2025-05-05T15:56:40.829980Z",
     "shell.execute_reply": "2025-05-05T15:56:40.829050Z"
    },
    "papermill": {
     "duration": 0.419461,
     "end_time": "2025-05-05T15:56:40.831487",
     "exception": false,
     "start_time": "2025-05-05T15:56:40.412026",
     "status": "completed"
    },
    "tags": []
   },
   "outputs": [
    {
     "data": {
      "image/png": "[encoded data removed]",
      "text/plain": [
       "<Figure size 1200x500 with 2 Axes>"
      ]
     },
     "metadata": {},
     "output_type": "display_data"
    }
   ],
   "source": [
    "train_counts = Counter(y_train)\n",
    "test_counts = Counter(y_test)\n",
    "\n",
    "fig, axes = plt.subplots(1, 2, figsize=(12, 5))\n",
    "\n",
    "axes[0].bar(train_counts.keys(), train_counts.values(), color=['blue', 'orange'])\n",
    "axes[0].set_title('Distribusi Data Train')\n",
    "axes[0].set_xticks([0, 1])\n",
    "axes[0].set_xticklabels(['0', '1'])\n",
    "axes[0].set_xlabel('Kelas')\n",
    "axes[0].set_ylabel('Jumlah Data')\n",
    "axes[0].grid(axis='y', linestyle='--', alpha=0.7)\n",
    "\n",
    "axes[1].bar(test_counts.keys(), test_counts.values(), color=['blue', 'orange'])\n",
    "axes[1].set_title('Distribusi Data Test')\n",
    "axes[1].set_xticks([0, 1])\n",
    "axes[1].set_xticklabels(['0', '1'])\n",
    "axes[1].set_xlabel('Kelas')\n",
    "axes[1].set_ylabel('Jumlah Data')\n",
    "axes[1].grid(axis='y', linestyle='--', alpha=0.7)\n",
    "\n",
    "plt.tight_layout()\n",
    "plt.show()"
   ]
  },
  {
   "cell_type": "markdown",
   "id": "d37a6032",
   "metadata": {
    "papermill": {
     "duration": 0.006395,
     "end_time": "2025-05-05T15:56:40.844675",
     "exception": false,
     "start_time": "2025-05-05T15:56:40.838280",
     "status": "completed"
    },
    "tags": []
   },
   "source": [
    "## TF-IDF"
   ]
  },
  {
   "cell_type": "code",
   "execution_count": 15,
   "id": "8f3dcb0a",
   "metadata": {
    "execution": {
     "iopub.execute_input": "2025-05-05T15:56:40.859176Z",
     "iopub.status.busy": "2025-05-05T15:56:40.858815Z",
     "iopub.status.idle": "2025-05-05T15:56:45.605691Z",
     "shell.execute_reply": "2025-05-05T15:56:45.604998Z"
    },
    "papermill": {
     "duration": 4.755897,
     "end_time": "2025-05-05T15:56:45.607318",
     "exception": false,
     "start_time": "2025-05-05T15:56:40.851421",
     "status": "completed"
    },
    "tags": []
   },
   "outputs": [],
   "source": [
    "vectorizer = TfidfVectorizer(ngram_range=(1,2), min_df=30, max_df=0.90, strip_accents='unicode', sublinear_tf=True)\n",
    "X_train_tfidf = vectorizer.fit_transform(X_train['cleaned_text'])\n",
    "X_test_tfidf = vectorizer.transform(X_test['cleaned_text'])"
   ]
  },
  {
   "cell_type": "code",
   "execution_count": 16,
   "id": "76f6b853",
   "metadata": {
    "execution": {
     "iopub.execute_input": "2025-05-05T15:56:45.622614Z",
     "iopub.status.busy": "2025-05-05T15:56:45.621775Z",
     "iopub.status.idle": "2025-05-05T15:56:45.626673Z",
     "shell.execute_reply": "2025-05-05T15:56:45.625710Z"
    },
    "papermill": {
     "duration": 0.013718,
     "end_time": "2025-05-05T15:56:45.627909",
     "exception": false,
     "start_time": "2025-05-05T15:56:45.614191",
     "status": "completed"
    },
    "tags": []
   },
   "outputs": [
    {
     "name": "stdout",
     "output_type": "stream",
     "text": [
      "Jumlah fitur yang diekstrak: 10256\n"
     ]
    }
   ],
   "source": [
    "print(\"Jumlah fitur yang diekstrak:\", len(vectorizer.vocabulary_))"
   ]
  },
  {
   "cell_type": "markdown",
   "id": "717b0f4e",
   "metadata": {
    "papermill": {
     "duration": 0.006259,
     "end_time": "2025-05-05T15:56:45.640766",
     "exception": false,
     "start_time": "2025-05-05T15:56:45.634507",
     "status": "completed"
    },
    "tags": []
   },
   "source": [
    "## Random Forest"
   ]
  },
  {
   "cell_type": "code",
   "execution_count": 17,
   "id": "6529e665",
   "metadata": {
    "execution": {
     "iopub.execute_input": "2025-05-05T15:56:45.655455Z",
     "iopub.status.busy": "2025-05-05T15:56:45.654818Z",
     "iopub.status.idle": "2025-05-05T15:56:45.661732Z",
     "shell.execute_reply": "2025-05-05T15:56:45.660892Z"
    },
    "papermill": {
     "duration": 0.015815,
     "end_time": "2025-05-05T15:56:45.663212",
     "exception": false,
     "start_time": "2025-05-05T15:56:45.647397",
     "status": "completed"
    },
    "tags": []
   },
   "outputs": [],
   "source": [
    "@timeout_decorator.timeout(900, use_signals=False)\n",
    "def train(n_estimators, max_depth, max_features, min_samples_split, min_samples_leaf):\n",
    "    rf_model = RandomForestClassifier(\n",
    "        n_estimators=n_estimators,\n",
    "        max_depth=max_depth,\n",
    "        max_features=max_features,\n",
    "        min_samples_split=min_samples_split,\n",
    "        min_samples_leaf=min_samples_leaf,\n",
    "        random_state=42\n",
    "    )\n",
    "    rf_model.fit(X_train_tfidf, y_train)\n",
    "    return rf_model\n",
    "\n",
    "def objective(trial):    \n",
    "    n_estimators = trial.suggest_int(\"n_estimators\", 50, 300)\n",
    "    max_depth = trial.suggest_categorical(\"max_depth\", [None] + list(range(5, 51)))\n",
    "    max_features = trial.suggest_categorical(\"max_features\", [\"sqrt\", \"log2\", None])\n",
    "    min_samples_split = trial.suggest_int(\"min_samples_split\", 2, 20)\n",
    "    min_samples_leaf = trial.suggest_int(\"min_samples_leaf\", 1, 10)\n",
    "\n",
    "    try:\n",
    "        rf_model = train(n_estimators, max_depth, max_features, min_samples_split, min_samples_leaf)\n",
    "        y_pred = rf_model.predict(X_test_tfidf)\n",
    "        accuracy = accuracy_score(y_test, y_pred)\n",
    "    except TimeoutError:\n",
    "        raise optuna.exceptions.TrialPruned()\n",
    "    return accuracy"
   ]
  },
  {
   "cell_type": "code",
   "execution_count": 18,
   "id": "7f0130e9",
   "metadata": {
    "execution": {
     "iopub.execute_input": "2025-05-05T15:56:45.678587Z",
     "iopub.status.busy": "2025-05-05T15:56:45.677780Z",
     "iopub.status.idle": "2025-05-05T16:34:15.624742Z",
     "shell.execute_reply": "2025-05-05T16:34:15.623317Z"
    },
    "papermill": {
     "duration": 2249.96606,
     "end_time": "2025-05-05T16:34:15.636155",
     "exception": false,
     "start_time": "2025-05-05T15:56:45.670095",
     "status": "completed"
    },
    "tags": []
   },
   "outputs": [
    {
     "name": "stderr",
     "output_type": "stream",
     "text": [
      "[I 2025-05-05 15:56:45,681] A new study created in memory with name: no-name-3a61957b-58d5-49e2-8278-5e988a5a8b53\n",
      "[I 2025-05-05 15:56:58,862] Trial 3 finished with value: 0.8519846667491034 and parameters: {'n_estimators': 99, 'max_depth': 17, 'max_features': 'sqrt', 'min_samples_split': 3, 'min_samples_leaf': 1}. Best is trial 3 with value: 0.8519846667491034.\n",
      "[I 2025-05-05 15:57:08,465] Trial 4 finished with value: 0.8857425497712378 and parameters: {'n_estimators': 181, 'max_depth': 31, 'max_features': 'log2', 'min_samples_split': 6, 'min_samples_leaf': 1}. Best is trial 4 with value: 0.8857425497712378.\n",
      "[I 2025-05-05 15:57:38,813] Trial 2 finished with value: 0.882403858043774 and parameters: {'n_estimators': 197, 'max_depth': 49, 'max_features': 'sqrt', 'min_samples_split': 9, 'min_samples_leaf': 6}. Best is trial 4 with value: 0.8857425497712378.\n",
      "[I 2025-05-05 15:57:56,612] Trial 6 finished with value: 0.8777049585754916 and parameters: {'n_estimators': 75, 'max_depth': 44, 'max_features': 'sqrt', 'min_samples_split': 14, 'min_samples_leaf': 7}. Best is trial 4 with value: 0.8857425497712378.\n",
      "[I 2025-05-05 15:58:05,956] Trial 7 finished with value: 0.8920489674786695 and parameters: {'n_estimators': 222, 'max_depth': 43, 'max_features': 'log2', 'min_samples_split': 6, 'min_samples_leaf': 3}. Best is trial 7 with value: 0.8920489674786695.\n",
      "[I 2025-05-05 15:58:08,838] Trial 8 finished with value: 0.874489922097193 and parameters: {'n_estimators': 83, 'max_depth': 30, 'max_features': 'log2', 'min_samples_split': 13, 'min_samples_leaf': 3}. Best is trial 7 with value: 0.8920489674786695.\n",
      "[I 2025-05-05 15:58:35,533] Trial 0 finished with value: 0.9037962161493756 and parameters: {'n_estimators': 100, 'max_depth': None, 'max_features': 'sqrt', 'min_samples_split': 2, 'min_samples_leaf': 1}. Best is trial 0 with value: 0.9037962161493756.\n",
      "[I 2025-05-05 15:58:38,456] Trial 9 finished with value: 0.8526029429949301 and parameters: {'n_estimators': 270, 'max_depth': 16, 'max_features': 'sqrt', 'min_samples_split': 3, 'min_samples_leaf': 3}. Best is trial 0 with value: 0.9037962161493756.\n",
      "[I 2025-05-05 15:59:27,460] Trial 11 finished with value: 0.876715716582169 and parameters: {'n_estimators': 190, 'max_depth': 31, 'max_features': 'sqrt', 'min_samples_split': 20, 'min_samples_leaf': 2}. Best is trial 0 with value: 0.9037962161493756.\n",
      "[I 2025-05-05 16:01:00,051] Trial 12 finished with value: 0.8884629652528749 and parameters: {'n_estimators': 239, 'max_depth': 38, 'max_features': 'sqrt', 'min_samples_split': 11, 'min_samples_leaf': 1}. Best is trial 0 with value: 0.9037962161493756.\n",
      "[I 2025-05-05 16:02:07,263] Trial 1 finished with value: 0.6924693953258316 and parameters: {'n_estimators': 193, 'max_depth': 5, 'max_features': None, 'min_samples_split': 13, 'min_samples_leaf': 7}. Best is trial 0 with value: 0.9037962161493756.\n",
      "[I 2025-05-05 16:02:12,516] Trial 14 finished with value: 0.8864844812662298 and parameters: {'n_estimators': 127, 'max_depth': 43, 'max_features': 'log2', 'min_samples_split': 6, 'min_samples_leaf': 4}. Best is trial 0 with value: 0.9037962161493756.\n",
      "[I 2025-05-05 16:12:08,494] Trial 5 pruned. \n",
      "[I 2025-05-05 16:12:30,261] Trial 16 finished with value: 0.9040435266477062 and parameters: {'n_estimators': 298, 'max_depth': None, 'max_features': 'log2', 'min_samples_split': 2, 'min_samples_leaf': 4}. Best is trial 16 with value: 0.9040435266477062.\n",
      "[I 2025-05-05 16:12:48,270] Trial 17 finished with value: 0.9033015951527142 and parameters: {'n_estimators': 284, 'max_depth': None, 'max_features': 'log2', 'min_samples_split': 2, 'min_samples_leaf': 5}. Best is trial 16 with value: 0.9040435266477062.\n",
      "[I 2025-05-05 16:13:35,582] Trial 10 pruned. \n",
      "[I 2025-05-05 16:13:43,469] Trial 19 finished with value: 0.9030542846543835 and parameters: {'n_estimators': 121, 'max_depth': None, 'max_features': 'log2', 'min_samples_split': 8, 'min_samples_leaf': 5}. Best is trial 16 with value: 0.9040435266477062.\n",
      "[I 2025-05-05 16:13:50,641] Trial 20 finished with value: 0.8519846667491034 and parameters: {'n_estimators': 51, 'max_depth': 24, 'max_features': 'sqrt', 'min_samples_split': 4, 'min_samples_leaf': 10}. Best is trial 16 with value: 0.9040435266477062.\n",
      "[I 2025-05-05 16:13:53,823] Trial 21 finished with value: 0.8669469518981081 and parameters: {'n_estimators': 143, 'max_depth': 15, 'max_features': 'log2', 'min_samples_split': 5, 'min_samples_leaf': 4}. Best is trial 16 with value: 0.9040435266477062.\n",
      "[I 2025-05-05 16:16:00,124] Trial 13 pruned. \n",
      "[I 2025-05-05 16:16:05,188] Trial 23 finished with value: 0.8579201187090392 and parameters: {'n_estimators': 255, 'max_depth': 11, 'max_features': 'log2', 'min_samples_split': 9, 'min_samples_leaf': 2}. Best is trial 16 with value: 0.9040435266477062.\n",
      "[I 2025-05-05 16:16:24,165] Trial 24 finished with value: 0.9033015951527142 and parameters: {'n_estimators': 298, 'max_depth': None, 'max_features': 'log2', 'min_samples_split': 2, 'min_samples_leaf': 5}. Best is trial 16 with value: 0.9040435266477062.\n",
      "[I 2025-05-05 16:16:35,848] Trial 25 finished with value: 0.8911833807345122 and parameters: {'n_estimators': 294, 'max_depth': 48, 'max_features': 'log2', 'min_samples_split': 2, 'min_samples_leaf': 6}. Best is trial 16 with value: 0.9040435266477062.\n",
      "[I 2025-05-05 16:16:43,046] Trial 26 finished with value: 0.8730060591072091 and parameters: {'n_estimators': 269, 'max_depth': 20, 'max_features': 'log2', 'min_samples_split': 4, 'min_samples_leaf': 4}. Best is trial 16 with value: 0.9040435266477062.\n",
      "[I 2025-05-05 16:16:50,777] Trial 27 finished with value: 0.8825275132929393 and parameters: {'n_estimators': 223, 'max_depth': 32, 'max_features': 'log2', 'min_samples_split': 2, 'min_samples_leaf': 5}. Best is trial 16 with value: 0.9040435266477062.\n",
      "[I 2025-05-05 16:17:02,650] Trial 28 finished with value: 0.8313342401384939 and parameters: {'n_estimators': 288, 'max_depth': 7, 'max_features': 'sqrt', 'min_samples_split': 7, 'min_samples_leaf': 6}. Best is trial 16 with value: 0.9040435266477062.\n",
      "[I 2025-05-05 16:17:12,580] Trial 15 pruned. \n",
      "[I 2025-05-05 16:17:14,995] Trial 29 finished with value: 0.8883393100037097 and parameters: {'n_estimators': 274, 'max_depth': 35, 'max_features': 'log2', 'min_samples_split': 4, 'min_samples_leaf': 2}. Best is trial 16 with value: 0.9040435266477062.\n",
      "[I 2025-05-05 16:17:32,395] Trial 31 finished with value: 0.9061456658835167 and parameters: {'n_estimators': 236, 'max_depth': None, 'max_features': 'log2', 'min_samples_split': 16, 'min_samples_leaf': 4}. Best is trial 31 with value: 0.9061456658835167.\n",
      "[I 2025-05-05 16:17:42,269] Trial 30 finished with value: 0.9114628415976258 and parameters: {'n_estimators': 248, 'max_depth': None, 'max_features': 'log2', 'min_samples_split': 4, 'min_samples_leaf': 2}. Best is trial 30 with value: 0.9114628415976258.\n",
      "[I 2025-05-05 16:17:53,630] Trial 33 finished with value: 0.8920489674786695 and parameters: {'n_estimators': 234, 'max_depth': 46, 'max_features': 'log2', 'min_samples_split': 15, 'min_samples_leaf': 3}. Best is trial 30 with value: 0.9114628415976258.\n",
      "[I 2025-05-05 16:17:59,391] Trial 34 finished with value: 0.8662050204031161 and parameters: {'n_estimators': 254, 'max_depth': 13, 'max_features': 'log2', 'min_samples_split': 17, 'min_samples_leaf': 2}. Best is trial 30 with value: 0.9114628415976258.\n",
      "[I 2025-05-05 16:18:03,346] Trial 35 finished with value: 0.8514900457524421 and parameters: {'n_estimators': 208, 'max_depth': 9, 'max_features': 'log2', 'min_samples_split': 12, 'min_samples_leaf': 4}. Best is trial 30 with value: 0.9114628415976258.\n",
      "[I 2025-05-05 16:18:22,998] Trial 32 finished with value: 0.8772103375788303 and parameters: {'n_estimators': 215, 'max_depth': 39, 'max_features': 'sqrt', 'min_samples_split': 16, 'min_samples_leaf': 7}. Best is trial 30 with value: 0.9114628415976258.\n",
      "[I 2025-05-05 16:19:04,952] Trial 36 finished with value: 0.8753555088413503 and parameters: {'n_estimators': 255, 'max_depth': 27, 'max_features': 'sqrt', 'min_samples_split': 16, 'min_samples_leaf': 1}. Best is trial 30 with value: 0.9114628415976258.\n",
      "[I 2025-05-05 16:19:15,538] Trial 37 finished with value: 0.8660813651539507 and parameters: {'n_estimators': 248, 'max_depth': 23, 'max_features': 'sqrt', 'min_samples_split': 5, 'min_samples_leaf': 1}. Best is trial 30 with value: 0.9114628415976258.\n",
      "[I 2025-05-05 16:27:48,350] Trial 18 pruned. \n",
      "[I 2025-05-05 16:27:51,690] Trial 40 finished with value: 0.85445777173241 and parameters: {'n_estimators': 163, 'max_depth': 10, 'max_features': 'log2', 'min_samples_split': 3, 'min_samples_leaf': 2}. Best is trial 30 with value: 0.9114628415976258.\n",
      "[I 2025-05-05 16:27:57,515] Trial 38 finished with value: 0.7507110176827007 and parameters: {'n_estimators': 158, 'max_depth': 8, 'max_features': None, 'min_samples_split': 10, 'min_samples_leaf': 1}. Best is trial 30 with value: 0.9114628415976258.\n",
      "[I 2025-05-05 16:28:02,053] Trial 41 finished with value: 0.8915543464820082 and parameters: {'n_estimators': 196, 'max_depth': 47, 'max_features': 'log2', 'min_samples_split': 5, 'min_samples_leaf': 3}. Best is trial 30 with value: 0.9114628415976258.\n",
      "[I 2025-05-05 16:28:06,445] Trial 43 finished with value: 0.8857425497712378 and parameters: {'n_estimators': 99, 'max_depth': 41, 'max_features': 'log2', 'min_samples_split': 14, 'min_samples_leaf': 3}. Best is trial 30 with value: 0.9114628415976258.\n",
      "[I 2025-05-05 16:28:07,651] Trial 42 finished with value: 0.8942747619636453 and parameters: {'n_estimators': 207, 'max_depth': 50, 'max_features': 'log2', 'min_samples_split': 5, 'min_samples_leaf': 3}. Best is trial 30 with value: 0.9114628415976258.\n",
      "[I 2025-05-05 16:28:22,690] Trial 44 finished with value: 0.8995919376777545 and parameters: {'n_estimators': 281, 'max_depth': None, 'max_features': 'log2', 'min_samples_split': 3, 'min_samples_leaf': 6}. Best is trial 30 with value: 0.9114628415976258.\n",
      "[I 2025-05-05 16:28:24,284] Trial 45 finished with value: 0.8994682824285891 and parameters: {'n_estimators': 283, 'max_depth': None, 'max_features': 'log2', 'min_samples_split': 3, 'min_samples_leaf': 6}. Best is trial 30 with value: 0.9114628415976258.\n",
      "[I 2025-05-05 16:28:31,288] Trial 46 finished with value: 0.8828984790404353 and parameters: {'n_estimators': 269, 'max_depth': 29, 'max_features': 'log2', 'min_samples_split': 3, 'min_samples_leaf': 5}. Best is trial 30 with value: 0.9114628415976258.\n",
      "[I 2025-05-05 16:28:35,657] Trial 47 finished with value: 0.8894522072461976 and parameters: {'n_estimators': 269, 'max_depth': 45, 'max_features': 'log2', 'min_samples_split': 4, 'min_samples_leaf': 5}. Best is trial 30 with value: 0.9114628415976258.\n",
      "[I 2025-05-05 16:28:52,928] Trial 48 finished with value: 0.8474094225299864 and parameters: {'n_estimators': 244, 'max_depth': 14, 'max_features': 'sqrt', 'min_samples_split': 4, 'min_samples_leaf': 4}. Best is trial 30 with value: 0.9114628415976258.\n",
      "[I 2025-05-05 16:28:53,885] Trial 22 pruned. \n",
      "[I 2025-05-05 16:29:07,234] Trial 49 finished with value: 0.8607641894398417 and parameters: {'n_estimators': 238, 'max_depth': 21, 'max_features': 'sqrt', 'min_samples_split': 2, 'min_samples_leaf': 4}. Best is trial 30 with value: 0.9114628415976258.\n",
      "[I 2025-05-05 16:34:15,618] Trial 39 pruned. \n"
     ]
    }
   ],
   "source": [
    "# Hyperparameter Tuning\n",
    "study = optuna.create_study(direction='maximize', sampler=optuna.samplers.TPESampler(seed=42))\n",
    "study.enqueue_trial({\n",
    "    \"n_estimators\": 100,\n",
    "    \"max_depth\": None,\n",
    "    \"max_features\": \"sqrt\",\n",
    "    \"min_samples_split\": 2,\n",
    "    \"min_samples_leaf\": 1\n",
    "})\n",
    "study.optimize(objective, n_trials=50, n_jobs=4)"
   ]
  },
  {
   "cell_type": "code",
   "execution_count": 19,
   "id": "73ac9c59",
   "metadata": {
    "execution": {
     "iopub.execute_input": "2025-05-05T16:34:15.657312Z",
     "iopub.status.busy": "2025-05-05T16:34:15.656932Z",
     "iopub.status.idle": "2025-05-05T16:34:15.662798Z",
     "shell.execute_reply": "2025-05-05T16:34:15.661739Z"
    },
    "papermill": {
     "duration": 0.01808,
     "end_time": "2025-05-05T16:34:15.664438",
     "exception": false,
     "start_time": "2025-05-05T16:34:15.646358",
     "status": "completed"
    },
    "tags": []
   },
   "outputs": [
    {
     "name": "stdout",
     "output_type": "stream",
     "text": [
      "Best parameters: {'n_estimators': 248, 'max_depth': None, 'max_features': 'log2', 'min_samples_split': 4, 'min_samples_leaf': 2}\n",
      "Best accuracy: 0.9114628415976258\n"
     ]
    }
   ],
   "source": [
    "print(\"Best parameters:\", study.best_params)\n",
    "print(\"Best accuracy:\", study.best_value)"
   ]
  },
  {
   "cell_type": "code",
   "execution_count": 20,
   "id": "048c1c70",
   "metadata": {
    "execution": {
     "iopub.execute_input": "2025-05-05T16:34:15.685313Z",
     "iopub.status.busy": "2025-05-05T16:34:15.684708Z",
     "iopub.status.idle": "2025-05-05T16:34:32.773612Z",
     "shell.execute_reply": "2025-05-05T16:34:32.772578Z"
    },
    "papermill": {
     "duration": 17.100859,
     "end_time": "2025-05-05T16:34:32.775381",
     "exception": false,
     "start_time": "2025-05-05T16:34:15.674522",
     "status": "completed"
    },
    "tags": []
   },
   "outputs": [
    {
     "name": "stdout",
     "output_type": "stream",
     "text": [
      "Training Time: 17.08 s\n"
     ]
    }
   ],
   "source": [
    "# Re-training\n",
    "best_params = study.best_params\n",
    "rf_model = RandomForestClassifier(\n",
    "    n_estimators=best_params['n_estimators'],\n",
    "    max_depth=best_params['max_depth'],\n",
    "    max_features=best_params['max_features'],\n",
    "    min_samples_split=best_params['min_samples_split'],\n",
    "    min_samples_leaf=best_params['min_samples_leaf'],\n",
    "    random_state=42\n",
    ")\n",
    "start = time.time()\n",
    "rf_model.fit(X_train_tfidf, y_train)\n",
    "print(f\"Training Time: {time.time() - start:.2f} s\")"
   ]
  },
  {
   "cell_type": "code",
   "execution_count": 21,
   "id": "d1e97507",
   "metadata": {
    "execution": {
     "iopub.execute_input": "2025-05-05T16:34:32.796862Z",
     "iopub.status.busy": "2025-05-05T16:34:32.796552Z",
     "iopub.status.idle": "2025-05-05T16:34:33.972594Z",
     "shell.execute_reply": "2025-05-05T16:34:33.971505Z"
    },
    "papermill": {
     "duration": 1.188395,
     "end_time": "2025-05-05T16:34:33.974184",
     "exception": false,
     "start_time": "2025-05-05T16:34:32.785789",
     "status": "completed"
    },
    "tags": []
   },
   "outputs": [
    {
     "name": "stdout",
     "output_type": "stream",
     "text": [
      "Akurasi: 0.9115\n",
      "Presisi (Fake Review): 0.9376\n",
      "Recall (Fake Review): 0.8815\n",
      "F1-Score (Fake Review): 0.9087\n"
     ]
    }
   ],
   "source": [
    "# Evaluation\n",
    "rf_y_pred = rf_model.predict(X_test_tfidf)\n",
    "\n",
    "accuracy = accuracy_score(y_test, rf_y_pred)\n",
    "print(f'Akurasi: {accuracy:.4f}')\n",
    "\n",
    "precision_cg = precision_score(y_test, rf_y_pred)\n",
    "print(f'Presisi (Fake Review): {precision_cg:.4f}')\n",
    "\n",
    "recall_cg = recall_score(y_test, rf_y_pred)\n",
    "print(f'Recall (Fake Review): {recall_cg:.4f}')\n",
    "\n",
    "f1_cg = f1_score(y_test, rf_y_pred)\n",
    "print(f'F1-Score (Fake Review): {f1_cg:.4f}')"
   ]
  },
  {
   "cell_type": "code",
   "execution_count": 22,
   "id": "eb6bdea1",
   "metadata": {
    "execution": {
     "iopub.execute_input": "2025-05-05T16:34:33.994688Z",
     "iopub.status.busy": "2025-05-05T16:34:33.994251Z",
     "iopub.status.idle": "2025-05-05T16:34:34.204402Z",
     "shell.execute_reply": "2025-05-05T16:34:34.203441Z"
    },
    "papermill": {
     "duration": 0.22188,
     "end_time": "2025-05-05T16:34:34.205788",
     "exception": false,
     "start_time": "2025-05-05T16:34:33.983908",
     "status": "completed"
    },
    "tags": []
   },
   "outputs": [
    {
     "data": {
      "image/png": "[encoded data removed]",
      "text/plain": [
       "<Figure size 600x600 with 2 Axes>"
      ]
     },
     "metadata": {},
     "output_type": "display_data"
    }
   ],
   "source": [
    "conf_matrix = confusion_matrix(y_test, rf_y_pred)\n",
    "plt.figure(figsize=(6, 6))\n",
    "sns.heatmap(conf_matrix, annot=True, fmt='d', cmap='Blues', xticklabels=['Real Review', 'Fake Review'], yticklabels=['Real Review', 'Fake Review'])\n",
    "plt.title('Confusion Matrix')\n",
    "plt.ylabel('Actual Label')\n",
    "plt.xlabel('Predicted Label')\n",
    "plt.show()"
   ]
  },
  {
   "cell_type": "code",
   "execution_count": 23,
   "id": "7bcd4ad3",
   "metadata": {
    "execution": {
     "iopub.execute_input": "2025-05-05T16:34:34.227088Z",
     "iopub.status.busy": "2025-05-05T16:34:34.226754Z",
     "iopub.status.idle": "2025-05-05T16:34:34.251219Z",
     "shell.execute_reply": "2025-05-05T16:34:34.249916Z"
    },
    "papermill": {
     "duration": 0.036896,
     "end_time": "2025-05-05T16:34:34.252900",
     "exception": false,
     "start_time": "2025-05-05T16:34:34.216004",
     "status": "completed"
    },
    "tags": []
   },
   "outputs": [
    {
     "name": "stdout",
     "output_type": "stream",
     "text": [
      "Classification Report:\n",
      "              precision    recall  f1-score   support\n",
      "\n",
      " Real Review       0.89      0.94      0.91      4044\n",
      " Fake Review       0.94      0.88      0.91      4043\n",
      "\n",
      "    accuracy                           0.91      8087\n",
      "   macro avg       0.91      0.91      0.91      8087\n",
      "weighted avg       0.91      0.91      0.91      8087\n",
      "\n"
     ]
    }
   ],
   "source": [
    "print(\"Classification Report:\")\n",
    "print(classification_report(y_test, rf_y_pred, target_names=['Real Review', 'Fake Review']))"
   ]
  },
  {
   "cell_type": "markdown",
   "id": "21cefe7b",
   "metadata": {
    "papermill": {
     "duration": 0.009785,
     "end_time": "2025-05-05T16:34:34.272904",
     "exception": false,
     "start_time": "2025-05-05T16:34:34.263119",
     "status": "completed"
    },
    "tags": []
   },
   "source": [
    "## Save Model"
   ]
  },
  {
   "cell_type": "code",
   "execution_count": 24,
   "id": "05e9fc35",
   "metadata": {
    "execution": {
     "iopub.execute_input": "2025-05-05T16:34:34.293903Z",
     "iopub.status.busy": "2025-05-05T16:34:34.293577Z",
     "iopub.status.idle": "2025-05-05T16:34:34.609243Z",
     "shell.execute_reply": "2025-05-05T16:34:34.608334Z"
    },
    "papermill": {
     "duration": 0.328066,
     "end_time": "2025-05-05T16:34:34.610809",
     "exception": false,
     "start_time": "2025-05-05T16:34:34.282743",
     "status": "completed"
    },
    "tags": []
   },
   "outputs": [
    {
     "data": {
      "text/plain": [
       "['/kaggle/working/rf.pkl']"
      ]
     },
     "execution_count": 24,
     "metadata": {},
     "output_type": "execute_result"
    }
   ],
   "source": [
    "joblib.dump(rf_model, '/kaggle/working/rf.pkl')"
   ]
  }
 ],
 "metadata": {
  "kaggle": {
   "accelerator": "none",
   "dataSources": [
    {
     "datasetId": 7266239,
     "sourceId": 11588322,
     "sourceType": "datasetVersion"
    }
   ],
   "dockerImageVersionId": 31012,
   "isGpuEnabled": false,
   "isInternetEnabled": true,
   "language": "python",
   "sourceType": "notebook"
  },
  "kernelspec": {
   "display_name": "Python 3",
   "language": "python",
   "name": "python3"
  },
  "language_info": {
   "codemirror_mode": {
    "name": "ipython",
    "version": 3
   },
   "file_extension": ".py",
   "mimetype": "text/x-python",
   "name": "python",
   "nbconvert_exporter": "python",
   "pygments_lexer": "ipython3",
   "version": "3.11.11"
  },
  "papermill": {
   "default_parameters": {},
   "duration": 2298.865653,
   "end_time": "2025-05-05T16:34:37.243064",
   "environment_variables": {},
   "exception": null,
   "input_path": "__notebook__.ipynb",
   "output_path": "__notebook__.ipynb",
   "parameters": {},
   "start_time": "2025-05-05T15:56:18.377411",
   "version": "2.6.0"
  }
 },
 "nbformat": 4,
 "nbformat_minor": 5
}
