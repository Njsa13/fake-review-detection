{
 "cells": [
  {
   "cell_type": "markdown",
   "id": "5c978978",
   "metadata": {
    "papermill": {
     "duration": 0.00592,
     "end_time": "2025-05-06T13:30:36.168130",
     "exception": false,
     "start_time": "2025-05-06T13:30:36.162210",
     "status": "completed"
    },
    "tags": []
   },
   "source": [
    "## Import Library"
   ]
  },
  {
   "cell_type": "code",
   "execution_count": 1,
   "id": "b8bcb1e1",
   "metadata": {
    "execution": {
     "iopub.execute_input": "2025-05-06T13:30:36.179423Z",
     "iopub.status.busy": "2025-05-06T13:30:36.179085Z",
     "iopub.status.idle": "2025-05-06T13:30:41.833064Z",
     "shell.execute_reply": "2025-05-06T13:30:41.831954Z"
    },
    "papermill": {
     "duration": 5.661718,
     "end_time": "2025-05-06T13:30:41.835222",
     "exception": false,
     "start_time": "2025-05-06T13:30:36.173504",
     "status": "completed"
    },
    "tags": []
   },
   "outputs": [
    {
     "name": "stdout",
     "output_type": "stream",
     "text": [
      "Requirement already satisfied: optuna in /usr/local/lib/python3.11/dist-packages (4.2.1)\r\n",
      "Requirement already satisfied: alembic>=1.5.0 in /usr/local/lib/python3.11/dist-packages (from optuna) (1.15.2)\r\n",
      "Requirement already satisfied: colorlog in /usr/local/lib/python3.11/dist-packages (from optuna) (6.9.0)\r\n",
      "Requirement already satisfied: numpy in /usr/local/lib/python3.11/dist-packages (from optuna) (1.26.4)\r\n",
      "Requirement already satisfied: packaging>=20.0 in /usr/local/lib/python3.11/dist-packages (from optuna) (24.2)\r\n",
      "Requirement already satisfied: sqlalchemy>=1.4.2 in /usr/local/lib/python3.11/dist-packages (from optuna) (2.0.38)\r\n",
      "Requirement already satisfied: tqdm in /usr/local/lib/python3.11/dist-packages (from optuna) (4.67.1)\r\n",
      "Requirement already satisfied: PyYAML in /usr/local/lib/python3.11/dist-packages (from optuna) (6.0.2)\r\n",
      "Requirement already satisfied: Mako in /usr/local/lib/python3.11/dist-packages (from alembic>=1.5.0->optuna) (1.3.9)\r\n",
      "Requirement already satisfied: typing-extensions>=4.12 in /usr/local/lib/python3.11/dist-packages (from alembic>=1.5.0->optuna) (4.13.1)\r\n",
      "Requirement already satisfied: greenlet!=0.4.17 in /usr/local/lib/python3.11/dist-packages (from sqlalchemy>=1.4.2->optuna) (3.1.1)\r\n",
      "Requirement already satisfied: mkl_fft in /usr/local/lib/python3.11/dist-packages (from numpy->optuna) (1.3.8)\r\n",
      "Requirement already satisfied: mkl_random in /usr/local/lib/python3.11/dist-packages (from numpy->optuna) (1.2.4)\r\n",
      "Requirement already satisfied: mkl_umath in /usr/local/lib/python3.11/dist-packages (from numpy->optuna) (0.1.1)\r\n",
      "Requirement already satisfied: mkl in /usr/local/lib/python3.11/dist-packages (from numpy->optuna) (2025.1.0)\r\n",
      "Requirement already satisfied: tbb4py in /usr/local/lib/python3.11/dist-packages (from numpy->optuna) (2022.1.0)\r\n",
      "Requirement already satisfied: mkl-service in /usr/local/lib/python3.11/dist-packages (from numpy->optuna) (2.4.1)\r\n",
      "Requirement already satisfied: MarkupSafe>=0.9.2 in /usr/local/lib/python3.11/dist-packages (from Mako->alembic>=1.5.0->optuna) (3.0.2)\r\n",
      "Requirement already satisfied: intel-openmp<2026,>=2024 in /usr/local/lib/python3.11/dist-packages (from mkl->numpy->optuna) (2024.2.0)\r\n",
      "Requirement already satisfied: tbb==2022.* in /usr/local/lib/python3.11/dist-packages (from mkl->numpy->optuna) (2022.1.0)\r\n",
      "Requirement already satisfied: tcmlib==1.* in /usr/local/lib/python3.11/dist-packages (from tbb==2022.*->mkl->numpy->optuna) (1.2.0)\r\n",
      "Requirement already satisfied: intel-cmplr-lib-rt in /usr/local/lib/python3.11/dist-packages (from mkl_umath->numpy->optuna) (2024.2.0)\r\n",
      "Requirement already satisfied: intel-cmplr-lib-ur==2024.2.0 in /usr/local/lib/python3.11/dist-packages (from intel-openmp<2026,>=2024->mkl->numpy->optuna) (2024.2.0)\r\n"
     ]
    }
   ],
   "source": [
    "!pip install optuna"
   ]
  },
  {
   "cell_type": "code",
   "execution_count": 2,
   "id": "09582548",
   "metadata": {
    "execution": {
     "iopub.execute_input": "2025-05-06T13:30:41.847707Z",
     "iopub.status.busy": "2025-05-06T13:30:41.847354Z",
     "iopub.status.idle": "2025-05-06T13:30:47.715380Z",
     "shell.execute_reply": "2025-05-06T13:30:47.714243Z"
    },
    "papermill": {
     "duration": 5.876244,
     "end_time": "2025-05-06T13:30:47.717048",
     "exception": false,
     "start_time": "2025-05-06T13:30:41.840804",
     "status": "completed"
    },
    "tags": []
   },
   "outputs": [
    {
     "name": "stdout",
     "output_type": "stream",
     "text": [
      "Collecting timeout-decorator\r\n",
      "  Downloading timeout-decorator-0.5.0.tar.gz (4.8 kB)\r\n",
      "  Preparing metadata (setup.py) ... \u001b[?25l\u001b[?25hdone\r\n",
      "Building wheels for collected packages: timeout-decorator\r\n",
      "  Building wheel for timeout-decorator (setup.py) ... \u001b[?25l\u001b[?25hdone\r\n",
      "  Created wheel for timeout-decorator: filename=timeout_decorator-0.5.0-py3-none-any.whl size=5007 sha256=859ddec1800ff1ec684b3e3cbe1146818e99c3b3478b427f76e56e561441bd4a\r\n",
      "  Stored in directory: /root/.cache/pip/wheels/aa/cd/d1/51736c6b95846b2613a520ce146a8f305c4016a987bc9faec7\r\n",
      "Successfully built timeout-decorator\r\n",
      "Installing collected packages: timeout-decorator\r\n",
      "Successfully installed timeout-decorator-0.5.0\r\n"
     ]
    }
   ],
   "source": [
    "!pip install timeout-decorator"
   ]
  },
  {
   "cell_type": "code",
   "execution_count": 3,
   "id": "a49726b6",
   "metadata": {
    "execution": {
     "iopub.execute_input": "2025-05-06T13:30:47.729190Z",
     "iopub.status.busy": "2025-05-06T13:30:47.728879Z",
     "iopub.status.idle": "2025-05-06T13:30:47.734192Z",
     "shell.execute_reply": "2025-05-06T13:30:47.733274Z"
    },
    "papermill": {
     "duration": 0.013049,
     "end_time": "2025-05-06T13:30:47.735630",
     "exception": false,
     "start_time": "2025-05-06T13:30:47.722581",
     "status": "completed"
    },
    "tags": []
   },
   "outputs": [
    {
     "name": "stdout",
     "output_type": "stream",
     "text": [
      "Number of CPU cores: 4\n"
     ]
    }
   ],
   "source": [
    "import os\n",
    "\n",
    "cpu_count = os.cpu_count()\n",
    "print(f\"Number of CPU cores: {cpu_count}\")"
   ]
  },
  {
   "cell_type": "code",
   "execution_count": 4,
   "id": "c19e285f",
   "metadata": {
    "execution": {
     "iopub.execute_input": "2025-05-06T13:30:47.747172Z",
     "iopub.status.busy": "2025-05-06T13:30:47.746909Z",
     "iopub.status.idle": "2025-05-06T13:30:53.385462Z",
     "shell.execute_reply": "2025-05-06T13:30:53.384556Z"
    },
    "papermill": {
     "duration": 5.64629,
     "end_time": "2025-05-06T13:30:53.387206",
     "exception": false,
     "start_time": "2025-05-06T13:30:47.740916",
     "status": "completed"
    },
    "tags": []
   },
   "outputs": [],
   "source": [
    "import pandas as pd\n",
    "import matplotlib.pyplot as plt\n",
    "import seaborn as sns\n",
    "from sklearn.ensemble import RandomForestClassifier\n",
    "from sklearn.svm import SVC\n",
    "from sklearn.naive_bayes import MultinomialNB\n",
    "from xgboost import XGBClassifier\n",
    "from sklearn.feature_extraction.text import TfidfVectorizer\n",
    "from sklearn.model_selection import train_test_split\n",
    "from collections import Counter\n",
    "import time\n",
    "from sklearn.metrics import accuracy_score, precision_score, recall_score, f1_score, classification_report, confusion_matrix\n",
    "import optuna\n",
    "import timeout_decorator\n",
    "from timeout_decorator.timeout_decorator import TimeoutError"
   ]
  },
  {
   "cell_type": "markdown",
   "id": "8e9ff313",
   "metadata": {
    "papermill": {
     "duration": 0.005462,
     "end_time": "2025-05-06T13:30:53.398196",
     "exception": false,
     "start_time": "2025-05-06T13:30:53.392734",
     "status": "completed"
    },
    "tags": []
   },
   "source": [
    "## Import Dataset"
   ]
  },
  {
   "cell_type": "code",
   "execution_count": 5,
   "id": "dc08a695",
   "metadata": {
    "execution": {
     "iopub.execute_input": "2025-05-06T13:30:53.410168Z",
     "iopub.status.busy": "2025-05-06T13:30:53.409724Z",
     "iopub.status.idle": "2025-05-06T13:30:54.238458Z",
     "shell.execute_reply": "2025-05-06T13:30:54.237565Z"
    },
    "papermill": {
     "duration": 0.836431,
     "end_time": "2025-05-06T13:30:54.239982",
     "exception": false,
     "start_time": "2025-05-06T13:30:53.403551",
     "status": "completed"
    },
    "tags": []
   },
   "outputs": [],
   "source": [
    "df = pd.read_csv('/kaggle/input/preprocessed-fake-reviews-dataset/preprocessed-fake-reviews-dataset.csv')"
   ]
  },
  {
   "cell_type": "code",
   "execution_count": 6,
   "id": "4f2e9fc6",
   "metadata": {
    "execution": {
     "iopub.execute_input": "2025-05-06T13:30:54.251603Z",
     "iopub.status.busy": "2025-05-06T13:30:54.251252Z",
     "iopub.status.idle": "2025-05-06T13:30:54.282082Z",
     "shell.execute_reply": "2025-05-06T13:30:54.281242Z"
    },
    "papermill": {
     "duration": 0.038198,
     "end_time": "2025-05-06T13:30:54.283518",
     "exception": false,
     "start_time": "2025-05-06T13:30:54.245320",
     "status": "completed"
    },
    "tags": []
   },
   "outputs": [
    {
     "data": {
      "text/html": [
       "<div>\n",
       "<style scoped>\n",
       "    .dataframe tbody tr th:only-of-type {\n",
       "        vertical-align: middle;\n",
       "    }\n",
       "\n",
       "    .dataframe tbody tr th {\n",
       "        vertical-align: top;\n",
       "    }\n",
       "\n",
       "    .dataframe thead th {\n",
       "        text-align: right;\n",
       "    }\n",
       "</style>\n",
       "<table border=\"1\" class=\"dataframe\">\n",
       "  <thead>\n",
       "    <tr style=\"text-align: right;\">\n",
       "      <th></th>\n",
       "      <th>rating</th>\n",
       "      <th>label</th>\n",
       "      <th>text_</th>\n",
       "      <th>cleaned_text</th>\n",
       "      <th>category_Books_5</th>\n",
       "      <th>category_Clothing_Shoes_and_Jewelry_5</th>\n",
       "      <th>category_Electronics_5</th>\n",
       "      <th>category_Home_and_Kitchen_5</th>\n",
       "      <th>category_Kindle_Store_5</th>\n",
       "      <th>category_Movies_and_TV_5</th>\n",
       "      <th>category_Pet_Supplies_5</th>\n",
       "      <th>category_Sports_and_Outdoors_5</th>\n",
       "      <th>category_Tools_and_Home_Improvement_5</th>\n",
       "      <th>category_Toys_and_Games_5</th>\n",
       "    </tr>\n",
       "  </thead>\n",
       "  <tbody>\n",
       "    <tr>\n",
       "      <th>0</th>\n",
       "      <td>5.0</td>\n",
       "      <td>1</td>\n",
       "      <td>Love this!  Well made, sturdy, and very comfor...</td>\n",
       "      <td>Love this  Well made sturdy and very comfortab...</td>\n",
       "      <td>False</td>\n",
       "      <td>False</td>\n",
       "      <td>False</td>\n",
       "      <td>True</td>\n",
       "      <td>False</td>\n",
       "      <td>False</td>\n",
       "      <td>False</td>\n",
       "      <td>False</td>\n",
       "      <td>False</td>\n",
       "      <td>False</td>\n",
       "    </tr>\n",
       "    <tr>\n",
       "      <th>1</th>\n",
       "      <td>5.0</td>\n",
       "      <td>1</td>\n",
       "      <td>love it, a great upgrade from the original.  I...</td>\n",
       "      <td>love it a great upgrade from the original  Ive...</td>\n",
       "      <td>False</td>\n",
       "      <td>False</td>\n",
       "      <td>False</td>\n",
       "      <td>True</td>\n",
       "      <td>False</td>\n",
       "      <td>False</td>\n",
       "      <td>False</td>\n",
       "      <td>False</td>\n",
       "      <td>False</td>\n",
       "      <td>False</td>\n",
       "    </tr>\n",
       "    <tr>\n",
       "      <th>2</th>\n",
       "      <td>5.0</td>\n",
       "      <td>1</td>\n",
       "      <td>This pillow saved my back. I love the look and...</td>\n",
       "      <td>This pillow saved my back I love the look and ...</td>\n",
       "      <td>False</td>\n",
       "      <td>False</td>\n",
       "      <td>False</td>\n",
       "      <td>True</td>\n",
       "      <td>False</td>\n",
       "      <td>False</td>\n",
       "      <td>False</td>\n",
       "      <td>False</td>\n",
       "      <td>False</td>\n",
       "      <td>False</td>\n",
       "    </tr>\n",
       "    <tr>\n",
       "      <th>3</th>\n",
       "      <td>1.0</td>\n",
       "      <td>1</td>\n",
       "      <td>Missing information on how to use it, but it i...</td>\n",
       "      <td>Missing information on how to use it but it is...</td>\n",
       "      <td>False</td>\n",
       "      <td>False</td>\n",
       "      <td>False</td>\n",
       "      <td>True</td>\n",
       "      <td>False</td>\n",
       "      <td>False</td>\n",
       "      <td>False</td>\n",
       "      <td>False</td>\n",
       "      <td>False</td>\n",
       "      <td>False</td>\n",
       "    </tr>\n",
       "    <tr>\n",
       "      <th>4</th>\n",
       "      <td>5.0</td>\n",
       "      <td>1</td>\n",
       "      <td>Very nice set. Good quality. We have had the s...</td>\n",
       "      <td>Very nice set Good quality We have had the set...</td>\n",
       "      <td>False</td>\n",
       "      <td>False</td>\n",
       "      <td>False</td>\n",
       "      <td>True</td>\n",
       "      <td>False</td>\n",
       "      <td>False</td>\n",
       "      <td>False</td>\n",
       "      <td>False</td>\n",
       "      <td>False</td>\n",
       "      <td>False</td>\n",
       "    </tr>\n",
       "  </tbody>\n",
       "</table>\n",
       "</div>"
      ],
      "text/plain": [
       "   rating  label                                              text_  \\\n",
       "0     5.0      1  Love this!  Well made, sturdy, and very comfor...   \n",
       "1     5.0      1  love it, a great upgrade from the original.  I...   \n",
       "2     5.0      1  This pillow saved my back. I love the look and...   \n",
       "3     1.0      1  Missing information on how to use it, but it i...   \n",
       "4     5.0      1  Very nice set. Good quality. We have had the s...   \n",
       "\n",
       "                                        cleaned_text  category_Books_5  \\\n",
       "0  Love this  Well made sturdy and very comfortab...             False   \n",
       "1  love it a great upgrade from the original  Ive...             False   \n",
       "2  This pillow saved my back I love the look and ...             False   \n",
       "3  Missing information on how to use it but it is...             False   \n",
       "4  Very nice set Good quality We have had the set...             False   \n",
       "\n",
       "   category_Clothing_Shoes_and_Jewelry_5  category_Electronics_5  \\\n",
       "0                                  False                   False   \n",
       "1                                  False                   False   \n",
       "2                                  False                   False   \n",
       "3                                  False                   False   \n",
       "4                                  False                   False   \n",
       "\n",
       "   category_Home_and_Kitchen_5  category_Kindle_Store_5  \\\n",
       "0                         True                    False   \n",
       "1                         True                    False   \n",
       "2                         True                    False   \n",
       "3                         True                    False   \n",
       "4                         True                    False   \n",
       "\n",
       "   category_Movies_and_TV_5  category_Pet_Supplies_5  \\\n",
       "0                     False                    False   \n",
       "1                     False                    False   \n",
       "2                     False                    False   \n",
       "3                     False                    False   \n",
       "4                     False                    False   \n",
       "\n",
       "   category_Sports_and_Outdoors_5  category_Tools_and_Home_Improvement_5  \\\n",
       "0                           False                                  False   \n",
       "1                           False                                  False   \n",
       "2                           False                                  False   \n",
       "3                           False                                  False   \n",
       "4                           False                                  False   \n",
       "\n",
       "   category_Toys_and_Games_5  \n",
       "0                      False  \n",
       "1                      False  \n",
       "2                      False  \n",
       "3                      False  \n",
       "4                      False  "
      ]
     },
     "execution_count": 6,
     "metadata": {},
     "output_type": "execute_result"
    }
   ],
   "source": [
    "df.head()"
   ]
  },
  {
   "cell_type": "code",
   "execution_count": 7,
   "id": "94b9b7f2",
   "metadata": {
    "execution": {
     "iopub.execute_input": "2025-05-06T13:30:54.297108Z",
     "iopub.status.busy": "2025-05-06T13:30:54.296535Z",
     "iopub.status.idle": "2025-05-06T13:30:54.314893Z",
     "shell.execute_reply": "2025-05-06T13:30:54.314116Z"
    },
    "papermill": {
     "duration": 0.026047,
     "end_time": "2025-05-06T13:30:54.316249",
     "exception": false,
     "start_time": "2025-05-06T13:30:54.290202",
     "status": "completed"
    },
    "tags": []
   },
   "outputs": [
    {
     "data": {
      "text/plain": [
       "rating                                   0\n",
       "label                                    0\n",
       "text_                                    0\n",
       "cleaned_text                             1\n",
       "category_Books_5                         0\n",
       "category_Clothing_Shoes_and_Jewelry_5    0\n",
       "category_Electronics_5                   0\n",
       "category_Home_and_Kitchen_5              0\n",
       "category_Kindle_Store_5                  0\n",
       "category_Movies_and_TV_5                 0\n",
       "category_Pet_Supplies_5                  0\n",
       "category_Sports_and_Outdoors_5           0\n",
       "category_Tools_and_Home_Improvement_5    0\n",
       "category_Toys_and_Games_5                0\n",
       "dtype: int64"
      ]
     },
     "execution_count": 7,
     "metadata": {},
     "output_type": "execute_result"
    }
   ],
   "source": [
    "df.isnull().sum()"
   ]
  },
  {
   "cell_type": "code",
   "execution_count": 8,
   "id": "d4824d78",
   "metadata": {
    "execution": {
     "iopub.execute_input": "2025-05-06T13:30:54.328542Z",
     "iopub.status.busy": "2025-05-06T13:30:54.328210Z",
     "iopub.status.idle": "2025-05-06T13:30:54.342082Z",
     "shell.execute_reply": "2025-05-06T13:30:54.341319Z"
    },
    "papermill": {
     "duration": 0.021496,
     "end_time": "2025-05-06T13:30:54.343406",
     "exception": false,
     "start_time": "2025-05-06T13:30:54.321910",
     "status": "completed"
    },
    "tags": []
   },
   "outputs": [],
   "source": [
    "df['cleaned_text'] = df['cleaned_text'].fillna(\"\")"
   ]
  },
  {
   "cell_type": "code",
   "execution_count": 9,
   "id": "5838522d",
   "metadata": {
    "execution": {
     "iopub.execute_input": "2025-05-06T13:30:54.356978Z",
     "iopub.status.busy": "2025-05-06T13:30:54.356678Z",
     "iopub.status.idle": "2025-05-06T13:30:54.374705Z",
     "shell.execute_reply": "2025-05-06T13:30:54.373840Z"
    },
    "papermill": {
     "duration": 0.026517,
     "end_time": "2025-05-06T13:30:54.376084",
     "exception": false,
     "start_time": "2025-05-06T13:30:54.349567",
     "status": "completed"
    },
    "tags": []
   },
   "outputs": [
    {
     "data": {
      "text/plain": [
       "rating                                   0\n",
       "label                                    0\n",
       "text_                                    0\n",
       "cleaned_text                             0\n",
       "category_Books_5                         0\n",
       "category_Clothing_Shoes_and_Jewelry_5    0\n",
       "category_Electronics_5                   0\n",
       "category_Home_and_Kitchen_5              0\n",
       "category_Kindle_Store_5                  0\n",
       "category_Movies_and_TV_5                 0\n",
       "category_Pet_Supplies_5                  0\n",
       "category_Sports_and_Outdoors_5           0\n",
       "category_Tools_and_Home_Improvement_5    0\n",
       "category_Toys_and_Games_5                0\n",
       "dtype: int64"
      ]
     },
     "execution_count": 9,
     "metadata": {},
     "output_type": "execute_result"
    }
   ],
   "source": [
    "df.isnull().sum()"
   ]
  },
  {
   "cell_type": "code",
   "execution_count": 10,
   "id": "4d079aec",
   "metadata": {
    "execution": {
     "iopub.execute_input": "2025-05-06T13:30:54.389694Z",
     "iopub.status.busy": "2025-05-06T13:30:54.389001Z",
     "iopub.status.idle": "2025-05-06T13:30:54.426547Z",
     "shell.execute_reply": "2025-05-06T13:30:54.425508Z"
    },
    "papermill": {
     "duration": 0.04596,
     "end_time": "2025-05-06T13:30:54.428012",
     "exception": false,
     "start_time": "2025-05-06T13:30:54.382052",
     "status": "completed"
    },
    "tags": []
   },
   "outputs": [
    {
     "name": "stdout",
     "output_type": "stream",
     "text": [
      "<class 'pandas.core.frame.DataFrame'>\n",
      "RangeIndex: 40432 entries, 0 to 40431\n",
      "Data columns (total 14 columns):\n",
      " #   Column                                 Non-Null Count  Dtype  \n",
      "---  ------                                 --------------  -----  \n",
      " 0   rating                                 40432 non-null  float64\n",
      " 1   label                                  40432 non-null  int64  \n",
      " 2   text_                                  40432 non-null  object \n",
      " 3   cleaned_text                           40432 non-null  object \n",
      " 4   category_Books_5                       40432 non-null  bool   \n",
      " 5   category_Clothing_Shoes_and_Jewelry_5  40432 non-null  bool   \n",
      " 6   category_Electronics_5                 40432 non-null  bool   \n",
      " 7   category_Home_and_Kitchen_5            40432 non-null  bool   \n",
      " 8   category_Kindle_Store_5                40432 non-null  bool   \n",
      " 9   category_Movies_and_TV_5               40432 non-null  bool   \n",
      " 10  category_Pet_Supplies_5                40432 non-null  bool   \n",
      " 11  category_Sports_and_Outdoors_5         40432 non-null  bool   \n",
      " 12  category_Tools_and_Home_Improvement_5  40432 non-null  bool   \n",
      " 13  category_Toys_and_Games_5              40432 non-null  bool   \n",
      "dtypes: bool(10), float64(1), int64(1), object(2)\n",
      "memory usage: 1.6+ MB\n"
     ]
    }
   ],
   "source": [
    "df.info()"
   ]
  },
  {
   "cell_type": "code",
   "execution_count": 11,
   "id": "197ba3dd",
   "metadata": {
    "execution": {
     "iopub.execute_input": "2025-05-06T13:30:54.440885Z",
     "iopub.status.busy": "2025-05-06T13:30:54.440586Z",
     "iopub.status.idle": "2025-05-06T13:30:54.461964Z",
     "shell.execute_reply": "2025-05-06T13:30:54.461130Z"
    },
    "papermill": {
     "duration": 0.029268,
     "end_time": "2025-05-06T13:30:54.463297",
     "exception": false,
     "start_time": "2025-05-06T13:30:54.434029",
     "status": "completed"
    },
    "tags": []
   },
   "outputs": [
    {
     "data": {
      "text/html": [
       "<div>\n",
       "<style scoped>\n",
       "    .dataframe tbody tr th:only-of-type {\n",
       "        vertical-align: middle;\n",
       "    }\n",
       "\n",
       "    .dataframe tbody tr th {\n",
       "        vertical-align: top;\n",
       "    }\n",
       "\n",
       "    .dataframe thead th {\n",
       "        text-align: right;\n",
       "    }\n",
       "</style>\n",
       "<table border=\"1\" class=\"dataframe\">\n",
       "  <thead>\n",
       "    <tr style=\"text-align: right;\">\n",
       "      <th></th>\n",
       "      <th>rating</th>\n",
       "      <th>label</th>\n",
       "    </tr>\n",
       "  </thead>\n",
       "  <tbody>\n",
       "    <tr>\n",
       "      <th>count</th>\n",
       "      <td>40432.000000</td>\n",
       "      <td>40432.000000</td>\n",
       "    </tr>\n",
       "    <tr>\n",
       "      <th>mean</th>\n",
       "      <td>4.256579</td>\n",
       "      <td>0.500000</td>\n",
       "    </tr>\n",
       "    <tr>\n",
       "      <th>std</th>\n",
       "      <td>1.144354</td>\n",
       "      <td>0.500006</td>\n",
       "    </tr>\n",
       "    <tr>\n",
       "      <th>min</th>\n",
       "      <td>1.000000</td>\n",
       "      <td>0.000000</td>\n",
       "    </tr>\n",
       "    <tr>\n",
       "      <th>25%</th>\n",
       "      <td>4.000000</td>\n",
       "      <td>0.000000</td>\n",
       "    </tr>\n",
       "    <tr>\n",
       "      <th>50%</th>\n",
       "      <td>5.000000</td>\n",
       "      <td>0.500000</td>\n",
       "    </tr>\n",
       "    <tr>\n",
       "      <th>75%</th>\n",
       "      <td>5.000000</td>\n",
       "      <td>1.000000</td>\n",
       "    </tr>\n",
       "    <tr>\n",
       "      <th>max</th>\n",
       "      <td>5.000000</td>\n",
       "      <td>1.000000</td>\n",
       "    </tr>\n",
       "  </tbody>\n",
       "</table>\n",
       "</div>"
      ],
      "text/plain": [
       "             rating         label\n",
       "count  40432.000000  40432.000000\n",
       "mean       4.256579      0.500000\n",
       "std        1.144354      0.500006\n",
       "min        1.000000      0.000000\n",
       "25%        4.000000      0.000000\n",
       "50%        5.000000      0.500000\n",
       "75%        5.000000      1.000000\n",
       "max        5.000000      1.000000"
      ]
     },
     "execution_count": 11,
     "metadata": {},
     "output_type": "execute_result"
    }
   ],
   "source": [
    "df.describe()"
   ]
  },
  {
   "cell_type": "markdown",
   "id": "a8a97396",
   "metadata": {
    "papermill": {
     "duration": 0.005657,
     "end_time": "2025-05-06T13:30:54.474920",
     "exception": false,
     "start_time": "2025-05-06T13:30:54.469263",
     "status": "completed"
    },
    "tags": []
   },
   "source": [
    "## Data Splitting"
   ]
  },
  {
   "cell_type": "code",
   "execution_count": 12,
   "id": "56d5eab2",
   "metadata": {
    "execution": {
     "iopub.execute_input": "2025-05-06T13:30:54.488404Z",
     "iopub.status.busy": "2025-05-06T13:30:54.487372Z",
     "iopub.status.idle": "2025-05-06T13:30:54.526429Z",
     "shell.execute_reply": "2025-05-06T13:30:54.525614Z"
    },
    "papermill": {
     "duration": 0.047486,
     "end_time": "2025-05-06T13:30:54.528125",
     "exception": false,
     "start_time": "2025-05-06T13:30:54.480639",
     "status": "completed"
    },
    "tags": []
   },
   "outputs": [],
   "source": [
    "X_train, X_test, y_train, y_test = train_test_split(df, df['label'], test_size=0.2, random_state=42, stratify=df['label'])"
   ]
  },
  {
   "cell_type": "code",
   "execution_count": 13,
   "id": "c3e20719",
   "metadata": {
    "execution": {
     "iopub.execute_input": "2025-05-06T13:30:54.541367Z",
     "iopub.status.busy": "2025-05-06T13:30:54.540818Z",
     "iopub.status.idle": "2025-05-06T13:30:54.549763Z",
     "shell.execute_reply": "2025-05-06T13:30:54.548774Z"
    },
    "papermill": {
     "duration": 0.016947,
     "end_time": "2025-05-06T13:30:54.551126",
     "exception": false,
     "start_time": "2025-05-06T13:30:54.534179",
     "status": "completed"
    },
    "tags": []
   },
   "outputs": [
    {
     "name": "stdout",
     "output_type": "stream",
     "text": [
      "Jumlah Real Review Train (0): 16172\n",
      "Jumlah Fake Review Train (1): 16173\n",
      "Jumlah Real Review Test (0): 4044\n",
      "Jumlah Fake Review Test (1): 4043\n"
     ]
    }
   ],
   "source": [
    "train_label_counts = y_train.value_counts()\n",
    "test_label_counts = y_test.value_counts()\n",
    "\n",
    "print(\"Jumlah Real Review Train (0):\", train_label_counts[0])\n",
    "print(\"Jumlah Fake Review Train (1):\", train_label_counts[1])\n",
    "print(\"Jumlah Real Review Test (0):\", test_label_counts[0])\n",
    "print(\"Jumlah Fake Review Test (1):\", test_label_counts[1])"
   ]
  },
  {
   "cell_type": "code",
   "execution_count": 14,
   "id": "14f83e72",
   "metadata": {
    "execution": {
     "iopub.execute_input": "2025-05-06T13:30:54.564589Z",
     "iopub.status.busy": "2025-05-06T13:30:54.564235Z",
     "iopub.status.idle": "2025-05-06T13:30:54.995896Z",
     "shell.execute_reply": "2025-05-06T13:30:54.994980Z"
    },
    "papermill": {
     "duration": 0.440226,
     "end_time": "2025-05-06T13:30:54.997261",
     "exception": false,
     "start_time": "2025-05-06T13:30:54.557035",
     "status": "completed"
    },
    "tags": []
   },
   "outputs": [
    {
     "data": {
      "image/png": "[encoded data removed]",
      "text/plain": [
       "<Figure size 1200x500 with 2 Axes>"
      ]
     },
     "metadata": {},
     "output_type": "display_data"
    }
   ],
   "source": [
    "train_counts = Counter(y_train)\n",
    "test_counts = Counter(y_test)\n",
    "\n",
    "fig, axes = plt.subplots(1, 2, figsize=(12, 5))\n",
    "\n",
    "axes[0].bar(train_counts.keys(), train_counts.values(), color=['blue', 'orange'])\n",
    "axes[0].set_title('Distribusi Data Train')\n",
    "axes[0].set_xticks([0, 1])\n",
    "axes[0].set_xticklabels(['0', '1'])\n",
    "axes[0].set_xlabel('Kelas')\n",
    "axes[0].set_ylabel('Jumlah Data')\n",
    "axes[0].grid(axis='y', linestyle='--', alpha=0.7)\n",
    "\n",
    "axes[1].bar(test_counts.keys(), test_counts.values(), color=['blue', 'orange'])\n",
    "axes[1].set_title('Distribusi Data Test')\n",
    "axes[1].set_xticks([0, 1])\n",
    "axes[1].set_xticklabels(['0', '1'])\n",
    "axes[1].set_xlabel('Kelas')\n",
    "axes[1].set_ylabel('Jumlah Data')\n",
    "axes[1].grid(axis='y', linestyle='--', alpha=0.7)\n",
    "\n",
    "plt.tight_layout()\n",
    "plt.show()"
   ]
  },
  {
   "cell_type": "markdown",
   "id": "5d103d29",
   "metadata": {
    "papermill": {
     "duration": 0.006536,
     "end_time": "2025-05-06T13:30:55.011608",
     "exception": false,
     "start_time": "2025-05-06T13:30:55.005072",
     "status": "completed"
    },
    "tags": []
   },
   "source": [
    "## TF-IDF"
   ]
  },
  {
   "cell_type": "code",
   "execution_count": 15,
   "id": "3fd2f005",
   "metadata": {
    "execution": {
     "iopub.execute_input": "2025-05-06T13:30:55.025989Z",
     "iopub.status.busy": "2025-05-06T13:30:55.025684Z",
     "iopub.status.idle": "2025-05-06T13:30:59.685963Z",
     "shell.execute_reply": "2025-05-06T13:30:59.684988Z"
    },
    "papermill": {
     "duration": 4.669586,
     "end_time": "2025-05-06T13:30:59.687656",
     "exception": false,
     "start_time": "2025-05-06T13:30:55.018070",
     "status": "completed"
    },
    "tags": []
   },
   "outputs": [],
   "source": [
    "vectorizer = TfidfVectorizer(ngram_range=(1,2), min_df=30, max_df=0.90, strip_accents='unicode', sublinear_tf=True)\n",
    "X_train_tfidf = vectorizer.fit_transform(X_train['cleaned_text'])\n",
    "X_test_tfidf = vectorizer.transform(X_test['cleaned_text'])"
   ]
  },
  {
   "cell_type": "code",
   "execution_count": 16,
   "id": "7aeea6c6",
   "metadata": {
    "execution": {
     "iopub.execute_input": "2025-05-06T13:30:59.702110Z",
     "iopub.status.busy": "2025-05-06T13:30:59.701820Z",
     "iopub.status.idle": "2025-05-06T13:30:59.706520Z",
     "shell.execute_reply": "2025-05-06T13:30:59.705646Z"
    },
    "papermill": {
     "duration": 0.013531,
     "end_time": "2025-05-06T13:30:59.707969",
     "exception": false,
     "start_time": "2025-05-06T13:30:59.694438",
     "status": "completed"
    },
    "tags": []
   },
   "outputs": [
    {
     "name": "stdout",
     "output_type": "stream",
     "text": [
      "Jumlah fitur yang diekstrak: 10256\n"
     ]
    }
   ],
   "source": [
    "print(\"Jumlah fitur yang diekstrak:\", len(vectorizer.vocabulary_))"
   ]
  },
  {
   "cell_type": "markdown",
   "id": "b36df2e3",
   "metadata": {
    "papermill": {
     "duration": 0.006214,
     "end_time": "2025-05-06T13:30:59.720726",
     "exception": false,
     "start_time": "2025-05-06T13:30:59.714512",
     "status": "completed"
    },
    "tags": []
   },
   "source": [
    "## XGBoost"
   ]
  },
  {
   "cell_type": "code",
   "execution_count": 17,
   "id": "a45624a3",
   "metadata": {
    "execution": {
     "iopub.execute_input": "2025-05-06T13:30:59.735122Z",
     "iopub.status.busy": "2025-05-06T13:30:59.734357Z",
     "iopub.status.idle": "2025-05-06T13:30:59.740351Z",
     "shell.execute_reply": "2025-05-06T13:30:59.739569Z"
    },
    "papermill": {
     "duration": 0.014667,
     "end_time": "2025-05-06T13:30:59.741781",
     "exception": false,
     "start_time": "2025-05-06T13:30:59.727114",
     "status": "completed"
    },
    "tags": []
   },
   "outputs": [],
   "source": [
    "def objective(trial):\n",
    "    params = {\n",
    "        \"max_depth\": trial.suggest_int(\"max_depth\", 3, 10),\n",
    "        \"learning_rate\": trial.suggest_float(\"learning_rate\", 1e-2, 0.3, log=True),\n",
    "        \"n_estimators\": trial.suggest_int(\"n_estimators\", 50, 500),\n",
    "        \"subsample\": trial.suggest_float(\"subsample\", 0.5, 1.0),\n",
    "        \"colsample_bytree\": trial.suggest_float(\"colsample_bytree\", 0.5, 1.0),\n",
    "        \"gamma\": trial.suggest_float(\"gamma\", 0, 5),\n",
    "        \"min_child_weight\": trial.suggest_int(\"min_child_weight\", 1, 10),\n",
    "    }\n",
    "\n",
    "    xgb_model = XGBClassifier(random_state=42, use_label_encoder=False, eval_metric='logloss', **params)\n",
    "    xgb_model.fit(X_train_tfidf, y_train)\n",
    "    y_pred = xgb_model.predict(X_test_tfidf)\n",
    "    accuracy = accuracy_score(y_test, y_pred)\n",
    "    return accuracy"
   ]
  },
  {
   "cell_type": "code",
   "execution_count": 18,
   "id": "1501e126",
   "metadata": {
    "execution": {
     "iopub.execute_input": "2025-05-06T13:30:59.756591Z",
     "iopub.status.busy": "2025-05-06T13:30:59.755682Z",
     "iopub.status.idle": "2025-05-06T14:40:58.050700Z",
     "shell.execute_reply": "2025-05-06T14:40:58.049165Z"
    },
    "papermill": {
     "duration": 4198.31369,
     "end_time": "2025-05-06T14:40:58.062001",
     "exception": false,
     "start_time": "2025-05-06T13:30:59.748311",
     "status": "completed"
    },
    "tags": []
   },
   "outputs": [
    {
     "name": "stderr",
     "output_type": "stream",
     "text": [
      "[I 2025-05-06 13:30:59,759] A new study created in memory with name: no-name-ba431c3c-b917-4499-bdfe-8b38e8be788e\n",
      "[I 2025-05-06 13:31:39,395] Trial 2 finished with value: 0.7567701248918016 and parameters: {'max_depth': 4, 'learning_rate': 0.011539281727478652, 'n_estimators': 91, 'subsample': 0.5874032657993713, 'colsample_bytree': 0.60385419637687, 'gamma': 1.8700893719952623, 'min_child_weight': 10}. Best is trial 2 with value: 0.7567701248918016.\n",
      "[I 2025-05-06 13:33:25,634] Trial 0 finished with value: 0.9028069741560529 and parameters: {'max_depth': 6, 'learning_rate': 0.3, 'n_estimators': 100, 'subsample': 1.0, 'colsample_bytree': 1.0, 'gamma': 0.0, 'min_child_weight': 1}. Best is trial 0 with value: 0.9028069741560529.\n",
      "[I 2025-05-06 13:34:40,005] Trial 5 finished with value: 0.9005811796710771 and parameters: {'max_depth': 4, 'learning_rate': 0.21239028948690794, 'n_estimators': 190, 'subsample': 0.7828733478779486, 'colsample_bytree': 0.6055215015432142, 'gamma': 4.443324385326676, 'min_child_weight': 4}. Best is trial 0 with value: 0.9028069741560529.\n",
      "[I 2025-05-06 13:36:37,815] Trial 6 finished with value: 0.9181402250525534 and parameters: {'max_depth': 4, 'learning_rate': 0.20714263914811726, 'n_estimators': 390, 'subsample': 0.7273006697794029, 'colsample_bytree': 0.7364252374445954, 'gamma': 0.22681658299232743, 'min_child_weight': 9}. Best is trial 6 with value: 0.9181402250525534.\n",
      "[I 2025-05-06 13:37:09,329] Trial 4 finished with value: 0.9187585012983801 and parameters: {'max_depth': 7, 'learning_rate': 0.09406964790865009, 'n_estimators': 462, 'subsample': 0.9399410180483407, 'colsample_bytree': 0.9328324934422569, 'gamma': 3.774860630239056, 'min_child_weight': 9}. Best is trial 4 with value: 0.9187585012983801.\n",
      "[I 2025-05-06 13:37:52,657] Trial 8 finished with value: 0.7986892543588475 and parameters: {'max_depth': 6, 'learning_rate': 0.03747355582401692, 'n_estimators': 50, 'subsample': 0.6700110554080476, 'colsample_bytree': 0.6036373137086297, 'gamma': 2.968444612130989, 'min_child_weight': 9}. Best is trial 4 with value: 0.9187585012983801.\n",
      "[I 2025-05-06 13:38:43,556] Trial 7 finished with value: 0.9054037343885248 and parameters: {'max_depth': 3, 'learning_rate': 0.18227625966893224, 'n_estimators': 343, 'subsample': 0.7772159886748944, 'colsample_bytree': 0.7223198724760724, 'gamma': 4.561632350756841, 'min_child_weight': 1}. Best is trial 4 with value: 0.9187585012983801.\n",
      "[I 2025-05-06 13:39:07,849] Trial 9 finished with value: 0.7596141956226041 and parameters: {'max_depth': 3, 'learning_rate': 0.010899076152307235, 'n_estimators': 166, 'subsample': 0.731665145633691, 'colsample_bytree': 0.8545640332465795, 'gamma': 2.6683786007585524, 'min_child_weight': 4}. Best is trial 4 with value: 0.9187585012983801.\n",
      "[I 2025-05-06 13:42:25,158] Trial 1 finished with value: 0.8739953011005317 and parameters: {'max_depth': 9, 'learning_rate': 0.01366997560636571, 'n_estimators': 423, 'subsample': 0.6356759437936548, 'colsample_bytree': 0.6678878215592224, 'gamma': 3.2174937891937807, 'min_child_weight': 4}. Best is trial 4 with value: 0.9187585012983801.\n",
      "[I 2025-05-06 13:43:19,710] Trial 11 finished with value: 0.8594039816990231 and parameters: {'max_depth': 8, 'learning_rate': 0.03974877486610302, 'n_estimators': 122, 'subsample': 0.6528812600978586, 'colsample_bytree': 0.6625461778732532, 'gamma': 4.737279873616839, 'min_child_weight': 1}. Best is trial 4 with value: 0.9187585012983801.\n",
      "[I 2025-05-06 13:44:02,519] Trial 12 finished with value: 0.8237912699394089 and parameters: {'max_depth': 4, 'learning_rate': 0.023666779164220247, 'n_estimators': 208, 'subsample': 0.6433850422369578, 'colsample_bytree': 0.7636137662646691, 'gamma': 0.17212412776002384, 'min_child_weight': 9}. Best is trial 4 with value: 0.9187585012983801.\n",
      "[I 2025-05-06 13:49:16,905] Trial 3 finished with value: 0.8633609496723136 and parameters: {'max_depth': 10, 'learning_rate': 0.01027349860241802, 'n_estimators': 403, 'subsample': 0.5015733978425314, 'colsample_bytree': 0.950145010273709, 'gamma': 0.7820798426992615, 'min_child_weight': 3}. Best is trial 4 with value: 0.9187585012983801.\n",
      "[I 2025-05-06 13:49:19,751] Trial 10 finished with value: 0.9293928527265982 and parameters: {'max_depth': 10, 'learning_rate': 0.1276314922374557, 'n_estimators': 403, 'subsample': 0.801401078747913, 'colsample_bytree': 0.9697408677189797, 'gamma': 1.3329082314916751, 'min_child_weight': 2}. Best is trial 10 with value: 0.9293928527265982.\n",
      "[I 2025-05-06 13:49:33,904] Trial 13 finished with value: 0.9108445653517991 and parameters: {'max_depth': 10, 'learning_rate': 0.07702380608271875, 'n_estimators': 281, 'subsample': 0.9622727951604271, 'colsample_bytree': 0.8685587252930089, 'gamma': 1.7832896120217054, 'min_child_weight': 7}. Best is trial 10 with value: 0.9293928527265982.\n",
      "[I 2025-05-06 13:49:51,276] Trial 14 finished with value: 0.9198713985408681 and parameters: {'max_depth': 7, 'learning_rate': 0.09613731534000582, 'n_estimators': 497, 'subsample': 0.9154143452917004, 'colsample_bytree': 0.8759644069387319, 'gamma': 1.5079521569812564, 'min_child_weight': 8}. Best is trial 10 with value: 0.9293928527265982.\n",
      "[I 2025-05-06 13:55:02,014] Trial 15 finished with value: 0.9191294670458761 and parameters: {'max_depth': 7, 'learning_rate': 0.08314068545142651, 'n_estimators': 475, 'subsample': 0.8836210439954264, 'colsample_bytree': 0.8372514225913614, 'gamma': 1.6005653024993736, 'min_child_weight': 7}. Best is trial 10 with value: 0.9293928527265982.\n",
      "[I 2025-05-06 13:55:56,941] Trial 16 finished with value: 0.9228391245208359 and parameters: {'max_depth': 8, 'learning_rate': 0.09660371533169712, 'n_estimators': 477, 'subsample': 0.906398154228368, 'colsample_bytree': 0.8867924148096752, 'gamma': 1.5076498506671665, 'min_child_weight': 7}. Best is trial 10 with value: 0.9293928527265982.\n",
      "[I 2025-05-06 13:55:58,868] Trial 18 finished with value: 0.9260541609991344 and parameters: {'max_depth': 8, 'learning_rate': 0.10945014482573995, 'n_estimators': 495, 'subsample': 0.8530001678134768, 'colsample_bytree': 0.8354240088094418, 'gamma': 1.4249618689267907, 'min_child_weight': 7}. Best is trial 10 with value: 0.9293928527265982.\n",
      "[I 2025-05-06 13:56:07,064] Trial 17 finished with value: 0.9198713985408681 and parameters: {'max_depth': 8, 'learning_rate': 0.07690931604316453, 'n_estimators': 499, 'subsample': 0.8819251357105219, 'colsample_bytree': 0.8905870402010272, 'gamma': 3.72891445598904, 'min_child_weight': 7}. Best is trial 10 with value: 0.9293928527265982.\n",
      "[I 2025-05-06 13:59:56,015] Trial 19 finished with value: 0.9207369852850253 and parameters: {'max_depth': 8, 'learning_rate': 0.1284826606779463, 'n_estimators': 330, 'subsample': 0.8393438206147191, 'colsample_bytree': 0.9085188814506799, 'gamma': 1.0976525836679478, 'min_child_weight': 7}. Best is trial 10 with value: 0.9293928527265982.\n",
      "[I 2025-05-06 14:01:23,774] Trial 21 finished with value: 0.9256831952516384 and parameters: {'max_depth': 9, 'learning_rate': 0.15262870950386281, 'n_estimators': 329, 'subsample': 0.8613283734566075, 'colsample_bytree': 0.7850857605762664, 'gamma': 0.6870293765476392, 'min_child_weight': 5}. Best is trial 10 with value: 0.9293928527265982.\n",
      "[I 2025-05-06 14:01:42,365] Trial 22 finished with value: 0.9264251267466304 and parameters: {'max_depth': 9, 'learning_rate': 0.14205262288378723, 'n_estimators': 341, 'subsample': 0.8188483030182138, 'colsample_bytree': 0.7991069748904703, 'gamma': 0.8572833238615836, 'min_child_weight': 5}. Best is trial 10 with value: 0.9293928527265982.\n",
      "[I 2025-05-06 14:01:56,399] Trial 20 finished with value: 0.9216025720291826 and parameters: {'max_depth': 9, 'learning_rate': 0.1357363390101304, 'n_estimators': 329, 'subsample': 0.8464299741789602, 'colsample_bytree': 0.9907898834865971, 'gamma': 0.9985854445757052, 'min_child_weight': 6}. Best is trial 10 with value: 0.9293928527265982.\n",
      "[I 2025-05-06 14:05:37,679] Trial 23 finished with value: 0.9050327686410288 and parameters: {'max_depth': 9, 'learning_rate': 0.05071565352919445, 'n_estimators': 344, 'subsample': 0.8387180417413965, 'colsample_bytree': 0.5176659949404541, 'gamma': 2.306209188189589, 'min_child_weight': 5}. Best is trial 10 with value: 0.9293928527265982.\n",
      "[I 2025-05-06 14:07:09,879] Trial 24 finished with value: 0.9256831952516384 and parameters: {'max_depth': 9, 'learning_rate': 0.1387060385490201, 'n_estimators': 350, 'subsample': 0.8211343464542065, 'colsample_bytree': 0.8118259112302002, 'gamma': 0.8975584836163457, 'min_child_weight': 5}. Best is trial 10 with value: 0.9293928527265982.\n",
      "[I 2025-05-06 14:07:30,792] Trial 26 finished with value: 0.9343390626932113 and parameters: {'max_depth': 10, 'learning_rate': 0.29765217803554417, 'n_estimators': 439, 'subsample': 0.8028006284535918, 'colsample_bytree': 0.8128304525790273, 'gamma': 2.137078713364892, 'min_child_weight': 2}. Best is trial 26 with value: 0.9343390626932113.\n",
      "[I 2025-05-06 14:11:33,125] Trial 27 finished with value: 0.9300111289724249 and parameters: {'max_depth': 10, 'learning_rate': 0.2916084864674628, 'n_estimators': 443, 'subsample': 0.7992754525070435, 'colsample_bytree': 0.8063290284637703, 'gamma': 2.208424658083368, 'min_child_weight': 2}. Best is trial 26 with value: 0.9343390626932113.\n",
      "[I 2025-05-06 14:12:06,338] Trial 25 finished with value: 0.9098553233584765 and parameters: {'max_depth': 9, 'learning_rate': 0.05062183745632792, 'n_estimators': 374, 'subsample': 0.8149942986490748, 'colsample_bytree': 0.8096195355186784, 'gamma': 2.2319077712759388, 'min_child_weight': 2}. Best is trial 26 with value: 0.9343390626932113.\n",
      "[I 2025-05-06 14:13:55,840] Trial 29 finished with value: 0.9306294052182515 and parameters: {'max_depth': 10, 'learning_rate': 0.23474062421858036, 'n_estimators': 428, 'subsample': 0.7940861667189906, 'colsample_bytree': 0.7064775589070588, 'gamma': 2.0721402164295695, 'min_child_weight': 2}. Best is trial 26 with value: 0.9343390626932113.\n",
      "[I 2025-05-06 14:17:06,539] Trial 31 finished with value: 0.9321132682082355 and parameters: {'max_depth': 10, 'learning_rate': 0.2951514892342425, 'n_estimators': 436, 'subsample': 0.7756520193253439, 'colsample_bytree': 0.691486628098796, 'gamma': 2.1701032087415384, 'min_child_weight': 2}. Best is trial 26 with value: 0.9343390626932113.\n",
      "[I 2025-05-06 14:17:41,194] Trial 30 finished with value: 0.9314949919624088 and parameters: {'max_depth': 10, 'learning_rate': 0.29827281373968084, 'n_estimators': 444, 'subsample': 0.701923584472036, 'colsample_bytree': 0.9394308507122335, 'gamma': 2.1568294869740448, 'min_child_weight': 2}. Best is trial 26 with value: 0.9343390626932113.\n",
      "[I 2025-05-06 14:18:39,833] Trial 28 finished with value: 0.9199950537900334 and parameters: {'max_depth': 10, 'learning_rate': 0.06084511898943331, 'n_estimators': 438, 'subsample': 0.7998333248070197, 'colsample_bytree': 0.8030222726979291, 'gamma': 2.199345816649942, 'min_child_weight': 2}. Best is trial 26 with value: 0.9343390626932113.\n",
      "[I 2025-05-06 14:19:38,197] Trial 32 finished with value: 0.9302584394707555 and parameters: {'max_depth': 10, 'learning_rate': 0.24560728705684545, 'n_estimators': 433, 'subsample': 0.7041529629053263, 'colsample_bytree': 0.6911601409269665, 'gamma': 2.1081488283300125, 'min_child_weight': 2}. Best is trial 26 with value: 0.9343390626932113.\n",
      "[I 2025-05-06 14:20:57,148] Trial 33 finished with value: 0.9276616792382837 and parameters: {'max_depth': 10, 'learning_rate': 0.28599200016454474, 'n_estimators': 286, 'subsample': 0.7443041644789073, 'colsample_bytree': 0.6910075188016064, 'gamma': 2.7539217919982883, 'min_child_weight': 3}. Best is trial 26 with value: 0.9343390626932113.\n",
      "[I 2025-05-06 14:21:54,778] Trial 34 finished with value: 0.9265487819957957 and parameters: {'max_depth': 10, 'learning_rate': 0.29662736937440165, 'n_estimators': 439, 'subsample': 0.6950508146095685, 'colsample_bytree': 0.6981535298029463, 'gamma': 2.725441450415676, 'min_child_weight': 3}. Best is trial 26 with value: 0.9343390626932113.\n",
      "[I 2025-05-06 14:23:03,486] Trial 35 finished with value: 0.9286509212316063 and parameters: {'max_depth': 10, 'learning_rate': 0.28356912696474057, 'n_estimators': 431, 'subsample': 0.704815134528551, 'colsample_bytree': 0.7006994890336624, 'gamma': 2.8070253006056944, 'min_child_weight': 3}. Best is trial 26 with value: 0.9343390626932113.\n",
      "[I 2025-05-06 14:23:24,881] Trial 36 finished with value: 0.9290218869791023 and parameters: {'max_depth': 10, 'learning_rate': 0.29771633609382553, 'n_estimators': 297, 'subsample': 0.7590866528632, 'colsample_bytree': 0.6421517586655998, 'gamma': 2.6611534096960856, 'min_child_weight': 3}. Best is trial 26 with value: 0.9343390626932113.\n",
      "[I 2025-05-06 14:26:01,597] Trial 37 finished with value: 0.927043402992457 and parameters: {'max_depth': 10, 'learning_rate': 0.24516674527752874, 'n_estimators': 419, 'subsample': 0.6960707494085909, 'colsample_bytree': 0.623060526002968, 'gamma': 1.8873820459067294, 'min_child_weight': 3}. Best is trial 26 with value: 0.9343390626932113.\n",
      "[I 2025-05-06 14:28:06,408] Trial 38 finished with value: 0.9302584394707555 and parameters: {'max_depth': 9, 'learning_rate': 0.18022860446450242, 'n_estimators': 406, 'subsample': 0.7549880800039135, 'colsample_bytree': 0.6412895980998048, 'gamma': 3.259042800711986, 'min_child_weight': 1}. Best is trial 26 with value: 0.9343390626932113.\n",
      "[I 2025-05-06 14:29:01,177] Trial 39 finished with value: 0.928156300234945 and parameters: {'max_depth': 9, 'learning_rate': 0.18087564831648892, 'n_estimators': 376, 'subsample': 0.587925935095743, 'colsample_bytree': 0.6357466780866162, 'gamma': 1.877297262825045, 'min_child_weight': 1}. Best is trial 26 with value: 0.9343390626932113.\n",
      "[I 2025-05-06 14:29:33,407] Trial 40 finished with value: 0.9280326449857796 and parameters: {'max_depth': 9, 'learning_rate': 0.18220917824345334, 'n_estimators': 403, 'subsample': 0.5132442694297407, 'colsample_bytree': 0.7582617618648746, 'gamma': 3.3077973161727394, 'min_child_weight': 1}. Best is trial 26 with value: 0.9343390626932113.\n",
      "[I 2025-05-06 14:29:40,217] Trial 41 finished with value: 0.9193767775442068 and parameters: {'max_depth': 5, 'learning_rate': 0.17942564666411914, 'n_estimators': 380, 'subsample': 0.5991645268718456, 'colsample_bytree': 0.7491546229861604, 'gamma': 3.294273644113872, 'min_child_weight': 1}. Best is trial 26 with value: 0.9343390626932113.\n",
      "[I 2025-05-06 14:31:42,435] Trial 43 finished with value: 0.9260541609991344 and parameters: {'max_depth': 5, 'learning_rate': 0.22225848968868456, 'n_estimators': 460, 'subsample': 0.7666823043750004, 'colsample_bytree': 0.5675099274739612, 'gamma': 3.2807646447411507, 'min_child_weight': 4}. Best is trial 26 with value: 0.9343390626932113.\n",
      "[I 2025-05-06 14:31:54,831] Trial 42 finished with value: 0.9208606405341907 and parameters: {'max_depth': 5, 'learning_rate': 0.2007300903783165, 'n_estimators': 371, 'subsample': 0.5994854962597708, 'colsample_bytree': 0.7483511787414495, 'gamma': 1.8668953816030907, 'min_child_weight': 1}. Best is trial 26 with value: 0.9343390626932113.\n",
      "[I 2025-05-06 14:35:19,491] Trial 45 finished with value: 0.9297638184740942 and parameters: {'max_depth': 10, 'learning_rate': 0.2280848842306398, 'n_estimators': 464, 'subsample': 0.771542743140157, 'colsample_bytree': 0.672793663966782, 'gamma': 2.3872689604569293, 'min_child_weight': 2}. Best is trial 26 with value: 0.9343390626932113.\n",
      "[I 2025-05-06 14:36:00,317] Trial 44 finished with value: 0.9307530604674168 and parameters: {'max_depth': 10, 'learning_rate': 0.2294679756402771, 'n_estimators': 456, 'subsample': 0.6095605922412594, 'colsample_bytree': 0.7369297435432923, 'gamma': 2.0238146775160963, 'min_child_weight': 2}. Best is trial 26 with value: 0.9343390626932113.\n",
      "[I 2025-05-06 14:37:33,775] Trial 46 finished with value: 0.9307530604674168 and parameters: {'max_depth': 10, 'learning_rate': 0.2319079836088343, 'n_estimators': 461, 'subsample': 0.7144236570217903, 'colsample_bytree': 0.7210945838862267, 'gamma': 2.503206510231324, 'min_child_weight': 2}. Best is trial 26 with value: 0.9343390626932113.\n",
      "[I 2025-05-06 14:37:35,181] Trial 47 finished with value: 0.9307530604674168 and parameters: {'max_depth': 10, 'learning_rate': 0.24347069160023918, 'n_estimators': 462, 'subsample': 0.7139591725935789, 'colsample_bytree': 0.6729082782800884, 'gamma': 2.3340770921799825, 'min_child_weight': 2}. Best is trial 26 with value: 0.9343390626932113.\n",
      "[I 2025-05-06 14:40:23,327] Trial 48 finished with value: 0.9324842339557314 and parameters: {'max_depth': 10, 'learning_rate': 0.2488490003136953, 'n_estimators': 455, 'subsample': 0.7152884351672743, 'colsample_bytree': 0.9477396457262922, 'gamma': 2.0966270089977104, 'min_child_weight': 2}. Best is trial 26 with value: 0.9343390626932113.\n",
      "[I 2025-05-06 14:40:58,044] Trial 49 finished with value: 0.8560652899715593 and parameters: {'max_depth': 10, 'learning_rate': 0.015159624418690917, 'n_estimators': 237, 'subsample': 0.6658514613259265, 'colsample_bytree': 0.7233829594507196, 'gamma': 2.9783666933579864, 'min_child_weight': 4}. Best is trial 26 with value: 0.9343390626932113.\n"
     ]
    }
   ],
   "source": [
    "# Hyperparameter Tuning\n",
    "study = optuna.create_study(direction='maximize', sampler=optuna.samplers.TPESampler(seed=42))\n",
    "study.enqueue_trial({\n",
    "    \"max_depth\": 6,\n",
    "    \"learning_rate\": 0.3,\n",
    "    \"n_estimators\": 100,\n",
    "    \"subsample\": 1.0,\n",
    "    \"colsample_bytree\": 1.0,\n",
    "    \"gamma\": 0,\n",
    "    \"min_child_weight\": 1\n",
    "})\n",
    "study.optimize(objective, n_trials=50, n_jobs=4)"
   ]
  },
  {
   "cell_type": "code",
   "execution_count": 19,
   "id": "253cf9e3",
   "metadata": {
    "execution": {
     "iopub.execute_input": "2025-05-06T14:40:58.085183Z",
     "iopub.status.busy": "2025-05-06T14:40:58.084815Z",
     "iopub.status.idle": "2025-05-06T14:40:58.092180Z",
     "shell.execute_reply": "2025-05-06T14:40:58.090993Z"
    },
    "papermill": {
     "duration": 0.021305,
     "end_time": "2025-05-06T14:40:58.093649",
     "exception": false,
     "start_time": "2025-05-06T14:40:58.072344",
     "status": "completed"
    },
    "tags": []
   },
   "outputs": [
    {
     "name": "stdout",
     "output_type": "stream",
     "text": [
      "Best parameters: {'max_depth': 10, 'learning_rate': 0.29765217803554417, 'n_estimators': 439, 'subsample': 0.8028006284535918, 'colsample_bytree': 0.8128304525790273, 'gamma': 2.137078713364892, 'min_child_weight': 2}\n",
      "Best accuracy: 0.9343390626932113\n"
     ]
    }
   ],
   "source": [
    "print(\"Best parameters:\", study.best_params)\n",
    "print(\"Best accuracy:\", study.best_value)"
   ]
  },
  {
   "cell_type": "code",
   "execution_count": 20,
   "id": "d5a2c271",
   "metadata": {
    "execution": {
     "iopub.execute_input": "2025-05-06T14:40:58.114355Z",
     "iopub.status.busy": "2025-05-06T14:40:58.114026Z",
     "iopub.status.idle": "2025-05-06T14:42:58.176806Z",
     "shell.execute_reply": "2025-05-06T14:42:58.175771Z"
    },
    "papermill": {
     "duration": 120.08436,
     "end_time": "2025-05-06T14:42:58.187907",
     "exception": false,
     "start_time": "2025-05-06T14:40:58.103547",
     "status": "completed"
    },
    "tags": []
   },
   "outputs": [
    {
     "name": "stdout",
     "output_type": "stream",
     "text": [
      "Training Time: 120.06 s\n"
     ]
    }
   ],
   "source": [
    "# Re-training\n",
    "best_params = study.best_params\n",
    "xgb_model = XGBClassifier(**best_params, random_state=42)\n",
    "start = time.time()\n",
    "xgb_model.fit(X_train_tfidf, y_train)\n",
    "print(f\"Training Time: {time.time() - start:.2f} s\")"
   ]
  },
  {
   "cell_type": "code",
   "execution_count": 21,
   "id": "e957c176",
   "metadata": {
    "execution": {
     "iopub.execute_input": "2025-05-06T14:42:58.208543Z",
     "iopub.status.busy": "2025-05-06T14:42:58.208174Z",
     "iopub.status.idle": "2025-05-06T14:42:58.328503Z",
     "shell.execute_reply": "2025-05-06T14:42:58.327536Z"
    },
    "papermill": {
     "duration": 0.132428,
     "end_time": "2025-05-06T14:42:58.329990",
     "exception": false,
     "start_time": "2025-05-06T14:42:58.197562",
     "status": "completed"
    },
    "tags": []
   },
   "outputs": [
    {
     "name": "stdout",
     "output_type": "stream",
     "text": [
      "Akurasi: 0.9343\n",
      "Presisi (Fake Review): 0.9419\n",
      "Recall (Fake Review): 0.9258\n",
      "F1-Score (Fake Review): 0.9338\n"
     ]
    }
   ],
   "source": [
    "# Evaluation\n",
    "xgb_y_pred = xgb_model.predict(X_test_tfidf)\n",
    "\n",
    "accuracy = accuracy_score(y_test, xgb_y_pred)\n",
    "print(f'Akurasi: {accuracy:.4f}')\n",
    "\n",
    "precision_cg = precision_score(y_test, xgb_y_pred)\n",
    "print(f'Presisi (Fake Review): {precision_cg:.4f}')\n",
    "\n",
    "recall_cg = recall_score(y_test, xgb_y_pred)\n",
    "print(f'Recall (Fake Review): {recall_cg:.4f}')\n",
    "\n",
    "f1_cg = f1_score(y_test, xgb_y_pred)\n",
    "print(f'F1-Score (Fake Review): {f1_cg:.4f}')"
   ]
  },
  {
   "cell_type": "code",
   "execution_count": 22,
   "id": "1ea58e9d",
   "metadata": {
    "execution": {
     "iopub.execute_input": "2025-05-06T14:42:58.350906Z",
     "iopub.status.busy": "2025-05-06T14:42:58.350505Z",
     "iopub.status.idle": "2025-05-06T14:42:58.604153Z",
     "shell.execute_reply": "2025-05-06T14:42:58.603363Z"
    },
    "papermill": {
     "duration": 0.266412,
     "end_time": "2025-05-06T14:42:58.606236",
     "exception": false,
     "start_time": "2025-05-06T14:42:58.339824",
     "status": "completed"
    },
    "tags": []
   },
   "outputs": [
    {
     "data": {
      "image/png": "[encoded data removed]",
      "text/plain": [
       "<Figure size 600x600 with 2 Axes>"
      ]
     },
     "metadata": {},
     "output_type": "display_data"
    }
   ],
   "source": [
    "conf_matrix = confusion_matrix(y_test, xgb_y_pred)\n",
    "plt.figure(figsize=(6, 6))\n",
    "sns.heatmap(conf_matrix, annot=True, fmt='d', cmap='Blues', xticklabels=['Real Review', 'Fake Review'], yticklabels=['Real Review', 'Fake Review'])\n",
    "plt.title('Confusion Matrix')\n",
    "plt.ylabel('Actual Label')\n",
    "plt.xlabel('Predicted Label')\n",
    "plt.show()"
   ]
  },
  {
   "cell_type": "code",
   "execution_count": 23,
   "id": "1ad4ac72",
   "metadata": {
    "execution": {
     "iopub.execute_input": "2025-05-06T14:42:58.628209Z",
     "iopub.status.busy": "2025-05-06T14:42:58.627318Z",
     "iopub.status.idle": "2025-05-06T14:42:58.651793Z",
     "shell.execute_reply": "2025-05-06T14:42:58.650745Z"
    },
    "papermill": {
     "duration": 0.036717,
     "end_time": "2025-05-06T14:42:58.653279",
     "exception": false,
     "start_time": "2025-05-06T14:42:58.616562",
     "status": "completed"
    },
    "tags": []
   },
   "outputs": [
    {
     "name": "stdout",
     "output_type": "stream",
     "text": [
      "Classification Report:\n",
      "              precision    recall  f1-score   support\n",
      "\n",
      " Real Review       0.93      0.94      0.93      4044\n",
      " Fake Review       0.94      0.93      0.93      4043\n",
      "\n",
      "    accuracy                           0.93      8087\n",
      "   macro avg       0.93      0.93      0.93      8087\n",
      "weighted avg       0.93      0.93      0.93      8087\n",
      "\n"
     ]
    }
   ],
   "source": [
    "print(\"Classification Report:\")\n",
    "print(classification_report(y_test, xgb_y_pred, target_names=['Real Review', 'Fake Review']))"
   ]
  },
  {
   "cell_type": "markdown",
   "id": "655ce9af",
   "metadata": {
    "papermill": {
     "duration": 0.009901,
     "end_time": "2025-05-06T14:42:58.673560",
     "exception": false,
     "start_time": "2025-05-06T14:42:58.663659",
     "status": "completed"
    },
    "tags": []
   },
   "source": [
    "## Save Model"
   ]
  },
  {
   "cell_type": "code",
   "execution_count": 24,
   "id": "2bd9d7a3",
   "metadata": {
    "execution": {
     "iopub.execute_input": "2025-05-06T14:42:58.695047Z",
     "iopub.status.busy": "2025-05-06T14:42:58.694741Z",
     "iopub.status.idle": "2025-05-06T14:42:58.725031Z",
     "shell.execute_reply": "2025-05-06T14:42:58.724242Z"
    },
    "papermill": {
     "duration": 0.043018,
     "end_time": "2025-05-06T14:42:58.726725",
     "exception": false,
     "start_time": "2025-05-06T14:42:58.683707",
     "status": "completed"
    },
    "tags": []
   },
   "outputs": [],
   "source": [
    "xgb_model.save_model('/kaggle/working/xgb.json')"
   ]
  }
 ],
 "metadata": {
  "kaggle": {
   "accelerator": "none",
   "dataSources": [
    {
     "datasetId": 7266239,
     "sourceId": 11588322,
     "sourceType": "datasetVersion"
    }
   ],
   "dockerImageVersionId": 31012,
   "isGpuEnabled": false,
   "isInternetEnabled": true,
   "language": "python",
   "sourceType": "notebook"
  },
  "kernelspec": {
   "display_name": "Python 3",
   "language": "python",
   "name": "python3"
  },
  "language_info": {
   "codemirror_mode": {
    "name": "ipython",
    "version": 3
   },
   "file_extension": ".py",
   "mimetype": "text/x-python",
   "name": "python",
   "nbconvert_exporter": "python",
   "pygments_lexer": "ipython3",
   "version": "3.11.11"
  },
  "papermill": {
   "default_parameters": {},
   "duration": 4350.022097,
   "end_time": "2025-05-06T14:43:00.579320",
   "environment_variables": {},
   "exception": null,
   "input_path": "__notebook__.ipynb",
   "output_path": "__notebook__.ipynb",
   "parameters": {},
   "start_time": "2025-05-06T13:30:30.557223",
   "version": "2.6.0"
  }
 },
 "nbformat": 4,
 "nbformat_minor": 5
}
