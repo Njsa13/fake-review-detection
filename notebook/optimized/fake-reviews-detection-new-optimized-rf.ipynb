{
 "cells": [
  {
   "cell_type": "markdown",
   "id": "615c16b5",
   "metadata": {
    "papermill": {
     "duration": 0.005818,
     "end_time": "2025-05-05T14:54:33.111431",
     "exception": false,
     "start_time": "2025-05-05T14:54:33.105613",
     "status": "completed"
    },
    "tags": []
   },
   "source": [
    "## Import Library"
   ]
  },
  {
   "cell_type": "code",
   "execution_count": 1,
   "id": "fd5b57a3",
   "metadata": {
    "execution": {
     "iopub.execute_input": "2025-05-05T14:54:33.123274Z",
     "iopub.status.busy": "2025-05-05T14:54:33.122910Z",
     "iopub.status.idle": "2025-05-05T14:54:39.202622Z",
     "shell.execute_reply": "2025-05-05T14:54:39.200889Z"
    },
    "papermill": {
     "duration": 6.088022,
     "end_time": "2025-05-05T14:54:39.204706",
     "exception": false,
     "start_time": "2025-05-05T14:54:33.116684",
     "status": "completed"
    },
    "tags": []
   },
   "outputs": [
    {
     "name": "stdout",
     "output_type": "stream",
     "text": [
      "Requirement already satisfied: optuna in /usr/local/lib/python3.11/dist-packages (4.2.1)\r\n",
      "Requirement already satisfied: alembic>=1.5.0 in /usr/local/lib/python3.11/dist-packages (from optuna) (1.15.2)\r\n",
      "Requirement already satisfied: colorlog in /usr/local/lib/python3.11/dist-packages (from optuna) (6.9.0)\r\n",
      "Requirement already satisfied: numpy in /usr/local/lib/python3.11/dist-packages (from optuna) (1.26.4)\r\n",
      "Requirement already satisfied: packaging>=20.0 in /usr/local/lib/python3.11/dist-packages (from optuna) (24.2)\r\n",
      "Requirement already satisfied: sqlalchemy>=1.4.2 in /usr/local/lib/python3.11/dist-packages (from optuna) (2.0.38)\r\n",
      "Requirement already satisfied: tqdm in /usr/local/lib/python3.11/dist-packages (from optuna) (4.67.1)\r\n",
      "Requirement already satisfied: PyYAML in /usr/local/lib/python3.11/dist-packages (from optuna) (6.0.2)\r\n",
      "Requirement already satisfied: Mako in /usr/local/lib/python3.11/dist-packages (from alembic>=1.5.0->optuna) (1.3.9)\r\n",
      "Requirement already satisfied: typing-extensions>=4.12 in /usr/local/lib/python3.11/dist-packages (from alembic>=1.5.0->optuna) (4.13.1)\r\n",
      "Requirement already satisfied: greenlet!=0.4.17 in /usr/local/lib/python3.11/dist-packages (from sqlalchemy>=1.4.2->optuna) (3.1.1)\r\n",
      "Requirement already satisfied: mkl_fft in /usr/local/lib/python3.11/dist-packages (from numpy->optuna) (1.3.8)\r\n",
      "Requirement already satisfied: mkl_random in /usr/local/lib/python3.11/dist-packages (from numpy->optuna) (1.2.4)\r\n",
      "Requirement already satisfied: mkl_umath in /usr/local/lib/python3.11/dist-packages (from numpy->optuna) (0.1.1)\r\n",
      "Requirement already satisfied: mkl in /usr/local/lib/python3.11/dist-packages (from numpy->optuna) (2025.1.0)\r\n",
      "Requirement already satisfied: tbb4py in /usr/local/lib/python3.11/dist-packages (from numpy->optuna) (2022.1.0)\r\n",
      "Requirement already satisfied: mkl-service in /usr/local/lib/python3.11/dist-packages (from numpy->optuna) (2.4.1)\r\n",
      "Requirement already satisfied: MarkupSafe>=0.9.2 in /usr/local/lib/python3.11/dist-packages (from Mako->alembic>=1.5.0->optuna) (3.0.2)\r\n",
      "Requirement already satisfied: intel-openmp<2026,>=2024 in /usr/local/lib/python3.11/dist-packages (from mkl->numpy->optuna) (2024.2.0)\r\n",
      "Requirement already satisfied: tbb==2022.* in /usr/local/lib/python3.11/dist-packages (from mkl->numpy->optuna) (2022.1.0)\r\n",
      "Requirement already satisfied: tcmlib==1.* in /usr/local/lib/python3.11/dist-packages (from tbb==2022.*->mkl->numpy->optuna) (1.2.0)\r\n",
      "Requirement already satisfied: intel-cmplr-lib-rt in /usr/local/lib/python3.11/dist-packages (from mkl_umath->numpy->optuna) (2024.2.0)\r\n",
      "Requirement already satisfied: intel-cmplr-lib-ur==2024.2.0 in /usr/local/lib/python3.11/dist-packages (from intel-openmp<2026,>=2024->mkl->numpy->optuna) (2024.2.0)\r\n"
     ]
    }
   ],
   "source": [
    "!pip install optuna"
   ]
  },
  {
   "cell_type": "code",
   "execution_count": 2,
   "id": "d284656c",
   "metadata": {
    "execution": {
     "iopub.execute_input": "2025-05-05T14:54:39.229790Z",
     "iopub.status.busy": "2025-05-05T14:54:39.229418Z",
     "iopub.status.idle": "2025-05-05T14:54:46.586485Z",
     "shell.execute_reply": "2025-05-05T14:54:46.584444Z"
    },
    "papermill": {
     "duration": 7.379706,
     "end_time": "2025-05-05T14:54:46.589885",
     "exception": false,
     "start_time": "2025-05-05T14:54:39.210179",
     "status": "completed"
    },
    "tags": []
   },
   "outputs": [
    {
     "name": "stdout",
     "output_type": "stream",
     "text": [
      "Collecting timeout-decorator\r\n",
      "  Downloading timeout-decorator-0.5.0.tar.gz (4.8 kB)\r\n",
      "  Preparing metadata (setup.py) ... \u001b[?25l\u001b[?25hdone\r\n",
      "Building wheels for collected packages: timeout-decorator\r\n",
      "  Building wheel for timeout-decorator (setup.py) ... \u001b[?25l\u001b[?25hdone\r\n",
      "  Created wheel for timeout-decorator: filename=timeout_decorator-0.5.0-py3-none-any.whl size=5007 sha256=6135e267714606a31850e7230725b260e7612a8d546df8d76482b75ef090e710\r\n",
      "  Stored in directory: /root/.cache/pip/wheels/aa/cd/d1/51736c6b95846b2613a520ce146a8f305c4016a987bc9faec7\r\n",
      "Successfully built timeout-decorator\r\n",
      "Installing collected packages: timeout-decorator\r\n",
      "Successfully installed timeout-decorator-0.5.0\r\n"
     ]
    }
   ],
   "source": [
    "!pip install timeout-decorator"
   ]
  },
  {
   "cell_type": "code",
   "execution_count": 3,
   "id": "950568ae",
   "metadata": {
    "execution": {
     "iopub.execute_input": "2025-05-05T14:54:46.606293Z",
     "iopub.status.busy": "2025-05-05T14:54:46.605339Z",
     "iopub.status.idle": "2025-05-05T14:54:46.615341Z",
     "shell.execute_reply": "2025-05-05T14:54:46.613712Z"
    },
    "papermill": {
     "duration": 0.021643,
     "end_time": "2025-05-05T14:54:46.618029",
     "exception": false,
     "start_time": "2025-05-05T14:54:46.596386",
     "status": "completed"
    },
    "tags": []
   },
   "outputs": [
    {
     "name": "stdout",
     "output_type": "stream",
     "text": [
      "Number of CPU cores: 4\n"
     ]
    }
   ],
   "source": [
    "import os\n",
    "\n",
    "cpu_count = os.cpu_count()\n",
    "print(f\"Number of CPU cores: {cpu_count}\")"
   ]
  },
  {
   "cell_type": "code",
   "execution_count": 4,
   "id": "32c1643e",
   "metadata": {
    "execution": {
     "iopub.execute_input": "2025-05-05T14:54:46.635273Z",
     "iopub.status.busy": "2025-05-05T14:54:46.634107Z",
     "iopub.status.idle": "2025-05-05T14:54:53.049441Z",
     "shell.execute_reply": "2025-05-05T14:54:53.048090Z"
    },
    "papermill": {
     "duration": 6.427739,
     "end_time": "2025-05-05T14:54:53.051873",
     "exception": false,
     "start_time": "2025-05-05T14:54:46.624134",
     "status": "completed"
    },
    "tags": []
   },
   "outputs": [],
   "source": [
    "import pandas as pd\n",
    "import matplotlib.pyplot as plt\n",
    "import seaborn as sns\n",
    "from sklearn.ensemble import RandomForestClassifier\n",
    "from sklearn.svm import SVC\n",
    "from sklearn.naive_bayes import MultinomialNB\n",
    "from xgboost import XGBClassifier\n",
    "from sklearn.feature_extraction.text import TfidfVectorizer\n",
    "from sklearn.model_selection import train_test_split\n",
    "from collections import Counter\n",
    "import time\n",
    "from sklearn.metrics import accuracy_score, precision_score, recall_score, f1_score, classification_report, confusion_matrix\n",
    "import optuna\n",
    "import timeout_decorator\n",
    "from timeout_decorator.timeout_decorator import TimeoutError\n",
    "import joblib"
   ]
  },
  {
   "cell_type": "markdown",
   "id": "fd950ba6",
   "metadata": {
    "papermill": {
     "duration": 0.005387,
     "end_time": "2025-05-05T14:54:53.064917",
     "exception": false,
     "start_time": "2025-05-05T14:54:53.059530",
     "status": "completed"
    },
    "tags": []
   },
   "source": [
    "## Import Dataset"
   ]
  },
  {
   "cell_type": "code",
   "execution_count": 5,
   "id": "69950817",
   "metadata": {
    "execution": {
     "iopub.execute_input": "2025-05-05T14:54:53.077741Z",
     "iopub.status.busy": "2025-05-05T14:54:53.077198Z",
     "iopub.status.idle": "2025-05-05T14:54:53.821165Z",
     "shell.execute_reply": "2025-05-05T14:54:53.820117Z"
    },
    "papermill": {
     "duration": 0.752498,
     "end_time": "2025-05-05T14:54:53.822904",
     "exception": false,
     "start_time": "2025-05-05T14:54:53.070406",
     "status": "completed"
    },
    "tags": []
   },
   "outputs": [],
   "source": [
    "df = pd.read_csv('/kaggle/input/preprocessed-fake-reviews-dataset/preprocessed-fake-reviews-dataset.csv')"
   ]
  },
  {
   "cell_type": "code",
   "execution_count": 6,
   "id": "ff011738",
   "metadata": {
    "execution": {
     "iopub.execute_input": "2025-05-05T14:54:53.836998Z",
     "iopub.status.busy": "2025-05-05T14:54:53.835619Z",
     "iopub.status.idle": "2025-05-05T14:54:53.871988Z",
     "shell.execute_reply": "2025-05-05T14:54:53.870749Z"
    },
    "papermill": {
     "duration": 0.045387,
     "end_time": "2025-05-05T14:54:53.874055",
     "exception": false,
     "start_time": "2025-05-05T14:54:53.828668",
     "status": "completed"
    },
    "tags": []
   },
   "outputs": [
    {
     "data": {
      "text/html": [
       "<div>\n",
       "<style scoped>\n",
       "    .dataframe tbody tr th:only-of-type {\n",
       "        vertical-align: middle;\n",
       "    }\n",
       "\n",
       "    .dataframe tbody tr th {\n",
       "        vertical-align: top;\n",
       "    }\n",
       "\n",
       "    .dataframe thead th {\n",
       "        text-align: right;\n",
       "    }\n",
       "</style>\n",
       "<table border=\"1\" class=\"dataframe\">\n",
       "  <thead>\n",
       "    <tr style=\"text-align: right;\">\n",
       "      <th></th>\n",
       "      <th>rating</th>\n",
       "      <th>label</th>\n",
       "      <th>text_</th>\n",
       "      <th>cleaned_text</th>\n",
       "      <th>category_Books_5</th>\n",
       "      <th>category_Clothing_Shoes_and_Jewelry_5</th>\n",
       "      <th>category_Electronics_5</th>\n",
       "      <th>category_Home_and_Kitchen_5</th>\n",
       "      <th>category_Kindle_Store_5</th>\n",
       "      <th>category_Movies_and_TV_5</th>\n",
       "      <th>category_Pet_Supplies_5</th>\n",
       "      <th>category_Sports_and_Outdoors_5</th>\n",
       "      <th>category_Tools_and_Home_Improvement_5</th>\n",
       "      <th>category_Toys_and_Games_5</th>\n",
       "    </tr>\n",
       "  </thead>\n",
       "  <tbody>\n",
       "    <tr>\n",
       "      <th>0</th>\n",
       "      <td>5.0</td>\n",
       "      <td>1</td>\n",
       "      <td>Love this!  Well made, sturdy, and very comfor...</td>\n",
       "      <td>Love this  Well made sturdy and very comfortab...</td>\n",
       "      <td>False</td>\n",
       "      <td>False</td>\n",
       "      <td>False</td>\n",
       "      <td>True</td>\n",
       "      <td>False</td>\n",
       "      <td>False</td>\n",
       "      <td>False</td>\n",
       "      <td>False</td>\n",
       "      <td>False</td>\n",
       "      <td>False</td>\n",
       "    </tr>\n",
       "    <tr>\n",
       "      <th>1</th>\n",
       "      <td>5.0</td>\n",
       "      <td>1</td>\n",
       "      <td>love it, a great upgrade from the original.  I...</td>\n",
       "      <td>love it a great upgrade from the original  Ive...</td>\n",
       "      <td>False</td>\n",
       "      <td>False</td>\n",
       "      <td>False</td>\n",
       "      <td>True</td>\n",
       "      <td>False</td>\n",
       "      <td>False</td>\n",
       "      <td>False</td>\n",
       "      <td>False</td>\n",
       "      <td>False</td>\n",
       "      <td>False</td>\n",
       "    </tr>\n",
       "    <tr>\n",
       "      <th>2</th>\n",
       "      <td>5.0</td>\n",
       "      <td>1</td>\n",
       "      <td>This pillow saved my back. I love the look and...</td>\n",
       "      <td>This pillow saved my back I love the look and ...</td>\n",
       "      <td>False</td>\n",
       "      <td>False</td>\n",
       "      <td>False</td>\n",
       "      <td>True</td>\n",
       "      <td>False</td>\n",
       "      <td>False</td>\n",
       "      <td>False</td>\n",
       "      <td>False</td>\n",
       "      <td>False</td>\n",
       "      <td>False</td>\n",
       "    </tr>\n",
       "    <tr>\n",
       "      <th>3</th>\n",
       "      <td>1.0</td>\n",
       "      <td>1</td>\n",
       "      <td>Missing information on how to use it, but it i...</td>\n",
       "      <td>Missing information on how to use it but it is...</td>\n",
       "      <td>False</td>\n",
       "      <td>False</td>\n",
       "      <td>False</td>\n",
       "      <td>True</td>\n",
       "      <td>False</td>\n",
       "      <td>False</td>\n",
       "      <td>False</td>\n",
       "      <td>False</td>\n",
       "      <td>False</td>\n",
       "      <td>False</td>\n",
       "    </tr>\n",
       "    <tr>\n",
       "      <th>4</th>\n",
       "      <td>5.0</td>\n",
       "      <td>1</td>\n",
       "      <td>Very nice set. Good quality. We have had the s...</td>\n",
       "      <td>Very nice set Good quality We have had the set...</td>\n",
       "      <td>False</td>\n",
       "      <td>False</td>\n",
       "      <td>False</td>\n",
       "      <td>True</td>\n",
       "      <td>False</td>\n",
       "      <td>False</td>\n",
       "      <td>False</td>\n",
       "      <td>False</td>\n",
       "      <td>False</td>\n",
       "      <td>False</td>\n",
       "    </tr>\n",
       "  </tbody>\n",
       "</table>\n",
       "</div>"
      ],
      "text/plain": [
       "   rating  label                                              text_  \\\n",
       "0     5.0      1  Love this!  Well made, sturdy, and very comfor...   \n",
       "1     5.0      1  love it, a great upgrade from the original.  I...   \n",
       "2     5.0      1  This pillow saved my back. I love the look and...   \n",
       "3     1.0      1  Missing information on how to use it, but it i...   \n",
       "4     5.0      1  Very nice set. Good quality. We have had the s...   \n",
       "\n",
       "                                        cleaned_text  category_Books_5  \\\n",
       "0  Love this  Well made sturdy and very comfortab...             False   \n",
       "1  love it a great upgrade from the original  Ive...             False   \n",
       "2  This pillow saved my back I love the look and ...             False   \n",
       "3  Missing information on how to use it but it is...             False   \n",
       "4  Very nice set Good quality We have had the set...             False   \n",
       "\n",
       "   category_Clothing_Shoes_and_Jewelry_5  category_Electronics_5  \\\n",
       "0                                  False                   False   \n",
       "1                                  False                   False   \n",
       "2                                  False                   False   \n",
       "3                                  False                   False   \n",
       "4                                  False                   False   \n",
       "\n",
       "   category_Home_and_Kitchen_5  category_Kindle_Store_5  \\\n",
       "0                         True                    False   \n",
       "1                         True                    False   \n",
       "2                         True                    False   \n",
       "3                         True                    False   \n",
       "4                         True                    False   \n",
       "\n",
       "   category_Movies_and_TV_5  category_Pet_Supplies_5  \\\n",
       "0                     False                    False   \n",
       "1                     False                    False   \n",
       "2                     False                    False   \n",
       "3                     False                    False   \n",
       "4                     False                    False   \n",
       "\n",
       "   category_Sports_and_Outdoors_5  category_Tools_and_Home_Improvement_5  \\\n",
       "0                           False                                  False   \n",
       "1                           False                                  False   \n",
       "2                           False                                  False   \n",
       "3                           False                                  False   \n",
       "4                           False                                  False   \n",
       "\n",
       "   category_Toys_and_Games_5  \n",
       "0                      False  \n",
       "1                      False  \n",
       "2                      False  \n",
       "3                      False  \n",
       "4                      False  "
      ]
     },
     "execution_count": 6,
     "metadata": {},
     "output_type": "execute_result"
    }
   ],
   "source": [
    "df.head()"
   ]
  },
  {
   "cell_type": "code",
   "execution_count": 7,
   "id": "c6d7cbfc",
   "metadata": {
    "execution": {
     "iopub.execute_input": "2025-05-05T14:54:53.889930Z",
     "iopub.status.busy": "2025-05-05T14:54:53.889562Z",
     "iopub.status.idle": "2025-05-05T14:54:53.911786Z",
     "shell.execute_reply": "2025-05-05T14:54:53.910919Z"
    },
    "papermill": {
     "duration": 0.032455,
     "end_time": "2025-05-05T14:54:53.913502",
     "exception": false,
     "start_time": "2025-05-05T14:54:53.881047",
     "status": "completed"
    },
    "tags": []
   },
   "outputs": [
    {
     "data": {
      "text/plain": [
       "rating                                   0\n",
       "label                                    0\n",
       "text_                                    0\n",
       "cleaned_text                             1\n",
       "category_Books_5                         0\n",
       "category_Clothing_Shoes_and_Jewelry_5    0\n",
       "category_Electronics_5                   0\n",
       "category_Home_and_Kitchen_5              0\n",
       "category_Kindle_Store_5                  0\n",
       "category_Movies_and_TV_5                 0\n",
       "category_Pet_Supplies_5                  0\n",
       "category_Sports_and_Outdoors_5           0\n",
       "category_Tools_and_Home_Improvement_5    0\n",
       "category_Toys_and_Games_5                0\n",
       "dtype: int64"
      ]
     },
     "execution_count": 7,
     "metadata": {},
     "output_type": "execute_result"
    }
   ],
   "source": [
    "df.isnull().sum()"
   ]
  },
  {
   "cell_type": "code",
   "execution_count": 8,
   "id": "595d6f27",
   "metadata": {
    "execution": {
     "iopub.execute_input": "2025-05-05T14:54:53.928149Z",
     "iopub.status.busy": "2025-05-05T14:54:53.927341Z",
     "iopub.status.idle": "2025-05-05T14:54:53.943615Z",
     "shell.execute_reply": "2025-05-05T14:54:53.942367Z"
    },
    "papermill": {
     "duration": 0.025849,
     "end_time": "2025-05-05T14:54:53.945381",
     "exception": false,
     "start_time": "2025-05-05T14:54:53.919532",
     "status": "completed"
    },
    "tags": []
   },
   "outputs": [],
   "source": [
    "df['cleaned_text'] = df['cleaned_text'].fillna(\"\")"
   ]
  },
  {
   "cell_type": "code",
   "execution_count": 9,
   "id": "e89f5fc8",
   "metadata": {
    "execution": {
     "iopub.execute_input": "2025-05-05T14:54:53.959203Z",
     "iopub.status.busy": "2025-05-05T14:54:53.958865Z",
     "iopub.status.idle": "2025-05-05T14:54:53.980482Z",
     "shell.execute_reply": "2025-05-05T14:54:53.979417Z"
    },
    "papermill": {
     "duration": 0.031165,
     "end_time": "2025-05-05T14:54:53.982589",
     "exception": false,
     "start_time": "2025-05-05T14:54:53.951424",
     "status": "completed"
    },
    "tags": []
   },
   "outputs": [
    {
     "data": {
      "text/plain": [
       "rating                                   0\n",
       "label                                    0\n",
       "text_                                    0\n",
       "cleaned_text                             0\n",
       "category_Books_5                         0\n",
       "category_Clothing_Shoes_and_Jewelry_5    0\n",
       "category_Electronics_5                   0\n",
       "category_Home_and_Kitchen_5              0\n",
       "category_Kindle_Store_5                  0\n",
       "category_Movies_and_TV_5                 0\n",
       "category_Pet_Supplies_5                  0\n",
       "category_Sports_and_Outdoors_5           0\n",
       "category_Tools_and_Home_Improvement_5    0\n",
       "category_Toys_and_Games_5                0\n",
       "dtype: int64"
      ]
     },
     "execution_count": 9,
     "metadata": {},
     "output_type": "execute_result"
    }
   ],
   "source": [
    "df.isnull().sum()"
   ]
  },
  {
   "cell_type": "code",
   "execution_count": 10,
   "id": "44113d80",
   "metadata": {
    "execution": {
     "iopub.execute_input": "2025-05-05T14:54:53.999830Z",
     "iopub.status.busy": "2025-05-05T14:54:53.999450Z",
     "iopub.status.idle": "2025-05-05T14:54:54.055933Z",
     "shell.execute_reply": "2025-05-05T14:54:54.052209Z"
    },
    "papermill": {
     "duration": 0.069632,
     "end_time": "2025-05-05T14:54:54.059083",
     "exception": false,
     "start_time": "2025-05-05T14:54:53.989451",
     "status": "completed"
    },
    "tags": []
   },
   "outputs": [
    {
     "name": "stdout",
     "output_type": "stream",
     "text": [
      "<class 'pandas.core.frame.DataFrame'>\n",
      "RangeIndex: 40432 entries, 0 to 40431\n",
      "Data columns (total 14 columns):\n",
      " #   Column                                 Non-Null Count  Dtype  \n",
      "---  ------                                 --------------  -----  \n",
      " 0   rating                                 40432 non-null  float64\n",
      " 1   label                                  40432 non-null  int64  \n",
      " 2   text_                                  40432 non-null  object \n",
      " 3   cleaned_text                           40432 non-null  object \n",
      " 4   category_Books_5                       40432 non-null  bool   \n",
      " 5   category_Clothing_Shoes_and_Jewelry_5  40432 non-null  bool   \n",
      " 6   category_Electronics_5                 40432 non-null  bool   \n",
      " 7   category_Home_and_Kitchen_5            40432 non-null  bool   \n",
      " 8   category_Kindle_Store_5                40432 non-null  bool   \n",
      " 9   category_Movies_and_TV_5               40432 non-null  bool   \n",
      " 10  category_Pet_Supplies_5                40432 non-null  bool   \n",
      " 11  category_Sports_and_Outdoors_5         40432 non-null  bool   \n",
      " 12  category_Tools_and_Home_Improvement_5  40432 non-null  bool   \n",
      " 13  category_Toys_and_Games_5              40432 non-null  bool   \n",
      "dtypes: bool(10), float64(1), int64(1), object(2)\n",
      "memory usage: 1.6+ MB\n"
     ]
    }
   ],
   "source": [
    "df.info()"
   ]
  },
  {
   "cell_type": "code",
   "execution_count": 11,
   "id": "1ad3e0e6",
   "metadata": {
    "execution": {
     "iopub.execute_input": "2025-05-05T14:54:54.079494Z",
     "iopub.status.busy": "2025-05-05T14:54:54.079016Z",
     "iopub.status.idle": "2025-05-05T14:54:54.110587Z",
     "shell.execute_reply": "2025-05-05T14:54:54.108698Z"
    },
    "papermill": {
     "duration": 0.044684,
     "end_time": "2025-05-05T14:54:54.113310",
     "exception": false,
     "start_time": "2025-05-05T14:54:54.068626",
     "status": "completed"
    },
    "tags": []
   },
   "outputs": [
    {
     "data": {
      "text/html": [
       "<div>\n",
       "<style scoped>\n",
       "    .dataframe tbody tr th:only-of-type {\n",
       "        vertical-align: middle;\n",
       "    }\n",
       "\n",
       "    .dataframe tbody tr th {\n",
       "        vertical-align: top;\n",
       "    }\n",
       "\n",
       "    .dataframe thead th {\n",
       "        text-align: right;\n",
       "    }\n",
       "</style>\n",
       "<table border=\"1\" class=\"dataframe\">\n",
       "  <thead>\n",
       "    <tr style=\"text-align: right;\">\n",
       "      <th></th>\n",
       "      <th>rating</th>\n",
       "      <th>label</th>\n",
       "    </tr>\n",
       "  </thead>\n",
       "  <tbody>\n",
       "    <tr>\n",
       "      <th>count</th>\n",
       "      <td>40432.000000</td>\n",
       "      <td>40432.000000</td>\n",
       "    </tr>\n",
       "    <tr>\n",
       "      <th>mean</th>\n",
       "      <td>4.256579</td>\n",
       "      <td>0.500000</td>\n",
       "    </tr>\n",
       "    <tr>\n",
       "      <th>std</th>\n",
       "      <td>1.144354</td>\n",
       "      <td>0.500006</td>\n",
       "    </tr>\n",
       "    <tr>\n",
       "      <th>min</th>\n",
       "      <td>1.000000</td>\n",
       "      <td>0.000000</td>\n",
       "    </tr>\n",
       "    <tr>\n",
       "      <th>25%</th>\n",
       "      <td>4.000000</td>\n",
       "      <td>0.000000</td>\n",
       "    </tr>\n",
       "    <tr>\n",
       "      <th>50%</th>\n",
       "      <td>5.000000</td>\n",
       "      <td>0.500000</td>\n",
       "    </tr>\n",
       "    <tr>\n",
       "      <th>75%</th>\n",
       "      <td>5.000000</td>\n",
       "      <td>1.000000</td>\n",
       "    </tr>\n",
       "    <tr>\n",
       "      <th>max</th>\n",
       "      <td>5.000000</td>\n",
       "      <td>1.000000</td>\n",
       "    </tr>\n",
       "  </tbody>\n",
       "</table>\n",
       "</div>"
      ],
      "text/plain": [
       "             rating         label\n",
       "count  40432.000000  40432.000000\n",
       "mean       4.256579      0.500000\n",
       "std        1.144354      0.500006\n",
       "min        1.000000      0.000000\n",
       "25%        4.000000      0.000000\n",
       "50%        5.000000      0.500000\n",
       "75%        5.000000      1.000000\n",
       "max        5.000000      1.000000"
      ]
     },
     "execution_count": 11,
     "metadata": {},
     "output_type": "execute_result"
    }
   ],
   "source": [
    "df.describe()"
   ]
  },
  {
   "cell_type": "markdown",
   "id": "a045f285",
   "metadata": {
    "papermill": {
     "duration": 0.007977,
     "end_time": "2025-05-05T14:54:54.132402",
     "exception": false,
     "start_time": "2025-05-05T14:54:54.124425",
     "status": "completed"
    },
    "tags": []
   },
   "source": [
    "## Data Splitting"
   ]
  },
  {
   "cell_type": "code",
   "execution_count": 12,
   "id": "ba8041f0",
   "metadata": {
    "execution": {
     "iopub.execute_input": "2025-05-05T14:54:54.152017Z",
     "iopub.status.busy": "2025-05-05T14:54:54.151655Z",
     "iopub.status.idle": "2025-05-05T14:54:54.197060Z",
     "shell.execute_reply": "2025-05-05T14:54:54.194610Z"
    },
    "papermill": {
     "duration": 0.057306,
     "end_time": "2025-05-05T14:54:54.200514",
     "exception": false,
     "start_time": "2025-05-05T14:54:54.143208",
     "status": "completed"
    },
    "tags": []
   },
   "outputs": [],
   "source": [
    "X_train, X_test, y_train, y_test = train_test_split(df, df['label'], test_size=0.2, random_state=42, stratify=df['label'])"
   ]
  },
  {
   "cell_type": "code",
   "execution_count": 13,
   "id": "b00e8b77",
   "metadata": {
    "execution": {
     "iopub.execute_input": "2025-05-05T14:54:54.218036Z",
     "iopub.status.busy": "2025-05-05T14:54:54.217246Z",
     "iopub.status.idle": "2025-05-05T14:54:54.228831Z",
     "shell.execute_reply": "2025-05-05T14:54:54.227751Z"
    },
    "papermill": {
     "duration": 0.023188,
     "end_time": "2025-05-05T14:54:54.230897",
     "exception": false,
     "start_time": "2025-05-05T14:54:54.207709",
     "status": "completed"
    },
    "tags": []
   },
   "outputs": [
    {
     "name": "stdout",
     "output_type": "stream",
     "text": [
      "Jumlah Real Review Train (0): 16172\n",
      "Jumlah Fake Review Train (1): 16173\n",
      "Jumlah Real Review Test (0): 4044\n",
      "Jumlah Fake Review Test (1): 4043\n"
     ]
    }
   ],
   "source": [
    "train_label_counts = y_train.value_counts()\n",
    "test_label_counts = y_test.value_counts()\n",
    "\n",
    "print(\"Jumlah Real Review Train (0):\", train_label_counts[0])\n",
    "print(\"Jumlah Fake Review Train (1):\", train_label_counts[1])\n",
    "print(\"Jumlah Real Review Test (0):\", test_label_counts[0])\n",
    "print(\"Jumlah Fake Review Test (1):\", test_label_counts[1])"
   ]
  },
  {
   "cell_type": "code",
   "execution_count": 14,
   "id": "1c42f14d",
   "metadata": {
    "execution": {
     "iopub.execute_input": "2025-05-05T14:54:54.247705Z",
     "iopub.status.busy": "2025-05-05T14:54:54.247390Z",
     "iopub.status.idle": "2025-05-05T14:54:54.874377Z",
     "shell.execute_reply": "2025-05-05T14:54:54.872896Z"
    },
    "papermill": {
     "duration": 0.639171,
     "end_time": "2025-05-05T14:54:54.876898",
     "exception": false,
     "start_time": "2025-05-05T14:54:54.237727",
     "status": "completed"
    },
    "tags": []
   },
   "outputs": [
    {
     "data": {
      "image/png": "[encoded data removed]",
      "text/plain": [
       "<Figure size 1200x500 with 2 Axes>"
      ]
     },
     "metadata": {},
     "output_type": "display_data"
    }
   ],
   "source": [
    "train_counts = Counter(y_train)\n",
    "test_counts = Counter(y_test)\n",
    "\n",
    "fig, axes = plt.subplots(1, 2, figsize=(12, 5))\n",
    "\n",
    "axes[0].bar(train_counts.keys(), train_counts.values(), color=['blue', 'orange'])\n",
    "axes[0].set_title('Distribusi Data Train')\n",
    "axes[0].set_xticks([0, 1])\n",
    "axes[0].set_xticklabels(['0', '1'])\n",
    "axes[0].set_xlabel('Kelas')\n",
    "axes[0].set_ylabel('Jumlah Data')\n",
    "axes[0].grid(axis='y', linestyle='--', alpha=0.7)\n",
    "\n",
    "axes[1].bar(test_counts.keys(), test_counts.values(), color=['blue', 'orange'])\n",
    "axes[1].set_title('Distribusi Data Test')\n",
    "axes[1].set_xticks([0, 1])\n",
    "axes[1].set_xticklabels(['0', '1'])\n",
    "axes[1].set_xlabel('Kelas')\n",
    "axes[1].set_ylabel('Jumlah Data')\n",
    "axes[1].grid(axis='y', linestyle='--', alpha=0.7)\n",
    "\n",
    "plt.tight_layout()\n",
    "plt.show()"
   ]
  },
  {
   "cell_type": "markdown",
   "id": "f941a847",
   "metadata": {
    "papermill": {
     "duration": 0.00777,
     "end_time": "2025-05-05T14:54:54.893084",
     "exception": false,
     "start_time": "2025-05-05T14:54:54.885314",
     "status": "completed"
    },
    "tags": []
   },
   "source": [
    "## TF-IDF"
   ]
  },
  {
   "cell_type": "code",
   "execution_count": 15,
   "id": "5fdcf360",
   "metadata": {
    "execution": {
     "iopub.execute_input": "2025-05-05T14:54:54.912934Z",
     "iopub.status.busy": "2025-05-05T14:54:54.912548Z",
     "iopub.status.idle": "2025-05-05T14:55:00.315858Z",
     "shell.execute_reply": "2025-05-05T14:55:00.314657Z"
    },
    "papermill": {
     "duration": 5.416488,
     "end_time": "2025-05-05T14:55:00.318041",
     "exception": false,
     "start_time": "2025-05-05T14:54:54.901553",
     "status": "completed"
    },
    "tags": []
   },
   "outputs": [],
   "source": [
    "vectorizer = TfidfVectorizer(ngram_range=(1,2), min_df=30, max_df=0.90, strip_accents='unicode', sublinear_tf=True)\n",
    "X_train_tfidf = vectorizer.fit_transform(X_train['cleaned_text'])\n",
    "X_test_tfidf = vectorizer.transform(X_test['cleaned_text'])"
   ]
  },
  {
   "cell_type": "code",
   "execution_count": 16,
   "id": "a5d889bb",
   "metadata": {
    "execution": {
     "iopub.execute_input": "2025-05-05T14:55:00.333660Z",
     "iopub.status.busy": "2025-05-05T14:55:00.333212Z",
     "iopub.status.idle": "2025-05-05T14:55:00.339715Z",
     "shell.execute_reply": "2025-05-05T14:55:00.338326Z"
    },
    "papermill": {
     "duration": 0.016548,
     "end_time": "2025-05-05T14:55:00.341705",
     "exception": false,
     "start_time": "2025-05-05T14:55:00.325157",
     "status": "completed"
    },
    "tags": []
   },
   "outputs": [
    {
     "name": "stdout",
     "output_type": "stream",
     "text": [
      "Jumlah fitur yang diekstrak: 10256\n"
     ]
    }
   ],
   "source": [
    "print(\"Jumlah fitur yang diekstrak:\", len(vectorizer.vocabulary_))"
   ]
  },
  {
   "cell_type": "markdown",
   "id": "e7a48850",
   "metadata": {
    "papermill": {
     "duration": 0.007988,
     "end_time": "2025-05-05T14:55:00.357054",
     "exception": false,
     "start_time": "2025-05-05T14:55:00.349066",
     "status": "completed"
    },
    "tags": []
   },
   "source": [
    "## Random Forest"
   ]
  },
  {
   "cell_type": "code",
   "execution_count": 17,
   "id": "cb085b76",
   "metadata": {
    "execution": {
     "iopub.execute_input": "2025-05-05T14:55:00.374778Z",
     "iopub.status.busy": "2025-05-05T14:55:00.374469Z",
     "iopub.status.idle": "2025-05-05T14:55:00.382306Z",
     "shell.execute_reply": "2025-05-05T14:55:00.381080Z"
    },
    "papermill": {
     "duration": 0.0193,
     "end_time": "2025-05-05T14:55:00.384359",
     "exception": false,
     "start_time": "2025-05-05T14:55:00.365059",
     "status": "completed"
    },
    "tags": []
   },
   "outputs": [],
   "source": [
    "@timeout_decorator.timeout(900, use_signals=False)\n",
    "def train(n_estimators, max_features, min_samples_split, min_samples_leaf):\n",
    "    rf_model = RandomForestClassifier(\n",
    "        n_estimators=n_estimators,\n",
    "        max_features=max_features,\n",
    "        min_samples_split=min_samples_split,\n",
    "        min_samples_leaf=min_samples_leaf,\n",
    "        random_state=42\n",
    "    )\n",
    "    rf_model.fit(X_train_tfidf, y_train)\n",
    "    return rf_model\n",
    "\n",
    "def objective(trial):    \n",
    "    n_estimators = trial.suggest_int(\"n_estimators\", 50, 300)\n",
    "    max_features = trial.suggest_categorical(\"max_features\", [\"sqrt\", \"log2\", None])\n",
    "    min_samples_split = trial.suggest_int(\"min_samples_split\", 2, 20)\n",
    "    min_samples_leaf = trial.suggest_int(\"min_samples_leaf\", 1, 10)\n",
    "\n",
    "    try:\n",
    "        rf_model = train(n_estimators, max_features, min_samples_split, min_samples_leaf)\n",
    "        y_pred = rf_model.predict(X_test_tfidf)\n",
    "        accuracy = accuracy_score(y_test, y_pred)\n",
    "    except TimeoutError:\n",
    "        raise optuna.exceptions.TrialPruned()\n",
    "    return accuracy"
   ]
  },
  {
   "cell_type": "code",
   "execution_count": 18,
   "id": "df279b21",
   "metadata": {
    "execution": {
     "iopub.execute_input": "2025-05-05T14:55:00.400563Z",
     "iopub.status.busy": "2025-05-05T14:55:00.400262Z",
     "iopub.status.idle": "2025-05-05T15:48:26.756194Z",
     "shell.execute_reply": "2025-05-05T15:48:26.754904Z"
    },
    "papermill": {
     "duration": 3206.366518,
     "end_time": "2025-05-05T15:48:26.758321",
     "exception": false,
     "start_time": "2025-05-05T14:55:00.391803",
     "status": "completed"
    },
    "tags": []
   },
   "outputs": [
    {
     "name": "stderr",
     "output_type": "stream",
     "text": [
      "[I 2025-05-05 14:55:00,403] A new study created in memory with name: no-name-d779a866-9b17-4e7b-9767-6b3a0da2d593\n",
      "[I 2025-05-05 14:57:02,576] Trial 1 finished with value: 0.8953876592061333 and parameters: {'n_estimators': 230, 'max_features': 'sqrt', 'min_samples_split': 6, 'min_samples_leaf': 4}. Best is trial 1 with value: 0.8953876592061333.\n",
      "[I 2025-05-05 14:57:14,113] Trial 0 finished with value: 0.9037962161493756 and parameters: {'n_estimators': 100, 'max_features': 'sqrt', 'min_samples_split': 2, 'min_samples_leaf': 1}. Best is trial 0 with value: 0.9037962161493756.\n",
      "[I 2025-05-05 14:57:22,826] Trial 5 finished with value: 0.9026833189068876 and parameters: {'n_estimators': 104, 'max_features': 'log2', 'min_samples_split': 10, 'min_samples_leaf': 4}. Best is trial 0 with value: 0.9037962161493756.\n",
      "[I 2025-05-05 14:57:31,648] Trial 6 finished with value: 0.8946457277111414 and parameters: {'n_estimators': 164, 'max_features': 'log2', 'min_samples_split': 15, 'min_samples_leaf': 10}. Best is trial 0 with value: 0.9037962161493756.\n",
      "[I 2025-05-05 15:10:00,481] Trial 2 pruned. \n",
      "[I 2025-05-05 15:10:00,513] Trial 3 pruned. \n",
      "[I 2025-05-05 15:11:02,315] Trial 9 finished with value: 0.9156671200692469 and parameters: {'n_estimators': 92, 'max_features': 'log2', 'min_samples_split': 2, 'min_samples_leaf': 1}. Best is trial 9 with value: 0.9156671200692469.\n",
      "[I 2025-05-05 15:11:09,174] Trial 10 finished with value: 0.8971188326944479 and parameters: {'n_estimators': 127, 'max_features': 'log2', 'min_samples_split': 17, 'min_samples_leaf': 7}. Best is trial 9 with value: 0.9156671200692469.\n",
      "[I 2025-05-05 15:12:02,639] Trial 4 pruned. \n",
      "[I 2025-05-05 15:12:31,688] Trial 7 pruned. \n",
      "[I 2025-05-05 15:14:42,192] Trial 13 finished with value: 0.920242364288364 and parameters: {'n_estimators': 182, 'max_features': 'log2', 'min_samples_split': 2, 'min_samples_leaf': 1}. Best is trial 13 with value: 0.920242364288364.\n",
      "[I 2025-05-05 15:16:45,437] Trial 14 finished with value: 0.9197477432917027 and parameters: {'n_estimators': 176, 'max_features': 'log2', 'min_samples_split': 2, 'min_samples_leaf': 1}. Best is trial 13 with value: 0.920242364288364.\n",
      "[I 2025-05-05 15:18:21,335] Trial 15 finished with value: 0.9248176085074812 and parameters: {'n_estimators': 186, 'max_features': 'log2', 'min_samples_split': 6, 'min_samples_leaf': 1}. Best is trial 15 with value: 0.9248176085074812.\n",
      "[I 2025-05-05 15:18:32,266] Trial 16 finished with value: 0.8987263509335971 and parameters: {'n_estimators': 188, 'max_features': 'log2', 'min_samples_split': 6, 'min_samples_leaf': 6}. Best is trial 15 with value: 0.9248176085074812.\n",
      "[I 2025-05-05 15:18:56,343] Trial 17 finished with value: 0.9126993940892791 and parameters: {'n_estimators': 214, 'max_features': 'log2', 'min_samples_split': 5, 'min_samples_leaf': 2}. Best is trial 15 with value: 0.9248176085074812.\n",
      "[I 2025-05-05 15:19:08,603] Trial 18 finished with value: 0.9082478051193273 and parameters: {'n_estimators': 148, 'max_features': 'log2', 'min_samples_split': 7, 'min_samples_leaf': 3}. Best is trial 15 with value: 0.9248176085074812.\n",
      "[I 2025-05-05 15:20:42,141] Trial 19 finished with value: 0.893780140966984 and parameters: {'n_estimators': 263, 'max_features': 'sqrt', 'min_samples_split': 20, 'min_samples_leaf': 5}. Best is trial 15 with value: 0.9248176085074812.\n",
      "[I 2025-05-05 15:21:02,996] Trial 20 finished with value: 0.9112155310992952 and parameters: {'n_estimators': 200, 'max_features': 'log2', 'min_samples_split': 13, 'min_samples_leaf': 2}. Best is trial 15 with value: 0.9248176085074812.\n",
      "[I 2025-05-05 15:21:10,701] Trial 21 finished with value: 0.8968715221961172 and parameters: {'n_estimators': 149, 'max_features': 'log2', 'min_samples_split': 4, 'min_samples_leaf': 8}. Best is trial 15 with value: 0.9248176085074812.\n",
      "[I 2025-05-05 15:23:36,070] Trial 22 finished with value: 0.9015704216643996 and parameters: {'n_estimators': 210, 'max_features': 'sqrt', 'min_samples_split': 8, 'min_samples_leaf': 2}. Best is trial 15 with value: 0.9248176085074812.\n",
      "[I 2025-05-05 15:23:53,769] Trial 23 finished with value: 0.9045381476443675 and parameters: {'n_estimators': 266, 'max_features': 'log2', 'min_samples_split': 4, 'min_samples_leaf': 5}. Best is trial 15 with value: 0.9248176085074812.\n",
      "[I 2025-05-05 15:25:00,554] Trial 8 pruned. \n",
      "[I 2025-05-05 15:25:58,394] Trial 24 finished with value: 0.9201187090391987 and parameters: {'n_estimators': 175, 'max_features': 'log2', 'min_samples_split': 2, 'min_samples_leaf': 1}. Best is trial 15 with value: 0.9248176085074812.\n",
      "[I 2025-05-05 15:26:09,208] Trial 11 pruned. \n",
      "[I 2025-05-05 15:26:16,576] Trial 26 finished with value: 0.9110918758501299 and parameters: {'n_estimators': 163, 'max_features': 'log2', 'min_samples_split': 3, 'min_samples_leaf': 2}. Best is trial 15 with value: 0.9248176085074812.\n",
      "[I 2025-05-05 15:26:26,518] Trial 27 finished with value: 0.9105972548534685 and parameters: {'n_estimators': 149, 'max_features': 'log2', 'min_samples_split': 3, 'min_samples_leaf': 2}. Best is trial 15 with value: 0.9248176085074812.\n",
      "[I 2025-05-05 15:26:40,199] Trial 29 finished with value: 0.9052800791393595 and parameters: {'n_estimators': 194, 'max_features': 'log2', 'min_samples_split': 8, 'min_samples_leaf': 4}. Best is trial 15 with value: 0.9248176085074812.\n",
      "[I 2025-05-05 15:27:02,700] Trial 12 pruned. \n",
      "[I 2025-05-05 15:27:03,664] Trial 25 finished with value: 0.92061333003586 and parameters: {'n_estimators': 180, 'max_features': 'log2', 'min_samples_split': 2, 'min_samples_leaf': 1}. Best is trial 15 with value: 0.9248176085074812.\n",
      "[I 2025-05-05 15:27:24,014] Trial 28 finished with value: 0.9214789167800174 and parameters: {'n_estimators': 146, 'max_features': 'log2', 'min_samples_split': 8, 'min_samples_leaf': 1}. Best is trial 15 with value: 0.9248176085074812.\n",
      "[I 2025-05-05 15:27:56,484] Trial 30 finished with value: 0.9219735377766787 and parameters: {'n_estimators': 129, 'max_features': 'log2', 'min_samples_split': 4, 'min_samples_leaf': 1}. Best is trial 15 with value: 0.9248176085074812.\n",
      "[I 2025-05-05 15:28:38,095] Trial 33 finished with value: 0.8953876592061333 and parameters: {'n_estimators': 134, 'max_features': 'sqrt', 'min_samples_split': 7, 'min_samples_leaf': 3}. Best is trial 15 with value: 0.9248176085074812.\n",
      "[I 2025-05-05 15:28:55,201] Trial 31 finished with value: 0.9228391245208359 and parameters: {'n_estimators': 225, 'max_features': 'log2', 'min_samples_split': 7, 'min_samples_leaf': 1}. Best is trial 15 with value: 0.9248176085074812.\n",
      "[I 2025-05-05 15:29:01,904] Trial 34 finished with value: 0.9204896747866947 and parameters: {'n_estimators': 140, 'max_features': 'log2', 'min_samples_split': 8, 'min_samples_leaf': 1}. Best is trial 15 with value: 0.9248176085074812.\n",
      "[I 2025-05-05 15:29:04,084] Trial 36 finished with value: 0.9080004946209966 and parameters: {'n_estimators': 82, 'max_features': 'log2', 'min_samples_split': 8, 'min_samples_leaf': 2}. Best is trial 15 with value: 0.9248176085074812.\n",
      "[I 2025-05-05 15:29:27,036] Trial 35 finished with value: 0.9172746383083962 and parameters: {'n_estimators': 94, 'max_features': 'log2', 'min_samples_split': 6, 'min_samples_leaf': 1}. Best is trial 15 with value: 0.9248176085074812.\n",
      "[I 2025-05-05 15:30:40,314] Trial 32 finished with value: 0.9057747001360208 and parameters: {'n_estimators': 223, 'max_features': 'sqrt', 'min_samples_split': 7, 'min_samples_leaf': 1}. Best is trial 15 with value: 0.9248176085074812.\n",
      "[I 2025-05-05 15:30:50,689] Trial 40 finished with value: 0.9063929763818475 and parameters: {'n_estimators': 118, 'max_features': 'log2', 'min_samples_split': 10, 'min_samples_leaf': 3}. Best is trial 15 with value: 0.9248176085074812.\n",
      "[I 2025-05-05 15:31:00,720] Trial 38 finished with value: 0.8974897984419439 and parameters: {'n_estimators': 220, 'max_features': 'sqrt', 'min_samples_split': 10, 'min_samples_leaf': 3}. Best is trial 15 with value: 0.9248176085074812.\n",
      "[I 2025-05-05 15:31:18,069] Trial 42 finished with value: 0.9109682206009645 and parameters: {'n_estimators': 164, 'max_features': 'log2', 'min_samples_split': 9, 'min_samples_leaf': 2}. Best is trial 15 with value: 0.9248176085074812.\n",
      "[I 2025-05-05 15:31:28,999] Trial 39 finished with value: 0.8977371089402745 and parameters: {'n_estimators': 227, 'max_features': 'sqrt', 'min_samples_split': 10, 'min_samples_leaf': 3}. Best is trial 15 with value: 0.9248176085074812.\n",
      "[I 2025-05-05 15:31:36,913] Trial 37 finished with value: 0.9030542846543835 and parameters: {'n_estimators': 229, 'max_features': 'sqrt', 'min_samples_split': 10, 'min_samples_leaf': 2}. Best is trial 15 with value: 0.9248176085074812.\n",
      "[I 2025-05-05 15:31:44,220] Trial 43 finished with value: 0.9117101520959565 and parameters: {'n_estimators': 240, 'max_features': 'log2', 'min_samples_split': 6, 'min_samples_leaf': 2}. Best is trial 15 with value: 0.9248176085074812.\n",
      "[I 2025-05-05 15:32:30,911] Trial 44 finished with value: 0.9188821565475455 and parameters: {'n_estimators': 113, 'max_features': 'log2', 'min_samples_split': 5, 'min_samples_leaf': 1}. Best is trial 15 with value: 0.9248176085074812.\n",
      "[I 2025-05-05 15:33:23,754] Trial 45 finished with value: 0.9248176085074812 and parameters: {'n_estimators': 203, 'max_features': 'log2', 'min_samples_split': 6, 'min_samples_leaf': 1}. Best is trial 15 with value: 0.9248176085074812.\n",
      "[I 2025-05-05 15:33:26,637] Trial 46 finished with value: 0.9188821565475455 and parameters: {'n_estimators': 160, 'max_features': 'log2', 'min_samples_split': 3, 'min_samples_leaf': 1}. Best is trial 15 with value: 0.9248176085074812.\n",
      "[I 2025-05-05 15:33:31,766] Trial 41 finished with value: 0.9040435266477062 and parameters: {'n_estimators': 237, 'max_features': 'sqrt', 'min_samples_split': 10, 'min_samples_leaf': 2}. Best is trial 15 with value: 0.9248176085074812.\n",
      "[I 2025-05-05 15:34:28,014] Trial 47 finished with value: 0.9220971930258439 and parameters: {'n_estimators': 200, 'max_features': 'log2', 'min_samples_split': 3, 'min_samples_leaf': 1}. Best is trial 15 with value: 0.9248176085074812.\n",
      "[I 2025-05-05 15:48:23,880] Trial 48 pruned. \n",
      "[I 2025-05-05 15:48:26,747] Trial 49 pruned. \n"
     ]
    }
   ],
   "source": [
    "# Hyperparameter Tuning\n",
    "study = optuna.create_study(direction='maximize', sampler=optuna.samplers.TPESampler(seed=42))\n",
    "study.enqueue_trial({\n",
    "    \"n_estimators\": 100,\n",
    "    \"max_features\": \"sqrt\",\n",
    "    \"min_samples_split\": 2,\n",
    "    \"min_samples_leaf\": 1\n",
    "})\n",
    "study.optimize(objective, n_trials=50, n_jobs=4)"
   ]
  },
  {
   "cell_type": "code",
   "execution_count": 19,
   "id": "58017ea4",
   "metadata": {
    "execution": {
     "iopub.execute_input": "2025-05-05T15:48:26.780575Z",
     "iopub.status.busy": "2025-05-05T15:48:26.779355Z",
     "iopub.status.idle": "2025-05-05T15:48:26.787345Z",
     "shell.execute_reply": "2025-05-05T15:48:26.786482Z"
    },
    "papermill": {
     "duration": 0.020636,
     "end_time": "2025-05-05T15:48:26.788696",
     "exception": false,
     "start_time": "2025-05-05T15:48:26.768060",
     "status": "completed"
    },
    "tags": []
   },
   "outputs": [
    {
     "name": "stdout",
     "output_type": "stream",
     "text": [
      "Best parameters: {'n_estimators': 186, 'max_features': 'log2', 'min_samples_split': 6, 'min_samples_leaf': 1}\n",
      "Best accuracy: 0.9248176085074812\n"
     ]
    }
   ],
   "source": [
    "print(\"Best parameters:\", study.best_params)\n",
    "print(\"Best accuracy:\", study.best_value)"
   ]
  },
  {
   "cell_type": "code",
   "execution_count": 20,
   "id": "b2fe9f47",
   "metadata": {
    "execution": {
     "iopub.execute_input": "2025-05-05T15:48:26.809855Z",
     "iopub.status.busy": "2025-05-05T15:48:26.808988Z",
     "iopub.status.idle": "2025-05-05T15:49:29.617036Z",
     "shell.execute_reply": "2025-05-05T15:49:29.616022Z"
    },
    "papermill": {
     "duration": 62.828895,
     "end_time": "2025-05-05T15:49:29.627014",
     "exception": false,
     "start_time": "2025-05-05T15:48:26.798119",
     "status": "completed"
    },
    "tags": []
   },
   "outputs": [
    {
     "name": "stdout",
     "output_type": "stream",
     "text": [
      "Training Time: 62.80 s\n"
     ]
    }
   ],
   "source": [
    "# Re-training\n",
    "best_params = study.best_params\n",
    "rf_model = RandomForestClassifier(\n",
    "    n_estimators=best_params['n_estimators'],\n",
    "    max_features=best_params['max_features'],\n",
    "    min_samples_split=best_params['min_samples_split'],\n",
    "    min_samples_leaf=best_params['min_samples_leaf'],\n",
    "    random_state=42\n",
    ")\n",
    "start = time.time()\n",
    "rf_model.fit(X_train_tfidf, y_train)\n",
    "print(f\"Training Time: {time.time() - start:.2f} s\")"
   ]
  },
  {
   "cell_type": "code",
   "execution_count": 21,
   "id": "c097f61b",
   "metadata": {
    "execution": {
     "iopub.execute_input": "2025-05-05T15:49:29.646911Z",
     "iopub.status.busy": "2025-05-05T15:49:29.646556Z",
     "iopub.status.idle": "2025-05-05T15:49:30.899351Z",
     "shell.execute_reply": "2025-05-05T15:49:30.898259Z"
    },
    "papermill": {
     "duration": 1.264576,
     "end_time": "2025-05-05T15:49:30.900780",
     "exception": false,
     "start_time": "2025-05-05T15:49:29.636204",
     "status": "completed"
    },
    "tags": []
   },
   "outputs": [
    {
     "name": "stdout",
     "output_type": "stream",
     "text": [
      "Akurasi: 0.9248\n",
      "Presisi (Fake Review): 0.9467\n",
      "Recall (Fake Review): 0.9003\n",
      "F1-Score (Fake Review): 0.9229\n"
     ]
    }
   ],
   "source": [
    "# Evaluation\n",
    "rf_y_pred = rf_model.predict(X_test_tfidf)\n",
    "\n",
    "accuracy = accuracy_score(y_test, rf_y_pred)\n",
    "print(f'Akurasi: {accuracy:.4f}')\n",
    "\n",
    "precision_cg = precision_score(y_test, rf_y_pred)\n",
    "print(f'Presisi (Fake Review): {precision_cg:.4f}')\n",
    "\n",
    "recall_cg = recall_score(y_test, rf_y_pred)\n",
    "print(f'Recall (Fake Review): {recall_cg:.4f}')\n",
    "\n",
    "f1_cg = f1_score(y_test, rf_y_pred)\n",
    "print(f'F1-Score (Fake Review): {f1_cg:.4f}')"
   ]
  },
  {
   "cell_type": "code",
   "execution_count": 22,
   "id": "18a5bd27",
   "metadata": {
    "execution": {
     "iopub.execute_input": "2025-05-05T15:49:30.920375Z",
     "iopub.status.busy": "2025-05-05T15:49:30.920063Z",
     "iopub.status.idle": "2025-05-05T15:49:31.123381Z",
     "shell.execute_reply": "2025-05-05T15:49:31.122466Z"
    },
    "papermill": {
     "duration": 0.214966,
     "end_time": "2025-05-05T15:49:31.124979",
     "exception": false,
     "start_time": "2025-05-05T15:49:30.910013",
     "status": "completed"
    },
    "tags": []
   },
   "outputs": [
    {
     "data": {
      "image/png": "[encoded data removed]",
      "text/plain": [
       "<Figure size 600x600 with 2 Axes>"
      ]
     },
     "metadata": {},
     "output_type": "display_data"
    }
   ],
   "source": [
    "conf_matrix = confusion_matrix(y_test, rf_y_pred)\n",
    "plt.figure(figsize=(6, 6))\n",
    "sns.heatmap(conf_matrix, annot=True, fmt='d', cmap='Blues', xticklabels=['Real Review', 'Fake Review'], yticklabels=['Real Review', 'Fake Review'])\n",
    "plt.title('Confusion Matrix')\n",
    "plt.ylabel('Actual Label')\n",
    "plt.xlabel('Predicted Label')\n",
    "plt.show()"
   ]
  },
  {
   "cell_type": "code",
   "execution_count": 23,
   "id": "7f81c5d9",
   "metadata": {
    "execution": {
     "iopub.execute_input": "2025-05-05T15:49:31.146403Z",
     "iopub.status.busy": "2025-05-05T15:49:31.145687Z",
     "iopub.status.idle": "2025-05-05T15:49:31.169908Z",
     "shell.execute_reply": "2025-05-05T15:49:31.168587Z"
    },
    "papermill": {
     "duration": 0.036448,
     "end_time": "2025-05-05T15:49:31.171422",
     "exception": false,
     "start_time": "2025-05-05T15:49:31.134974",
     "status": "completed"
    },
    "tags": []
   },
   "outputs": [
    {
     "name": "stdout",
     "output_type": "stream",
     "text": [
      "Classification Report:\n",
      "              precision    recall  f1-score   support\n",
      "\n",
      " Real Review       0.90      0.95      0.93      4044\n",
      " Fake Review       0.95      0.90      0.92      4043\n",
      "\n",
      "    accuracy                           0.92      8087\n",
      "   macro avg       0.93      0.92      0.92      8087\n",
      "weighted avg       0.93      0.92      0.92      8087\n",
      "\n"
     ]
    }
   ],
   "source": [
    "print(\"Classification Report:\")\n",
    "print(classification_report(y_test, rf_y_pred, target_names=['Real Review', 'Fake Review']))"
   ]
  },
  {
   "cell_type": "markdown",
   "id": "c70529ca",
   "metadata": {
    "papermill": {
     "duration": 0.010588,
     "end_time": "2025-05-05T15:49:31.192123",
     "exception": false,
     "start_time": "2025-05-05T15:49:31.181535",
     "status": "completed"
    },
    "tags": []
   },
   "source": [
    "## Save Model"
   ]
  },
  {
   "cell_type": "code",
   "execution_count": 24,
   "id": "52b148ff",
   "metadata": {
    "execution": {
     "iopub.execute_input": "2025-05-05T15:49:31.214142Z",
     "iopub.status.busy": "2025-05-05T15:49:31.213730Z",
     "iopub.status.idle": "2025-05-05T15:49:31.502670Z",
     "shell.execute_reply": "2025-05-05T15:49:31.501906Z"
    },
    "papermill": {
     "duration": 0.301145,
     "end_time": "2025-05-05T15:49:31.504130",
     "exception": false,
     "start_time": "2025-05-05T15:49:31.202985",
     "status": "completed"
    },
    "tags": []
   },
   "outputs": [
    {
     "data": {
      "text/plain": [
       "['/kaggle/working/rf.pkl']"
      ]
     },
     "execution_count": 24,
     "metadata": {},
     "output_type": "execute_result"
    }
   ],
   "source": [
    "joblib.dump(rf_model, '/kaggle/working/rf.pkl')"
   ]
  }
 ],
 "metadata": {
  "kaggle": {
   "accelerator": "none",
   "dataSources": [
    {
     "datasetId": 7266239,
     "sourceId": 11588322,
     "sourceType": "datasetVersion"
    }
   ],
   "dockerImageVersionId": 31012,
   "isGpuEnabled": false,
   "isInternetEnabled": true,
   "language": "python",
   "sourceType": "notebook"
  },
  "kernelspec": {
   "display_name": "Python 3",
   "language": "python",
   "name": "python3"
  },
  "language_info": {
   "codemirror_mode": {
    "name": "ipython",
    "version": 3
   },
   "file_extension": ".py",
   "mimetype": "text/x-python",
   "name": "python",
   "nbconvert_exporter": "python",
   "pygments_lexer": "ipython3",
   "version": "3.11.11"
  },
  "papermill": {
   "default_parameters": {},
   "duration": 3308.033176,
   "end_time": "2025-05-05T15:49:34.339390",
   "environment_variables": {},
   "exception": null,
   "input_path": "__notebook__.ipynb",
   "output_path": "__notebook__.ipynb",
   "parameters": {},
   "start_time": "2025-05-05T14:54:26.306214",
   "version": "2.6.0"
  }
 },
 "nbformat": 4,
 "nbformat_minor": 5
}
