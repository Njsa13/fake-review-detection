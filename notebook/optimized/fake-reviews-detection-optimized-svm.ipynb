{
 "cells": [
  {
   "cell_type": "markdown",
   "id": "8547ff20",
   "metadata": {
    "papermill": {
     "duration": 0.006119,
     "end_time": "2025-05-06T06:05:59.872917",
     "exception": false,
     "start_time": "2025-05-06T06:05:59.866798",
     "status": "completed"
    },
    "tags": []
   },
   "source": [
    "## Import Library"
   ]
  },
  {
   "cell_type": "code",
   "execution_count": 1,
   "id": "d9e71370",
   "metadata": {
    "execution": {
     "iopub.execute_input": "2025-05-06T06:05:59.884296Z",
     "iopub.status.busy": "2025-05-06T06:05:59.883909Z",
     "iopub.status.idle": "2025-05-06T06:06:04.732785Z",
     "shell.execute_reply": "2025-05-06T06:06:04.731610Z"
    },
    "papermill": {
     "duration": 4.856638,
     "end_time": "2025-05-06T06:06:04.734598",
     "exception": false,
     "start_time": "2025-05-06T06:05:59.877960",
     "status": "completed"
    },
    "tags": []
   },
   "outputs": [
    {
     "name": "stdout",
     "output_type": "stream",
     "text": [
      "Requirement already satisfied: optuna in /usr/local/lib/python3.11/dist-packages (4.2.1)\r\n",
      "Requirement already satisfied: alembic>=1.5.0 in /usr/local/lib/python3.11/dist-packages (from optuna) (1.15.2)\r\n",
      "Requirement already satisfied: colorlog in /usr/local/lib/python3.11/dist-packages (from optuna) (6.9.0)\r\n",
      "Requirement already satisfied: numpy in /usr/local/lib/python3.11/dist-packages (from optuna) (1.26.4)\r\n",
      "Requirement already satisfied: packaging>=20.0 in /usr/local/lib/python3.11/dist-packages (from optuna) (24.2)\r\n",
      "Requirement already satisfied: sqlalchemy>=1.4.2 in /usr/local/lib/python3.11/dist-packages (from optuna) (2.0.38)\r\n",
      "Requirement already satisfied: tqdm in /usr/local/lib/python3.11/dist-packages (from optuna) (4.67.1)\r\n",
      "Requirement already satisfied: PyYAML in /usr/local/lib/python3.11/dist-packages (from optuna) (6.0.2)\r\n",
      "Requirement already satisfied: Mako in /usr/local/lib/python3.11/dist-packages (from alembic>=1.5.0->optuna) (1.3.9)\r\n",
      "Requirement already satisfied: typing-extensions>=4.12 in /usr/local/lib/python3.11/dist-packages (from alembic>=1.5.0->optuna) (4.13.1)\r\n",
      "Requirement already satisfied: greenlet!=0.4.17 in /usr/local/lib/python3.11/dist-packages (from sqlalchemy>=1.4.2->optuna) (3.1.1)\r\n",
      "Requirement already satisfied: mkl_fft in /usr/local/lib/python3.11/dist-packages (from numpy->optuna) (1.3.8)\r\n",
      "Requirement already satisfied: mkl_random in /usr/local/lib/python3.11/dist-packages (from numpy->optuna) (1.2.4)\r\n",
      "Requirement already satisfied: mkl_umath in /usr/local/lib/python3.11/dist-packages (from numpy->optuna) (0.1.1)\r\n",
      "Requirement already satisfied: mkl in /usr/local/lib/python3.11/dist-packages (from numpy->optuna) (2025.1.0)\r\n",
      "Requirement already satisfied: tbb4py in /usr/local/lib/python3.11/dist-packages (from numpy->optuna) (2022.1.0)\r\n",
      "Requirement already satisfied: mkl-service in /usr/local/lib/python3.11/dist-packages (from numpy->optuna) (2.4.1)\r\n",
      "Requirement already satisfied: MarkupSafe>=0.9.2 in /usr/local/lib/python3.11/dist-packages (from Mako->alembic>=1.5.0->optuna) (3.0.2)\r\n",
      "Requirement already satisfied: intel-openmp<2026,>=2024 in /usr/local/lib/python3.11/dist-packages (from mkl->numpy->optuna) (2024.2.0)\r\n",
      "Requirement already satisfied: tbb==2022.* in /usr/local/lib/python3.11/dist-packages (from mkl->numpy->optuna) (2022.1.0)\r\n",
      "Requirement already satisfied: tcmlib==1.* in /usr/local/lib/python3.11/dist-packages (from tbb==2022.*->mkl->numpy->optuna) (1.2.0)\r\n",
      "Requirement already satisfied: intel-cmplr-lib-rt in /usr/local/lib/python3.11/dist-packages (from mkl_umath->numpy->optuna) (2024.2.0)\r\n",
      "Requirement already satisfied: intel-cmplr-lib-ur==2024.2.0 in /usr/local/lib/python3.11/dist-packages (from intel-openmp<2026,>=2024->mkl->numpy->optuna) (2024.2.0)\r\n"
     ]
    }
   ],
   "source": [
    "!pip install optuna"
   ]
  },
  {
   "cell_type": "code",
   "execution_count": 2,
   "id": "b668ef23",
   "metadata": {
    "execution": {
     "iopub.execute_input": "2025-05-06T06:06:04.746742Z",
     "iopub.status.busy": "2025-05-06T06:06:04.746030Z",
     "iopub.status.idle": "2025-05-06T06:06:10.635213Z",
     "shell.execute_reply": "2025-05-06T06:06:10.633952Z"
    },
    "papermill": {
     "duration": 5.89712,
     "end_time": "2025-05-06T06:06:10.636986",
     "exception": false,
     "start_time": "2025-05-06T06:06:04.739866",
     "status": "completed"
    },
    "tags": []
   },
   "outputs": [
    {
     "name": "stdout",
     "output_type": "stream",
     "text": [
      "Collecting timeout-decorator\r\n",
      "  Downloading timeout-decorator-0.5.0.tar.gz (4.8 kB)\r\n",
      "  Preparing metadata (setup.py) ... \u001b[?25l\u001b[?25hdone\r\n",
      "Building wheels for collected packages: timeout-decorator\r\n",
      "  Building wheel for timeout-decorator (setup.py) ... \u001b[?25l\u001b[?25hdone\r\n",
      "  Created wheel for timeout-decorator: filename=timeout_decorator-0.5.0-py3-none-any.whl size=5007 sha256=9fd6a0da07f2a43d4feb4dfeea679c282633e36c4723af19266ed466c28ac22b\r\n",
      "  Stored in directory: /root/.cache/pip/wheels/aa/cd/d1/51736c6b95846b2613a520ce146a8f305c4016a987bc9faec7\r\n",
      "Successfully built timeout-decorator\r\n",
      "Installing collected packages: timeout-decorator\r\n",
      "Successfully installed timeout-decorator-0.5.0\r\n"
     ]
    }
   ],
   "source": [
    "!pip install timeout-decorator"
   ]
  },
  {
   "cell_type": "code",
   "execution_count": 3,
   "id": "d392ec2e",
   "metadata": {
    "execution": {
     "iopub.execute_input": "2025-05-06T06:06:10.649787Z",
     "iopub.status.busy": "2025-05-06T06:06:10.649004Z",
     "iopub.status.idle": "2025-05-06T06:06:10.654901Z",
     "shell.execute_reply": "2025-05-06T06:06:10.653776Z"
    },
    "papermill": {
     "duration": 0.013762,
     "end_time": "2025-05-06T06:06:10.656282",
     "exception": false,
     "start_time": "2025-05-06T06:06:10.642520",
     "status": "completed"
    },
    "tags": []
   },
   "outputs": [
    {
     "name": "stdout",
     "output_type": "stream",
     "text": [
      "Number of CPU cores: 4\n"
     ]
    }
   ],
   "source": [
    "import os\n",
    "\n",
    "cpu_count = os.cpu_count()\n",
    "print(f\"Number of CPU cores: {cpu_count}\")"
   ]
  },
  {
   "cell_type": "code",
   "execution_count": 4,
   "id": "ef1dbe53",
   "metadata": {
    "execution": {
     "iopub.execute_input": "2025-05-06T06:06:10.669372Z",
     "iopub.status.busy": "2025-05-06T06:06:10.669026Z",
     "iopub.status.idle": "2025-05-06T06:06:15.596623Z",
     "shell.execute_reply": "2025-05-06T06:06:15.595649Z"
    },
    "papermill": {
     "duration": 4.936478,
     "end_time": "2025-05-06T06:06:15.598426",
     "exception": false,
     "start_time": "2025-05-06T06:06:10.661948",
     "status": "completed"
    },
    "tags": []
   },
   "outputs": [],
   "source": [
    "import pandas as pd\n",
    "import matplotlib.pyplot as plt\n",
    "import seaborn as sns\n",
    "from sklearn.ensemble import RandomForestClassifier\n",
    "from sklearn.svm import SVC\n",
    "from sklearn.naive_bayes import MultinomialNB\n",
    "from xgboost import XGBClassifier\n",
    "from sklearn.feature_extraction.text import TfidfVectorizer\n",
    "from sklearn.model_selection import train_test_split\n",
    "from collections import Counter\n",
    "import time\n",
    "from sklearn.metrics import accuracy_score, precision_score, recall_score, f1_score, classification_report, confusion_matrix\n",
    "import optuna\n",
    "import timeout_decorator\n",
    "from timeout_decorator.timeout_decorator import TimeoutError\n",
    "import joblib"
   ]
  },
  {
   "cell_type": "markdown",
   "id": "6fc07d41",
   "metadata": {
    "papermill": {
     "duration": 0.005507,
     "end_time": "2025-05-06T06:06:15.609577",
     "exception": false,
     "start_time": "2025-05-06T06:06:15.604070",
     "status": "completed"
    },
    "tags": []
   },
   "source": [
    "## Import Dataset"
   ]
  },
  {
   "cell_type": "code",
   "execution_count": 5,
   "id": "fff7055e",
   "metadata": {
    "execution": {
     "iopub.execute_input": "2025-05-06T06:06:15.621549Z",
     "iopub.status.busy": "2025-05-06T06:06:15.621098Z",
     "iopub.status.idle": "2025-05-06T06:06:16.356063Z",
     "shell.execute_reply": "2025-05-06T06:06:16.355024Z"
    },
    "papermill": {
     "duration": 0.742964,
     "end_time": "2025-05-06T06:06:16.357813",
     "exception": false,
     "start_time": "2025-05-06T06:06:15.614849",
     "status": "completed"
    },
    "tags": []
   },
   "outputs": [],
   "source": [
    "df = pd.read_csv('/kaggle/input/preprocessed-fake-reviews-dataset/preprocessed-fake-reviews-dataset.csv')"
   ]
  },
  {
   "cell_type": "code",
   "execution_count": 6,
   "id": "5fd12170",
   "metadata": {
    "execution": {
     "iopub.execute_input": "2025-05-06T06:06:16.370304Z",
     "iopub.status.busy": "2025-05-06T06:06:16.369978Z",
     "iopub.status.idle": "2025-05-06T06:06:16.400980Z",
     "shell.execute_reply": "2025-05-06T06:06:16.399810Z"
    },
    "papermill": {
     "duration": 0.039008,
     "end_time": "2025-05-06T06:06:16.402570",
     "exception": false,
     "start_time": "2025-05-06T06:06:16.363562",
     "status": "completed"
    },
    "tags": []
   },
   "outputs": [
    {
     "data": {
      "text/html": [
       "<div>\n",
       "<style scoped>\n",
       "    .dataframe tbody tr th:only-of-type {\n",
       "        vertical-align: middle;\n",
       "    }\n",
       "\n",
       "    .dataframe tbody tr th {\n",
       "        vertical-align: top;\n",
       "    }\n",
       "\n",
       "    .dataframe thead th {\n",
       "        text-align: right;\n",
       "    }\n",
       "</style>\n",
       "<table border=\"1\" class=\"dataframe\">\n",
       "  <thead>\n",
       "    <tr style=\"text-align: right;\">\n",
       "      <th></th>\n",
       "      <th>rating</th>\n",
       "      <th>label</th>\n",
       "      <th>text_</th>\n",
       "      <th>cleaned_text</th>\n",
       "      <th>category_Books_5</th>\n",
       "      <th>category_Clothing_Shoes_and_Jewelry_5</th>\n",
       "      <th>category_Electronics_5</th>\n",
       "      <th>category_Home_and_Kitchen_5</th>\n",
       "      <th>category_Kindle_Store_5</th>\n",
       "      <th>category_Movies_and_TV_5</th>\n",
       "      <th>category_Pet_Supplies_5</th>\n",
       "      <th>category_Sports_and_Outdoors_5</th>\n",
       "      <th>category_Tools_and_Home_Improvement_5</th>\n",
       "      <th>category_Toys_and_Games_5</th>\n",
       "    </tr>\n",
       "  </thead>\n",
       "  <tbody>\n",
       "    <tr>\n",
       "      <th>0</th>\n",
       "      <td>5.0</td>\n",
       "      <td>1</td>\n",
       "      <td>Love this!  Well made, sturdy, and very comfor...</td>\n",
       "      <td>Love this  Well made sturdy and very comfortab...</td>\n",
       "      <td>False</td>\n",
       "      <td>False</td>\n",
       "      <td>False</td>\n",
       "      <td>True</td>\n",
       "      <td>False</td>\n",
       "      <td>False</td>\n",
       "      <td>False</td>\n",
       "      <td>False</td>\n",
       "      <td>False</td>\n",
       "      <td>False</td>\n",
       "    </tr>\n",
       "    <tr>\n",
       "      <th>1</th>\n",
       "      <td>5.0</td>\n",
       "      <td>1</td>\n",
       "      <td>love it, a great upgrade from the original.  I...</td>\n",
       "      <td>love it a great upgrade from the original  Ive...</td>\n",
       "      <td>False</td>\n",
       "      <td>False</td>\n",
       "      <td>False</td>\n",
       "      <td>True</td>\n",
       "      <td>False</td>\n",
       "      <td>False</td>\n",
       "      <td>False</td>\n",
       "      <td>False</td>\n",
       "      <td>False</td>\n",
       "      <td>False</td>\n",
       "    </tr>\n",
       "    <tr>\n",
       "      <th>2</th>\n",
       "      <td>5.0</td>\n",
       "      <td>1</td>\n",
       "      <td>This pillow saved my back. I love the look and...</td>\n",
       "      <td>This pillow saved my back I love the look and ...</td>\n",
       "      <td>False</td>\n",
       "      <td>False</td>\n",
       "      <td>False</td>\n",
       "      <td>True</td>\n",
       "      <td>False</td>\n",
       "      <td>False</td>\n",
       "      <td>False</td>\n",
       "      <td>False</td>\n",
       "      <td>False</td>\n",
       "      <td>False</td>\n",
       "    </tr>\n",
       "    <tr>\n",
       "      <th>3</th>\n",
       "      <td>1.0</td>\n",
       "      <td>1</td>\n",
       "      <td>Missing information on how to use it, but it i...</td>\n",
       "      <td>Missing information on how to use it but it is...</td>\n",
       "      <td>False</td>\n",
       "      <td>False</td>\n",
       "      <td>False</td>\n",
       "      <td>True</td>\n",
       "      <td>False</td>\n",
       "      <td>False</td>\n",
       "      <td>False</td>\n",
       "      <td>False</td>\n",
       "      <td>False</td>\n",
       "      <td>False</td>\n",
       "    </tr>\n",
       "    <tr>\n",
       "      <th>4</th>\n",
       "      <td>5.0</td>\n",
       "      <td>1</td>\n",
       "      <td>Very nice set. Good quality. We have had the s...</td>\n",
       "      <td>Very nice set Good quality We have had the set...</td>\n",
       "      <td>False</td>\n",
       "      <td>False</td>\n",
       "      <td>False</td>\n",
       "      <td>True</td>\n",
       "      <td>False</td>\n",
       "      <td>False</td>\n",
       "      <td>False</td>\n",
       "      <td>False</td>\n",
       "      <td>False</td>\n",
       "      <td>False</td>\n",
       "    </tr>\n",
       "  </tbody>\n",
       "</table>\n",
       "</div>"
      ],
      "text/plain": [
       "   rating  label                                              text_  \\\n",
       "0     5.0      1  Love this!  Well made, sturdy, and very comfor...   \n",
       "1     5.0      1  love it, a great upgrade from the original.  I...   \n",
       "2     5.0      1  This pillow saved my back. I love the look and...   \n",
       "3     1.0      1  Missing information on how to use it, but it i...   \n",
       "4     5.0      1  Very nice set. Good quality. We have had the s...   \n",
       "\n",
       "                                        cleaned_text  category_Books_5  \\\n",
       "0  Love this  Well made sturdy and very comfortab...             False   \n",
       "1  love it a great upgrade from the original  Ive...             False   \n",
       "2  This pillow saved my back I love the look and ...             False   \n",
       "3  Missing information on how to use it but it is...             False   \n",
       "4  Very nice set Good quality We have had the set...             False   \n",
       "\n",
       "   category_Clothing_Shoes_and_Jewelry_5  category_Electronics_5  \\\n",
       "0                                  False                   False   \n",
       "1                                  False                   False   \n",
       "2                                  False                   False   \n",
       "3                                  False                   False   \n",
       "4                                  False                   False   \n",
       "\n",
       "   category_Home_and_Kitchen_5  category_Kindle_Store_5  \\\n",
       "0                         True                    False   \n",
       "1                         True                    False   \n",
       "2                         True                    False   \n",
       "3                         True                    False   \n",
       "4                         True                    False   \n",
       "\n",
       "   category_Movies_and_TV_5  category_Pet_Supplies_5  \\\n",
       "0                     False                    False   \n",
       "1                     False                    False   \n",
       "2                     False                    False   \n",
       "3                     False                    False   \n",
       "4                     False                    False   \n",
       "\n",
       "   category_Sports_and_Outdoors_5  category_Tools_and_Home_Improvement_5  \\\n",
       "0                           False                                  False   \n",
       "1                           False                                  False   \n",
       "2                           False                                  False   \n",
       "3                           False                                  False   \n",
       "4                           False                                  False   \n",
       "\n",
       "   category_Toys_and_Games_5  \n",
       "0                      False  \n",
       "1                      False  \n",
       "2                      False  \n",
       "3                      False  \n",
       "4                      False  "
      ]
     },
     "execution_count": 6,
     "metadata": {},
     "output_type": "execute_result"
    }
   ],
   "source": [
    "df.head()"
   ]
  },
  {
   "cell_type": "code",
   "execution_count": 7,
   "id": "55b3615a",
   "metadata": {
    "execution": {
     "iopub.execute_input": "2025-05-06T06:06:16.415405Z",
     "iopub.status.busy": "2025-05-06T06:06:16.415045Z",
     "iopub.status.idle": "2025-05-06T06:06:16.435377Z",
     "shell.execute_reply": "2025-05-06T06:06:16.434411Z"
    },
    "papermill": {
     "duration": 0.028579,
     "end_time": "2025-05-06T06:06:16.436917",
     "exception": false,
     "start_time": "2025-05-06T06:06:16.408338",
     "status": "completed"
    },
    "tags": []
   },
   "outputs": [
    {
     "data": {
      "text/plain": [
       "rating                                   0\n",
       "label                                    0\n",
       "text_                                    0\n",
       "cleaned_text                             1\n",
       "category_Books_5                         0\n",
       "category_Clothing_Shoes_and_Jewelry_5    0\n",
       "category_Electronics_5                   0\n",
       "category_Home_and_Kitchen_5              0\n",
       "category_Kindle_Store_5                  0\n",
       "category_Movies_and_TV_5                 0\n",
       "category_Pet_Supplies_5                  0\n",
       "category_Sports_and_Outdoors_5           0\n",
       "category_Tools_and_Home_Improvement_5    0\n",
       "category_Toys_and_Games_5                0\n",
       "dtype: int64"
      ]
     },
     "execution_count": 7,
     "metadata": {},
     "output_type": "execute_result"
    }
   ],
   "source": [
    "df.isnull().sum()"
   ]
  },
  {
   "cell_type": "code",
   "execution_count": 8,
   "id": "e7351ace",
   "metadata": {
    "execution": {
     "iopub.execute_input": "2025-05-06T06:06:16.450444Z",
     "iopub.status.busy": "2025-05-06T06:06:16.450102Z",
     "iopub.status.idle": "2025-05-06T06:06:16.465819Z",
     "shell.execute_reply": "2025-05-06T06:06:16.464909Z"
    },
    "papermill": {
     "duration": 0.024215,
     "end_time": "2025-05-06T06:06:16.467407",
     "exception": false,
     "start_time": "2025-05-06T06:06:16.443192",
     "status": "completed"
    },
    "tags": []
   },
   "outputs": [],
   "source": [
    "df['cleaned_text'] = df['cleaned_text'].fillna(\"\")"
   ]
  },
  {
   "cell_type": "code",
   "execution_count": 9,
   "id": "26777d12",
   "metadata": {
    "execution": {
     "iopub.execute_input": "2025-05-06T06:06:16.481077Z",
     "iopub.status.busy": "2025-05-06T06:06:16.480091Z",
     "iopub.status.idle": "2025-05-06T06:06:16.498996Z",
     "shell.execute_reply": "2025-05-06T06:06:16.497932Z"
    },
    "papermill": {
     "duration": 0.027567,
     "end_time": "2025-05-06T06:06:16.500679",
     "exception": false,
     "start_time": "2025-05-06T06:06:16.473112",
     "status": "completed"
    },
    "tags": []
   },
   "outputs": [
    {
     "data": {
      "text/plain": [
       "rating                                   0\n",
       "label                                    0\n",
       "text_                                    0\n",
       "cleaned_text                             0\n",
       "category_Books_5                         0\n",
       "category_Clothing_Shoes_and_Jewelry_5    0\n",
       "category_Electronics_5                   0\n",
       "category_Home_and_Kitchen_5              0\n",
       "category_Kindle_Store_5                  0\n",
       "category_Movies_and_TV_5                 0\n",
       "category_Pet_Supplies_5                  0\n",
       "category_Sports_and_Outdoors_5           0\n",
       "category_Tools_and_Home_Improvement_5    0\n",
       "category_Toys_and_Games_5                0\n",
       "dtype: int64"
      ]
     },
     "execution_count": 9,
     "metadata": {},
     "output_type": "execute_result"
    }
   ],
   "source": [
    "df.isnull().sum()"
   ]
  },
  {
   "cell_type": "code",
   "execution_count": 10,
   "id": "b7620ca9",
   "metadata": {
    "execution": {
     "iopub.execute_input": "2025-05-06T06:06:16.513429Z",
     "iopub.status.busy": "2025-05-06T06:06:16.513155Z",
     "iopub.status.idle": "2025-05-06T06:06:16.548194Z",
     "shell.execute_reply": "2025-05-06T06:06:16.547312Z"
    },
    "papermill": {
     "duration": 0.043505,
     "end_time": "2025-05-06T06:06:16.550043",
     "exception": false,
     "start_time": "2025-05-06T06:06:16.506538",
     "status": "completed"
    },
    "tags": []
   },
   "outputs": [
    {
     "name": "stdout",
     "output_type": "stream",
     "text": [
      "<class 'pandas.core.frame.DataFrame'>\n",
      "RangeIndex: 40432 entries, 0 to 40431\n",
      "Data columns (total 14 columns):\n",
      " #   Column                                 Non-Null Count  Dtype  \n",
      "---  ------                                 --------------  -----  \n",
      " 0   rating                                 40432 non-null  float64\n",
      " 1   label                                  40432 non-null  int64  \n",
      " 2   text_                                  40432 non-null  object \n",
      " 3   cleaned_text                           40432 non-null  object \n",
      " 4   category_Books_5                       40432 non-null  bool   \n",
      " 5   category_Clothing_Shoes_and_Jewelry_5  40432 non-null  bool   \n",
      " 6   category_Electronics_5                 40432 non-null  bool   \n",
      " 7   category_Home_and_Kitchen_5            40432 non-null  bool   \n",
      " 8   category_Kindle_Store_5                40432 non-null  bool   \n",
      " 9   category_Movies_and_TV_5               40432 non-null  bool   \n",
      " 10  category_Pet_Supplies_5                40432 non-null  bool   \n",
      " 11  category_Sports_and_Outdoors_5         40432 non-null  bool   \n",
      " 12  category_Tools_and_Home_Improvement_5  40432 non-null  bool   \n",
      " 13  category_Toys_and_Games_5              40432 non-null  bool   \n",
      "dtypes: bool(10), float64(1), int64(1), object(2)\n",
      "memory usage: 1.6+ MB\n"
     ]
    }
   ],
   "source": [
    "df.info()"
   ]
  },
  {
   "cell_type": "code",
   "execution_count": 11,
   "id": "4b6b5af5",
   "metadata": {
    "execution": {
     "iopub.execute_input": "2025-05-06T06:06:16.563608Z",
     "iopub.status.busy": "2025-05-06T06:06:16.563303Z",
     "iopub.status.idle": "2025-05-06T06:06:16.583291Z",
     "shell.execute_reply": "2025-05-06T06:06:16.582349Z"
    },
    "papermill": {
     "duration": 0.028567,
     "end_time": "2025-05-06T06:06:16.584919",
     "exception": false,
     "start_time": "2025-05-06T06:06:16.556352",
     "status": "completed"
    },
    "tags": []
   },
   "outputs": [
    {
     "data": {
      "text/html": [
       "<div>\n",
       "<style scoped>\n",
       "    .dataframe tbody tr th:only-of-type {\n",
       "        vertical-align: middle;\n",
       "    }\n",
       "\n",
       "    .dataframe tbody tr th {\n",
       "        vertical-align: top;\n",
       "    }\n",
       "\n",
       "    .dataframe thead th {\n",
       "        text-align: right;\n",
       "    }\n",
       "</style>\n",
       "<table border=\"1\" class=\"dataframe\">\n",
       "  <thead>\n",
       "    <tr style=\"text-align: right;\">\n",
       "      <th></th>\n",
       "      <th>rating</th>\n",
       "      <th>label</th>\n",
       "    </tr>\n",
       "  </thead>\n",
       "  <tbody>\n",
       "    <tr>\n",
       "      <th>count</th>\n",
       "      <td>40432.000000</td>\n",
       "      <td>40432.000000</td>\n",
       "    </tr>\n",
       "    <tr>\n",
       "      <th>mean</th>\n",
       "      <td>4.256579</td>\n",
       "      <td>0.500000</td>\n",
       "    </tr>\n",
       "    <tr>\n",
       "      <th>std</th>\n",
       "      <td>1.144354</td>\n",
       "      <td>0.500006</td>\n",
       "    </tr>\n",
       "    <tr>\n",
       "      <th>min</th>\n",
       "      <td>1.000000</td>\n",
       "      <td>0.000000</td>\n",
       "    </tr>\n",
       "    <tr>\n",
       "      <th>25%</th>\n",
       "      <td>4.000000</td>\n",
       "      <td>0.000000</td>\n",
       "    </tr>\n",
       "    <tr>\n",
       "      <th>50%</th>\n",
       "      <td>5.000000</td>\n",
       "      <td>0.500000</td>\n",
       "    </tr>\n",
       "    <tr>\n",
       "      <th>75%</th>\n",
       "      <td>5.000000</td>\n",
       "      <td>1.000000</td>\n",
       "    </tr>\n",
       "    <tr>\n",
       "      <th>max</th>\n",
       "      <td>5.000000</td>\n",
       "      <td>1.000000</td>\n",
       "    </tr>\n",
       "  </tbody>\n",
       "</table>\n",
       "</div>"
      ],
      "text/plain": [
       "             rating         label\n",
       "count  40432.000000  40432.000000\n",
       "mean       4.256579      0.500000\n",
       "std        1.144354      0.500006\n",
       "min        1.000000      0.000000\n",
       "25%        4.000000      0.000000\n",
       "50%        5.000000      0.500000\n",
       "75%        5.000000      1.000000\n",
       "max        5.000000      1.000000"
      ]
     },
     "execution_count": 11,
     "metadata": {},
     "output_type": "execute_result"
    }
   ],
   "source": [
    "df.describe()"
   ]
  },
  {
   "cell_type": "markdown",
   "id": "4931da20",
   "metadata": {
    "papermill": {
     "duration": 0.005999,
     "end_time": "2025-05-06T06:06:16.597083",
     "exception": false,
     "start_time": "2025-05-06T06:06:16.591084",
     "status": "completed"
    },
    "tags": []
   },
   "source": [
    "## Data Splitting"
   ]
  },
  {
   "cell_type": "code",
   "execution_count": 12,
   "id": "1a9df66d",
   "metadata": {
    "execution": {
     "iopub.execute_input": "2025-05-06T06:06:16.611132Z",
     "iopub.status.busy": "2025-05-06T06:06:16.610711Z",
     "iopub.status.idle": "2025-05-06T06:06:16.645051Z",
     "shell.execute_reply": "2025-05-06T06:06:16.644145Z"
    },
    "papermill": {
     "duration": 0.043207,
     "end_time": "2025-05-06T06:06:16.646807",
     "exception": false,
     "start_time": "2025-05-06T06:06:16.603600",
     "status": "completed"
    },
    "tags": []
   },
   "outputs": [],
   "source": [
    "X_train, X_test, y_train, y_test = train_test_split(df, df['label'], test_size=0.2, random_state=42, stratify=df['label'])"
   ]
  },
  {
   "cell_type": "code",
   "execution_count": 13,
   "id": "4debc253",
   "metadata": {
    "execution": {
     "iopub.execute_input": "2025-05-06T06:06:16.660166Z",
     "iopub.status.busy": "2025-05-06T06:06:16.659833Z",
     "iopub.status.idle": "2025-05-06T06:06:16.669362Z",
     "shell.execute_reply": "2025-05-06T06:06:16.668301Z"
    },
    "papermill": {
     "duration": 0.017828,
     "end_time": "2025-05-06T06:06:16.670923",
     "exception": false,
     "start_time": "2025-05-06T06:06:16.653095",
     "status": "completed"
    },
    "tags": []
   },
   "outputs": [
    {
     "name": "stdout",
     "output_type": "stream",
     "text": [
      "Jumlah Real Review Train (0): 16172\n",
      "Jumlah Fake Review Train (1): 16173\n",
      "Jumlah Real Review Test (0): 4044\n",
      "Jumlah Fake Review Test (1): 4043\n"
     ]
    }
   ],
   "source": [
    "train_label_counts = y_train.value_counts()\n",
    "test_label_counts = y_test.value_counts()\n",
    "\n",
    "print(\"Jumlah Real Review Train (0):\", train_label_counts[0])\n",
    "print(\"Jumlah Fake Review Train (1):\", train_label_counts[1])\n",
    "print(\"Jumlah Real Review Test (0):\", test_label_counts[0])\n",
    "print(\"Jumlah Fake Review Test (1):\", test_label_counts[1])"
   ]
  },
  {
   "cell_type": "code",
   "execution_count": 14,
   "id": "9392b4eb",
   "metadata": {
    "execution": {
     "iopub.execute_input": "2025-05-06T06:06:16.684597Z",
     "iopub.status.busy": "2025-05-06T06:06:16.684283Z",
     "iopub.status.idle": "2025-05-06T06:06:17.169971Z",
     "shell.execute_reply": "2025-05-06T06:06:17.169077Z"
    },
    "papermill": {
     "duration": 0.494974,
     "end_time": "2025-05-06T06:06:17.172110",
     "exception": false,
     "start_time": "2025-05-06T06:06:16.677136",
     "status": "completed"
    },
    "tags": []
   },
   "outputs": [
    {
     "data": {
      "image/png": "[encoded data removed]",
      "text/plain": [
       "<Figure size 1200x500 with 2 Axes>"
      ]
     },
     "metadata": {},
     "output_type": "display_data"
    }
   ],
   "source": [
    "train_counts = Counter(y_train)\n",
    "test_counts = Counter(y_test)\n",
    "\n",
    "fig, axes = plt.subplots(1, 2, figsize=(12, 5))\n",
    "\n",
    "axes[0].bar(train_counts.keys(), train_counts.values(), color=['blue', 'orange'])\n",
    "axes[0].set_title('Distribusi Data Train')\n",
    "axes[0].set_xticks([0, 1])\n",
    "axes[0].set_xticklabels(['0', '1'])\n",
    "axes[0].set_xlabel('Kelas')\n",
    "axes[0].set_ylabel('Jumlah Data')\n",
    "axes[0].grid(axis='y', linestyle='--', alpha=0.7)\n",
    "\n",
    "axes[1].bar(test_counts.keys(), test_counts.values(), color=['blue', 'orange'])\n",
    "axes[1].set_title('Distribusi Data Test')\n",
    "axes[1].set_xticks([0, 1])\n",
    "axes[1].set_xticklabels(['0', '1'])\n",
    "axes[1].set_xlabel('Kelas')\n",
    "axes[1].set_ylabel('Jumlah Data')\n",
    "axes[1].grid(axis='y', linestyle='--', alpha=0.7)\n",
    "\n",
    "plt.tight_layout()\n",
    "plt.show()"
   ]
  },
  {
   "cell_type": "markdown",
   "id": "39caa362",
   "metadata": {
    "papermill": {
     "duration": 0.009823,
     "end_time": "2025-05-06T06:06:17.193408",
     "exception": false,
     "start_time": "2025-05-06T06:06:17.183585",
     "status": "completed"
    },
    "tags": []
   },
   "source": [
    "## TF-IDF"
   ]
  },
  {
   "cell_type": "code",
   "execution_count": 15,
   "id": "cea960e8",
   "metadata": {
    "execution": {
     "iopub.execute_input": "2025-05-06T06:06:17.210910Z",
     "iopub.status.busy": "2025-05-06T06:06:17.210104Z",
     "iopub.status.idle": "2025-05-06T06:06:22.019811Z",
     "shell.execute_reply": "2025-05-06T06:06:22.018958Z"
    },
    "papermill": {
     "duration": 4.820668,
     "end_time": "2025-05-06T06:06:22.021447",
     "exception": false,
     "start_time": "2025-05-06T06:06:17.200779",
     "status": "completed"
    },
    "tags": []
   },
   "outputs": [],
   "source": [
    "vectorizer = TfidfVectorizer(ngram_range=(1,2), min_df=30, max_df=0.90, strip_accents='unicode', sublinear_tf=True)\n",
    "X_train_tfidf = vectorizer.fit_transform(X_train['cleaned_text'])\n",
    "X_test_tfidf = vectorizer.transform(X_test['cleaned_text'])"
   ]
  },
  {
   "cell_type": "code",
   "execution_count": 16,
   "id": "aad38ddd",
   "metadata": {
    "execution": {
     "iopub.execute_input": "2025-05-06T06:06:22.036587Z",
     "iopub.status.busy": "2025-05-06T06:06:22.036283Z",
     "iopub.status.idle": "2025-05-06T06:06:22.041411Z",
     "shell.execute_reply": "2025-05-06T06:06:22.040335Z"
    },
    "papermill": {
     "duration": 0.014609,
     "end_time": "2025-05-06T06:06:22.042954",
     "exception": false,
     "start_time": "2025-05-06T06:06:22.028345",
     "status": "completed"
    },
    "tags": []
   },
   "outputs": [
    {
     "name": "stdout",
     "output_type": "stream",
     "text": [
      "Jumlah fitur yang diekstrak: 10256\n"
     ]
    }
   ],
   "source": [
    "print(\"Jumlah fitur yang diekstrak:\", len(vectorizer.vocabulary_))"
   ]
  },
  {
   "cell_type": "markdown",
   "id": "c5738361",
   "metadata": {
    "papermill": {
     "duration": 0.006515,
     "end_time": "2025-05-06T06:06:22.056394",
     "exception": false,
     "start_time": "2025-05-06T06:06:22.049879",
     "status": "completed"
    },
    "tags": []
   },
   "source": [
    "## SVM"
   ]
  },
  {
   "cell_type": "code",
   "execution_count": 17,
   "id": "b5063f3f",
   "metadata": {
    "execution": {
     "iopub.execute_input": "2025-05-06T06:06:22.071265Z",
     "iopub.status.busy": "2025-05-06T06:06:22.070909Z",
     "iopub.status.idle": "2025-05-06T06:06:22.077455Z",
     "shell.execute_reply": "2025-05-06T06:06:22.076660Z"
    },
    "papermill": {
     "duration": 0.015575,
     "end_time": "2025-05-06T06:06:22.078781",
     "exception": false,
     "start_time": "2025-05-06T06:06:22.063206",
     "status": "completed"
    },
    "tags": []
   },
   "outputs": [],
   "source": [
    "@timeout_decorator.timeout(1500, use_signals=False)\n",
    "def train(kernel, C, gamma):\n",
    "    svm_model = SVC(kernel=kernel, C=C, gamma=gamma)\n",
    "    svm_model.fit(X_train_tfidf, y_train)\n",
    "    return svm_model\n",
    "\n",
    "def objective(trial):\n",
    "    kernel = trial.suggest_categorical(\"kernel\", [\"linear\", \"rbf\", \"poly\", \"sigmoid\"])\n",
    "    C = trial.suggest_float(\"C\", 1e-3, 1e3, log=True)\n",
    "    gamma = trial.suggest_float(\"gamma\", 1e-4, 1e1, log=True)\n",
    "\n",
    "    try:\n",
    "        svm_model = train(kernel, C, gamma)\n",
    "        y_pred = svm_model.predict(X_test_tfidf)\n",
    "        accuracy = accuracy_score(y_test, y_pred)\n",
    "    except TimeoutError:\n",
    "        raise optuna.exceptions.TrialPruned()\n",
    "    return accuracy"
   ]
  },
  {
   "cell_type": "code",
   "execution_count": 18,
   "id": "303ecc86",
   "metadata": {
    "execution": {
     "iopub.execute_input": "2025-05-06T06:06:22.094410Z",
     "iopub.status.busy": "2025-05-06T06:06:22.093689Z",
     "iopub.status.idle": "2025-05-06T09:17:28.013396Z",
     "shell.execute_reply": "2025-05-06T09:17:28.012139Z"
    },
    "papermill": {
     "duration": 11465.938032,
     "end_time": "2025-05-06T09:17:28.023846",
     "exception": false,
     "start_time": "2025-05-06T06:06:22.085814",
     "status": "completed"
    },
    "tags": []
   },
   "outputs": [
    {
     "name": "stderr",
     "output_type": "stream",
     "text": [
      "[I 2025-05-06 06:06:22,097] A new study created in memory with name: no-name-04119b55-8a22-4e44-8dfe-200993286b03\n",
      "[I 2025-05-06 06:19:17,775] Trial 2 finished with value: 0.9306294052182515 and parameters: {'kernel': 'linear', 'C': 14.602408193081942, 'gamma': 0.41272221210807114}. Best is trial 2 with value: 0.9306294052182515.\n",
      "[I 2025-05-06 06:22:39,569] Trial 3 finished with value: 0.8673179176456041 and parameters: {'kernel': 'linear', 'C': 0.009911881235289712, 'gamma': 0.007086085454019195}. Best is trial 2 with value: 0.9306294052182515.\n",
      "[I 2025-05-06 06:25:52,289] Trial 1 finished with value: 0.4999381723754173 and parameters: {'kernel': 'sigmoid', 'C': 0.00880968895484596, 'gamma': 0.016688913037734763}. Best is trial 2 with value: 0.9306294052182515.\n",
      "[I 2025-05-06 06:27:35,993] Trial 0 finished with value: 0.9504142450847038 and parameters: {'kernel': 'rbf', 'C': 1.0, 'gamma': 1.0049528879836023}. Best is trial 0 with value: 0.9504142450847038.\n",
      "[I 2025-05-06 06:31:29,110] Trial 4 finished with value: 0.9055273896376901 and parameters: {'kernel': 'linear', 'C': 0.026941795702570076, 'gamma': 0.5580061747971687}. Best is trial 0 with value: 0.9504142450847038.\n",
      "[I 2025-05-06 06:33:12,889] Trial 5 finished with value: 0.9443551378756028 and parameters: {'kernel': 'rbf', 'C': 91.90372284481877, 'gamma': 0.010322153448009238}. Best is trial 0 with value: 0.9504142450847038.\n",
      "[I 2025-05-06 06:45:34,356] Trial 9 finished with value: 0.9380487201681711 and parameters: {'kernel': 'linear', 'C': 7.157049264981206, 'gamma': 0.06059416535658701}. Best is trial 0 with value: 0.9504142450847038.\n",
      "[I 2025-05-06 06:45:42,313] Trial 6 finished with value: 0.8277482379126994 and parameters: {'kernel': 'sigmoid', 'C': 19.623670709664637, 'gamma': 0.00012870703745046982}. Best is trial 0 with value: 0.9504142450847038.\n",
      "[I 2025-05-06 06:46:17,338] Trial 7 finished with value: 0.4999381723754173 and parameters: {'kernel': 'poly', 'C': 1.0029710897041495, 'gamma': 0.0024927825396522016}. Best is trial 0 with value: 0.9504142450847038.\n",
      "[I 2025-05-06 06:49:52,734] Trial 12 finished with value: 0.913812291331767 and parameters: {'kernel': 'sigmoid', 'C': 102.28471277900495, 'gamma': 2.333848632480049}. Best is trial 0 with value: 0.9504142450847038.\n",
      "[I 2025-05-06 06:50:25,222] Trial 8 finished with value: 0.5346852973908742 and parameters: {'kernel': 'poly', 'C': 982.5609759223005, 'gamma': 0.03886606928634985}. Best is trial 0 with value: 0.9504142450847038.\n",
      "[I 2025-05-06 06:52:49,505] Trial 10 finished with value: 0.9422529986397923 and parameters: {'kernel': 'sigmoid', 'C': 11.461659589586, 'gamma': 0.03110926291114063}. Best is trial 0 with value: 0.9504142450847038.\n",
      "[I 2025-05-06 06:55:25,598] Trial 11 finished with value: 0.920984295783356 and parameters: {'kernel': 'linear', 'C': 0.05580188802055944, 'gamma': 0.00017276967304841263}. Best is trial 0 with value: 0.9504142450847038.\n",
      "[I 2025-05-06 07:08:33,922] Trial 14 finished with value: 0.5034005193520465 and parameters: {'kernel': 'rbf', 'C': 0.24757824247903437, 'gamma': 4.928059388374592}. Best is trial 0 with value: 0.9504142450847038.\n",
      "[I 2025-05-06 07:11:16,547] Trial 15 finished with value: 0.5011747248670706 and parameters: {'kernel': 'rbf', 'C': 0.19061939668482522, 'gamma': 8.563332482783807}. Best is trial 0 with value: 0.9504142450847038.\n",
      "[I 2025-05-06 07:13:49,680] Trial 16 finished with value: 0.5014220353654013 and parameters: {'kernel': 'rbf', 'C': 0.18849697486060019, 'gamma': 5.855118532873775}. Best is trial 0 with value: 0.9504142450847038.\n",
      "[I 2025-05-06 07:14:52,792] Trial 13 pruned. \n",
      "[I 2025-05-06 07:17:14,256] Trial 17 finished with value: 0.9433658958822801 and parameters: {'kernel': 'rbf', 'C': 0.955496902013212, 'gamma': 0.24563992812428953}. Best is trial 0 with value: 0.9504142450847038.\n",
      "[I 2025-05-06 07:24:27,436] Trial 19 finished with value: 0.9442314826264375 and parameters: {'kernel': 'rbf', 'C': 915.6450283277076, 'gamma': 0.0012115596712041544}. Best is trial 0 with value: 0.9504142450847038.\n",
      "[I 2025-05-06 07:25:19,992] Trial 20 finished with value: 0.9443551378756028 and parameters: {'kernel': 'rbf', 'C': 828.5245273460176, 'gamma': 0.0011175133135875297}. Best is trial 0 with value: 0.9504142450847038.\n",
      "[I 2025-05-06 07:27:43,501] Trial 21 finished with value: 0.9444787931247681 and parameters: {'kernel': 'rbf', 'C': 814.8263826348536, 'gamma': 0.0012018063670243067}. Best is trial 0 with value: 0.9504142450847038.\n",
      "[I 2025-05-06 07:30:23,533] Trial 18 finished with value: 0.8434524545566959 and parameters: {'kernel': 'rbf', 'C': 1.3661508252021635, 'gamma': 0.001082718006202681}. Best is trial 0 with value: 0.9504142450847038.\n",
      "[I 2025-05-06 07:35:28,871] Trial 24 finished with value: 0.9332261654507233 and parameters: {'kernel': 'rbf', 'C': 131.41744409006188, 'gamma': 0.0004488659889340457}. Best is trial 0 with value: 0.9504142450847038.\n",
      "[I 2025-05-06 07:37:57,455] Trial 25 finished with value: 0.9457153456164215 and parameters: {'kernel': 'rbf', 'C': 98.30155821845985, 'gamma': 0.005494251957543328}. Best is trial 0 with value: 0.9504142450847038.\n",
      "[I 2025-05-06 07:41:05,347] Trial 23 finished with value: 0.9365648571781872 and parameters: {'kernel': 'rbf', 'C': 92.08225868601326, 'gamma': 0.10813025645625257}. Best is trial 0 with value: 0.9504142450847038.\n",
      "[I 2025-05-06 07:43:36,455] Trial 22 finished with value: 0.4999381723754173 and parameters: {'kernel': 'rbf', 'C': 0.0014670096626828895, 'gamma': 0.14784681697507404}. Best is trial 0 with value: 0.9504142450847038.\n",
      "[I 2025-05-06 07:45:56,654] Trial 26 finished with value: 0.9450970693705948 and parameters: {'kernel': 'rbf', 'C': 130.51779112994086, 'gamma': 0.006484770350009122}. Best is trial 0 with value: 0.9504142450847038.\n",
      "[I 2025-05-06 07:56:48,256] Trial 27 finished with value: 0.4999381723754173 and parameters: {'kernel': 'poly', 'C': 0.0013112247041150795, 'gamma': 0.0041400539412550005}. Best is trial 0 with value: 0.9504142450847038.\n",
      "[I 2025-05-06 08:00:08,663] Trial 28 finished with value: 0.4999381723754173 and parameters: {'kernel': 'poly', 'C': 0.0016985117068069688, 'gamma': 0.002978262524442435}. Best is trial 0 with value: 0.9504142450847038.\n",
      "[I 2025-05-06 08:02:32,290] Trial 29 finished with value: 0.4999381723754173 and parameters: {'kernel': 'poly', 'C': 401.6467317639835, 'gamma': 0.003968356255754737}. Best is trial 0 with value: 0.9504142450847038.\n",
      "[I 2025-05-06 08:04:56,584] Trial 30 finished with value: 0.4999381723754173 and parameters: {'kernel': 'poly', 'C': 4.1890728119294005, 'gamma': 0.004696502829324202}. Best is trial 0 with value: 0.9504142450847038.\n",
      "[I 2025-05-06 08:07:50,022] Trial 32 finished with value: 0.9340917521948807 and parameters: {'kernel': 'rbf', 'C': 3.4069802355325223, 'gamma': 0.019692343373547423}. Best is trial 0 with value: 0.9504142450847038.\n",
      "[I 2025-05-06 08:09:56,135] Trial 33 finished with value: 0.934586373191542 and parameters: {'kernel': 'rbf', 'C': 4.0620624942445955, 'gamma': 0.018393761488366696}. Best is trial 0 with value: 0.9504142450847038.\n",
      "[I 2025-05-06 08:18:10,336] Trial 34 finished with value: 0.9375540991715098 and parameters: {'kernel': 'rbf', 'C': 219.92823480918682, 'gamma': 0.017104967054614315}. Best is trial 0 with value: 0.9504142450847038.\n",
      "[I 2025-05-06 08:18:52,914] Trial 35 finished with value: 0.9136886360826018 and parameters: {'kernel': 'rbf', 'C': 50.05313832726608, 'gamma': 0.0003821381628209022}. Best is trial 0 with value: 0.9504142450847038.\n",
      "[I 2025-05-06 08:21:11,047] Trial 36 finished with value: 0.9124520835909484 and parameters: {'kernel': 'rbf', 'C': 39.15955598243909, 'gamma': 0.00045597638214246673}. Best is trial 0 with value: 0.9504142450847038.\n",
      "[I 2025-05-06 08:22:50,542] Trial 31 finished with value: 0.952763694818845 and parameters: {'kernel': 'rbf', 'C': 5.038618069043333, 'gamma': 1.204470548347318}. Best is trial 31 with value: 0.952763694818845.\n",
      "[I 2025-05-06 08:29:23,736] Trial 39 finished with value: 0.9191294670458761 and parameters: {'kernel': 'sigmoid', 'C': 283.69214126949487, 'gamma': 1.0073651209964605}. Best is trial 31 with value: 0.952763694818845.\n",
      "[I 2025-05-06 08:38:13,619] Trial 40 finished with value: 0.9248176085074812 and parameters: {'kernel': 'sigmoid', 'C': 21.238914807929376, 'gamma': 0.8844848873047088}. Best is trial 31 with value: 0.952763694818845.\n",
      "[I 2025-05-06 08:42:53,012] Trial 41 finished with value: 0.921726227278348 and parameters: {'kernel': 'linear', 'C': 49.13273043022521, 'gamma': 0.7287539781770692}. Best is trial 31 with value: 0.952763694818845.\n",
      "[I 2025-05-06 08:43:10,414] Trial 37 pruned. \n",
      "[I 2025-05-06 08:43:53,548] Trial 38 finished with value: 0.953134660566341 and parameters: {'kernel': 'rbf', 'C': 22.68064521852046, 'gamma': 1.1352204386047704}. Best is trial 38 with value: 0.953134660566341.\n",
      "[I 2025-05-06 08:51:44,555] Trial 42 finished with value: 0.921726227278348 and parameters: {'kernel': 'linear', 'C': 45.19134002086692, 'gamma': 2.028551421387743}. Best is trial 38 with value: 0.953134660566341.\n",
      "[I 2025-05-06 08:54:42,763] Trial 43 finished with value: 0.94707555335724 and parameters: {'kernel': 'rbf', 'C': 2.226617772050877, 'gamma': 0.3269759906448655}. Best is trial 38 with value: 0.953134660566341.\n",
      "[I 2025-05-06 09:07:19,219] Trial 47 finished with value: 0.9475701743539013 and parameters: {'kernel': 'rbf', 'C': 2.2316442690172393, 'gamma': 0.3529047716325046}. Best is trial 38 with value: 0.953134660566341.\n",
      "[I 2025-05-06 09:08:10,534] Trial 44 pruned. \n",
      "[I 2025-05-06 09:08:53,624] Trial 45 pruned. \n",
      "[I 2025-05-06 09:13:30,781] Trial 46 finished with value: 0.94707555335724 and parameters: {'kernel': 'rbf', 'C': 10.345288023424727, 'gamma': 0.3399127520080379}. Best is trial 38 with value: 0.953134660566341.\n",
      "[I 2025-05-06 09:16:49,002] Trial 48 finished with value: 0.9475701743539013 and parameters: {'kernel': 'rbf', 'C': 1.9008240789229982, 'gamma': 0.33417570903203025}. Best is trial 38 with value: 0.953134660566341.\n",
      "[I 2025-05-06 09:17:28,008] Trial 49 finished with value: 0.9475701743539013 and parameters: {'kernel': 'rbf', 'C': 1.8511525960182016, 'gamma': 0.3325595889088638}. Best is trial 38 with value: 0.953134660566341.\n"
     ]
    }
   ],
   "source": [
    "# Hyperparameter Tuning\n",
    "study = optuna.create_study(direction='maximize', sampler=optuna.samplers.TPESampler(seed=42))\n",
    "study.enqueue_trial({\n",
    "    \"C\": 1.0,\n",
    "    \"kernel\": \"rbf\",\n",
    "    \"gamma\": 1.0049528879836023\n",
    "})\n",
    "study.optimize(objective, n_trials=50, n_jobs=4)"
   ]
  },
  {
   "cell_type": "code",
   "execution_count": 19,
   "id": "9b014dbb",
   "metadata": {
    "execution": {
     "iopub.execute_input": "2025-05-06T09:17:28.044546Z",
     "iopub.status.busy": "2025-05-06T09:17:28.044221Z",
     "iopub.status.idle": "2025-05-06T09:17:28.049983Z",
     "shell.execute_reply": "2025-05-06T09:17:28.049106Z"
    },
    "papermill": {
     "duration": 0.017936,
     "end_time": "2025-05-06T09:17:28.051345",
     "exception": false,
     "start_time": "2025-05-06T09:17:28.033409",
     "status": "completed"
    },
    "tags": []
   },
   "outputs": [
    {
     "name": "stdout",
     "output_type": "stream",
     "text": [
      "Best parameters: {'kernel': 'rbf', 'C': 22.68064521852046, 'gamma': 1.1352204386047704}\n",
      "Best accuracy: 0.953134660566341\n"
     ]
    }
   ],
   "source": [
    "print(\"Best parameters:\", study.best_params)\n",
    "print(\"Best accuracy:\", study.best_value)"
   ]
  },
  {
   "cell_type": "code",
   "execution_count": 20,
   "id": "607ae4c5",
   "metadata": {
    "execution": {
     "iopub.execute_input": "2025-05-06T09:17:28.071074Z",
     "iopub.status.busy": "2025-05-06T09:17:28.070672Z",
     "iopub.status.idle": "2025-05-06T09:34:42.183149Z",
     "shell.execute_reply": "2025-05-06T09:34:42.182139Z"
    },
    "papermill": {
     "duration": 1034.132684,
     "end_time": "2025-05-06T09:34:42.193223",
     "exception": false,
     "start_time": "2025-05-06T09:17:28.060539",
     "status": "completed"
    },
    "tags": []
   },
   "outputs": [
    {
     "name": "stdout",
     "output_type": "stream",
     "text": [
      "Training Time: 1034.11 s\n"
     ]
    }
   ],
   "source": [
    "# Re-training\n",
    "best_params = study.best_params\n",
    "svm_model = SVC(kernel=best_params['kernel'], C=best_params['C'], gamma=best_params['gamma'])\n",
    "start = time.time()\n",
    "svm_model.fit(X_train_tfidf, y_train)\n",
    "print(f\"Training Time: {time.time() - start:.2f} s\")"
   ]
  },
  {
   "cell_type": "code",
   "execution_count": 21,
   "id": "ef2a7f8f",
   "metadata": {
    "execution": {
     "iopub.execute_input": "2025-05-06T09:34:42.213130Z",
     "iopub.status.busy": "2025-05-06T09:34:42.212768Z",
     "iopub.status.idle": "2025-05-06T09:35:47.350729Z",
     "shell.execute_reply": "2025-05-06T09:35:47.349621Z"
    },
    "papermill": {
     "duration": 65.159121,
     "end_time": "2025-05-06T09:35:47.361571",
     "exception": false,
     "start_time": "2025-05-06T09:34:42.202450",
     "status": "completed"
    },
    "tags": []
   },
   "outputs": [
    {
     "name": "stdout",
     "output_type": "stream",
     "text": [
      "Akurasi: 0.9531\n",
      "Presisi (Fake Review): 0.9612\n",
      "Recall (Fake Review): 0.9443\n",
      "F1-Score (Fake Review): 0.9527\n"
     ]
    }
   ],
   "source": [
    "# Evaluation\n",
    "svm_y_pred = svm_model.predict(X_test_tfidf)\n",
    "\n",
    "accuracy = accuracy_score(y_test, svm_y_pred)\n",
    "print(f'Akurasi: {accuracy:.4f}')\n",
    "\n",
    "precision_cg = precision_score(y_test, svm_y_pred)\n",
    "print(f'Presisi (Fake Review): {precision_cg:.4f}')\n",
    "\n",
    "recall_cg = recall_score(y_test, svm_y_pred)\n",
    "print(f'Recall (Fake Review): {recall_cg:.4f}')\n",
    "\n",
    "f1_cg = f1_score(y_test, svm_y_pred)\n",
    "print(f'F1-Score (Fake Review): {f1_cg:.4f}')"
   ]
  },
  {
   "cell_type": "code",
   "execution_count": 22,
   "id": "360ec2d1",
   "metadata": {
    "execution": {
     "iopub.execute_input": "2025-05-06T09:35:47.384455Z",
     "iopub.status.busy": "2025-05-06T09:35:47.384140Z",
     "iopub.status.idle": "2025-05-06T09:35:47.588368Z",
     "shell.execute_reply": "2025-05-06T09:35:47.587200Z"
    },
    "papermill": {
     "duration": 0.217044,
     "end_time": "2025-05-06T09:35:47.590073",
     "exception": false,
     "start_time": "2025-05-06T09:35:47.373029",
     "status": "completed"
    },
    "tags": []
   },
   "outputs": [
    {
     "data": {
      "image/png": "[encoded data removed]",
      "text/plain": [
       "<Figure size 600x600 with 2 Axes>"
      ]
     },
     "metadata": {},
     "output_type": "display_data"
    }
   ],
   "source": [
    "conf_matrix = confusion_matrix(y_test, svm_y_pred)\n",
    "plt.figure(figsize=(6, 6))\n",
    "sns.heatmap(conf_matrix, annot=True, fmt='d', cmap='Blues', xticklabels=['Real Review', 'Fake Review'], yticklabels=['Real Review', 'Fake Review'])\n",
    "plt.title('Confusion Matrix')\n",
    "plt.ylabel('Actual Label')\n",
    "plt.xlabel('Predicted Label')\n",
    "plt.show()"
   ]
  },
  {
   "cell_type": "code",
   "execution_count": 23,
   "id": "7c210487",
   "metadata": {
    "execution": {
     "iopub.execute_input": "2025-05-06T09:35:47.710032Z",
     "iopub.status.busy": "2025-05-06T09:35:47.709687Z",
     "iopub.status.idle": "2025-05-06T09:35:47.732956Z",
     "shell.execute_reply": "2025-05-06T09:35:47.731823Z"
    },
    "papermill": {
     "duration": 0.035593,
     "end_time": "2025-05-06T09:35:47.734664",
     "exception": false,
     "start_time": "2025-05-06T09:35:47.699071",
     "status": "completed"
    },
    "tags": []
   },
   "outputs": [
    {
     "name": "stdout",
     "output_type": "stream",
     "text": [
      "Classification Report:\n",
      "              precision    recall  f1-score   support\n",
      "\n",
      " Real Review       0.95      0.96      0.95      4044\n",
      " Fake Review       0.96      0.94      0.95      4043\n",
      "\n",
      "    accuracy                           0.95      8087\n",
      "   macro avg       0.95      0.95      0.95      8087\n",
      "weighted avg       0.95      0.95      0.95      8087\n",
      "\n"
     ]
    }
   ],
   "source": [
    "print(\"Classification Report:\")\n",
    "print(classification_report(y_test, svm_y_pred, target_names=['Real Review', 'Fake Review']))"
   ]
  },
  {
   "cell_type": "markdown",
   "id": "3e60c4d6",
   "metadata": {
    "papermill": {
     "duration": 0.009518,
     "end_time": "2025-05-06T09:35:47.754511",
     "exception": false,
     "start_time": "2025-05-06T09:35:47.744993",
     "status": "completed"
    },
    "tags": []
   },
   "source": [
    "## Save Model"
   ]
  },
  {
   "cell_type": "code",
   "execution_count": 24,
   "id": "9f70bb83",
   "metadata": {
    "execution": {
     "iopub.execute_input": "2025-05-06T09:35:47.776048Z",
     "iopub.status.busy": "2025-05-06T09:35:47.775190Z",
     "iopub.status.idle": "2025-05-06T09:35:47.792797Z",
     "shell.execute_reply": "2025-05-06T09:35:47.792034Z"
    },
    "papermill": {
     "duration": 0.030024,
     "end_time": "2025-05-06T09:35:47.794398",
     "exception": false,
     "start_time": "2025-05-06T09:35:47.764374",
     "status": "completed"
    },
    "tags": []
   },
   "outputs": [
    {
     "data": {
      "text/plain": [
       "['/kaggle/working/svm.pkl']"
      ]
     },
     "execution_count": 24,
     "metadata": {},
     "output_type": "execute_result"
    }
   ],
   "source": [
    "joblib.dump(svm_model, '/kaggle/working/svm.pkl')"
   ]
  }
 ],
 "metadata": {
  "kaggle": {
   "accelerator": "none",
   "dataSources": [
    {
     "datasetId": 7266239,
     "sourceId": 11588322,
     "sourceType": "datasetVersion"
    }
   ],
   "dockerImageVersionId": 31012,
   "isGpuEnabled": false,
   "isInternetEnabled": true,
   "language": "python",
   "sourceType": "notebook"
  },
  "kernelspec": {
   "display_name": "Python 3",
   "language": "python",
   "name": "python3"
  },
  "language_info": {
   "codemirror_mode": {
    "name": "ipython",
    "version": 3
   },
   "file_extension": ".py",
   "mimetype": "text/x-python",
   "name": "python",
   "nbconvert_exporter": "python",
   "pygments_lexer": "ipython3",
   "version": "3.11.11"
  },
  "papermill": {
   "default_parameters": {},
   "duration": 12595.391996,
   "end_time": "2025-05-06T09:35:50.435409",
   "environment_variables": {},
   "exception": null,
   "input_path": "__notebook__.ipynb",
   "output_path": "__notebook__.ipynb",
   "parameters": {},
   "start_time": "2025-05-06T06:05:55.043413",
   "version": "2.6.0"
  }
 },
 "nbformat": 4,
 "nbformat_minor": 5
}
