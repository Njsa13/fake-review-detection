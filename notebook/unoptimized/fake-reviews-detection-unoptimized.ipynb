{
 "cells": [
  {
   "cell_type": "markdown",
   "id": "26eccc10",
   "metadata": {
    "papermill": {
     "duration": 0.00633,
     "end_time": "2025-05-06T07:53:22.649575",
     "exception": false,
     "start_time": "2025-05-06T07:53:22.643245",
     "status": "completed"
    },
    "tags": []
   },
   "source": [
    "## Import Library"
   ]
  },
  {
   "cell_type": "code",
   "execution_count": 1,
   "id": "87627e72",
   "metadata": {
    "execution": {
     "iopub.execute_input": "2025-05-06T07:53:22.662046Z",
     "iopub.status.busy": "2025-05-06T07:53:22.661250Z",
     "iopub.status.idle": "2025-05-06T07:53:26.531586Z",
     "shell.execute_reply": "2025-05-06T07:53:26.530957Z"
    },
    "papermill": {
     "duration": 3.878027,
     "end_time": "2025-05-06T07:53:26.533105",
     "exception": false,
     "start_time": "2025-05-06T07:53:22.655078",
     "status": "completed"
    },
    "tags": []
   },
   "outputs": [],
   "source": [
    "import pandas as pd\n",
    "import matplotlib.pyplot as plt\n",
    "import seaborn as sns\n",
    "from sklearn.ensemble import RandomForestClassifier\n",
    "from sklearn.svm import SVC\n",
    "from sklearn.naive_bayes import MultinomialNB\n",
    "from xgboost import XGBClassifier\n",
    "from sklearn.feature_extraction.text import TfidfVectorizer\n",
    "from sklearn.model_selection import train_test_split\n",
    "from collections import Counter\n",
    "import time\n",
    "from sklearn.metrics import accuracy_score, precision_score, recall_score, f1_score, classification_report, confusion_matrix"
   ]
  },
  {
   "cell_type": "markdown",
   "id": "d8a3284a",
   "metadata": {
    "papermill": {
     "duration": 0.005016,
     "end_time": "2025-05-06T07:53:26.544973",
     "exception": false,
     "start_time": "2025-05-06T07:53:26.539957",
     "status": "completed"
    },
    "tags": []
   },
   "source": [
    "## Import Dataset"
   ]
  },
  {
   "cell_type": "code",
   "execution_count": 2,
   "id": "0d0434e0",
   "metadata": {
    "execution": {
     "iopub.execute_input": "2025-05-06T07:53:26.556824Z",
     "iopub.status.busy": "2025-05-06T07:53:26.556128Z",
     "iopub.status.idle": "2025-05-06T07:53:27.139508Z",
     "shell.execute_reply": "2025-05-06T07:53:27.138884Z"
    },
    "papermill": {
     "duration": 0.590808,
     "end_time": "2025-05-06T07:53:27.141053",
     "exception": false,
     "start_time": "2025-05-06T07:53:26.550245",
     "status": "completed"
    },
    "tags": []
   },
   "outputs": [],
   "source": [
    "df = pd.read_csv('/kaggle/input/preprocessed-fake-reviews-dataset/preprocessed-fake-reviews-dataset.csv')"
   ]
  },
  {
   "cell_type": "code",
   "execution_count": 3,
   "id": "e6d4189f",
   "metadata": {
    "execution": {
     "iopub.execute_input": "2025-05-06T07:53:27.152761Z",
     "iopub.status.busy": "2025-05-06T07:53:27.152506Z",
     "iopub.status.idle": "2025-05-06T07:53:27.177964Z",
     "shell.execute_reply": "2025-05-06T07:53:27.177212Z"
    },
    "papermill": {
     "duration": 0.03261,
     "end_time": "2025-05-06T07:53:27.179228",
     "exception": false,
     "start_time": "2025-05-06T07:53:27.146618",
     "status": "completed"
    },
    "tags": []
   },
   "outputs": [
    {
     "data": {
      "text/html": [
       "<div>\n",
       "<style scoped>\n",
       "    .dataframe tbody tr th:only-of-type {\n",
       "        vertical-align: middle;\n",
       "    }\n",
       "\n",
       "    .dataframe tbody tr th {\n",
       "        vertical-align: top;\n",
       "    }\n",
       "\n",
       "    .dataframe thead th {\n",
       "        text-align: right;\n",
       "    }\n",
       "</style>\n",
       "<table border=\"1\" class=\"dataframe\">\n",
       "  <thead>\n",
       "    <tr style=\"text-align: right;\">\n",
       "      <th></th>\n",
       "      <th>rating</th>\n",
       "      <th>label</th>\n",
       "      <th>text_</th>\n",
       "      <th>cleaned_text</th>\n",
       "      <th>category_Books_5</th>\n",
       "      <th>category_Clothing_Shoes_and_Jewelry_5</th>\n",
       "      <th>category_Electronics_5</th>\n",
       "      <th>category_Home_and_Kitchen_5</th>\n",
       "      <th>category_Kindle_Store_5</th>\n",
       "      <th>category_Movies_and_TV_5</th>\n",
       "      <th>category_Pet_Supplies_5</th>\n",
       "      <th>category_Sports_and_Outdoors_5</th>\n",
       "      <th>category_Tools_and_Home_Improvement_5</th>\n",
       "      <th>category_Toys_and_Games_5</th>\n",
       "    </tr>\n",
       "  </thead>\n",
       "  <tbody>\n",
       "    <tr>\n",
       "      <th>0</th>\n",
       "      <td>5.0</td>\n",
       "      <td>1</td>\n",
       "      <td>Love this!  Well made, sturdy, and very comfor...</td>\n",
       "      <td>Love this  Well made sturdy and very comfortab...</td>\n",
       "      <td>False</td>\n",
       "      <td>False</td>\n",
       "      <td>False</td>\n",
       "      <td>True</td>\n",
       "      <td>False</td>\n",
       "      <td>False</td>\n",
       "      <td>False</td>\n",
       "      <td>False</td>\n",
       "      <td>False</td>\n",
       "      <td>False</td>\n",
       "    </tr>\n",
       "    <tr>\n",
       "      <th>1</th>\n",
       "      <td>5.0</td>\n",
       "      <td>1</td>\n",
       "      <td>love it, a great upgrade from the original.  I...</td>\n",
       "      <td>love it a great upgrade from the original  Ive...</td>\n",
       "      <td>False</td>\n",
       "      <td>False</td>\n",
       "      <td>False</td>\n",
       "      <td>True</td>\n",
       "      <td>False</td>\n",
       "      <td>False</td>\n",
       "      <td>False</td>\n",
       "      <td>False</td>\n",
       "      <td>False</td>\n",
       "      <td>False</td>\n",
       "    </tr>\n",
       "    <tr>\n",
       "      <th>2</th>\n",
       "      <td>5.0</td>\n",
       "      <td>1</td>\n",
       "      <td>This pillow saved my back. I love the look and...</td>\n",
       "      <td>This pillow saved my back I love the look and ...</td>\n",
       "      <td>False</td>\n",
       "      <td>False</td>\n",
       "      <td>False</td>\n",
       "      <td>True</td>\n",
       "      <td>False</td>\n",
       "      <td>False</td>\n",
       "      <td>False</td>\n",
       "      <td>False</td>\n",
       "      <td>False</td>\n",
       "      <td>False</td>\n",
       "    </tr>\n",
       "    <tr>\n",
       "      <th>3</th>\n",
       "      <td>1.0</td>\n",
       "      <td>1</td>\n",
       "      <td>Missing information on how to use it, but it i...</td>\n",
       "      <td>Missing information on how to use it but it is...</td>\n",
       "      <td>False</td>\n",
       "      <td>False</td>\n",
       "      <td>False</td>\n",
       "      <td>True</td>\n",
       "      <td>False</td>\n",
       "      <td>False</td>\n",
       "      <td>False</td>\n",
       "      <td>False</td>\n",
       "      <td>False</td>\n",
       "      <td>False</td>\n",
       "    </tr>\n",
       "    <tr>\n",
       "      <th>4</th>\n",
       "      <td>5.0</td>\n",
       "      <td>1</td>\n",
       "      <td>Very nice set. Good quality. We have had the s...</td>\n",
       "      <td>Very nice set Good quality We have had the set...</td>\n",
       "      <td>False</td>\n",
       "      <td>False</td>\n",
       "      <td>False</td>\n",
       "      <td>True</td>\n",
       "      <td>False</td>\n",
       "      <td>False</td>\n",
       "      <td>False</td>\n",
       "      <td>False</td>\n",
       "      <td>False</td>\n",
       "      <td>False</td>\n",
       "    </tr>\n",
       "  </tbody>\n",
       "</table>\n",
       "</div>"
      ],
      "text/plain": [
       "   rating  label                                              text_  \\\n",
       "0     5.0      1  Love this!  Well made, sturdy, and very comfor...   \n",
       "1     5.0      1  love it, a great upgrade from the original.  I...   \n",
       "2     5.0      1  This pillow saved my back. I love the look and...   \n",
       "3     1.0      1  Missing information on how to use it, but it i...   \n",
       "4     5.0      1  Very nice set. Good quality. We have had the s...   \n",
       "\n",
       "                                        cleaned_text  category_Books_5  \\\n",
       "0  Love this  Well made sturdy and very comfortab...             False   \n",
       "1  love it a great upgrade from the original  Ive...             False   \n",
       "2  This pillow saved my back I love the look and ...             False   \n",
       "3  Missing information on how to use it but it is...             False   \n",
       "4  Very nice set Good quality We have had the set...             False   \n",
       "\n",
       "   category_Clothing_Shoes_and_Jewelry_5  category_Electronics_5  \\\n",
       "0                                  False                   False   \n",
       "1                                  False                   False   \n",
       "2                                  False                   False   \n",
       "3                                  False                   False   \n",
       "4                                  False                   False   \n",
       "\n",
       "   category_Home_and_Kitchen_5  category_Kindle_Store_5  \\\n",
       "0                         True                    False   \n",
       "1                         True                    False   \n",
       "2                         True                    False   \n",
       "3                         True                    False   \n",
       "4                         True                    False   \n",
       "\n",
       "   category_Movies_and_TV_5  category_Pet_Supplies_5  \\\n",
       "0                     False                    False   \n",
       "1                     False                    False   \n",
       "2                     False                    False   \n",
       "3                     False                    False   \n",
       "4                     False                    False   \n",
       "\n",
       "   category_Sports_and_Outdoors_5  category_Tools_and_Home_Improvement_5  \\\n",
       "0                           False                                  False   \n",
       "1                           False                                  False   \n",
       "2                           False                                  False   \n",
       "3                           False                                  False   \n",
       "4                           False                                  False   \n",
       "\n",
       "   category_Toys_and_Games_5  \n",
       "0                      False  \n",
       "1                      False  \n",
       "2                      False  \n",
       "3                      False  \n",
       "4                      False  "
      ]
     },
     "execution_count": 3,
     "metadata": {},
     "output_type": "execute_result"
    }
   ],
   "source": [
    "df.head()"
   ]
  },
  {
   "cell_type": "code",
   "execution_count": 4,
   "id": "b4952ee3",
   "metadata": {
    "execution": {
     "iopub.execute_input": "2025-05-06T07:53:27.191845Z",
     "iopub.status.busy": "2025-05-06T07:53:27.191202Z",
     "iopub.status.idle": "2025-05-06T07:53:27.207528Z",
     "shell.execute_reply": "2025-05-06T07:53:27.206914Z"
    },
    "papermill": {
     "duration": 0.023716,
     "end_time": "2025-05-06T07:53:27.208745",
     "exception": false,
     "start_time": "2025-05-06T07:53:27.185029",
     "status": "completed"
    },
    "tags": []
   },
   "outputs": [
    {
     "data": {
      "text/plain": [
       "rating                                   0\n",
       "label                                    0\n",
       "text_                                    0\n",
       "cleaned_text                             1\n",
       "category_Books_5                         0\n",
       "category_Clothing_Shoes_and_Jewelry_5    0\n",
       "category_Electronics_5                   0\n",
       "category_Home_and_Kitchen_5              0\n",
       "category_Kindle_Store_5                  0\n",
       "category_Movies_and_TV_5                 0\n",
       "category_Pet_Supplies_5                  0\n",
       "category_Sports_and_Outdoors_5           0\n",
       "category_Tools_and_Home_Improvement_5    0\n",
       "category_Toys_and_Games_5                0\n",
       "dtype: int64"
      ]
     },
     "execution_count": 4,
     "metadata": {},
     "output_type": "execute_result"
    }
   ],
   "source": [
    "df.isnull().sum()"
   ]
  },
  {
   "cell_type": "code",
   "execution_count": 5,
   "id": "3c90a8de",
   "metadata": {
    "execution": {
     "iopub.execute_input": "2025-05-06T07:53:27.221179Z",
     "iopub.status.busy": "2025-05-06T07:53:27.220944Z",
     "iopub.status.idle": "2025-05-06T07:53:27.233336Z",
     "shell.execute_reply": "2025-05-06T07:53:27.232748Z"
    },
    "papermill": {
     "duration": 0.019931,
     "end_time": "2025-05-06T07:53:27.234566",
     "exception": false,
     "start_time": "2025-05-06T07:53:27.214635",
     "status": "completed"
    },
    "tags": []
   },
   "outputs": [],
   "source": [
    "df['cleaned_text'] = df['cleaned_text'].fillna(\"\")"
   ]
  },
  {
   "cell_type": "code",
   "execution_count": 6,
   "id": "9cdff4fa",
   "metadata": {
    "execution": {
     "iopub.execute_input": "2025-05-06T07:53:27.246847Z",
     "iopub.status.busy": "2025-05-06T07:53:27.246533Z",
     "iopub.status.idle": "2025-05-06T07:53:27.262337Z",
     "shell.execute_reply": "2025-05-06T07:53:27.261604Z"
    },
    "papermill": {
     "duration": 0.023105,
     "end_time": "2025-05-06T07:53:27.263464",
     "exception": false,
     "start_time": "2025-05-06T07:53:27.240359",
     "status": "completed"
    },
    "tags": []
   },
   "outputs": [
    {
     "data": {
      "text/plain": [
       "rating                                   0\n",
       "label                                    0\n",
       "text_                                    0\n",
       "cleaned_text                             0\n",
       "category_Books_5                         0\n",
       "category_Clothing_Shoes_and_Jewelry_5    0\n",
       "category_Electronics_5                   0\n",
       "category_Home_and_Kitchen_5              0\n",
       "category_Kindle_Store_5                  0\n",
       "category_Movies_and_TV_5                 0\n",
       "category_Pet_Supplies_5                  0\n",
       "category_Sports_and_Outdoors_5           0\n",
       "category_Tools_and_Home_Improvement_5    0\n",
       "category_Toys_and_Games_5                0\n",
       "dtype: int64"
      ]
     },
     "execution_count": 6,
     "metadata": {},
     "output_type": "execute_result"
    }
   ],
   "source": [
    "df.isnull().sum()"
   ]
  },
  {
   "cell_type": "code",
   "execution_count": 7,
   "id": "67ef74a5",
   "metadata": {
    "execution": {
     "iopub.execute_input": "2025-05-06T07:53:27.276061Z",
     "iopub.status.busy": "2025-05-06T07:53:27.275601Z",
     "iopub.status.idle": "2025-05-06T07:53:27.303933Z",
     "shell.execute_reply": "2025-05-06T07:53:27.302977Z"
    },
    "papermill": {
     "duration": 0.035834,
     "end_time": "2025-05-06T07:53:27.305224",
     "exception": false,
     "start_time": "2025-05-06T07:53:27.269390",
     "status": "completed"
    },
    "tags": []
   },
   "outputs": [
    {
     "name": "stdout",
     "output_type": "stream",
     "text": [
      "<class 'pandas.core.frame.DataFrame'>\n",
      "RangeIndex: 40432 entries, 0 to 40431\n",
      "Data columns (total 14 columns):\n",
      " #   Column                                 Non-Null Count  Dtype  \n",
      "---  ------                                 --------------  -----  \n",
      " 0   rating                                 40432 non-null  float64\n",
      " 1   label                                  40432 non-null  int64  \n",
      " 2   text_                                  40432 non-null  object \n",
      " 3   cleaned_text                           40432 non-null  object \n",
      " 4   category_Books_5                       40432 non-null  bool   \n",
      " 5   category_Clothing_Shoes_and_Jewelry_5  40432 non-null  bool   \n",
      " 6   category_Electronics_5                 40432 non-null  bool   \n",
      " 7   category_Home_and_Kitchen_5            40432 non-null  bool   \n",
      " 8   category_Kindle_Store_5                40432 non-null  bool   \n",
      " 9   category_Movies_and_TV_5               40432 non-null  bool   \n",
      " 10  category_Pet_Supplies_5                40432 non-null  bool   \n",
      " 11  category_Sports_and_Outdoors_5         40432 non-null  bool   \n",
      " 12  category_Tools_and_Home_Improvement_5  40432 non-null  bool   \n",
      " 13  category_Toys_and_Games_5              40432 non-null  bool   \n",
      "dtypes: bool(10), float64(1), int64(1), object(2)\n",
      "memory usage: 1.6+ MB\n"
     ]
    }
   ],
   "source": [
    "df.info()"
   ]
  },
  {
   "cell_type": "code",
   "execution_count": 8,
   "id": "5a95f429",
   "metadata": {
    "execution": {
     "iopub.execute_input": "2025-05-06T07:53:27.318170Z",
     "iopub.status.busy": "2025-05-06T07:53:27.317630Z",
     "iopub.status.idle": "2025-05-06T07:53:27.333724Z",
     "shell.execute_reply": "2025-05-06T07:53:27.332939Z"
    },
    "papermill": {
     "duration": 0.023658,
     "end_time": "2025-05-06T07:53:27.334980",
     "exception": false,
     "start_time": "2025-05-06T07:53:27.311322",
     "status": "completed"
    },
    "tags": []
   },
   "outputs": [
    {
     "data": {
      "text/html": [
       "<div>\n",
       "<style scoped>\n",
       "    .dataframe tbody tr th:only-of-type {\n",
       "        vertical-align: middle;\n",
       "    }\n",
       "\n",
       "    .dataframe tbody tr th {\n",
       "        vertical-align: top;\n",
       "    }\n",
       "\n",
       "    .dataframe thead th {\n",
       "        text-align: right;\n",
       "    }\n",
       "</style>\n",
       "<table border=\"1\" class=\"dataframe\">\n",
       "  <thead>\n",
       "    <tr style=\"text-align: right;\">\n",
       "      <th></th>\n",
       "      <th>rating</th>\n",
       "      <th>label</th>\n",
       "    </tr>\n",
       "  </thead>\n",
       "  <tbody>\n",
       "    <tr>\n",
       "      <th>count</th>\n",
       "      <td>40432.000000</td>\n",
       "      <td>40432.000000</td>\n",
       "    </tr>\n",
       "    <tr>\n",
       "      <th>mean</th>\n",
       "      <td>4.256579</td>\n",
       "      <td>0.500000</td>\n",
       "    </tr>\n",
       "    <tr>\n",
       "      <th>std</th>\n",
       "      <td>1.144354</td>\n",
       "      <td>0.500006</td>\n",
       "    </tr>\n",
       "    <tr>\n",
       "      <th>min</th>\n",
       "      <td>1.000000</td>\n",
       "      <td>0.000000</td>\n",
       "    </tr>\n",
       "    <tr>\n",
       "      <th>25%</th>\n",
       "      <td>4.000000</td>\n",
       "      <td>0.000000</td>\n",
       "    </tr>\n",
       "    <tr>\n",
       "      <th>50%</th>\n",
       "      <td>5.000000</td>\n",
       "      <td>0.500000</td>\n",
       "    </tr>\n",
       "    <tr>\n",
       "      <th>75%</th>\n",
       "      <td>5.000000</td>\n",
       "      <td>1.000000</td>\n",
       "    </tr>\n",
       "    <tr>\n",
       "      <th>max</th>\n",
       "      <td>5.000000</td>\n",
       "      <td>1.000000</td>\n",
       "    </tr>\n",
       "  </tbody>\n",
       "</table>\n",
       "</div>"
      ],
      "text/plain": [
       "             rating         label\n",
       "count  40432.000000  40432.000000\n",
       "mean       4.256579      0.500000\n",
       "std        1.144354      0.500006\n",
       "min        1.000000      0.000000\n",
       "25%        4.000000      0.000000\n",
       "50%        5.000000      0.500000\n",
       "75%        5.000000      1.000000\n",
       "max        5.000000      1.000000"
      ]
     },
     "execution_count": 8,
     "metadata": {},
     "output_type": "execute_result"
    }
   ],
   "source": [
    "df.describe()"
   ]
  },
  {
   "cell_type": "markdown",
   "id": "ff89902c",
   "metadata": {
    "papermill": {
     "duration": 0.005615,
     "end_time": "2025-05-06T07:53:27.346534",
     "exception": false,
     "start_time": "2025-05-06T07:53:27.340919",
     "status": "completed"
    },
    "tags": []
   },
   "source": [
    "## Data Splitting"
   ]
  },
  {
   "cell_type": "code",
   "execution_count": 9,
   "id": "2ccf9780",
   "metadata": {
    "execution": {
     "iopub.execute_input": "2025-05-06T07:53:27.359463Z",
     "iopub.status.busy": "2025-05-06T07:53:27.358958Z",
     "iopub.status.idle": "2025-05-06T07:53:27.388762Z",
     "shell.execute_reply": "2025-05-06T07:53:27.388113Z"
    },
    "papermill": {
     "duration": 0.037715,
     "end_time": "2025-05-06T07:53:27.390123",
     "exception": false,
     "start_time": "2025-05-06T07:53:27.352408",
     "status": "completed"
    },
    "tags": []
   },
   "outputs": [],
   "source": [
    "X_train, X_test, y_train, y_test = train_test_split(df, df['label'], test_size=0.2, random_state=42, stratify=df['label'])"
   ]
  },
  {
   "cell_type": "code",
   "execution_count": 10,
   "id": "d501e8c7",
   "metadata": {
    "execution": {
     "iopub.execute_input": "2025-05-06T07:53:27.403645Z",
     "iopub.status.busy": "2025-05-06T07:53:27.403003Z",
     "iopub.status.idle": "2025-05-06T07:53:27.410536Z",
     "shell.execute_reply": "2025-05-06T07:53:27.409741Z"
    },
    "papermill": {
     "duration": 0.01545,
     "end_time": "2025-05-06T07:53:27.411772",
     "exception": false,
     "start_time": "2025-05-06T07:53:27.396322",
     "status": "completed"
    },
    "tags": []
   },
   "outputs": [
    {
     "name": "stdout",
     "output_type": "stream",
     "text": [
      "Jumlah Real Review Train (0): 16172\n",
      "Jumlah Fake Review Train (1): 16173\n",
      "Jumlah Real Review Test (0): 4044\n",
      "Jumlah Fake Review Test (1): 4043\n"
     ]
    }
   ],
   "source": [
    "train_label_counts = y_train.value_counts()\n",
    "test_label_counts = y_test.value_counts()\n",
    "\n",
    "print(\"Jumlah Real Review Train (0):\", train_label_counts[0])\n",
    "print(\"Jumlah Fake Review Train (1):\", train_label_counts[1])\n",
    "print(\"Jumlah Real Review Test (0):\", test_label_counts[0])\n",
    "print(\"Jumlah Fake Review Test (1):\", test_label_counts[1])"
   ]
  },
  {
   "cell_type": "code",
   "execution_count": 11,
   "id": "be8ebc36",
   "metadata": {
    "execution": {
     "iopub.execute_input": "2025-05-06T07:53:27.425209Z",
     "iopub.status.busy": "2025-05-06T07:53:27.424950Z",
     "iopub.status.idle": "2025-05-06T07:53:27.798607Z",
     "shell.execute_reply": "2025-05-06T07:53:27.797761Z"
    },
    "papermill": {
     "duration": 0.382135,
     "end_time": "2025-05-06T07:53:27.800054",
     "exception": false,
     "start_time": "2025-05-06T07:53:27.417919",
     "status": "completed"
    },
    "tags": []
   },
   "outputs": [
    {
     "data": {
      "image/png": "[encoded data removed]",
      "text/plain": [
       "<Figure size 1200x500 with 2 Axes>"
      ]
     },
     "metadata": {},
     "output_type": "display_data"
    }
   ],
   "source": [
    "train_counts = Counter(y_train)\n",
    "test_counts = Counter(y_test)\n",
    "\n",
    "fig, axes = plt.subplots(1, 2, figsize=(12, 5))\n",
    "\n",
    "axes[0].bar(train_counts.keys(), train_counts.values(), color=['blue', 'orange'])\n",
    "axes[0].set_title('Distribusi Data Train')\n",
    "axes[0].set_xticks([0, 1])\n",
    "axes[0].set_xticklabels(['0', '1'])\n",
    "axes[0].set_xlabel('Kelas')\n",
    "axes[0].set_ylabel('Jumlah Data')\n",
    "axes[0].grid(axis='y', linestyle='--', alpha=0.7)\n",
    "\n",
    "axes[1].bar(test_counts.keys(), test_counts.values(), color=['blue', 'orange'])\n",
    "axes[1].set_title('Distribusi Data Test')\n",
    "axes[1].set_xticks([0, 1])\n",
    "axes[1].set_xticklabels(['0', '1'])\n",
    "axes[1].set_xlabel('Kelas')\n",
    "axes[1].set_ylabel('Jumlah Data')\n",
    "axes[1].grid(axis='y', linestyle='--', alpha=0.7)\n",
    "\n",
    "plt.tight_layout()\n",
    "plt.show()"
   ]
  },
  {
   "cell_type": "markdown",
   "id": "e1cdf89b",
   "metadata": {
    "papermill": {
     "duration": 0.006556,
     "end_time": "2025-05-06T07:53:27.813499",
     "exception": false,
     "start_time": "2025-05-06T07:53:27.806943",
     "status": "completed"
    },
    "tags": []
   },
   "source": [
    "## TF-IDF"
   ]
  },
  {
   "cell_type": "code",
   "execution_count": 12,
   "id": "442d076f",
   "metadata": {
    "execution": {
     "iopub.execute_input": "2025-05-06T07:53:27.827426Z",
     "iopub.status.busy": "2025-05-06T07:53:27.827154Z",
     "iopub.status.idle": "2025-05-06T07:53:32.072885Z",
     "shell.execute_reply": "2025-05-06T07:53:32.072216Z"
    },
    "papermill": {
     "duration": 4.254491,
     "end_time": "2025-05-06T07:53:32.074444",
     "exception": false,
     "start_time": "2025-05-06T07:53:27.819953",
     "status": "completed"
    },
    "tags": []
   },
   "outputs": [],
   "source": [
    "vectorizer = TfidfVectorizer(ngram_range=(1,2), min_df=30, max_df=0.90, strip_accents='unicode', sublinear_tf=True)\n",
    "X_train_tfidf = vectorizer.fit_transform(X_train['cleaned_text'])\n",
    "X_test_tfidf = vectorizer.transform(X_test['cleaned_text'])"
   ]
  },
  {
   "cell_type": "code",
   "execution_count": 13,
   "id": "6157dd8f",
   "metadata": {
    "execution": {
     "iopub.execute_input": "2025-05-06T07:53:32.090816Z",
     "iopub.status.busy": "2025-05-06T07:53:32.090287Z",
     "iopub.status.idle": "2025-05-06T07:53:32.094463Z",
     "shell.execute_reply": "2025-05-06T07:53:32.093752Z"
    },
    "papermill": {
     "duration": 0.01382,
     "end_time": "2025-05-06T07:53:32.095587",
     "exception": false,
     "start_time": "2025-05-06T07:53:32.081767",
     "status": "completed"
    },
    "tags": []
   },
   "outputs": [
    {
     "name": "stdout",
     "output_type": "stream",
     "text": [
      "Jumlah fitur yang diekstrak: 10256\n"
     ]
    }
   ],
   "source": [
    "print(\"Jumlah fitur yang diekstrak:\", len(vectorizer.vocabulary_))"
   ]
  },
  {
   "cell_type": "code",
   "execution_count": 14,
   "id": "a9f9c77c",
   "metadata": {
    "execution": {
     "iopub.execute_input": "2025-05-06T07:53:32.109871Z",
     "iopub.status.busy": "2025-05-06T07:53:32.109626Z",
     "iopub.status.idle": "2025-05-06T07:53:36.058458Z",
     "shell.execute_reply": "2025-05-06T07:53:36.057640Z"
    },
    "papermill": {
     "duration": 3.957551,
     "end_time": "2025-05-06T07:53:36.059922",
     "exception": false,
     "start_time": "2025-05-06T07:53:32.102371",
     "status": "completed"
    },
    "tags": []
   },
   "outputs": [
    {
     "name": "stdout",
     "output_type": "stream",
     "text": [
      "Data hasil ekstraksi (train):\n",
      "     aa  ability  ability to  able  able to  about  about an  about and  \\\n",
      "0  0.0      0.0         0.0   0.0      0.0    0.0       0.0        0.0   \n",
      "1  0.0      0.0         0.0   0.0      0.0    0.0       0.0        0.0   \n",
      "2  0.0      0.0         0.0   0.0      0.0    0.0       0.0        0.0   \n",
      "3  0.0      0.0         0.0   0.0      0.0    0.0       0.0        0.0   \n",
      "4  0.0      0.0         0.0   0.0      0.0    0.0       0.0        0.0   \n",
      "\n",
      "   about buying  about getting  ...  youtube  youve   yr  yr old  zero  zip  \\\n",
      "0           0.0            0.0  ...      0.0    0.0  0.0     0.0   0.0  0.0   \n",
      "1           0.0            0.0  ...      0.0    0.0  0.0     0.0   0.0  0.0   \n",
      "2           0.0            0.0  ...      0.0    0.0  0.0     0.0   0.0  0.0   \n",
      "3           0.0            0.0  ...      0.0    0.0  0.0     0.0   0.0  0.0   \n",
      "4           0.0            0.0  ...      0.0    0.0  0.0     0.0   0.0  0.0   \n",
      "\n",
      "   zipper  zipper is  zippers  zoom  \n",
      "0     0.0        0.0      0.0   0.0  \n",
      "1     0.0        0.0      0.0   0.0  \n",
      "2     0.0        0.0      0.0   0.0  \n",
      "3     0.0        0.0      0.0   0.0  \n",
      "4     0.0        0.0      0.0   0.0  \n",
      "\n",
      "[5 rows x 10256 columns]\n",
      "Data hasil ekstraksi (test):\n",
      "     aa  ability  ability to  able  able to  about  about an  about and  \\\n",
      "0  0.0      0.0         0.0   0.0      0.0    0.0       0.0        0.0   \n",
      "1  0.0      0.0         0.0   0.0      0.0    0.0       0.0        0.0   \n",
      "2  0.0      0.0         0.0   0.0      0.0    0.0       0.0        0.0   \n",
      "3  0.0      0.0         0.0   0.0      0.0    0.0       0.0        0.0   \n",
      "4  0.0      0.0         0.0   0.0      0.0    0.0       0.0        0.0   \n",
      "\n",
      "   about buying  about getting  ...  youtube  youve   yr  yr old  zero  zip  \\\n",
      "0           0.0            0.0  ...      0.0    0.0  0.0     0.0   0.0  0.0   \n",
      "1           0.0            0.0  ...      0.0    0.0  0.0     0.0   0.0  0.0   \n",
      "2           0.0            0.0  ...      0.0    0.0  0.0     0.0   0.0  0.0   \n",
      "3           0.0            0.0  ...      0.0    0.0  0.0     0.0   0.0  0.0   \n",
      "4           0.0            0.0  ...      0.0    0.0  0.0     0.0   0.0  0.0   \n",
      "\n",
      "   zipper  zipper is  zippers  zoom  \n",
      "0     0.0        0.0      0.0   0.0  \n",
      "1     0.0        0.0      0.0   0.0  \n",
      "2     0.0        0.0      0.0   0.0  \n",
      "3     0.0        0.0      0.0   0.0  \n",
      "4     0.0        0.0      0.0   0.0  \n",
      "\n",
      "[5 rows x 10256 columns]\n"
     ]
    }
   ],
   "source": [
    "df_train_tfidf = pd.DataFrame(X_train_tfidf.toarray(), columns=vectorizer.get_feature_names_out())\n",
    "df_test_tfidf = pd.DataFrame(X_test_tfidf.toarray(), columns=vectorizer.get_feature_names_out())\n",
    "\n",
    "print(\"Data hasil ekstraksi (train):\\n\", df_train_tfidf.head())\n",
    "print(\"Data hasil ekstraksi (test):\\n\", df_test_tfidf.head())"
   ]
  },
  {
   "cell_type": "markdown",
   "id": "bca3309c",
   "metadata": {
    "papermill": {
     "duration": 0.006546,
     "end_time": "2025-05-06T07:53:36.073600",
     "exception": false,
     "start_time": "2025-05-06T07:53:36.067054",
     "status": "completed"
    },
    "tags": []
   },
   "source": [
    "## Random Forest"
   ]
  },
  {
   "cell_type": "code",
   "execution_count": 15,
   "id": "8d50267d",
   "metadata": {
    "execution": {
     "iopub.execute_input": "2025-05-06T07:53:36.088084Z",
     "iopub.status.busy": "2025-05-06T07:53:36.087812Z",
     "iopub.status.idle": "2025-05-06T07:54:46.119870Z",
     "shell.execute_reply": "2025-05-06T07:54:46.119105Z"
    },
    "papermill": {
     "duration": 70.047701,
     "end_time": "2025-05-06T07:54:46.128061",
     "exception": false,
     "start_time": "2025-05-06T07:53:36.080360",
     "status": "completed"
    },
    "tags": []
   },
   "outputs": [
    {
     "name": "stdout",
     "output_type": "stream",
     "text": [
      "Training Time: 70.03 s\n"
     ]
    }
   ],
   "source": [
    "# Training\n",
    "rf_model = RandomForestClassifier(random_state=42)\n",
    "start = time.time()\n",
    "rf_model.fit(X_train_tfidf, y_train)\n",
    "print(f\"Training Time: {time.time() - start:.2f} s\")"
   ]
  },
  {
   "cell_type": "code",
   "execution_count": 16,
   "id": "4ab69f90",
   "metadata": {
    "execution": {
     "iopub.execute_input": "2025-05-06T07:54:46.142648Z",
     "iopub.status.busy": "2025-05-06T07:54:46.142393Z",
     "iopub.status.idle": "2025-05-06T07:54:46.595944Z",
     "shell.execute_reply": "2025-05-06T07:54:46.595036Z"
    },
    "papermill": {
     "duration": 0.462529,
     "end_time": "2025-05-06T07:54:46.597354",
     "exception": false,
     "start_time": "2025-05-06T07:54:46.134825",
     "status": "completed"
    },
    "tags": []
   },
   "outputs": [
    {
     "name": "stdout",
     "output_type": "stream",
     "text": [
      "Akurasi: 0.9038\n",
      "Presisi (Fake Review): 0.9306\n",
      "Recall (Fake Review): 0.8726\n",
      "F1-Score (Fake Review): 0.9007\n"
     ]
    }
   ],
   "source": [
    "# Evaluation\n",
    "rf_y_pred = rf_model.predict(X_test_tfidf)\n",
    "\n",
    "accuracy = accuracy_score(y_test, rf_y_pred)\n",
    "print(f'Akurasi: {accuracy:.4f}')\n",
    "\n",
    "precision_cg = precision_score(y_test, rf_y_pred)\n",
    "print(f'Presisi (Fake Review): {precision_cg:.4f}')\n",
    "\n",
    "recall_cg = recall_score(y_test, rf_y_pred)\n",
    "print(f'Recall (Fake Review): {recall_cg:.4f}')\n",
    "\n",
    "f1_cg = f1_score(y_test, rf_y_pred)\n",
    "print(f'F1-Score (Fake Review): {f1_cg:.4f}')"
   ]
  },
  {
   "cell_type": "code",
   "execution_count": 17,
   "id": "983d2f31",
   "metadata": {
    "execution": {
     "iopub.execute_input": "2025-05-06T07:54:46.612788Z",
     "iopub.status.busy": "2025-05-06T07:54:46.612083Z",
     "iopub.status.idle": "2025-05-06T07:54:46.782958Z",
     "shell.execute_reply": "2025-05-06T07:54:46.782165Z"
    },
    "papermill": {
     "duration": 0.17991,
     "end_time": "2025-05-06T07:54:46.784271",
     "exception": false,
     "start_time": "2025-05-06T07:54:46.604361",
     "status": "completed"
    },
    "tags": []
   },
   "outputs": [
    {
     "data": {
      "image/png": "[encoded data removed]",
      "text/plain": [
       "<Figure size 600x600 with 2 Axes>"
      ]
     },
     "metadata": {},
     "output_type": "display_data"
    }
   ],
   "source": [
    "conf_matrix = confusion_matrix(y_test, rf_y_pred)\n",
    "plt.figure(figsize=(6, 6))\n",
    "sns.heatmap(conf_matrix, annot=True, fmt='d', cmap='Blues', xticklabels=['Real Review', 'Fake Review'], yticklabels=['Real Review', 'Fake Review'])\n",
    "plt.title('Confusion Matrix')\n",
    "plt.ylabel('Actual Label')\n",
    "plt.xlabel('Predicted Label')\n",
    "plt.show()"
   ]
  },
  {
   "cell_type": "code",
   "execution_count": 18,
   "id": "986d354f",
   "metadata": {
    "execution": {
     "iopub.execute_input": "2025-05-06T07:54:46.800614Z",
     "iopub.status.busy": "2025-05-06T07:54:46.800064Z",
     "iopub.status.idle": "2025-05-06T07:54:46.821789Z",
     "shell.execute_reply": "2025-05-06T07:54:46.820911Z"
    },
    "papermill": {
     "duration": 0.031058,
     "end_time": "2025-05-06T07:54:46.823082",
     "exception": false,
     "start_time": "2025-05-06T07:54:46.792024",
     "status": "completed"
    },
    "tags": []
   },
   "outputs": [
    {
     "name": "stdout",
     "output_type": "stream",
     "text": [
      "Classification Report:\n",
      "              precision    recall  f1-score   support\n",
      "\n",
      " Real Review       0.88      0.93      0.91      4044\n",
      " Fake Review       0.93      0.87      0.90      4043\n",
      "\n",
      "    accuracy                           0.90      8087\n",
      "   macro avg       0.91      0.90      0.90      8087\n",
      "weighted avg       0.91      0.90      0.90      8087\n",
      "\n"
     ]
    }
   ],
   "source": [
    "print(\"Classification Report:\")\n",
    "print(classification_report(y_test, rf_y_pred, target_names=['Real Review', 'Fake Review']))"
   ]
  },
  {
   "cell_type": "markdown",
   "id": "e2871d00",
   "metadata": {
    "papermill": {
     "duration": 0.007273,
     "end_time": "2025-05-06T07:54:46.837856",
     "exception": false,
     "start_time": "2025-05-06T07:54:46.830583",
     "status": "completed"
    },
    "tags": []
   },
   "source": [
    "## SVM"
   ]
  },
  {
   "cell_type": "code",
   "execution_count": 19,
   "id": "ff70c76a",
   "metadata": {
    "execution": {
     "iopub.execute_input": "2025-05-06T07:54:46.853556Z",
     "iopub.status.busy": "2025-05-06T07:54:46.853077Z",
     "iopub.status.idle": "2025-05-06T08:07:48.900972Z",
     "shell.execute_reply": "2025-05-06T08:07:48.900115Z"
    },
    "papermill": {
     "duration": 782.064974,
     "end_time": "2025-05-06T08:07:48.910081",
     "exception": false,
     "start_time": "2025-05-06T07:54:46.845107",
     "status": "completed"
    },
    "tags": []
   },
   "outputs": [
    {
     "name": "stdout",
     "output_type": "stream",
     "text": [
      "Training Time: 782.04 s\n"
     ]
    }
   ],
   "source": [
    "# Training\n",
    "svm_model = SVC()\n",
    "start = time.time()\n",
    "svm_model.fit(X_train_tfidf, y_train)\n",
    "print(f\"Training Time: {time.time() - start:.2f} s\")"
   ]
  },
  {
   "cell_type": "code",
   "execution_count": 20,
   "id": "d07ec753",
   "metadata": {
    "execution": {
     "iopub.execute_input": "2025-05-06T08:07:48.926118Z",
     "iopub.status.busy": "2025-05-06T08:07:48.925551Z",
     "iopub.status.idle": "2025-05-06T08:07:48.929626Z",
     "shell.execute_reply": "2025-05-06T08:07:48.928947Z"
    },
    "papermill": {
     "duration": 0.013759,
     "end_time": "2025-05-06T08:07:48.931283",
     "exception": false,
     "start_time": "2025-05-06T08:07:48.917524",
     "status": "completed"
    },
    "tags": []
   },
   "outputs": [
    {
     "name": "stdout",
     "output_type": "stream",
     "text": [
      "scale\n",
      "1.0049528879836023\n"
     ]
    }
   ],
   "source": [
    "print(svm_model.gamma)\n",
    "print(svm_model._gamma)"
   ]
  },
  {
   "cell_type": "code",
   "execution_count": 21,
   "id": "350a3b01",
   "metadata": {
    "execution": {
     "iopub.execute_input": "2025-05-06T08:07:48.947522Z",
     "iopub.status.busy": "2025-05-06T08:07:48.947305Z",
     "iopub.status.idle": "2025-05-06T08:08:42.240575Z",
     "shell.execute_reply": "2025-05-06T08:08:42.239672Z"
    },
    "papermill": {
     "duration": 53.31028,
     "end_time": "2025-05-06T08:08:42.249460",
     "exception": false,
     "start_time": "2025-05-06T08:07:48.939180",
     "status": "completed"
    },
    "tags": []
   },
   "outputs": [
    {
     "name": "stdout",
     "output_type": "stream",
     "text": [
      "Akurasi: 0.9504\n",
      "Presisi (Fake Review): 0.9612\n",
      "Recall (Fake Review): 0.9387\n",
      "F1-Score (Fake Review): 0.9498\n"
     ]
    }
   ],
   "source": [
    "# Evaluation\n",
    "svm_y_pred = svm_model.predict(X_test_tfidf)\n",
    "\n",
    "accuracy = accuracy_score(y_test, svm_y_pred)\n",
    "print(f'Akurasi: {accuracy:.4f}')\n",
    "\n",
    "precision_cg = precision_score(y_test, svm_y_pred)\n",
    "print(f'Presisi (Fake Review): {precision_cg:.4f}')\n",
    "\n",
    "recall_cg = recall_score(y_test, svm_y_pred)\n",
    "print(f'Recall (Fake Review): {recall_cg:.4f}')\n",
    "\n",
    "f1_cg = f1_score(y_test, svm_y_pred)\n",
    "print(f'F1-Score (Fake Review): {f1_cg:.4f}')"
   ]
  },
  {
   "cell_type": "code",
   "execution_count": 22,
   "id": "dd72e99c",
   "metadata": {
    "execution": {
     "iopub.execute_input": "2025-05-06T08:08:42.265807Z",
     "iopub.status.busy": "2025-05-06T08:08:42.265515Z",
     "iopub.status.idle": "2025-05-06T08:08:42.445604Z",
     "shell.execute_reply": "2025-05-06T08:08:42.444919Z"
    },
    "papermill": {
     "duration": 0.189778,
     "end_time": "2025-05-06T08:08:42.447140",
     "exception": false,
     "start_time": "2025-05-06T08:08:42.257362",
     "status": "completed"
    },
    "tags": []
   },
   "outputs": [
    {
     "data": {
      "image/png": "[encoded data removed]",
      "text/plain": [
       "<Figure size 600x600 with 2 Axes>"
      ]
     },
     "metadata": {},
     "output_type": "display_data"
    }
   ],
   "source": [
    "conf_matrix = confusion_matrix(y_test, svm_y_pred)\n",
    "plt.figure(figsize=(6, 6))\n",
    "sns.heatmap(conf_matrix, annot=True, fmt='d', cmap='Blues', xticklabels=['Real Review', 'Fake Review'], yticklabels=['Real Review', 'Fake Review'])\n",
    "plt.title('Confusion Matrix')\n",
    "plt.ylabel('Actual Label')\n",
    "plt.xlabel('Predicted Label')\n",
    "plt.show()"
   ]
  },
  {
   "cell_type": "code",
   "execution_count": 23,
   "id": "6661abc0",
   "metadata": {
    "execution": {
     "iopub.execute_input": "2025-05-06T08:08:42.464339Z",
     "iopub.status.busy": "2025-05-06T08:08:42.464113Z",
     "iopub.status.idle": "2025-05-06T08:08:42.484904Z",
     "shell.execute_reply": "2025-05-06T08:08:42.483980Z"
    },
    "papermill": {
     "duration": 0.03078,
     "end_time": "2025-05-06T08:08:42.486283",
     "exception": false,
     "start_time": "2025-05-06T08:08:42.455503",
     "status": "completed"
    },
    "tags": []
   },
   "outputs": [
    {
     "name": "stdout",
     "output_type": "stream",
     "text": [
      "Classification Report:\n",
      "              precision    recall  f1-score   support\n",
      "\n",
      " Real Review       0.94      0.96      0.95      4044\n",
      " Fake Review       0.96      0.94      0.95      4043\n",
      "\n",
      "    accuracy                           0.95      8087\n",
      "   macro avg       0.95      0.95      0.95      8087\n",
      "weighted avg       0.95      0.95      0.95      8087\n",
      "\n"
     ]
    }
   ],
   "source": [
    "print(\"Classification Report:\")\n",
    "print(classification_report(y_test, svm_y_pred, target_names=['Real Review', 'Fake Review']))"
   ]
  },
  {
   "cell_type": "markdown",
   "id": "eadb6082",
   "metadata": {
    "papermill": {
     "duration": 0.007786,
     "end_time": "2025-05-06T08:08:42.502397",
     "exception": false,
     "start_time": "2025-05-06T08:08:42.494611",
     "status": "completed"
    },
    "tags": []
   },
   "source": [
    "## Naive Bayes"
   ]
  },
  {
   "cell_type": "code",
   "execution_count": 24,
   "id": "c46172e0",
   "metadata": {
    "execution": {
     "iopub.execute_input": "2025-05-06T08:08:42.519508Z",
     "iopub.status.busy": "2025-05-06T08:08:42.518873Z",
     "iopub.status.idle": "2025-05-06T08:08:42.548232Z",
     "shell.execute_reply": "2025-05-06T08:08:42.547450Z"
    },
    "papermill": {
     "duration": 0.03916,
     "end_time": "2025-05-06T08:08:42.549481",
     "exception": false,
     "start_time": "2025-05-06T08:08:42.510321",
     "status": "completed"
    },
    "tags": []
   },
   "outputs": [
    {
     "name": "stdout",
     "output_type": "stream",
     "text": [
      "Training Time: 0.02 s\n"
     ]
    }
   ],
   "source": [
    "# Training\n",
    "nb_model = MultinomialNB()\n",
    "start = time.time()\n",
    "nb_model.fit(X_train_tfidf, y_train)\n",
    "print(f\"Training Time: {time.time() - start:.2f} s\")"
   ]
  },
  {
   "cell_type": "code",
   "execution_count": 25,
   "id": "d9f04d59",
   "metadata": {
    "execution": {
     "iopub.execute_input": "2025-05-06T08:08:42.566668Z",
     "iopub.status.busy": "2025-05-06T08:08:42.566449Z",
     "iopub.status.idle": "2025-05-06T08:08:42.588219Z",
     "shell.execute_reply": "2025-05-06T08:08:42.587479Z"
    },
    "papermill": {
     "duration": 0.031612,
     "end_time": "2025-05-06T08:08:42.589465",
     "exception": false,
     "start_time": "2025-05-06T08:08:42.557853",
     "status": "completed"
    },
    "tags": []
   },
   "outputs": [
    {
     "name": "stdout",
     "output_type": "stream",
     "text": [
      "Akurasi: 0.9026\n",
      "Presisi (Fake Review): 0.8974\n",
      "Recall (Fake Review): 0.9090\n",
      "F1-Score (Fake Review): 0.9032\n"
     ]
    }
   ],
   "source": [
    "# Evaluation\n",
    "nb_y_pred = nb_model.predict(X_test_tfidf)\n",
    "\n",
    "accuracy = accuracy_score(y_test, nb_y_pred)\n",
    "print(f'Akurasi: {accuracy:.4f}')\n",
    "\n",
    "precision_cg = precision_score(y_test, nb_y_pred)\n",
    "print(f'Presisi (Fake Review): {precision_cg:.4f}')\n",
    "\n",
    "recall_cg = recall_score(y_test, nb_y_pred)\n",
    "print(f'Recall (Fake Review): {recall_cg:.4f}')\n",
    "\n",
    "f1_cg = f1_score(y_test, nb_y_pred)\n",
    "print(f'F1-Score (Fake Review): {f1_cg:.4f}')"
   ]
  },
  {
   "cell_type": "code",
   "execution_count": 26,
   "id": "425c0aae",
   "metadata": {
    "execution": {
     "iopub.execute_input": "2025-05-06T08:08:42.607047Z",
     "iopub.status.busy": "2025-05-06T08:08:42.606437Z",
     "iopub.status.idle": "2025-05-06T08:08:42.777419Z",
     "shell.execute_reply": "2025-05-06T08:08:42.776637Z"
    },
    "papermill": {
     "duration": 0.181015,
     "end_time": "2025-05-06T08:08:42.778770",
     "exception": false,
     "start_time": "2025-05-06T08:08:42.597755",
     "status": "completed"
    },
    "tags": []
   },
   "outputs": [
    {
     "data": {
      "image/png": "[encoded data removed]",
      "text/plain": [
       "<Figure size 600x600 with 2 Axes>"
      ]
     },
     "metadata": {},
     "output_type": "display_data"
    }
   ],
   "source": [
    "conf_matrix = confusion_matrix(y_test, nb_y_pred)\n",
    "plt.figure(figsize=(6, 6))\n",
    "sns.heatmap(conf_matrix, annot=True, fmt='d', cmap='Blues', xticklabels=['Real Review', 'Fake Review'], yticklabels=['Real Review', 'Fake Review'])\n",
    "plt.title('Confusion Matrix')\n",
    "plt.ylabel('Actual Label')\n",
    "plt.xlabel('Predicted Label')\n",
    "plt.show()"
   ]
  },
  {
   "cell_type": "code",
   "execution_count": 27,
   "id": "d530cf5a",
   "metadata": {
    "execution": {
     "iopub.execute_input": "2025-05-06T08:08:42.797421Z",
     "iopub.status.busy": "2025-05-06T08:08:42.797158Z",
     "iopub.status.idle": "2025-05-06T08:08:42.818558Z",
     "shell.execute_reply": "2025-05-06T08:08:42.817732Z"
    },
    "papermill": {
     "duration": 0.032212,
     "end_time": "2025-05-06T08:08:42.819885",
     "exception": false,
     "start_time": "2025-05-06T08:08:42.787673",
     "status": "completed"
    },
    "tags": []
   },
   "outputs": [
    {
     "name": "stdout",
     "output_type": "stream",
     "text": [
      "Classification Report:\n",
      "              precision    recall  f1-score   support\n",
      "\n",
      " Real Review       0.91      0.90      0.90      4044\n",
      " Fake Review       0.90      0.91      0.90      4043\n",
      "\n",
      "    accuracy                           0.90      8087\n",
      "   macro avg       0.90      0.90      0.90      8087\n",
      "weighted avg       0.90      0.90      0.90      8087\n",
      "\n"
     ]
    }
   ],
   "source": [
    "print(\"Classification Report:\")\n",
    "print(classification_report(y_test, nb_y_pred, target_names=['Real Review', 'Fake Review']))"
   ]
  },
  {
   "cell_type": "markdown",
   "id": "827e43e3",
   "metadata": {
    "papermill": {
     "duration": 0.008801,
     "end_time": "2025-05-06T08:08:42.837685",
     "exception": false,
     "start_time": "2025-05-06T08:08:42.828884",
     "status": "completed"
    },
    "tags": []
   },
   "source": [
    "## XGBoost"
   ]
  },
  {
   "cell_type": "code",
   "execution_count": 28,
   "id": "f87d991c",
   "metadata": {
    "execution": {
     "iopub.execute_input": "2025-05-06T08:08:42.856880Z",
     "iopub.status.busy": "2025-05-06T08:08:42.856584Z",
     "iopub.status.idle": "2025-05-06T08:09:29.923864Z",
     "shell.execute_reply": "2025-05-06T08:09:29.922969Z"
    },
    "papermill": {
     "duration": 47.087216,
     "end_time": "2025-05-06T08:09:29.934188",
     "exception": false,
     "start_time": "2025-05-06T08:08:42.846972",
     "status": "completed"
    },
    "tags": []
   },
   "outputs": [
    {
     "name": "stdout",
     "output_type": "stream",
     "text": [
      "Training Time: 47.06 s\n"
     ]
    }
   ],
   "source": [
    "xgb_model = XGBClassifier(random_state=42)\n",
    "start = time.time()\n",
    "xgb_model.fit(X_train_tfidf, y_train)\n",
    "print(f\"Training Time: {time.time() - start:.2f} s\")"
   ]
  },
  {
   "cell_type": "code",
   "execution_count": 29,
   "id": "7bd5b048",
   "metadata": {
    "execution": {
     "iopub.execute_input": "2025-05-06T08:09:29.953872Z",
     "iopub.status.busy": "2025-05-06T08:09:29.953279Z",
     "iopub.status.idle": "2025-05-06T08:09:29.996679Z",
     "shell.execute_reply": "2025-05-06T08:09:29.995768Z"
    },
    "papermill": {
     "duration": 0.054841,
     "end_time": "2025-05-06T08:09:29.998106",
     "exception": false,
     "start_time": "2025-05-06T08:09:29.943265",
     "status": "completed"
    },
    "tags": []
   },
   "outputs": [
    {
     "name": "stdout",
     "output_type": "stream",
     "text": [
      "Akurasi: 0.9028\n",
      "Presisi (Fake Review): 0.9183\n",
      "Recall (Fake Review): 0.8842\n",
      "F1-Score (Fake Review): 0.9010\n"
     ]
    }
   ],
   "source": [
    "# Evaluation\n",
    "xgb_y_pred = xgb_model.predict(X_test_tfidf)\n",
    "\n",
    "accuracy = accuracy_score(y_test, xgb_y_pred)\n",
    "print(f'Akurasi: {accuracy:.4f}')\n",
    "\n",
    "precision_cg = precision_score(y_test, xgb_y_pred)\n",
    "print(f'Presisi (Fake Review): {precision_cg:.4f}')\n",
    "\n",
    "recall_cg = recall_score(y_test, xgb_y_pred)\n",
    "print(f'Recall (Fake Review): {recall_cg:.4f}')\n",
    "\n",
    "f1_cg = f1_score(y_test, xgb_y_pred)\n",
    "print(f'F1-Score (Fake Review): {f1_cg:.4f}')"
   ]
  },
  {
   "cell_type": "code",
   "execution_count": 30,
   "id": "1fde46c2",
   "metadata": {
    "execution": {
     "iopub.execute_input": "2025-05-06T08:09:30.017743Z",
     "iopub.status.busy": "2025-05-06T08:09:30.017440Z",
     "iopub.status.idle": "2025-05-06T08:09:30.193281Z",
     "shell.execute_reply": "2025-05-06T08:09:30.192483Z"
    },
    "papermill": {
     "duration": 0.187214,
     "end_time": "2025-05-06T08:09:30.194498",
     "exception": false,
     "start_time": "2025-05-06T08:09:30.007284",
     "status": "completed"
    },
    "tags": []
   },
   "outputs": [
    {
     "data": {
      "image/png": "[encoded data removed]",
      "text/plain": [
       "<Figure size 600x600 with 2 Axes>"
      ]
     },
     "metadata": {},
     "output_type": "display_data"
    }
   ],
   "source": [
    "conf_matrix = confusion_matrix(y_test, xgb_y_pred)\n",
    "plt.figure(figsize=(6, 6))\n",
    "sns.heatmap(conf_matrix, annot=True, fmt='d', cmap='Blues', xticklabels=['Real Review', 'Fake Review'], yticklabels=['Real Review', 'Fake Review'])\n",
    "plt.title('Confusion Matrix')\n",
    "plt.ylabel('Actual Label')\n",
    "plt.xlabel('Predicted Label')\n",
    "plt.show()"
   ]
  },
  {
   "cell_type": "code",
   "execution_count": 31,
   "id": "332c2360",
   "metadata": {
    "execution": {
     "iopub.execute_input": "2025-05-06T08:09:30.215454Z",
     "iopub.status.busy": "2025-05-06T08:09:30.214745Z",
     "iopub.status.idle": "2025-05-06T08:09:30.236846Z",
     "shell.execute_reply": "2025-05-06T08:09:30.235986Z"
    },
    "papermill": {
     "duration": 0.034005,
     "end_time": "2025-05-06T08:09:30.238236",
     "exception": false,
     "start_time": "2025-05-06T08:09:30.204231",
     "status": "completed"
    },
    "tags": []
   },
   "outputs": [
    {
     "name": "stdout",
     "output_type": "stream",
     "text": [
      "Classification Report:\n",
      "              precision    recall  f1-score   support\n",
      "\n",
      " Real Review       0.89      0.92      0.90      4044\n",
      " Fake Review       0.92      0.88      0.90      4043\n",
      "\n",
      "    accuracy                           0.90      8087\n",
      "   macro avg       0.90      0.90      0.90      8087\n",
      "weighted avg       0.90      0.90      0.90      8087\n",
      "\n"
     ]
    }
   ],
   "source": [
    "print(\"Classification Report:\")\n",
    "print(classification_report(y_test, xgb_y_pred, target_names=['Real Review', 'Fake Review']))"
   ]
  }
 ],
 "metadata": {
  "kaggle": {
   "accelerator": "none",
   "dataSources": [
    {
     "datasetId": 7266239,
     "sourceId": 11588322,
     "sourceType": "datasetVersion"
    }
   ],
   "dockerImageVersionId": 31012,
   "isGpuEnabled": false,
   "isInternetEnabled": true,
   "language": "python",
   "sourceType": "notebook"
  },
  "kernelspec": {
   "display_name": "Python 3",
   "language": "python",
   "name": "python3"
  },
  "language_info": {
   "codemirror_mode": {
    "name": "ipython",
    "version": 3
   },
   "file_extension": ".py",
   "mimetype": "text/x-python",
   "name": "python",
   "nbconvert_exporter": "python",
   "pygments_lexer": "ipython3",
   "version": "3.11.11"
  },
  "papermill": {
   "default_parameters": {},
   "duration": 972.680446,
   "end_time": "2025-05-06T08:09:31.169084",
   "environment_variables": {},
   "exception": null,
   "input_path": "__notebook__.ipynb",
   "output_path": "__notebook__.ipynb",
   "parameters": {},
   "start_time": "2025-05-06T07:53:18.488638",
   "version": "2.6.0"
  }
 },
 "nbformat": 4,
 "nbformat_minor": 5
}
