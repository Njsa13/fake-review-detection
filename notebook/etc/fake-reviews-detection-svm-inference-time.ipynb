{
 "cells": [
  {
   "cell_type": "markdown",
   "id": "0c756f37",
   "metadata": {
    "id": "9F7sJ-QtSqE8",
    "papermill": {
     "duration": 0.004953,
     "end_time": "2025-05-07T05:09:45.695996",
     "exception": false,
     "start_time": "2025-05-07T05:09:45.691043",
     "status": "completed"
    },
    "tags": []
   },
   "source": [
    "## Import Library"
   ]
  },
  {
   "cell_type": "code",
   "execution_count": 1,
   "id": "06d5329a",
   "metadata": {
    "execution": {
     "iopub.execute_input": "2025-05-07T05:09:45.705315Z",
     "iopub.status.busy": "2025-05-07T05:09:45.704994Z",
     "iopub.status.idle": "2025-05-07T05:09:50.326109Z",
     "shell.execute_reply": "2025-05-07T05:09:50.325026Z"
    },
    "id": "pvbcZKes78HW",
    "papermill": {
     "duration": 4.628223,
     "end_time": "2025-05-07T05:09:50.328390",
     "exception": false,
     "start_time": "2025-05-07T05:09:45.700167",
     "status": "completed"
    },
    "tags": []
   },
   "outputs": [],
   "source": [
    "import pandas as pd\n",
    "import matplotlib.pyplot as plt\n",
    "import numpy as np\n",
    "from sklearn.svm import SVC\n",
    "from sklearn.feature_extraction.text import TfidfVectorizer\n",
    "from sklearn.model_selection import train_test_split\n",
    "from collections import Counter\n",
    "import joblib\n",
    "from sklearn.metrics import accuracy_score, precision_score, recall_score, f1_score, classification_report\n",
    "import psutil, os, time, gc"
   ]
  },
  {
   "cell_type": "markdown",
   "id": "4c3dd59e",
   "metadata": {
    "id": "ji_LCW3wSwVZ",
    "papermill": {
     "duration": 0.003187,
     "end_time": "2025-05-07T05:09:50.335433",
     "exception": false,
     "start_time": "2025-05-07T05:09:50.332246",
     "status": "completed"
    },
    "tags": []
   },
   "source": [
    "## Import Dataset"
   ]
  },
  {
   "cell_type": "code",
   "execution_count": 2,
   "id": "9c2bccc6",
   "metadata": {
    "execution": {
     "iopub.execute_input": "2025-05-07T05:09:50.344772Z",
     "iopub.status.busy": "2025-05-07T05:09:50.344300Z",
     "iopub.status.idle": "2025-05-07T05:09:51.221781Z",
     "shell.execute_reply": "2025-05-07T05:09:51.220117Z"
    },
    "id": "_RKHMPcV73eh",
    "papermill": {
     "duration": 0.88437,
     "end_time": "2025-05-07T05:09:51.223816",
     "exception": false,
     "start_time": "2025-05-07T05:09:50.339446",
     "status": "completed"
    },
    "tags": []
   },
   "outputs": [],
   "source": [
    "df = pd.read_csv('/kaggle/input/preprocessed-fake-reviews-dataset/preprocessed-fake-reviews-dataset.csv')"
   ]
  },
  {
   "cell_type": "code",
   "execution_count": 3,
   "id": "46f7fce2",
   "metadata": {
    "execution": {
     "iopub.execute_input": "2025-05-07T05:09:51.235626Z",
     "iopub.status.busy": "2025-05-07T05:09:51.235055Z",
     "iopub.status.idle": "2025-05-07T05:09:51.284259Z",
     "shell.execute_reply": "2025-05-07T05:09:51.282989Z"
    },
    "id": "XsiFzXFoUUCw",
    "outputId": "b7a06e00-ba2b-4e43-b298-47394cd328cf",
    "papermill": {
     "duration": 0.056051,
     "end_time": "2025-05-07T05:09:51.286080",
     "exception": false,
     "start_time": "2025-05-07T05:09:51.230029",
     "status": "completed"
    },
    "tags": []
   },
   "outputs": [
    {
     "data": {
      "text/html": [
       "<div>\n",
       "<style scoped>\n",
       "    .dataframe tbody tr th:only-of-type {\n",
       "        vertical-align: middle;\n",
       "    }\n",
       "\n",
       "    .dataframe tbody tr th {\n",
       "        vertical-align: top;\n",
       "    }\n",
       "\n",
       "    .dataframe thead th {\n",
       "        text-align: right;\n",
       "    }\n",
       "</style>\n",
       "<table border=\"1\" class=\"dataframe\">\n",
       "  <thead>\n",
       "    <tr style=\"text-align: right;\">\n",
       "      <th></th>\n",
       "      <th>rating</th>\n",
       "      <th>label</th>\n",
       "      <th>text_</th>\n",
       "      <th>cleaned_text</th>\n",
       "      <th>category_Books_5</th>\n",
       "      <th>category_Clothing_Shoes_and_Jewelry_5</th>\n",
       "      <th>category_Electronics_5</th>\n",
       "      <th>category_Home_and_Kitchen_5</th>\n",
       "      <th>category_Kindle_Store_5</th>\n",
       "      <th>category_Movies_and_TV_5</th>\n",
       "      <th>category_Pet_Supplies_5</th>\n",
       "      <th>category_Sports_and_Outdoors_5</th>\n",
       "      <th>category_Tools_and_Home_Improvement_5</th>\n",
       "      <th>category_Toys_and_Games_5</th>\n",
       "    </tr>\n",
       "  </thead>\n",
       "  <tbody>\n",
       "    <tr>\n",
       "      <th>0</th>\n",
       "      <td>5.0</td>\n",
       "      <td>1</td>\n",
       "      <td>Love this!  Well made, sturdy, and very comfor...</td>\n",
       "      <td>Love this  Well made sturdy and very comfortab...</td>\n",
       "      <td>False</td>\n",
       "      <td>False</td>\n",
       "      <td>False</td>\n",
       "      <td>True</td>\n",
       "      <td>False</td>\n",
       "      <td>False</td>\n",
       "      <td>False</td>\n",
       "      <td>False</td>\n",
       "      <td>False</td>\n",
       "      <td>False</td>\n",
       "    </tr>\n",
       "    <tr>\n",
       "      <th>1</th>\n",
       "      <td>5.0</td>\n",
       "      <td>1</td>\n",
       "      <td>love it, a great upgrade from the original.  I...</td>\n",
       "      <td>love it a great upgrade from the original  Ive...</td>\n",
       "      <td>False</td>\n",
       "      <td>False</td>\n",
       "      <td>False</td>\n",
       "      <td>True</td>\n",
       "      <td>False</td>\n",
       "      <td>False</td>\n",
       "      <td>False</td>\n",
       "      <td>False</td>\n",
       "      <td>False</td>\n",
       "      <td>False</td>\n",
       "    </tr>\n",
       "    <tr>\n",
       "      <th>2</th>\n",
       "      <td>5.0</td>\n",
       "      <td>1</td>\n",
       "      <td>This pillow saved my back. I love the look and...</td>\n",
       "      <td>This pillow saved my back I love the look and ...</td>\n",
       "      <td>False</td>\n",
       "      <td>False</td>\n",
       "      <td>False</td>\n",
       "      <td>True</td>\n",
       "      <td>False</td>\n",
       "      <td>False</td>\n",
       "      <td>False</td>\n",
       "      <td>False</td>\n",
       "      <td>False</td>\n",
       "      <td>False</td>\n",
       "    </tr>\n",
       "    <tr>\n",
       "      <th>3</th>\n",
       "      <td>1.0</td>\n",
       "      <td>1</td>\n",
       "      <td>Missing information on how to use it, but it i...</td>\n",
       "      <td>Missing information on how to use it but it is...</td>\n",
       "      <td>False</td>\n",
       "      <td>False</td>\n",
       "      <td>False</td>\n",
       "      <td>True</td>\n",
       "      <td>False</td>\n",
       "      <td>False</td>\n",
       "      <td>False</td>\n",
       "      <td>False</td>\n",
       "      <td>False</td>\n",
       "      <td>False</td>\n",
       "    </tr>\n",
       "    <tr>\n",
       "      <th>4</th>\n",
       "      <td>5.0</td>\n",
       "      <td>1</td>\n",
       "      <td>Very nice set. Good quality. We have had the s...</td>\n",
       "      <td>Very nice set Good quality We have had the set...</td>\n",
       "      <td>False</td>\n",
       "      <td>False</td>\n",
       "      <td>False</td>\n",
       "      <td>True</td>\n",
       "      <td>False</td>\n",
       "      <td>False</td>\n",
       "      <td>False</td>\n",
       "      <td>False</td>\n",
       "      <td>False</td>\n",
       "      <td>False</td>\n",
       "    </tr>\n",
       "  </tbody>\n",
       "</table>\n",
       "</div>"
      ],
      "text/plain": [
       "   rating  label                                              text_  \\\n",
       "0     5.0      1  Love this!  Well made, sturdy, and very comfor...   \n",
       "1     5.0      1  love it, a great upgrade from the original.  I...   \n",
       "2     5.0      1  This pillow saved my back. I love the look and...   \n",
       "3     1.0      1  Missing information on how to use it, but it i...   \n",
       "4     5.0      1  Very nice set. Good quality. We have had the s...   \n",
       "\n",
       "                                        cleaned_text  category_Books_5  \\\n",
       "0  Love this  Well made sturdy and very comfortab...             False   \n",
       "1  love it a great upgrade from the original  Ive...             False   \n",
       "2  This pillow saved my back I love the look and ...             False   \n",
       "3  Missing information on how to use it but it is...             False   \n",
       "4  Very nice set Good quality We have had the set...             False   \n",
       "\n",
       "   category_Clothing_Shoes_and_Jewelry_5  category_Electronics_5  \\\n",
       "0                                  False                   False   \n",
       "1                                  False                   False   \n",
       "2                                  False                   False   \n",
       "3                                  False                   False   \n",
       "4                                  False                   False   \n",
       "\n",
       "   category_Home_and_Kitchen_5  category_Kindle_Store_5  \\\n",
       "0                         True                    False   \n",
       "1                         True                    False   \n",
       "2                         True                    False   \n",
       "3                         True                    False   \n",
       "4                         True                    False   \n",
       "\n",
       "   category_Movies_and_TV_5  category_Pet_Supplies_5  \\\n",
       "0                     False                    False   \n",
       "1                     False                    False   \n",
       "2                     False                    False   \n",
       "3                     False                    False   \n",
       "4                     False                    False   \n",
       "\n",
       "   category_Sports_and_Outdoors_5  category_Tools_and_Home_Improvement_5  \\\n",
       "0                           False                                  False   \n",
       "1                           False                                  False   \n",
       "2                           False                                  False   \n",
       "3                           False                                  False   \n",
       "4                           False                                  False   \n",
       "\n",
       "   category_Toys_and_Games_5  \n",
       "0                      False  \n",
       "1                      False  \n",
       "2                      False  \n",
       "3                      False  \n",
       "4                      False  "
      ]
     },
     "execution_count": 3,
     "metadata": {},
     "output_type": "execute_result"
    }
   ],
   "source": [
    "df.head()"
   ]
  },
  {
   "cell_type": "code",
   "execution_count": 4,
   "id": "285921ff",
   "metadata": {
    "execution": {
     "iopub.execute_input": "2025-05-07T05:09:51.297008Z",
     "iopub.status.busy": "2025-05-07T05:09:51.296647Z",
     "iopub.status.idle": "2025-05-07T05:09:51.316590Z",
     "shell.execute_reply": "2025-05-07T05:09:51.315286Z"
    },
    "id": "BGcJVkG-jp3j",
    "papermill": {
     "duration": 0.029949,
     "end_time": "2025-05-07T05:09:51.320828",
     "exception": false,
     "start_time": "2025-05-07T05:09:51.290879",
     "status": "completed"
    },
    "tags": []
   },
   "outputs": [],
   "source": [
    "df['cleaned_text'] = df['cleaned_text'].fillna(\"\")"
   ]
  },
  {
   "cell_type": "markdown",
   "id": "e120b77d",
   "metadata": {
    "id": "rWRaAlD5ShwF",
    "papermill": {
     "duration": 0.00496,
     "end_time": "2025-05-07T05:09:51.330095",
     "exception": false,
     "start_time": "2025-05-07T05:09:51.325135",
     "status": "completed"
    },
    "tags": []
   },
   "source": [
    "## Data Splitting"
   ]
  },
  {
   "cell_type": "code",
   "execution_count": 5,
   "id": "8f0f29ba",
   "metadata": {
    "execution": {
     "iopub.execute_input": "2025-05-07T05:09:51.343537Z",
     "iopub.status.busy": "2025-05-07T05:09:51.341619Z",
     "iopub.status.idle": "2025-05-07T05:09:51.394984Z",
     "shell.execute_reply": "2025-05-07T05:09:51.393654Z"
    },
    "id": "qCxj8juiB2I5",
    "papermill": {
     "duration": 0.061315,
     "end_time": "2025-05-07T05:09:51.396930",
     "exception": false,
     "start_time": "2025-05-07T05:09:51.335615",
     "status": "completed"
    },
    "tags": []
   },
   "outputs": [],
   "source": [
    "X_train, X_test, y_train, y_test = train_test_split(df, df['label'], test_size=0.2, random_state=42, stratify=df['label'])"
   ]
  },
  {
   "cell_type": "markdown",
   "id": "1c3a61e2",
   "metadata": {
    "id": "0m2OpE6FSeWl",
    "papermill": {
     "duration": 0.003646,
     "end_time": "2025-05-07T05:09:51.405114",
     "exception": false,
     "start_time": "2025-05-07T05:09:51.401468",
     "status": "completed"
    },
    "tags": []
   },
   "source": [
    "## TF-IDF"
   ]
  },
  {
   "cell_type": "code",
   "execution_count": 6,
   "id": "ed27bc30",
   "metadata": {
    "execution": {
     "iopub.execute_input": "2025-05-07T05:09:51.415907Z",
     "iopub.status.busy": "2025-05-07T05:09:51.415521Z",
     "iopub.status.idle": "2025-05-07T05:09:56.912029Z",
     "shell.execute_reply": "2025-05-07T05:09:56.911031Z"
    },
    "id": "BYpw6WjXGbwU",
    "papermill": {
     "duration": 5.504705,
     "end_time": "2025-05-07T05:09:56.913943",
     "exception": false,
     "start_time": "2025-05-07T05:09:51.409238",
     "status": "completed"
    },
    "tags": []
   },
   "outputs": [],
   "source": [
    "vectorizer = TfidfVectorizer(ngram_range=(1,2), min_df=30, max_df=0.90, strip_accents='unicode', sublinear_tf=True)\n",
    "X_train_tfidf = vectorizer.fit_transform(X_train['cleaned_text'])\n",
    "X_test_tfidf = vectorizer.transform(X_test['cleaned_text'])"
   ]
  },
  {
   "cell_type": "code",
   "execution_count": 7,
   "id": "1c5e8e2a",
   "metadata": {
    "execution": {
     "iopub.execute_input": "2025-05-07T05:09:56.923511Z",
     "iopub.status.busy": "2025-05-07T05:09:56.923192Z",
     "iopub.status.idle": "2025-05-07T05:09:56.928830Z",
     "shell.execute_reply": "2025-05-07T05:09:56.927890Z"
    },
    "id": "6PE_LCr5X7U_",
    "outputId": "e44934d3-0a48-42ef-f4f5-4ccff1ed713a",
    "papermill": {
     "duration": 0.012032,
     "end_time": "2025-05-07T05:09:56.930339",
     "exception": false,
     "start_time": "2025-05-07T05:09:56.918307",
     "status": "completed"
    },
    "tags": []
   },
   "outputs": [
    {
     "name": "stdout",
     "output_type": "stream",
     "text": [
      "Jumlah fitur yang diekstrak: 10256\n"
     ]
    }
   ],
   "source": [
    "print(\"Jumlah fitur yang diekstrak:\", len(vectorizer.vocabulary_))"
   ]
  },
  {
   "cell_type": "markdown",
   "id": "63fe5994",
   "metadata": {
    "id": "bMAT1jgsTDQb",
    "papermill": {
     "duration": 0.0034,
     "end_time": "2025-05-07T05:09:56.937508",
     "exception": false,
     "start_time": "2025-05-07T05:09:56.934108",
     "status": "completed"
    },
    "tags": []
   },
   "source": [
    "## SVM"
   ]
  },
  {
   "cell_type": "code",
   "execution_count": 8,
   "id": "37a86aaa",
   "metadata": {
    "execution": {
     "iopub.execute_input": "2025-05-07T05:09:56.946396Z",
     "iopub.status.busy": "2025-05-07T05:09:56.946082Z",
     "iopub.status.idle": "2025-05-07T05:09:56.951621Z",
     "shell.execute_reply": "2025-05-07T05:09:56.950659Z"
    },
    "papermill": {
     "duration": 0.012214,
     "end_time": "2025-05-07T05:09:56.953414",
     "exception": false,
     "start_time": "2025-05-07T05:09:56.941200",
     "status": "completed"
    },
    "tags": []
   },
   "outputs": [],
   "source": [
    "process = psutil.Process(os.getpid())"
   ]
  },
  {
   "cell_type": "code",
   "execution_count": 9,
   "id": "15d9bffe",
   "metadata": {
    "execution": {
     "iopub.execute_input": "2025-05-07T05:09:56.962355Z",
     "iopub.status.busy": "2025-05-07T05:09:56.962037Z",
     "iopub.status.idle": "2025-05-07T05:09:57.085635Z",
     "shell.execute_reply": "2025-05-07T05:09:57.084396Z"
    },
    "id": "ETHb_u35GHbq",
    "papermill": {
     "duration": 0.130452,
     "end_time": "2025-05-07T05:09:57.087712",
     "exception": false,
     "start_time": "2025-05-07T05:09:56.957260",
     "status": "completed"
    },
    "tags": []
   },
   "outputs": [],
   "source": [
    "svm_model2 = joblib.load('/kaggle/input/fake-reviews-detection-models/scikitlearn/default/1/svm.pkl')"
   ]
  },
  {
   "cell_type": "code",
   "execution_count": 10,
   "id": "1ac4d1fc",
   "metadata": {
    "execution": {
     "iopub.execute_input": "2025-05-07T05:09:57.097563Z",
     "iopub.status.busy": "2025-05-07T05:09:57.097243Z",
     "iopub.status.idle": "2025-05-07T05:44:07.631982Z",
     "shell.execute_reply": "2025-05-07T05:44:07.630873Z"
    },
    "papermill": {
     "duration": 2050.546028,
     "end_time": "2025-05-07T05:44:07.637618",
     "exception": false,
     "start_time": "2025-05-07T05:09:57.091590",
     "status": "completed"
    },
    "tags": []
   },
   "outputs": [
    {
     "name": "stdout",
     "output_type": "stream",
     "text": [
      "Average inference time: 68.350929 sec\n",
      "Standard deviation of inference time: 1.511168 sec\n"
     ]
    }
   ],
   "source": [
    "# Inference timing\n",
    "times = []\n",
    "for _ in range(30):\n",
    "    start = time.time()\n",
    "    svm_model2.predict(X_test_tfidf)\n",
    "    end = time.time()\n",
    "    times.append(end - start)\n",
    "\n",
    "print(f\"Average inference time: {np.mean(times):.6f} sec\")\n",
    "print(f\"Standard deviation of inference time: {np.std(times):.6f} sec\")"
   ]
  },
  {
   "cell_type": "code",
   "execution_count": 11,
   "id": "8ee5c4c1",
   "metadata": {
    "execution": {
     "iopub.execute_input": "2025-05-07T05:44:07.650293Z",
     "iopub.status.busy": "2025-05-07T05:44:07.649603Z",
     "iopub.status.idle": "2025-05-07T05:45:15.047917Z",
     "shell.execute_reply": "2025-05-07T05:45:15.046574Z"
    },
    "papermill": {
     "duration": 67.407667,
     "end_time": "2025-05-07T05:45:15.050164",
     "exception": false,
     "start_time": "2025-05-07T05:44:07.642497",
     "status": "completed"
    },
    "tags": []
   },
   "outputs": [],
   "source": [
    "svm_y_pred2 = svm_model2.predict(X_test_tfidf)"
   ]
  },
  {
   "cell_type": "code",
   "execution_count": 12,
   "id": "cba1c54b",
   "metadata": {
    "execution": {
     "iopub.execute_input": "2025-05-07T05:45:15.061630Z",
     "iopub.status.busy": "2025-05-07T05:45:15.061331Z",
     "iopub.status.idle": "2025-05-07T05:45:15.088304Z",
     "shell.execute_reply": "2025-05-07T05:45:15.086871Z"
    },
    "id": "dJa2FQFxHxcS",
    "outputId": "1cfe76d9-2ad4-49d6-80b7-cc73172ee5fc",
    "papermill": {
     "duration": 0.034079,
     "end_time": "2025-05-07T05:45:15.089951",
     "exception": false,
     "start_time": "2025-05-07T05:45:15.055872",
     "status": "completed"
    },
    "tags": []
   },
   "outputs": [
    {
     "name": "stdout",
     "output_type": "stream",
     "text": [
      "Akurasi: 0.9531\n",
      "Presisi (Fake Review): 0.9612\n",
      "Recall (Fake Review): 0.9443\n",
      "F1-Score (Fake Review): 0.9527\n"
     ]
    }
   ],
   "source": [
    "accuracy = accuracy_score(y_test, svm_y_pred2)\n",
    "print(f'Akurasi: {accuracy:.4f}')\n",
    "\n",
    "precision_cg = precision_score(y_test, svm_y_pred2)\n",
    "print(f'Presisi (Fake Review): {precision_cg:.4f}')\n",
    "\n",
    "recall_cg = recall_score(y_test, svm_y_pred2)\n",
    "print(f'Recall (Fake Review): {recall_cg:.4f}')\n",
    "\n",
    "f1_cg = f1_score(y_test, svm_y_pred2)\n",
    "print(f'F1-Score (Fake Review): {f1_cg:.4f}')"
   ]
  }
 ],
 "metadata": {
  "colab": {
   "provenance": []
  },
  "kaggle": {
   "accelerator": "none",
   "dataSources": [
    {
     "datasetId": 7266239,
     "sourceId": 11588322,
     "sourceType": "datasetVersion"
    },
    {
     "isSourceIdPinned": true,
     "modelId": 331603,
     "modelInstanceId": 311249,
     "sourceId": 376781,
     "sourceType": "modelInstanceVersion"
    }
   ],
   "dockerImageVersionId": 31012,
   "isGpuEnabled": false,
   "isInternetEnabled": true,
   "language": "python",
   "sourceType": "notebook"
  },
  "kernelspec": {
   "display_name": "Python 3",
   "language": "python",
   "name": "python3"
  },
  "language_info": {
   "codemirror_mode": {
    "name": "ipython",
    "version": 3
   },
   "file_extension": ".py",
   "mimetype": "text/x-python",
   "name": "python",
   "nbconvert_exporter": "python",
   "pygments_lexer": "ipython3",
   "version": "3.11.11"
  },
  "papermill": {
   "default_parameters": {},
   "duration": 2135.666528,
   "end_time": "2025-05-07T05:45:15.919011",
   "environment_variables": {},
   "exception": null,
   "input_path": "__notebook__.ipynb",
   "output_path": "__notebook__.ipynb",
   "parameters": {},
   "start_time": "2025-05-07T05:09:40.252483",
   "version": "2.6.0"
  }
 },
 "nbformat": 4,
 "nbformat_minor": 5
}
