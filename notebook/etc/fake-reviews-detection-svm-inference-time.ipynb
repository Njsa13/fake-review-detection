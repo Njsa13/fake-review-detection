{
 "cells": [
  {
   "cell_type": "markdown",
   "id": "caf35f35",
   "metadata": {
    "id": "9F7sJ-QtSqE8",
    "papermill": {
     "duration": 0.004536,
     "end_time": "2025-05-07T09:19:36.619105",
     "exception": false,
     "start_time": "2025-05-07T09:19:36.614569",
     "status": "completed"
    },
    "tags": []
   },
   "source": [
    "## Import Library"
   ]
  },
  {
   "cell_type": "code",
   "execution_count": 1,
   "id": "d67746ae",
   "metadata": {
    "execution": {
     "iopub.execute_input": "2025-05-07T09:19:36.627724Z",
     "iopub.status.busy": "2025-05-07T09:19:36.627339Z",
     "iopub.status.idle": "2025-05-07T09:19:40.558563Z",
     "shell.execute_reply": "2025-05-07T09:19:40.557534Z"
    },
    "id": "pvbcZKes78HW",
    "papermill": {
     "duration": 3.937752,
     "end_time": "2025-05-07T09:19:40.560506",
     "exception": false,
     "start_time": "2025-05-07T09:19:36.622754",
     "status": "completed"
    },
    "tags": []
   },
   "outputs": [],
   "source": [
    "import pandas as pd\n",
    "import matplotlib.pyplot as plt\n",
    "import numpy as np\n",
    "from sklearn.svm import SVC\n",
    "from sklearn.feature_extraction.text import TfidfVectorizer\n",
    "from sklearn.model_selection import train_test_split\n",
    "from collections import Counter\n",
    "import joblib\n",
    "from sklearn.metrics import accuracy_score, precision_score, recall_score, f1_score, classification_report\n",
    "import psutil, os, time, gc"
   ]
  },
  {
   "cell_type": "markdown",
   "id": "e7090572",
   "metadata": {
    "id": "ji_LCW3wSwVZ",
    "papermill": {
     "duration": 0.003256,
     "end_time": "2025-05-07T09:19:40.567992",
     "exception": false,
     "start_time": "2025-05-07T09:19:40.564736",
     "status": "completed"
    },
    "tags": []
   },
   "source": [
    "## Import Dataset"
   ]
  },
  {
   "cell_type": "code",
   "execution_count": 2,
   "id": "facc3b9c",
   "metadata": {
    "execution": {
     "iopub.execute_input": "2025-05-07T09:19:40.576560Z",
     "iopub.status.busy": "2025-05-07T09:19:40.576101Z",
     "iopub.status.idle": "2025-05-07T09:19:41.368124Z",
     "shell.execute_reply": "2025-05-07T09:19:41.367088Z"
    },
    "id": "_RKHMPcV73eh",
    "papermill": {
     "duration": 0.798446,
     "end_time": "2025-05-07T09:19:41.369900",
     "exception": false,
     "start_time": "2025-05-07T09:19:40.571454",
     "status": "completed"
    },
    "tags": []
   },
   "outputs": [],
   "source": [
    "df = pd.read_csv('/kaggle/input/preprocessed-fake-reviews-dataset/preprocessed-fake-reviews-dataset.csv')"
   ]
  },
  {
   "cell_type": "code",
   "execution_count": 3,
   "id": "1866ba7d",
   "metadata": {
    "execution": {
     "iopub.execute_input": "2025-05-07T09:19:41.379239Z",
     "iopub.status.busy": "2025-05-07T09:19:41.378904Z",
     "iopub.status.idle": "2025-05-07T09:19:41.411372Z",
     "shell.execute_reply": "2025-05-07T09:19:41.410344Z"
    },
    "id": "XsiFzXFoUUCw",
    "outputId": "b7a06e00-ba2b-4e43-b298-47394cd328cf",
    "papermill": {
     "duration": 0.038329,
     "end_time": "2025-05-07T09:19:41.413018",
     "exception": false,
     "start_time": "2025-05-07T09:19:41.374689",
     "status": "completed"
    },
    "tags": []
   },
   "outputs": [
    {
     "data": {
      "text/html": [
       "<div>\n",
       "<style scoped>\n",
       "    .dataframe tbody tr th:only-of-type {\n",
       "        vertical-align: middle;\n",
       "    }\n",
       "\n",
       "    .dataframe tbody tr th {\n",
       "        vertical-align: top;\n",
       "    }\n",
       "\n",
       "    .dataframe thead th {\n",
       "        text-align: right;\n",
       "    }\n",
       "</style>\n",
       "<table border=\"1\" class=\"dataframe\">\n",
       "  <thead>\n",
       "    <tr style=\"text-align: right;\">\n",
       "      <th></th>\n",
       "      <th>rating</th>\n",
       "      <th>label</th>\n",
       "      <th>text_</th>\n",
       "      <th>cleaned_text</th>\n",
       "      <th>category_Books_5</th>\n",
       "      <th>category_Clothing_Shoes_and_Jewelry_5</th>\n",
       "      <th>category_Electronics_5</th>\n",
       "      <th>category_Home_and_Kitchen_5</th>\n",
       "      <th>category_Kindle_Store_5</th>\n",
       "      <th>category_Movies_and_TV_5</th>\n",
       "      <th>category_Pet_Supplies_5</th>\n",
       "      <th>category_Sports_and_Outdoors_5</th>\n",
       "      <th>category_Tools_and_Home_Improvement_5</th>\n",
       "      <th>category_Toys_and_Games_5</th>\n",
       "    </tr>\n",
       "  </thead>\n",
       "  <tbody>\n",
       "    <tr>\n",
       "      <th>0</th>\n",
       "      <td>5.0</td>\n",
       "      <td>1</td>\n",
       "      <td>Love this!  Well made, sturdy, and very comfor...</td>\n",
       "      <td>Love this  Well made sturdy and very comfortab...</td>\n",
       "      <td>False</td>\n",
       "      <td>False</td>\n",
       "      <td>False</td>\n",
       "      <td>True</td>\n",
       "      <td>False</td>\n",
       "      <td>False</td>\n",
       "      <td>False</td>\n",
       "      <td>False</td>\n",
       "      <td>False</td>\n",
       "      <td>False</td>\n",
       "    </tr>\n",
       "    <tr>\n",
       "      <th>1</th>\n",
       "      <td>5.0</td>\n",
       "      <td>1</td>\n",
       "      <td>love it, a great upgrade from the original.  I...</td>\n",
       "      <td>love it a great upgrade from the original  Ive...</td>\n",
       "      <td>False</td>\n",
       "      <td>False</td>\n",
       "      <td>False</td>\n",
       "      <td>True</td>\n",
       "      <td>False</td>\n",
       "      <td>False</td>\n",
       "      <td>False</td>\n",
       "      <td>False</td>\n",
       "      <td>False</td>\n",
       "      <td>False</td>\n",
       "    </tr>\n",
       "    <tr>\n",
       "      <th>2</th>\n",
       "      <td>5.0</td>\n",
       "      <td>1</td>\n",
       "      <td>This pillow saved my back. I love the look and...</td>\n",
       "      <td>This pillow saved my back I love the look and ...</td>\n",
       "      <td>False</td>\n",
       "      <td>False</td>\n",
       "      <td>False</td>\n",
       "      <td>True</td>\n",
       "      <td>False</td>\n",
       "      <td>False</td>\n",
       "      <td>False</td>\n",
       "      <td>False</td>\n",
       "      <td>False</td>\n",
       "      <td>False</td>\n",
       "    </tr>\n",
       "    <tr>\n",
       "      <th>3</th>\n",
       "      <td>1.0</td>\n",
       "      <td>1</td>\n",
       "      <td>Missing information on how to use it, but it i...</td>\n",
       "      <td>Missing information on how to use it but it is...</td>\n",
       "      <td>False</td>\n",
       "      <td>False</td>\n",
       "      <td>False</td>\n",
       "      <td>True</td>\n",
       "      <td>False</td>\n",
       "      <td>False</td>\n",
       "      <td>False</td>\n",
       "      <td>False</td>\n",
       "      <td>False</td>\n",
       "      <td>False</td>\n",
       "    </tr>\n",
       "    <tr>\n",
       "      <th>4</th>\n",
       "      <td>5.0</td>\n",
       "      <td>1</td>\n",
       "      <td>Very nice set. Good quality. We have had the s...</td>\n",
       "      <td>Very nice set Good quality We have had the set...</td>\n",
       "      <td>False</td>\n",
       "      <td>False</td>\n",
       "      <td>False</td>\n",
       "      <td>True</td>\n",
       "      <td>False</td>\n",
       "      <td>False</td>\n",
       "      <td>False</td>\n",
       "      <td>False</td>\n",
       "      <td>False</td>\n",
       "      <td>False</td>\n",
       "    </tr>\n",
       "  </tbody>\n",
       "</table>\n",
       "</div>"
      ],
      "text/plain": [
       "   rating  label                                              text_  \\\n",
       "0     5.0      1  Love this!  Well made, sturdy, and very comfor...   \n",
       "1     5.0      1  love it, a great upgrade from the original.  I...   \n",
       "2     5.0      1  This pillow saved my back. I love the look and...   \n",
       "3     1.0      1  Missing information on how to use it, but it i...   \n",
       "4     5.0      1  Very nice set. Good quality. We have had the s...   \n",
       "\n",
       "                                        cleaned_text  category_Books_5  \\\n",
       "0  Love this  Well made sturdy and very comfortab...             False   \n",
       "1  love it a great upgrade from the original  Ive...             False   \n",
       "2  This pillow saved my back I love the look and ...             False   \n",
       "3  Missing information on how to use it but it is...             False   \n",
       "4  Very nice set Good quality We have had the set...             False   \n",
       "\n",
       "   category_Clothing_Shoes_and_Jewelry_5  category_Electronics_5  \\\n",
       "0                                  False                   False   \n",
       "1                                  False                   False   \n",
       "2                                  False                   False   \n",
       "3                                  False                   False   \n",
       "4                                  False                   False   \n",
       "\n",
       "   category_Home_and_Kitchen_5  category_Kindle_Store_5  \\\n",
       "0                         True                    False   \n",
       "1                         True                    False   \n",
       "2                         True                    False   \n",
       "3                         True                    False   \n",
       "4                         True                    False   \n",
       "\n",
       "   category_Movies_and_TV_5  category_Pet_Supplies_5  \\\n",
       "0                     False                    False   \n",
       "1                     False                    False   \n",
       "2                     False                    False   \n",
       "3                     False                    False   \n",
       "4                     False                    False   \n",
       "\n",
       "   category_Sports_and_Outdoors_5  category_Tools_and_Home_Improvement_5  \\\n",
       "0                           False                                  False   \n",
       "1                           False                                  False   \n",
       "2                           False                                  False   \n",
       "3                           False                                  False   \n",
       "4                           False                                  False   \n",
       "\n",
       "   category_Toys_and_Games_5  \n",
       "0                      False  \n",
       "1                      False  \n",
       "2                      False  \n",
       "3                      False  \n",
       "4                      False  "
      ]
     },
     "execution_count": 3,
     "metadata": {},
     "output_type": "execute_result"
    }
   ],
   "source": [
    "df.head()"
   ]
  },
  {
   "cell_type": "code",
   "execution_count": 4,
   "id": "18c39d6a",
   "metadata": {
    "execution": {
     "iopub.execute_input": "2025-05-07T09:19:41.421872Z",
     "iopub.status.busy": "2025-05-07T09:19:41.421501Z",
     "iopub.status.idle": "2025-05-07T09:19:41.437665Z",
     "shell.execute_reply": "2025-05-07T09:19:41.436426Z"
    },
    "id": "BGcJVkG-jp3j",
    "papermill": {
     "duration": 0.022712,
     "end_time": "2025-05-07T09:19:41.439522",
     "exception": false,
     "start_time": "2025-05-07T09:19:41.416810",
     "status": "completed"
    },
    "tags": []
   },
   "outputs": [],
   "source": [
    "df['cleaned_text'] = df['cleaned_text'].fillna(\"\")"
   ]
  },
  {
   "cell_type": "markdown",
   "id": "4f95785c",
   "metadata": {
    "id": "rWRaAlD5ShwF",
    "papermill": {
     "duration": 0.003557,
     "end_time": "2025-05-07T09:19:41.446912",
     "exception": false,
     "start_time": "2025-05-07T09:19:41.443355",
     "status": "completed"
    },
    "tags": []
   },
   "source": [
    "## Data Splitting"
   ]
  },
  {
   "cell_type": "code",
   "execution_count": 5,
   "id": "0d481ef4",
   "metadata": {
    "execution": {
     "iopub.execute_input": "2025-05-07T09:19:41.455423Z",
     "iopub.status.busy": "2025-05-07T09:19:41.455052Z",
     "iopub.status.idle": "2025-05-07T09:19:41.495343Z",
     "shell.execute_reply": "2025-05-07T09:19:41.494393Z"
    },
    "id": "qCxj8juiB2I5",
    "papermill": {
     "duration": 0.046591,
     "end_time": "2025-05-07T09:19:41.497113",
     "exception": false,
     "start_time": "2025-05-07T09:19:41.450522",
     "status": "completed"
    },
    "tags": []
   },
   "outputs": [],
   "source": [
    "X_train, X_test, y_train, y_test = train_test_split(df, df['label'], test_size=0.2, random_state=42, stratify=df['label'])"
   ]
  },
  {
   "cell_type": "markdown",
   "id": "50ea8c8b",
   "metadata": {
    "id": "0m2OpE6FSeWl",
    "papermill": {
     "duration": 0.003242,
     "end_time": "2025-05-07T09:19:41.504175",
     "exception": false,
     "start_time": "2025-05-07T09:19:41.500933",
     "status": "completed"
    },
    "tags": []
   },
   "source": [
    "## TF-IDF"
   ]
  },
  {
   "cell_type": "code",
   "execution_count": 6,
   "id": "756aebe1",
   "metadata": {
    "execution": {
     "iopub.execute_input": "2025-05-07T09:19:41.512220Z",
     "iopub.status.busy": "2025-05-07T09:19:41.511813Z",
     "iopub.status.idle": "2025-05-07T09:19:46.487284Z",
     "shell.execute_reply": "2025-05-07T09:19:46.486385Z"
    },
    "id": "BYpw6WjXGbwU",
    "papermill": {
     "duration": 4.981466,
     "end_time": "2025-05-07T09:19:46.488982",
     "exception": false,
     "start_time": "2025-05-07T09:19:41.507516",
     "status": "completed"
    },
    "tags": []
   },
   "outputs": [],
   "source": [
    "vectorizer = TfidfVectorizer(ngram_range=(1,2), min_df=30, max_df=0.90, strip_accents='unicode', sublinear_tf=True)\n",
    "X_train_tfidf = vectorizer.fit_transform(X_train['cleaned_text'])\n",
    "X_test_tfidf = vectorizer.transform(X_test['cleaned_text'])"
   ]
  },
  {
   "cell_type": "code",
   "execution_count": 7,
   "id": "aac2002d",
   "metadata": {
    "execution": {
     "iopub.execute_input": "2025-05-07T09:19:46.498557Z",
     "iopub.status.busy": "2025-05-07T09:19:46.497703Z",
     "iopub.status.idle": "2025-05-07T09:19:46.503358Z",
     "shell.execute_reply": "2025-05-07T09:19:46.502370Z"
    },
    "id": "6PE_LCr5X7U_",
    "outputId": "e44934d3-0a48-42ef-f4f5-4ccff1ed713a",
    "papermill": {
     "duration": 0.01145,
     "end_time": "2025-05-07T09:19:46.504730",
     "exception": false,
     "start_time": "2025-05-07T09:19:46.493280",
     "status": "completed"
    },
    "tags": []
   },
   "outputs": [
    {
     "name": "stdout",
     "output_type": "stream",
     "text": [
      "Jumlah fitur yang diekstrak: 10256\n"
     ]
    }
   ],
   "source": [
    "print(\"Jumlah fitur yang diekstrak:\", len(vectorizer.vocabulary_))"
   ]
  },
  {
   "cell_type": "markdown",
   "id": "1b941c50",
   "metadata": {
    "id": "bMAT1jgsTDQb",
    "papermill": {
     "duration": 0.003229,
     "end_time": "2025-05-07T09:19:46.511635",
     "exception": false,
     "start_time": "2025-05-07T09:19:46.508406",
     "status": "completed"
    },
    "tags": []
   },
   "source": [
    "## SVM"
   ]
  },
  {
   "cell_type": "code",
   "execution_count": 8,
   "id": "0a73ff24",
   "metadata": {
    "execution": {
     "iopub.execute_input": "2025-05-07T09:19:46.519969Z",
     "iopub.status.busy": "2025-05-07T09:19:46.519621Z",
     "iopub.status.idle": "2025-05-07T09:19:46.525177Z",
     "shell.execute_reply": "2025-05-07T09:19:46.524157Z"
    },
    "papermill": {
     "duration": 0.011623,
     "end_time": "2025-05-07T09:19:46.526873",
     "exception": false,
     "start_time": "2025-05-07T09:19:46.515250",
     "status": "completed"
    },
    "tags": []
   },
   "outputs": [],
   "source": [
    "process = psutil.Process(os.getpid())"
   ]
  },
  {
   "cell_type": "code",
   "execution_count": 9,
   "id": "5a189c0f",
   "metadata": {
    "execution": {
     "iopub.execute_input": "2025-05-07T09:19:46.535673Z",
     "iopub.status.busy": "2025-05-07T09:19:46.535322Z",
     "iopub.status.idle": "2025-05-07T09:19:46.703767Z",
     "shell.execute_reply": "2025-05-07T09:19:46.702554Z"
    },
    "id": "ETHb_u35GHbq",
    "papermill": {
     "duration": 0.175301,
     "end_time": "2025-05-07T09:19:46.705993",
     "exception": false,
     "start_time": "2025-05-07T09:19:46.530692",
     "status": "completed"
    },
    "tags": []
   },
   "outputs": [],
   "source": [
    "svm_model2 = joblib.load('/kaggle/input/fake-reviews-detection-models/scikitlearn/default/1/svm.pkl')"
   ]
  },
  {
   "cell_type": "code",
   "execution_count": 10,
   "id": "c307adcb",
   "metadata": {
    "execution": {
     "iopub.execute_input": "2025-05-07T09:19:46.716509Z",
     "iopub.status.busy": "2025-05-07T09:19:46.716058Z",
     "iopub.status.idle": "2025-05-07T10:14:33.488178Z",
     "shell.execute_reply": "2025-05-07T10:14:33.486915Z"
    },
    "papermill": {
     "duration": 3286.781995,
     "end_time": "2025-05-07T10:14:33.492470",
     "exception": false,
     "start_time": "2025-05-07T09:19:46.710475",
     "status": "completed"
    },
    "tags": []
   },
   "outputs": [
    {
     "name": "stdout",
     "output_type": "stream",
     "text": [
      "Average inference time: 65.735264 sec\n",
      "Standard deviation of inference time: 0.290083 sec\n"
     ]
    }
   ],
   "source": [
    "# Inference timing\n",
    "times = []\n",
    "for _ in range(50):\n",
    "    start = time.time()\n",
    "    svm_model2.predict(X_test_tfidf)\n",
    "    end = time.time()\n",
    "    times.append(end - start)\n",
    "\n",
    "print(f\"Average inference time: {np.mean(times):.6f} sec\")\n",
    "print(f\"Standard deviation of inference time: {np.std(times):.6f} sec\")"
   ]
  },
  {
   "cell_type": "code",
   "execution_count": 11,
   "id": "b70fb6db",
   "metadata": {
    "execution": {
     "iopub.execute_input": "2025-05-07T10:14:33.501538Z",
     "iopub.status.busy": "2025-05-07T10:14:33.501205Z",
     "iopub.status.idle": "2025-05-07T10:15:39.606475Z",
     "shell.execute_reply": "2025-05-07T10:15:39.605099Z"
    },
    "papermill": {
     "duration": 66.112169,
     "end_time": "2025-05-07T10:15:39.608545",
     "exception": false,
     "start_time": "2025-05-07T10:14:33.496376",
     "status": "completed"
    },
    "tags": []
   },
   "outputs": [],
   "source": [
    "svm_y_pred2 = svm_model2.predict(X_test_tfidf)"
   ]
  },
  {
   "cell_type": "code",
   "execution_count": 12,
   "id": "c187aa99",
   "metadata": {
    "execution": {
     "iopub.execute_input": "2025-05-07T10:15:39.619457Z",
     "iopub.status.busy": "2025-05-07T10:15:39.619073Z",
     "iopub.status.idle": "2025-05-07T10:15:39.643008Z",
     "shell.execute_reply": "2025-05-07T10:15:39.641917Z"
    },
    "id": "dJa2FQFxHxcS",
    "outputId": "1cfe76d9-2ad4-49d6-80b7-cc73172ee5fc",
    "papermill": {
     "duration": 0.032095,
     "end_time": "2025-05-07T10:15:39.644845",
     "exception": false,
     "start_time": "2025-05-07T10:15:39.612750",
     "status": "completed"
    },
    "tags": []
   },
   "outputs": [
    {
     "name": "stdout",
     "output_type": "stream",
     "text": [
      "Akurasi: 0.9531\n",
      "Presisi (Fake Review): 0.9612\n",
      "Recall (Fake Review): 0.9443\n",
      "F1-Score (Fake Review): 0.9527\n"
     ]
    }
   ],
   "source": [
    "accuracy = accuracy_score(y_test, svm_y_pred2)\n",
    "print(f'Akurasi: {accuracy:.4f}')\n",
    "\n",
    "precision_cg = precision_score(y_test, svm_y_pred2)\n",
    "print(f'Presisi (Fake Review): {precision_cg:.4f}')\n",
    "\n",
    "recall_cg = recall_score(y_test, svm_y_pred2)\n",
    "print(f'Recall (Fake Review): {recall_cg:.4f}')\n",
    "\n",
    "f1_cg = f1_score(y_test, svm_y_pred2)\n",
    "print(f'F1-Score (Fake Review): {f1_cg:.4f}')"
   ]
  }
 ],
 "metadata": {
  "colab": {
   "provenance": []
  },
  "kaggle": {
   "accelerator": "none",
   "dataSources": [
    {
     "datasetId": 7266239,
     "sourceId": 11588322,
     "sourceType": "datasetVersion"
    },
    {
     "isSourceIdPinned": true,
     "modelId": 331603,
     "modelInstanceId": 311249,
     "sourceId": 376781,
     "sourceType": "modelInstanceVersion"
    }
   ],
   "dockerImageVersionId": 31012,
   "isGpuEnabled": false,
   "isInternetEnabled": true,
   "language": "python",
   "sourceType": "notebook"
  },
  "kernelspec": {
   "display_name": "Python 3",
   "language": "python",
   "name": "python3"
  },
  "language_info": {
   "codemirror_mode": {
    "name": "ipython",
    "version": 3
   },
   "file_extension": ".py",
   "mimetype": "text/x-python",
   "name": "python",
   "nbconvert_exporter": "python",
   "pygments_lexer": "ipython3",
   "version": "3.11.11"
  },
  "papermill": {
   "default_parameters": {},
   "duration": 3368.955383,
   "end_time": "2025-05-07T10:15:40.474688",
   "environment_variables": {},
   "exception": null,
   "input_path": "__notebook__.ipynb",
   "output_path": "__notebook__.ipynb",
   "parameters": {},
   "start_time": "2025-05-07T09:19:31.519305",
   "version": "2.6.0"
  }
 },
 "nbformat": 4,
 "nbformat_minor": 5
}
