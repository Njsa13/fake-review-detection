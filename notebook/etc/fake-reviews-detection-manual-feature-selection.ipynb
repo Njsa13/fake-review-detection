{
 "cells": [
  {
   "cell_type": "markdown",
   "id": "ebc92316",
   "metadata": {
    "id": "9F7sJ-QtSqE8",
    "papermill": {
     "duration": 0.011881,
     "end_time": "2025-05-06T06:30:03.967614",
     "exception": false,
     "start_time": "2025-05-06T06:30:03.955733",
     "status": "completed"
    },
    "tags": []
   },
   "source": [
    "## Import Library"
   ]
  },
  {
   "cell_type": "code",
   "execution_count": 1,
   "id": "497693a1",
   "metadata": {
    "execution": {
     "iopub.execute_input": "2025-05-06T06:30:03.990475Z",
     "iopub.status.busy": "2025-05-06T06:30:03.990158Z",
     "iopub.status.idle": "2025-05-06T06:30:08.049720Z",
     "shell.execute_reply": "2025-05-06T06:30:08.048646Z"
    },
    "id": "pvbcZKes78HW",
    "papermill": {
     "duration": 4.073151,
     "end_time": "2025-05-06T06:30:08.051670",
     "exception": false,
     "start_time": "2025-05-06T06:30:03.978519",
     "status": "completed"
    },
    "tags": []
   },
   "outputs": [],
   "source": [
    "import pandas as pd\n",
    "import matplotlib.pyplot as plt\n",
    "import numpy as np\n",
    "from sklearn.ensemble import RandomForestClassifier\n",
    "from sklearn.svm import SVC\n",
    "from sklearn.naive_bayes import MultinomialNB\n",
    "from xgboost import XGBClassifier\n",
    "from sklearn.feature_extraction.text import TfidfVectorizer\n",
    "from sklearn.model_selection import train_test_split\n",
    "from collections import Counter\n",
    "import joblib\n",
    "from sklearn.metrics import accuracy_score, precision_score, recall_score, f1_score, classification_report\n",
    "from scipy.sparse import hstack\n",
    "from matplotlib.ticker import FuncFormatter"
   ]
  },
  {
   "cell_type": "markdown",
   "id": "578ea058",
   "metadata": {
    "id": "ji_LCW3wSwVZ",
    "papermill": {
     "duration": 0.010992,
     "end_time": "2025-05-06T06:30:08.073849",
     "exception": false,
     "start_time": "2025-05-06T06:30:08.062857",
     "status": "completed"
    },
    "tags": []
   },
   "source": [
    "## Import Dataset"
   ]
  },
  {
   "cell_type": "code",
   "execution_count": 2,
   "id": "45f5404f",
   "metadata": {
    "execution": {
     "iopub.execute_input": "2025-05-06T06:30:08.096658Z",
     "iopub.status.busy": "2025-05-06T06:30:08.096220Z",
     "iopub.status.idle": "2025-05-06T06:30:08.799074Z",
     "shell.execute_reply": "2025-05-06T06:30:08.798272Z"
    },
    "id": "_RKHMPcV73eh",
    "papermill": {
     "duration": 0.716198,
     "end_time": "2025-05-06T06:30:08.800775",
     "exception": false,
     "start_time": "2025-05-06T06:30:08.084577",
     "status": "completed"
    },
    "tags": []
   },
   "outputs": [],
   "source": [
    "path = \"/kaggle/input/preprocessed-fake-reviews-dataset/preprocessed-fake-reviews-dataset.csv\"\n",
    "df = pd.read_csv(path)"
   ]
  },
  {
   "cell_type": "code",
   "execution_count": 3,
   "id": "2cc905c4",
   "metadata": {
    "execution": {
     "iopub.execute_input": "2025-05-06T06:30:08.823595Z",
     "iopub.status.busy": "2025-05-06T06:30:08.823277Z",
     "iopub.status.idle": "2025-05-06T06:30:08.853144Z",
     "shell.execute_reply": "2025-05-06T06:30:08.852164Z"
    },
    "id": "XsiFzXFoUUCw",
    "outputId": "c9d0b318-6651-4777-c67b-2022e4f9b372",
    "papermill": {
     "duration": 0.043063,
     "end_time": "2025-05-06T06:30:08.854680",
     "exception": false,
     "start_time": "2025-05-06T06:30:08.811617",
     "status": "completed"
    },
    "tags": []
   },
   "outputs": [
    {
     "data": {
      "text/html": [
       "<div>\n",
       "<style scoped>\n",
       "    .dataframe tbody tr th:only-of-type {\n",
       "        vertical-align: middle;\n",
       "    }\n",
       "\n",
       "    .dataframe tbody tr th {\n",
       "        vertical-align: top;\n",
       "    }\n",
       "\n",
       "    .dataframe thead th {\n",
       "        text-align: right;\n",
       "    }\n",
       "</style>\n",
       "<table border=\"1\" class=\"dataframe\">\n",
       "  <thead>\n",
       "    <tr style=\"text-align: right;\">\n",
       "      <th></th>\n",
       "      <th>rating</th>\n",
       "      <th>label</th>\n",
       "      <th>text_</th>\n",
       "      <th>cleaned_text</th>\n",
       "      <th>category_Books_5</th>\n",
       "      <th>category_Clothing_Shoes_and_Jewelry_5</th>\n",
       "      <th>category_Electronics_5</th>\n",
       "      <th>category_Home_and_Kitchen_5</th>\n",
       "      <th>category_Kindle_Store_5</th>\n",
       "      <th>category_Movies_and_TV_5</th>\n",
       "      <th>category_Pet_Supplies_5</th>\n",
       "      <th>category_Sports_and_Outdoors_5</th>\n",
       "      <th>category_Tools_and_Home_Improvement_5</th>\n",
       "      <th>category_Toys_and_Games_5</th>\n",
       "    </tr>\n",
       "  </thead>\n",
       "  <tbody>\n",
       "    <tr>\n",
       "      <th>0</th>\n",
       "      <td>5.0</td>\n",
       "      <td>1</td>\n",
       "      <td>Love this!  Well made, sturdy, and very comfor...</td>\n",
       "      <td>Love this  Well made sturdy and very comfortab...</td>\n",
       "      <td>False</td>\n",
       "      <td>False</td>\n",
       "      <td>False</td>\n",
       "      <td>True</td>\n",
       "      <td>False</td>\n",
       "      <td>False</td>\n",
       "      <td>False</td>\n",
       "      <td>False</td>\n",
       "      <td>False</td>\n",
       "      <td>False</td>\n",
       "    </tr>\n",
       "    <tr>\n",
       "      <th>1</th>\n",
       "      <td>5.0</td>\n",
       "      <td>1</td>\n",
       "      <td>love it, a great upgrade from the original.  I...</td>\n",
       "      <td>love it a great upgrade from the original  Ive...</td>\n",
       "      <td>False</td>\n",
       "      <td>False</td>\n",
       "      <td>False</td>\n",
       "      <td>True</td>\n",
       "      <td>False</td>\n",
       "      <td>False</td>\n",
       "      <td>False</td>\n",
       "      <td>False</td>\n",
       "      <td>False</td>\n",
       "      <td>False</td>\n",
       "    </tr>\n",
       "    <tr>\n",
       "      <th>2</th>\n",
       "      <td>5.0</td>\n",
       "      <td>1</td>\n",
       "      <td>This pillow saved my back. I love the look and...</td>\n",
       "      <td>This pillow saved my back I love the look and ...</td>\n",
       "      <td>False</td>\n",
       "      <td>False</td>\n",
       "      <td>False</td>\n",
       "      <td>True</td>\n",
       "      <td>False</td>\n",
       "      <td>False</td>\n",
       "      <td>False</td>\n",
       "      <td>False</td>\n",
       "      <td>False</td>\n",
       "      <td>False</td>\n",
       "    </tr>\n",
       "    <tr>\n",
       "      <th>3</th>\n",
       "      <td>1.0</td>\n",
       "      <td>1</td>\n",
       "      <td>Missing information on how to use it, but it i...</td>\n",
       "      <td>Missing information on how to use it but it is...</td>\n",
       "      <td>False</td>\n",
       "      <td>False</td>\n",
       "      <td>False</td>\n",
       "      <td>True</td>\n",
       "      <td>False</td>\n",
       "      <td>False</td>\n",
       "      <td>False</td>\n",
       "      <td>False</td>\n",
       "      <td>False</td>\n",
       "      <td>False</td>\n",
       "    </tr>\n",
       "    <tr>\n",
       "      <th>4</th>\n",
       "      <td>5.0</td>\n",
       "      <td>1</td>\n",
       "      <td>Very nice set. Good quality. We have had the s...</td>\n",
       "      <td>Very nice set Good quality We have had the set...</td>\n",
       "      <td>False</td>\n",
       "      <td>False</td>\n",
       "      <td>False</td>\n",
       "      <td>True</td>\n",
       "      <td>False</td>\n",
       "      <td>False</td>\n",
       "      <td>False</td>\n",
       "      <td>False</td>\n",
       "      <td>False</td>\n",
       "      <td>False</td>\n",
       "    </tr>\n",
       "  </tbody>\n",
       "</table>\n",
       "</div>"
      ],
      "text/plain": [
       "   rating  label                                              text_  \\\n",
       "0     5.0      1  Love this!  Well made, sturdy, and very comfor...   \n",
       "1     5.0      1  love it, a great upgrade from the original.  I...   \n",
       "2     5.0      1  This pillow saved my back. I love the look and...   \n",
       "3     1.0      1  Missing information on how to use it, but it i...   \n",
       "4     5.0      1  Very nice set. Good quality. We have had the s...   \n",
       "\n",
       "                                        cleaned_text  category_Books_5  \\\n",
       "0  Love this  Well made sturdy and very comfortab...             False   \n",
       "1  love it a great upgrade from the original  Ive...             False   \n",
       "2  This pillow saved my back I love the look and ...             False   \n",
       "3  Missing information on how to use it but it is...             False   \n",
       "4  Very nice set Good quality We have had the set...             False   \n",
       "\n",
       "   category_Clothing_Shoes_and_Jewelry_5  category_Electronics_5  \\\n",
       "0                                  False                   False   \n",
       "1                                  False                   False   \n",
       "2                                  False                   False   \n",
       "3                                  False                   False   \n",
       "4                                  False                   False   \n",
       "\n",
       "   category_Home_and_Kitchen_5  category_Kindle_Store_5  \\\n",
       "0                         True                    False   \n",
       "1                         True                    False   \n",
       "2                         True                    False   \n",
       "3                         True                    False   \n",
       "4                         True                    False   \n",
       "\n",
       "   category_Movies_and_TV_5  category_Pet_Supplies_5  \\\n",
       "0                     False                    False   \n",
       "1                     False                    False   \n",
       "2                     False                    False   \n",
       "3                     False                    False   \n",
       "4                     False                    False   \n",
       "\n",
       "   category_Sports_and_Outdoors_5  category_Tools_and_Home_Improvement_5  \\\n",
       "0                           False                                  False   \n",
       "1                           False                                  False   \n",
       "2                           False                                  False   \n",
       "3                           False                                  False   \n",
       "4                           False                                  False   \n",
       "\n",
       "   category_Toys_and_Games_5  \n",
       "0                      False  \n",
       "1                      False  \n",
       "2                      False  \n",
       "3                      False  \n",
       "4                      False  "
      ]
     },
     "execution_count": 3,
     "metadata": {},
     "output_type": "execute_result"
    }
   ],
   "source": [
    "df.head()"
   ]
  },
  {
   "cell_type": "code",
   "execution_count": 4,
   "id": "8482b654",
   "metadata": {
    "execution": {
     "iopub.execute_input": "2025-05-06T06:30:08.878332Z",
     "iopub.status.busy": "2025-05-06T06:30:08.877682Z",
     "iopub.status.idle": "2025-05-06T06:30:08.896666Z",
     "shell.execute_reply": "2025-05-06T06:30:08.895773Z"
    },
    "id": "CArT75BzhGkh",
    "outputId": "92bf1239-7506-41d8-88ef-67cf65687cd4",
    "papermill": {
     "duration": 0.03229,
     "end_time": "2025-05-06T06:30:08.898041",
     "exception": false,
     "start_time": "2025-05-06T06:30:08.865751",
     "status": "completed"
    },
    "tags": []
   },
   "outputs": [
    {
     "data": {
      "text/plain": [
       "rating                                   0\n",
       "label                                    0\n",
       "text_                                    0\n",
       "cleaned_text                             1\n",
       "category_Books_5                         0\n",
       "category_Clothing_Shoes_and_Jewelry_5    0\n",
       "category_Electronics_5                   0\n",
       "category_Home_and_Kitchen_5              0\n",
       "category_Kindle_Store_5                  0\n",
       "category_Movies_and_TV_5                 0\n",
       "category_Pet_Supplies_5                  0\n",
       "category_Sports_and_Outdoors_5           0\n",
       "category_Tools_and_Home_Improvement_5    0\n",
       "category_Toys_and_Games_5                0\n",
       "dtype: int64"
      ]
     },
     "execution_count": 4,
     "metadata": {},
     "output_type": "execute_result"
    }
   ],
   "source": [
    "df.isnull().sum()"
   ]
  },
  {
   "cell_type": "code",
   "execution_count": 5,
   "id": "c33aa8ea",
   "metadata": {
    "execution": {
     "iopub.execute_input": "2025-05-06T06:30:08.921103Z",
     "iopub.status.busy": "2025-05-06T06:30:08.920776Z",
     "iopub.status.idle": "2025-05-06T06:30:08.934654Z",
     "shell.execute_reply": "2025-05-06T06:30:08.933595Z"
    },
    "id": "BGcJVkG-jp3j",
    "papermill": {
     "duration": 0.027226,
     "end_time": "2025-05-06T06:30:08.936225",
     "exception": false,
     "start_time": "2025-05-06T06:30:08.908999",
     "status": "completed"
    },
    "tags": []
   },
   "outputs": [],
   "source": [
    "df['cleaned_text'] = df['cleaned_text'].fillna(\"\")"
   ]
  },
  {
   "cell_type": "code",
   "execution_count": 6,
   "id": "3bf89554",
   "metadata": {
    "execution": {
     "iopub.execute_input": "2025-05-06T06:30:08.959510Z",
     "iopub.status.busy": "2025-05-06T06:30:08.959214Z",
     "iopub.status.idle": "2025-05-06T06:30:08.977575Z",
     "shell.execute_reply": "2025-05-06T06:30:08.976899Z"
    },
    "id": "laIIkbrvkCzX",
    "outputId": "26d12c39-fc8a-4aaf-c763-ec8a717cf36b",
    "papermill": {
     "duration": 0.03159,
     "end_time": "2025-05-06T06:30:08.978923",
     "exception": false,
     "start_time": "2025-05-06T06:30:08.947333",
     "status": "completed"
    },
    "tags": []
   },
   "outputs": [
    {
     "data": {
      "text/plain": [
       "rating                                   0\n",
       "label                                    0\n",
       "text_                                    0\n",
       "cleaned_text                             0\n",
       "category_Books_5                         0\n",
       "category_Clothing_Shoes_and_Jewelry_5    0\n",
       "category_Electronics_5                   0\n",
       "category_Home_and_Kitchen_5              0\n",
       "category_Kindle_Store_5                  0\n",
       "category_Movies_and_TV_5                 0\n",
       "category_Pet_Supplies_5                  0\n",
       "category_Sports_and_Outdoors_5           0\n",
       "category_Tools_and_Home_Improvement_5    0\n",
       "category_Toys_and_Games_5                0\n",
       "dtype: int64"
      ]
     },
     "execution_count": 6,
     "metadata": {},
     "output_type": "execute_result"
    }
   ],
   "source": [
    "df.isnull().sum()"
   ]
  },
  {
   "cell_type": "code",
   "execution_count": 7,
   "id": "405a661f",
   "metadata": {
    "execution": {
     "iopub.execute_input": "2025-05-06T06:30:09.002490Z",
     "iopub.status.busy": "2025-05-06T06:30:09.002181Z",
     "iopub.status.idle": "2025-05-06T06:30:09.034295Z",
     "shell.execute_reply": "2025-05-06T06:30:09.033347Z"
    },
    "id": "h-huwLWdhGkm",
    "outputId": "f499e81f-9aa8-4f74-942b-9f1d40abddd4",
    "papermill": {
     "duration": 0.045562,
     "end_time": "2025-05-06T06:30:09.035739",
     "exception": false,
     "start_time": "2025-05-06T06:30:08.990177",
     "status": "completed"
    },
    "tags": []
   },
   "outputs": [
    {
     "name": "stdout",
     "output_type": "stream",
     "text": [
      "<class 'pandas.core.frame.DataFrame'>\n",
      "RangeIndex: 40432 entries, 0 to 40431\n",
      "Data columns (total 14 columns):\n",
      " #   Column                                 Non-Null Count  Dtype  \n",
      "---  ------                                 --------------  -----  \n",
      " 0   rating                                 40432 non-null  float64\n",
      " 1   label                                  40432 non-null  int64  \n",
      " 2   text_                                  40432 non-null  object \n",
      " 3   cleaned_text                           40432 non-null  object \n",
      " 4   category_Books_5                       40432 non-null  bool   \n",
      " 5   category_Clothing_Shoes_and_Jewelry_5  40432 non-null  bool   \n",
      " 6   category_Electronics_5                 40432 non-null  bool   \n",
      " 7   category_Home_and_Kitchen_5            40432 non-null  bool   \n",
      " 8   category_Kindle_Store_5                40432 non-null  bool   \n",
      " 9   category_Movies_and_TV_5               40432 non-null  bool   \n",
      " 10  category_Pet_Supplies_5                40432 non-null  bool   \n",
      " 11  category_Sports_and_Outdoors_5         40432 non-null  bool   \n",
      " 12  category_Tools_and_Home_Improvement_5  40432 non-null  bool   \n",
      " 13  category_Toys_and_Games_5              40432 non-null  bool   \n",
      "dtypes: bool(10), float64(1), int64(1), object(2)\n",
      "memory usage: 1.6+ MB\n"
     ]
    }
   ],
   "source": [
    "df.info()"
   ]
  },
  {
   "cell_type": "code",
   "execution_count": 8,
   "id": "ced97bac",
   "metadata": {
    "execution": {
     "iopub.execute_input": "2025-05-06T06:30:09.059636Z",
     "iopub.status.busy": "2025-05-06T06:30:09.058837Z",
     "iopub.status.idle": "2025-05-06T06:30:09.077526Z",
     "shell.execute_reply": "2025-05-06T06:30:09.076541Z"
    },
    "id": "w-6GM3cgNxik",
    "outputId": "7a15e567-a34c-424a-e79b-4422fd0e68da",
    "papermill": {
     "duration": 0.032242,
     "end_time": "2025-05-06T06:30:09.079151",
     "exception": false,
     "start_time": "2025-05-06T06:30:09.046909",
     "status": "completed"
    },
    "tags": []
   },
   "outputs": [
    {
     "data": {
      "text/html": [
       "<div>\n",
       "<style scoped>\n",
       "    .dataframe tbody tr th:only-of-type {\n",
       "        vertical-align: middle;\n",
       "    }\n",
       "\n",
       "    .dataframe tbody tr th {\n",
       "        vertical-align: top;\n",
       "    }\n",
       "\n",
       "    .dataframe thead th {\n",
       "        text-align: right;\n",
       "    }\n",
       "</style>\n",
       "<table border=\"1\" class=\"dataframe\">\n",
       "  <thead>\n",
       "    <tr style=\"text-align: right;\">\n",
       "      <th></th>\n",
       "      <th>rating</th>\n",
       "      <th>label</th>\n",
       "    </tr>\n",
       "  </thead>\n",
       "  <tbody>\n",
       "    <tr>\n",
       "      <th>count</th>\n",
       "      <td>40432.000000</td>\n",
       "      <td>40432.000000</td>\n",
       "    </tr>\n",
       "    <tr>\n",
       "      <th>mean</th>\n",
       "      <td>4.256579</td>\n",
       "      <td>0.500000</td>\n",
       "    </tr>\n",
       "    <tr>\n",
       "      <th>std</th>\n",
       "      <td>1.144354</td>\n",
       "      <td>0.500006</td>\n",
       "    </tr>\n",
       "    <tr>\n",
       "      <th>min</th>\n",
       "      <td>1.000000</td>\n",
       "      <td>0.000000</td>\n",
       "    </tr>\n",
       "    <tr>\n",
       "      <th>25%</th>\n",
       "      <td>4.000000</td>\n",
       "      <td>0.000000</td>\n",
       "    </tr>\n",
       "    <tr>\n",
       "      <th>50%</th>\n",
       "      <td>5.000000</td>\n",
       "      <td>0.500000</td>\n",
       "    </tr>\n",
       "    <tr>\n",
       "      <th>75%</th>\n",
       "      <td>5.000000</td>\n",
       "      <td>1.000000</td>\n",
       "    </tr>\n",
       "    <tr>\n",
       "      <th>max</th>\n",
       "      <td>5.000000</td>\n",
       "      <td>1.000000</td>\n",
       "    </tr>\n",
       "  </tbody>\n",
       "</table>\n",
       "</div>"
      ],
      "text/plain": [
       "             rating         label\n",
       "count  40432.000000  40432.000000\n",
       "mean       4.256579      0.500000\n",
       "std        1.144354      0.500006\n",
       "min        1.000000      0.000000\n",
       "25%        4.000000      0.000000\n",
       "50%        5.000000      0.500000\n",
       "75%        5.000000      1.000000\n",
       "max        5.000000      1.000000"
      ]
     },
     "execution_count": 8,
     "metadata": {},
     "output_type": "execute_result"
    }
   ],
   "source": [
    "df.describe()"
   ]
  },
  {
   "cell_type": "code",
   "execution_count": 9,
   "id": "8f3181be",
   "metadata": {
    "execution": {
     "iopub.execute_input": "2025-05-06T06:30:09.103495Z",
     "iopub.status.busy": "2025-05-06T06:30:09.102889Z",
     "iopub.status.idle": "2025-05-06T06:30:09.109871Z",
     "shell.execute_reply": "2025-05-06T06:30:09.109014Z"
    },
    "id": "lWW5ljJXCzva",
    "outputId": "64a9b51b-7b45-4504-cfef-f058e8a995ed",
    "papermill": {
     "duration": 0.020783,
     "end_time": "2025-05-06T06:30:09.111410",
     "exception": false,
     "start_time": "2025-05-06T06:30:09.090627",
     "status": "completed"
    },
    "tags": []
   },
   "outputs": [
    {
     "name": "stdout",
     "output_type": "stream",
     "text": [
      "Jumlah Real Review (0): 20216\n",
      "Jumlah Fake Review (1): 20216\n"
     ]
    }
   ],
   "source": [
    "label_counts = df['label'].value_counts()\n",
    "\n",
    "print(\"Jumlah Real Review (0):\", label_counts[0])\n",
    "print(\"Jumlah Fake Review (1):\", label_counts[1])"
   ]
  },
  {
   "cell_type": "code",
   "execution_count": 10,
   "id": "8c8b9562",
   "metadata": {
    "execution": {
     "iopub.execute_input": "2025-05-06T06:30:09.136715Z",
     "iopub.status.busy": "2025-05-06T06:30:09.135844Z",
     "iopub.status.idle": "2025-05-06T06:30:09.388872Z",
     "shell.execute_reply": "2025-05-06T06:30:09.388006Z"
    },
    "id": "z5eJ7_QmvA4t",
    "outputId": "56bbbcd6-bc1b-47fc-b39e-f06b89dfd335",
    "papermill": {
     "duration": 0.267601,
     "end_time": "2025-05-06T06:30:09.390450",
     "exception": false,
     "start_time": "2025-05-06T06:30:09.122849",
     "status": "completed"
    },
    "tags": []
   },
   "outputs": [
    {
     "data": {
      "image/png": "[encoded data removed]",
      "text/plain": [
       "<Figure size 600x400 with 1 Axes>"
      ]
     },
     "metadata": {},
     "output_type": "display_data"
    }
   ],
   "source": [
    "from collections import Counter\n",
    "import matplotlib.pyplot as plt\n",
    "\n",
    "train_counts = Counter(df['label'].astype(str))\n",
    "\n",
    "label_mapping = {'0': 'OR', '1': 'CG'}\n",
    "mapped_keys = [label_mapping[key] for key in train_counts.keys()]\n",
    "\n",
    "plt.figure(figsize=(6, 4))\n",
    "bars = plt.bar(mapped_keys, train_counts.values(), color=['blue', 'orange'])\n",
    "\n",
    "for bar in bars:\n",
    "    height = bar.get_height()\n",
    "    plt.text(\n",
    "        bar.get_x() + bar.get_width() / 2,\n",
    "        height,\n",
    "        f'{int(height)}',\n",
    "        ha='center',\n",
    "        va='bottom'\n",
    "    )\n",
    "\n",
    "plt.xlabel(\"Kelas\")\n",
    "plt.ylabel(\"Jumlah Data\")\n",
    "plt.title(\"Distribusi Dataset Ulasan Palsu\")\n",
    "plt.xticks(rotation=0)\n",
    "plt.grid(axis='y', linestyle='--', alpha=0.7)\n",
    "plt.margins(y=0.08)\n",
    "\n",
    "plt.show()\n"
   ]
  },
  {
   "cell_type": "markdown",
   "id": "1b58e746",
   "metadata": {
    "id": "rWRaAlD5ShwF",
    "papermill": {
     "duration": 0.011805,
     "end_time": "2025-05-06T06:30:09.415074",
     "exception": false,
     "start_time": "2025-05-06T06:30:09.403269",
     "status": "completed"
    },
    "tags": []
   },
   "source": [
    "## Data Splitting"
   ]
  },
  {
   "cell_type": "code",
   "execution_count": 11,
   "id": "fa068a9e",
   "metadata": {
    "execution": {
     "iopub.execute_input": "2025-05-06T06:30:09.440355Z",
     "iopub.status.busy": "2025-05-06T06:30:09.440009Z",
     "iopub.status.idle": "2025-05-06T06:30:09.474748Z",
     "shell.execute_reply": "2025-05-06T06:30:09.473683Z"
    },
    "id": "qCxj8juiB2I5",
    "papermill": {
     "duration": 0.049537,
     "end_time": "2025-05-06T06:30:09.476546",
     "exception": false,
     "start_time": "2025-05-06T06:30:09.427009",
     "status": "completed"
    },
    "tags": []
   },
   "outputs": [],
   "source": [
    "X_train, X_test, y_train, y_test = train_test_split(df, df['label'], test_size=0.2, random_state=42, stratify=df['label'])"
   ]
  },
  {
   "cell_type": "code",
   "execution_count": 12,
   "id": "54fee591",
   "metadata": {
    "execution": {
     "iopub.execute_input": "2025-05-06T06:30:09.569615Z",
     "iopub.status.busy": "2025-05-06T06:30:09.569281Z",
     "iopub.status.idle": "2025-05-06T06:30:09.575840Z",
     "shell.execute_reply": "2025-05-06T06:30:09.574833Z"
    },
    "id": "RBkT0YtA9rSq",
    "outputId": "fd58b9df-9c5f-4be2-abac-662169bec973",
    "papermill": {
     "duration": 0.021961,
     "end_time": "2025-05-06T06:30:09.577611",
     "exception": false,
     "start_time": "2025-05-06T06:30:09.555650",
     "status": "completed"
    },
    "tags": []
   },
   "outputs": [
    {
     "name": "stdout",
     "output_type": "stream",
     "text": [
      "Jumlah Real Review Train (0): 16172\n",
      "Jumlah Fake Review Train (1): 16173\n"
     ]
    }
   ],
   "source": [
    "label_counts = y_train.value_counts()\n",
    "\n",
    "print(\"Jumlah Real Review Train (0):\", label_counts[0])\n",
    "print(\"Jumlah Fake Review Train (1):\", label_counts[1])"
   ]
  },
  {
   "cell_type": "code",
   "execution_count": 13,
   "id": "4ccf954d",
   "metadata": {
    "execution": {
     "iopub.execute_input": "2025-05-06T06:30:09.604931Z",
     "iopub.status.busy": "2025-05-06T06:30:09.604228Z",
     "iopub.status.idle": "2025-05-06T06:30:09.610415Z",
     "shell.execute_reply": "2025-05-06T06:30:09.609254Z"
    },
    "id": "v3xfXUyC-PRg",
    "outputId": "3c3773c2-841f-4e54-d6e2-5de0a57e664a",
    "papermill": {
     "duration": 0.021443,
     "end_time": "2025-05-06T06:30:09.611865",
     "exception": false,
     "start_time": "2025-05-06T06:30:09.590422",
     "status": "completed"
    },
    "tags": []
   },
   "outputs": [
    {
     "name": "stdout",
     "output_type": "stream",
     "text": [
      "Jumlah Real Review Test (0): 4044\n",
      "Jumlah Fake Review Test (1): 4043\n"
     ]
    }
   ],
   "source": [
    "label_counts = y_test.value_counts()\n",
    "\n",
    "print(\"Jumlah Real Review Test (0):\", label_counts[0])\n",
    "print(\"Jumlah Fake Review Test (1):\", label_counts[1])"
   ]
  },
  {
   "cell_type": "code",
   "execution_count": 14,
   "id": "93f2c690",
   "metadata": {
    "execution": {
     "iopub.execute_input": "2025-05-06T06:30:09.637831Z",
     "iopub.status.busy": "2025-05-06T06:30:09.637477Z",
     "iopub.status.idle": "2025-05-06T06:30:09.979456Z",
     "shell.execute_reply": "2025-05-06T06:30:09.978574Z"
    },
    "id": "C24pHCnKEMX_",
    "outputId": "019c32b4-5cce-4f33-b80c-ce8a57fcc993",
    "papermill": {
     "duration": 0.356873,
     "end_time": "2025-05-06T06:30:09.981077",
     "exception": false,
     "start_time": "2025-05-06T06:30:09.624204",
     "status": "completed"
    },
    "tags": []
   },
   "outputs": [
    {
     "data": {
      "image/png": "[encoded data removed]",
      "text/plain": [
       "<Figure size 1200x500 with 2 Axes>"
      ]
     },
     "metadata": {},
     "output_type": "display_data"
    }
   ],
   "source": [
    "train_counts = Counter(y_train)\n",
    "test_counts = Counter(y_test)\n",
    "\n",
    "fig, axes = plt.subplots(1, 2, figsize=(12, 5))\n",
    "\n",
    "bars_train = axes[0].bar(train_counts.keys(), train_counts.values(), color=['blue', 'orange'])\n",
    "axes[0].set_title('Distribusi Data Train')\n",
    "axes[0].set_xticks([0, 1])\n",
    "axes[0].set_xticklabels(['0', '1'])\n",
    "axes[0].set_xlabel('Kelas')\n",
    "axes[0].set_ylabel('Jumlah Data')\n",
    "axes[0].grid(axis='y', linestyle='--', alpha=0.7)\n",
    "axes[0].margins(y=0.08)\n",
    "\n",
    "for bar in bars_train:\n",
    "    height = bar.get_height()\n",
    "    axes[0].text(\n",
    "        bar.get_x() + bar.get_width() / 2,\n",
    "        height,\n",
    "        f'{int(height)}',\n",
    "        ha='center',\n",
    "        va='bottom'\n",
    "    )\n",
    "\n",
    "bars_test = axes[1].bar(test_counts.keys(), test_counts.values(), color=['blue', 'orange'])\n",
    "axes[1].set_title('Distribusi Data Test')\n",
    "axes[1].set_xticks([0, 1])\n",
    "axes[1].set_xticklabels(['0', '1'])\n",
    "axes[1].set_xlabel('Kelas')\n",
    "axes[1].set_ylabel('Jumlah Data')\n",
    "axes[1].grid(axis='y', linestyle='--', alpha=0.7)\n",
    "axes[1].margins(y=0.08)\n",
    "\n",
    "for bar in bars_test:\n",
    "    height = bar.get_height()\n",
    "    axes[1].text(\n",
    "        bar.get_x() + bar.get_width() / 2,\n",
    "        height,\n",
    "        f'{int(height)}',\n",
    "        ha='center',\n",
    "        va='bottom'\n",
    "    )\n",
    "\n",
    "plt.tight_layout()\n",
    "plt.show()"
   ]
  },
  {
   "cell_type": "markdown",
   "id": "a6ce510c",
   "metadata": {
    "id": "0m2OpE6FSeWl",
    "papermill": {
     "duration": 0.013319,
     "end_time": "2025-05-06T06:30:10.007651",
     "exception": false,
     "start_time": "2025-05-06T06:30:09.994332",
     "status": "completed"
    },
    "tags": []
   },
   "source": [
    "## TF-IDF"
   ]
  },
  {
   "cell_type": "code",
   "execution_count": 15,
   "id": "c466cb4e",
   "metadata": {
    "execution": {
     "iopub.execute_input": "2025-05-06T06:30:10.035695Z",
     "iopub.status.busy": "2025-05-06T06:30:10.035352Z",
     "iopub.status.idle": "2025-05-06T06:30:14.712162Z",
     "shell.execute_reply": "2025-05-06T06:30:14.711251Z"
    },
    "id": "BYpw6WjXGbwU",
    "papermill": {
     "duration": 4.692639,
     "end_time": "2025-05-06T06:30:14.714007",
     "exception": false,
     "start_time": "2025-05-06T06:30:10.021368",
     "status": "completed"
    },
    "tags": []
   },
   "outputs": [],
   "source": [
    "vectorizer = TfidfVectorizer(ngram_range=(1,2), min_df=30, max_df=0.90, strip_accents='unicode', sublinear_tf=True)\n",
    "X_train_tfidf = vectorizer.fit_transform(X_train['cleaned_text'])\n",
    "X_test_tfidf = vectorizer.transform(X_test['cleaned_text'])"
   ]
  },
  {
   "cell_type": "code",
   "execution_count": 16,
   "id": "55c846fa",
   "metadata": {
    "execution": {
     "iopub.execute_input": "2025-05-06T06:30:14.742163Z",
     "iopub.status.busy": "2025-05-06T06:30:14.741646Z",
     "iopub.status.idle": "2025-05-06T06:30:14.746603Z",
     "shell.execute_reply": "2025-05-06T06:30:14.745635Z"
    },
    "id": "6PE_LCr5X7U_",
    "outputId": "47156f50-6c7c-464d-9e7a-0c15381752a8",
    "papermill": {
     "duration": 0.02053,
     "end_time": "2025-05-06T06:30:14.747971",
     "exception": false,
     "start_time": "2025-05-06T06:30:14.727441",
     "status": "completed"
    },
    "tags": []
   },
   "outputs": [
    {
     "name": "stdout",
     "output_type": "stream",
     "text": [
      "Jumlah fitur yang diekstrak: 10256\n"
     ]
    }
   ],
   "source": [
    "print(\"Jumlah fitur yang diekstrak:\", len(vectorizer.vocabulary_))"
   ]
  },
  {
   "cell_type": "code",
   "execution_count": 17,
   "id": "fff15ffe",
   "metadata": {
    "execution": {
     "iopub.execute_input": "2025-05-06T06:30:14.774809Z",
     "iopub.status.busy": "2025-05-06T06:30:14.774482Z",
     "iopub.status.idle": "2025-05-06T06:30:18.968491Z",
     "shell.execute_reply": "2025-05-06T06:30:18.967355Z"
    },
    "id": "L7H68CtwJDfC",
    "outputId": "69cb5c91-27e8-4f75-9be8-b6504cb3483a",
    "papermill": {
     "duration": 4.209315,
     "end_time": "2025-05-06T06:30:18.970143",
     "exception": false,
     "start_time": "2025-05-06T06:30:14.760828",
     "status": "completed"
    },
    "tags": []
   },
   "outputs": [
    {
     "name": "stdout",
     "output_type": "stream",
     "text": [
      "Data hasil ekstraksi (train):\n",
      "     aa  ability  ability to  able  able to  about  about an  about and  \\\n",
      "0  0.0      0.0         0.0   0.0      0.0    0.0       0.0        0.0   \n",
      "1  0.0      0.0         0.0   0.0      0.0    0.0       0.0        0.0   \n",
      "2  0.0      0.0         0.0   0.0      0.0    0.0       0.0        0.0   \n",
      "3  0.0      0.0         0.0   0.0      0.0    0.0       0.0        0.0   \n",
      "4  0.0      0.0         0.0   0.0      0.0    0.0       0.0        0.0   \n",
      "\n",
      "   about buying  about getting  ...  youtube  youve   yr  yr old  zero  zip  \\\n",
      "0           0.0            0.0  ...      0.0    0.0  0.0     0.0   0.0  0.0   \n",
      "1           0.0            0.0  ...      0.0    0.0  0.0     0.0   0.0  0.0   \n",
      "2           0.0            0.0  ...      0.0    0.0  0.0     0.0   0.0  0.0   \n",
      "3           0.0            0.0  ...      0.0    0.0  0.0     0.0   0.0  0.0   \n",
      "4           0.0            0.0  ...      0.0    0.0  0.0     0.0   0.0  0.0   \n",
      "\n",
      "   zipper  zipper is  zippers  zoom  \n",
      "0     0.0        0.0      0.0   0.0  \n",
      "1     0.0        0.0      0.0   0.0  \n",
      "2     0.0        0.0      0.0   0.0  \n",
      "3     0.0        0.0      0.0   0.0  \n",
      "4     0.0        0.0      0.0   0.0  \n",
      "\n",
      "[5 rows x 10256 columns]\n",
      "Data hasil ekstraksi (test):\n",
      "     aa  ability  ability to  able  able to  about  about an  about and  \\\n",
      "0  0.0      0.0         0.0   0.0      0.0    0.0       0.0        0.0   \n",
      "1  0.0      0.0         0.0   0.0      0.0    0.0       0.0        0.0   \n",
      "2  0.0      0.0         0.0   0.0      0.0    0.0       0.0        0.0   \n",
      "3  0.0      0.0         0.0   0.0      0.0    0.0       0.0        0.0   \n",
      "4  0.0      0.0         0.0   0.0      0.0    0.0       0.0        0.0   \n",
      "\n",
      "   about buying  about getting  ...  youtube  youve   yr  yr old  zero  zip  \\\n",
      "0           0.0            0.0  ...      0.0    0.0  0.0     0.0   0.0  0.0   \n",
      "1           0.0            0.0  ...      0.0    0.0  0.0     0.0   0.0  0.0   \n",
      "2           0.0            0.0  ...      0.0    0.0  0.0     0.0   0.0  0.0   \n",
      "3           0.0            0.0  ...      0.0    0.0  0.0     0.0   0.0  0.0   \n",
      "4           0.0            0.0  ...      0.0    0.0  0.0     0.0   0.0  0.0   \n",
      "\n",
      "   zipper  zipper is  zippers  zoom  \n",
      "0     0.0        0.0      0.0   0.0  \n",
      "1     0.0        0.0      0.0   0.0  \n",
      "2     0.0        0.0      0.0   0.0  \n",
      "3     0.0        0.0      0.0   0.0  \n",
      "4     0.0        0.0      0.0   0.0  \n",
      "\n",
      "[5 rows x 10256 columns]\n"
     ]
    }
   ],
   "source": [
    "df_train_tfidf = pd.DataFrame(X_train_tfidf.toarray(), columns=vectorizer.get_feature_names_out())\n",
    "df_test_tfidf = pd.DataFrame(X_test_tfidf.toarray(), columns=vectorizer.get_feature_names_out())\n",
    "\n",
    "print(\"Data hasil ekstraksi (train):\\n\", df_train_tfidf.head())\n",
    "print(\"Data hasil ekstraksi (test):\\n\", df_test_tfidf.head())"
   ]
  },
  {
   "cell_type": "code",
   "execution_count": 18,
   "id": "f8139413",
   "metadata": {
    "execution": {
     "iopub.execute_input": "2025-05-06T06:30:18.997483Z",
     "iopub.status.busy": "2025-05-06T06:30:18.997180Z",
     "iopub.status.idle": "2025-05-06T06:30:19.019249Z",
     "shell.execute_reply": "2025-05-06T06:30:19.018200Z"
    },
    "id": "Ue51mtuGt59L",
    "outputId": "858137d4-3760-4e53-8307-8b1d9f681d0b",
    "papermill": {
     "duration": 0.037426,
     "end_time": "2025-05-06T06:30:19.020719",
     "exception": false,
     "start_time": "2025-05-06T06:30:18.983293",
     "status": "completed"
    },
    "tags": []
   },
   "outputs": [
    {
     "name": "stdout",
     "output_type": "stream",
     "text": [
      "       zoom\n",
      "0       0.0\n",
      "1       0.0\n",
      "2       0.0\n",
      "3       0.0\n",
      "32344   0.0\n",
      "        aa  ability  ability to  able  able to  about  zoom\n",
      "32344  0.0      0.0         0.0   0.0      0.0    0.0   0.0\n"
     ]
    }
   ],
   "source": [
    "print(df_train_tfidf.iloc[[0, 1, 2, 3, -1], [-1]])\n",
    "print(df_train_tfidf.iloc[[-1], list(range(6)) + [-1]])"
   ]
  },
  {
   "cell_type": "code",
   "execution_count": 19,
   "id": "04dc998e",
   "metadata": {
    "execution": {
     "iopub.execute_input": "2025-05-06T06:30:19.048515Z",
     "iopub.status.busy": "2025-05-06T06:30:19.047743Z",
     "iopub.status.idle": "2025-05-06T06:30:19.061524Z",
     "shell.execute_reply": "2025-05-06T06:30:19.060459Z"
    },
    "id": "zrLVXJ_PuKUk",
    "outputId": "f4b25d3b-7519-4472-95ec-24513a4fe9df",
    "papermill": {
     "duration": 0.029141,
     "end_time": "2025-05-06T06:30:19.062970",
     "exception": false,
     "start_time": "2025-05-06T06:30:19.033829",
     "status": "completed"
    },
    "tags": []
   },
   "outputs": [
    {
     "name": "stdout",
     "output_type": "stream",
     "text": [
      "      zoom\n",
      "0      0.0\n",
      "1      0.0\n",
      "2      0.0\n",
      "3      0.0\n",
      "8086   0.0\n",
      "       aa  ability  ability to  able  able to  about  zoom\n",
      "8086  0.0      0.0         0.0   0.0      0.0    0.0   0.0\n"
     ]
    }
   ],
   "source": [
    "print(df_test_tfidf.iloc[[0, 1, 2, 3, -1], [-1]])\n",
    "print(df_test_tfidf.iloc[[-1], list(range(6)) + [-1]])"
   ]
  },
  {
   "cell_type": "markdown",
   "id": "76235f59",
   "metadata": {
    "id": "dC4ZLdadUpnL",
    "papermill": {
     "duration": 0.012439,
     "end_time": "2025-05-06T06:30:19.088420",
     "exception": false,
     "start_time": "2025-05-06T06:30:19.075981",
     "status": "completed"
    },
    "tags": []
   },
   "source": [
    "## Feature: rating, category, text_"
   ]
  },
  {
   "cell_type": "code",
   "execution_count": 20,
   "id": "08e388cf",
   "metadata": {
    "execution": {
     "iopub.execute_input": "2025-05-06T06:30:19.115633Z",
     "iopub.status.busy": "2025-05-06T06:30:19.115002Z",
     "iopub.status.idle": "2025-05-06T06:30:19.178048Z",
     "shell.execute_reply": "2025-05-06T06:30:19.177161Z"
    },
    "id": "X1Y4Va90HEs5",
    "papermill": {
     "duration": 0.078442,
     "end_time": "2025-05-06T06:30:19.179711",
     "exception": false,
     "start_time": "2025-05-06T06:30:19.101269",
     "status": "completed"
    },
    "tags": []
   },
   "outputs": [],
   "source": [
    "features = [\n",
    "    'rating',\n",
    "    'category_Books_5',\n",
    "    'category_Clothing_Shoes_and_Jewelry_5',\n",
    "    'category_Electronics_5',\n",
    "    'category_Home_and_Kitchen_5',\n",
    "    'category_Kindle_Store_5',\n",
    "    'category_Movies_and_TV_5',\n",
    "    'category_Pet_Supplies_5',\n",
    "    'category_Sports_and_Outdoors_5',\n",
    "    'category_Tools_and_Home_Improvement_5',\n",
    "    'category_Toys_and_Games_5'\n",
    "    ]\n",
    "\n",
    "X_train_features = X_train[features].astype(int).values\n",
    "X_test_features = X_test[features].astype(int).values\n",
    "\n",
    "X_train_combined = hstack([X_train_tfidf, X_train_features])\n",
    "X_test_combined = hstack([X_test_tfidf, X_test_features])"
   ]
  },
  {
   "cell_type": "code",
   "execution_count": 21,
   "id": "0b021ba1",
   "metadata": {
    "execution": {
     "iopub.execute_input": "2025-05-06T06:30:19.207031Z",
     "iopub.status.busy": "2025-05-06T06:30:19.206704Z",
     "iopub.status.idle": "2025-05-06T06:30:23.517908Z",
     "shell.execute_reply": "2025-05-06T06:30:23.516702Z"
    },
    "id": "bTmkwodCZDr7",
    "outputId": "c177f3df-8ad8-4583-da83-d97bfbbaba56",
    "papermill": {
     "duration": 4.326738,
     "end_time": "2025-05-06T06:30:23.519440",
     "exception": false,
     "start_time": "2025-05-06T06:30:19.192702",
     "status": "completed"
    },
    "tags": []
   },
   "outputs": [
    {
     "name": "stdout",
     "output_type": "stream",
     "text": [
      "Data Train:\n",
      " [[0. 0. 0. ... 0. 0. 0.]\n",
      " [0. 0. 0. ... 0. 0. 0.]\n",
      " [0. 0. 0. ... 0. 0. 0.]\n",
      " [0. 0. 0. ... 0. 0. 0.]\n",
      " [0. 0. 0. ... 0. 0. 0.]]\n",
      "Data Test:\n",
      " [[0. 0. 0. ... 0. 0. 1.]\n",
      " [0. 0. 0. ... 0. 0. 0.]\n",
      " [0. 0. 0. ... 0. 0. 0.]\n",
      " [0. 0. 0. ... 0. 0. 0.]\n",
      " [0. 0. 0. ... 0. 0. 0.]]\n"
     ]
    }
   ],
   "source": [
    "print(\"Data Train:\\n\", X_train_combined.toarray()[:5])\n",
    "print(\"Data Test:\\n\", X_test_combined.toarray()[:5])"
   ]
  },
  {
   "cell_type": "code",
   "execution_count": 22,
   "id": "fd825101",
   "metadata": {
    "execution": {
     "iopub.execute_input": "2025-05-06T06:30:23.546767Z",
     "iopub.status.busy": "2025-05-06T06:30:23.546464Z",
     "iopub.status.idle": "2025-05-06T06:30:23.550812Z",
     "shell.execute_reply": "2025-05-06T06:30:23.550101Z"
    },
    "id": "6KMPRduIU-In",
    "papermill": {
     "duration": 0.019607,
     "end_time": "2025-05-06T06:30:23.552220",
     "exception": false,
     "start_time": "2025-05-06T06:30:23.532613",
     "status": "completed"
    },
    "tags": []
   },
   "outputs": [],
   "source": [
    "rf_model = RandomForestClassifier(random_state=42)\n",
    "svm_model = SVC(random_state=42)\n",
    "nb_model = MultinomialNB()\n",
    "xgb_model = XGBClassifier(random_state=42)"
   ]
  },
  {
   "cell_type": "code",
   "execution_count": 23,
   "id": "ec8d8271",
   "metadata": {
    "execution": {
     "iopub.execute_input": "2025-05-06T06:30:23.580374Z",
     "iopub.status.busy": "2025-05-06T06:30:23.580067Z",
     "iopub.status.idle": "2025-05-06T06:38:12.793035Z",
     "shell.execute_reply": "2025-05-06T06:38:12.792037Z"
    },
    "id": "uIYIgBXdU-Io",
    "papermill": {
     "duration": 469.24342,
     "end_time": "2025-05-06T06:38:12.808857",
     "exception": false,
     "start_time": "2025-05-06T06:30:23.565437",
     "status": "completed"
    },
    "tags": []
   },
   "outputs": [
    {
     "data": {
      "text/html": [
       "<style>#sk-container-id-1 {color: black;background-color: white;}#sk-container-id-1 pre{padding: 0;}#sk-container-id-1 div.sk-toggleable {background-color: white;}#sk-container-id-1 label.sk-toggleable__label {cursor: pointer;display: block;width: 100%;margin-bottom: 0;padding: 0.3em;box-sizing: border-box;text-align: center;}#sk-container-id-1 label.sk-toggleable__label-arrow:before {content: \"▸\";float: left;margin-right: 0.25em;color: #696969;}#sk-container-id-1 label.sk-toggleable__label-arrow:hover:before {color: black;}#sk-container-id-1 div.sk-estimator:hover label.sk-toggleable__label-arrow:before {color: black;}#sk-container-id-1 div.sk-toggleable__content {max-height: 0;max-width: 0;overflow: hidden;text-align: left;background-color: #f0f8ff;}#sk-container-id-1 div.sk-toggleable__content pre {margin: 0.2em;color: black;border-radius: 0.25em;background-color: #f0f8ff;}#sk-container-id-1 input.sk-toggleable__control:checked~div.sk-toggleable__content {max-height: 200px;max-width: 100%;overflow: auto;}#sk-container-id-1 input.sk-toggleable__control:checked~label.sk-toggleable__label-arrow:before {content: \"▾\";}#sk-container-id-1 div.sk-estimator input.sk-toggleable__control:checked~label.sk-toggleable__label {background-color: #d4ebff;}#sk-container-id-1 div.sk-label input.sk-toggleable__control:checked~label.sk-toggleable__label {background-color: #d4ebff;}#sk-container-id-1 input.sk-hidden--visually {border: 0;clip: rect(1px 1px 1px 1px);clip: rect(1px, 1px, 1px, 1px);height: 1px;margin: -1px;overflow: hidden;padding: 0;position: absolute;width: 1px;}#sk-container-id-1 div.sk-estimator {font-family: monospace;background-color: #f0f8ff;border: 1px dotted black;border-radius: 0.25em;box-sizing: border-box;margin-bottom: 0.5em;}#sk-container-id-1 div.sk-estimator:hover {background-color: #d4ebff;}#sk-container-id-1 div.sk-parallel-item::after {content: \"\";width: 100%;border-bottom: 1px solid gray;flex-grow: 1;}#sk-container-id-1 div.sk-label:hover label.sk-toggleable__label {background-color: #d4ebff;}#sk-container-id-1 div.sk-serial::before {content: \"\";position: absolute;border-left: 1px solid gray;box-sizing: border-box;top: 0;bottom: 0;left: 50%;z-index: 0;}#sk-container-id-1 div.sk-serial {display: flex;flex-direction: column;align-items: center;background-color: white;padding-right: 0.2em;padding-left: 0.2em;position: relative;}#sk-container-id-1 div.sk-item {position: relative;z-index: 1;}#sk-container-id-1 div.sk-parallel {display: flex;align-items: stretch;justify-content: center;background-color: white;position: relative;}#sk-container-id-1 div.sk-item::before, #sk-container-id-1 div.sk-parallel-item::before {content: \"\";position: absolute;border-left: 1px solid gray;box-sizing: border-box;top: 0;bottom: 0;left: 50%;z-index: -1;}#sk-container-id-1 div.sk-parallel-item {display: flex;flex-direction: column;z-index: 1;position: relative;background-color: white;}#sk-container-id-1 div.sk-parallel-item:first-child::after {align-self: flex-end;width: 50%;}#sk-container-id-1 div.sk-parallel-item:last-child::after {align-self: flex-start;width: 50%;}#sk-container-id-1 div.sk-parallel-item:only-child::after {width: 0;}#sk-container-id-1 div.sk-dashed-wrapped {border: 1px dashed gray;margin: 0 0.4em 0.5em 0.4em;box-sizing: border-box;padding-bottom: 0.4em;background-color: white;}#sk-container-id-1 div.sk-label label {font-family: monospace;font-weight: bold;display: inline-block;line-height: 1.2em;}#sk-container-id-1 div.sk-label-container {text-align: center;}#sk-container-id-1 div.sk-container {/* jupyter's `normalize.less` sets `[hidden] { display: none; }` but bootstrap.min.css set `[hidden] { display: none !important; }` so we also need the `!important` here to be able to override the default hidden behavior on the sphinx rendered scikit-learn.org. See: https://github.com/scikit-learn/scikit-learn/issues/21755 */display: inline-block !important;position: relative;}#sk-container-id-1 div.sk-text-repr-fallback {display: none;}</style><div id=\"sk-container-id-1\" class=\"sk-top-container\"><div class=\"sk-text-repr-fallback\"><pre>XGBClassifier(base_score=None, booster=None, callbacks=None,\n",
       "              colsample_bylevel=None, colsample_bynode=None,\n",
       "              colsample_bytree=None, device=None, early_stopping_rounds=None,\n",
       "              enable_categorical=False, eval_metric=None, feature_types=None,\n",
       "              gamma=None, grow_policy=None, importance_type=None,\n",
       "              interaction_constraints=None, learning_rate=None, max_bin=None,\n",
       "              max_cat_threshold=None, max_cat_to_onehot=None,\n",
       "              max_delta_step=None, max_depth=None, max_leaves=None,\n",
       "              min_child_weight=None, missing=nan, monotone_constraints=None,\n",
       "              multi_strategy=None, n_estimators=None, n_jobs=None,\n",
       "              num_parallel_tree=None, random_state=42, ...)</pre><b>In a Jupyter environment, please rerun this cell to show the HTML representation or trust the notebook. <br />On GitHub, the HTML representation is unable to render, please try loading this page with nbviewer.org.</b></div><div class=\"sk-container\" hidden><div class=\"sk-item\"><div class=\"sk-estimator sk-toggleable\"><input class=\"sk-toggleable__control sk-hidden--visually\" id=\"sk-estimator-id-1\" type=\"checkbox\" checked><label for=\"sk-estimator-id-1\" class=\"sk-toggleable__label sk-toggleable__label-arrow\">XGBClassifier</label><div class=\"sk-toggleable__content\"><pre>XGBClassifier(base_score=None, booster=None, callbacks=None,\n",
       "              colsample_bylevel=None, colsample_bynode=None,\n",
       "              colsample_bytree=None, device=None, early_stopping_rounds=None,\n",
       "              enable_categorical=False, eval_metric=None, feature_types=None,\n",
       "              gamma=None, grow_policy=None, importance_type=None,\n",
       "              interaction_constraints=None, learning_rate=None, max_bin=None,\n",
       "              max_cat_threshold=None, max_cat_to_onehot=None,\n",
       "              max_delta_step=None, max_depth=None, max_leaves=None,\n",
       "              min_child_weight=None, missing=nan, monotone_constraints=None,\n",
       "              multi_strategy=None, n_estimators=None, n_jobs=None,\n",
       "              num_parallel_tree=None, random_state=42, ...)</pre></div></div></div></div></div>"
      ],
      "text/plain": [
       "XGBClassifier(base_score=None, booster=None, callbacks=None,\n",
       "              colsample_bylevel=None, colsample_bynode=None,\n",
       "              colsample_bytree=None, device=None, early_stopping_rounds=None,\n",
       "              enable_categorical=False, eval_metric=None, feature_types=None,\n",
       "              gamma=None, grow_policy=None, importance_type=None,\n",
       "              interaction_constraints=None, learning_rate=None, max_bin=None,\n",
       "              max_cat_threshold=None, max_cat_to_onehot=None,\n",
       "              max_delta_step=None, max_depth=None, max_leaves=None,\n",
       "              min_child_weight=None, missing=nan, monotone_constraints=None,\n",
       "              multi_strategy=None, n_estimators=None, n_jobs=None,\n",
       "              num_parallel_tree=None, random_state=42, ...)"
      ]
     },
     "execution_count": 23,
     "metadata": {},
     "output_type": "execute_result"
    }
   ],
   "source": [
    "rf_model.fit(X_train_combined, y_train)\n",
    "svm_model.fit(X_train_combined, y_train)\n",
    "nb_model.fit(X_train_combined, y_train)\n",
    "xgb_model.fit(X_train_combined, y_train)"
   ]
  },
  {
   "cell_type": "code",
   "execution_count": 24,
   "id": "431cba99",
   "metadata": {
    "execution": {
     "iopub.execute_input": "2025-05-06T06:38:12.837878Z",
     "iopub.status.busy": "2025-05-06T06:38:12.837176Z",
     "iopub.status.idle": "2025-05-06T06:39:22.846559Z",
     "shell.execute_reply": "2025-05-06T06:39:22.845889Z"
    },
    "id": "S8B_dOgSU-Ip",
    "papermill": {
     "duration": 70.025827,
     "end_time": "2025-05-06T06:39:22.848393",
     "exception": false,
     "start_time": "2025-05-06T06:38:12.822566",
     "status": "completed"
    },
    "tags": []
   },
   "outputs": [],
   "source": [
    "rf_y_pred = rf_model.predict(X_test_combined)\n",
    "svm_y_pred = svm_model.predict(X_test_combined)\n",
    "nb_y_pred = nb_model.predict(X_test_combined)\n",
    "xgb_y_pred = xgb_model.predict(X_test_combined)"
   ]
  },
  {
   "cell_type": "markdown",
   "id": "643c7e43",
   "metadata": {
    "id": "TqHkjV2YU-Iq",
    "papermill": {
     "duration": 0.013024,
     "end_time": "2025-05-06T06:39:22.875466",
     "exception": false,
     "start_time": "2025-05-06T06:39:22.862442",
     "status": "completed"
    },
    "tags": []
   },
   "source": [
    "RF"
   ]
  },
  {
   "cell_type": "code",
   "execution_count": 25,
   "id": "56bfbcb6",
   "metadata": {
    "execution": {
     "iopub.execute_input": "2025-05-06T06:39:22.903810Z",
     "iopub.status.busy": "2025-05-06T06:39:22.903152Z",
     "iopub.status.idle": "2025-05-06T06:39:22.924507Z",
     "shell.execute_reply": "2025-05-06T06:39:22.923548Z"
    },
    "id": "9lQTFASyU-Ir",
    "outputId": "15c2bab9-e939-4079-8bfe-76a2e3188e7d",
    "papermill": {
     "duration": 0.037299,
     "end_time": "2025-05-06T06:39:22.926034",
     "exception": false,
     "start_time": "2025-05-06T06:39:22.888735",
     "status": "completed"
    },
    "tags": []
   },
   "outputs": [
    {
     "name": "stdout",
     "output_type": "stream",
     "text": [
      "Akurasi: 0.9034\n",
      "Presisi (Fake Review): 0.9267\n",
      "Recall (Fake Review): 0.8761\n",
      "F1-Score (Fake Review): 0.9007\n"
     ]
    }
   ],
   "source": [
    "accuracy_rf_1 = accuracy_score(y_test, rf_y_pred)\n",
    "print(f'Akurasi: {accuracy_rf_1:.4f}')\n",
    "\n",
    "precision_cg = precision_score(y_test, rf_y_pred)\n",
    "print(f'Presisi (Fake Review): {precision_cg:.4f}')\n",
    "\n",
    "recall_cg = recall_score(y_test, rf_y_pred)\n",
    "print(f'Recall (Fake Review): {recall_cg:.4f}')\n",
    "\n",
    "f1_cg = f1_score(y_test, rf_y_pred)\n",
    "print(f'F1-Score (Fake Review): {f1_cg:.4f}')"
   ]
  },
  {
   "cell_type": "markdown",
   "id": "0410a2d1",
   "metadata": {
    "id": "D80aUXpLU-Is",
    "papermill": {
     "duration": 0.013428,
     "end_time": "2025-05-06T06:39:22.953130",
     "exception": false,
     "start_time": "2025-05-06T06:39:22.939702",
     "status": "completed"
    },
    "tags": []
   },
   "source": [
    "SVM"
   ]
  },
  {
   "cell_type": "code",
   "execution_count": 26,
   "id": "ed6d39b0",
   "metadata": {
    "execution": {
     "iopub.execute_input": "2025-05-06T06:39:22.981260Z",
     "iopub.status.busy": "2025-05-06T06:39:22.980885Z",
     "iopub.status.idle": "2025-05-06T06:39:23.002330Z",
     "shell.execute_reply": "2025-05-06T06:39:23.001335Z"
    },
    "id": "12IfCYijU-It",
    "outputId": "a07f26c4-e0c2-4f1f-b23b-fe7fa7c56f2f",
    "papermill": {
     "duration": 0.037298,
     "end_time": "2025-05-06T06:39:23.003872",
     "exception": false,
     "start_time": "2025-05-06T06:39:22.966574",
     "status": "completed"
    },
    "tags": []
   },
   "outputs": [
    {
     "name": "stdout",
     "output_type": "stream",
     "text": [
      "Akurasi: 0.9278\n",
      "Presisi (Fake Review): 0.9517\n",
      "Recall (Fake Review): 0.9013\n",
      "F1-Score (Fake Review): 0.9258\n"
     ]
    }
   ],
   "source": [
    "accuracy_svm_1 = accuracy_score(y_test, svm_y_pred)\n",
    "print(f'Akurasi: {accuracy_svm_1:.4f}')\n",
    "\n",
    "precision_cg = precision_score(y_test, svm_y_pred)\n",
    "print(f'Presisi (Fake Review): {precision_cg:.4f}')\n",
    "\n",
    "recall_cg = recall_score(y_test, svm_y_pred)\n",
    "print(f'Recall (Fake Review): {recall_cg:.4f}')\n",
    "\n",
    "f1_cg = f1_score(y_test, svm_y_pred)\n",
    "print(f'F1-Score (Fake Review): {f1_cg:.4f}')"
   ]
  },
  {
   "cell_type": "markdown",
   "id": "1cd1faa0",
   "metadata": {
    "id": "OYaehm-SU-Iu",
    "papermill": {
     "duration": 0.012996,
     "end_time": "2025-05-06T06:39:23.030506",
     "exception": false,
     "start_time": "2025-05-06T06:39:23.017510",
     "status": "completed"
    },
    "tags": []
   },
   "source": [
    "NB"
   ]
  },
  {
   "cell_type": "code",
   "execution_count": 27,
   "id": "109a92fe",
   "metadata": {
    "execution": {
     "iopub.execute_input": "2025-05-06T06:39:23.058864Z",
     "iopub.status.busy": "2025-05-06T06:39:23.058574Z",
     "iopub.status.idle": "2025-05-06T06:39:23.079798Z",
     "shell.execute_reply": "2025-05-06T06:39:23.078777Z"
    },
    "id": "n5CoXnCsU-Iw",
    "outputId": "d50af208-a768-4284-d742-06240578fa77",
    "papermill": {
     "duration": 0.037324,
     "end_time": "2025-05-06T06:39:23.081354",
     "exception": false,
     "start_time": "2025-05-06T06:39:23.044030",
     "status": "completed"
    },
    "tags": []
   },
   "outputs": [
    {
     "name": "stdout",
     "output_type": "stream",
     "text": [
      "Akurasi: 0.9019\n",
      "Presisi (Fake Review): 0.8960\n",
      "Recall (Fake Review): 0.9095\n",
      "F1-Score (Fake Review): 0.9027\n"
     ]
    }
   ],
   "source": [
    "accuracy_nb_1 = accuracy_score(y_test, nb_y_pred)\n",
    "print(f'Akurasi: {accuracy_nb_1:.4f}')\n",
    "\n",
    "precision_cg = precision_score(y_test, nb_y_pred)\n",
    "print(f'Presisi (Fake Review): {precision_cg:.4f}')\n",
    "\n",
    "recall_cg = recall_score(y_test, nb_y_pred)\n",
    "print(f'Recall (Fake Review): {recall_cg:.4f}')\n",
    "\n",
    "f1_cg = f1_score(y_test, nb_y_pred)\n",
    "print(f'F1-Score (Fake Review): {f1_cg:.4f}')"
   ]
  },
  {
   "cell_type": "markdown",
   "id": "1160129b",
   "metadata": {
    "id": "75XjN2C3U-Ix",
    "papermill": {
     "duration": 0.013192,
     "end_time": "2025-05-06T06:39:23.108347",
     "exception": false,
     "start_time": "2025-05-06T06:39:23.095155",
     "status": "completed"
    },
    "tags": []
   },
   "source": [
    "XGB"
   ]
  },
  {
   "cell_type": "code",
   "execution_count": 28,
   "id": "6aa18e4b",
   "metadata": {
    "execution": {
     "iopub.execute_input": "2025-05-06T06:39:23.136854Z",
     "iopub.status.busy": "2025-05-06T06:39:23.136559Z",
     "iopub.status.idle": "2025-05-06T06:39:23.157257Z",
     "shell.execute_reply": "2025-05-06T06:39:23.156305Z"
    },
    "id": "ekl35hV-U-Ix",
    "outputId": "405e4c41-4ef0-4f79-f928-3b4792a54e2c",
    "papermill": {
     "duration": 0.036633,
     "end_time": "2025-05-06T06:39:23.158646",
     "exception": false,
     "start_time": "2025-05-06T06:39:23.122013",
     "status": "completed"
    },
    "tags": []
   },
   "outputs": [
    {
     "name": "stdout",
     "output_type": "stream",
     "text": [
      "Akurasi: 0.9018\n",
      "Presisi (Fake Review): 0.9199\n",
      "Recall (Fake Review): 0.8803\n",
      "F1-Score (Fake Review): 0.8996\n"
     ]
    }
   ],
   "source": [
    "accuracy_xgb_1 = accuracy_score(y_test, xgb_y_pred)\n",
    "print(f'Akurasi: {accuracy_xgb_1:.4f}')\n",
    "\n",
    "precision_cg = precision_score(y_test, xgb_y_pred)\n",
    "print(f'Presisi (Fake Review): {precision_cg:.4f}')\n",
    "\n",
    "recall_cg = recall_score(y_test, xgb_y_pred)\n",
    "print(f'Recall (Fake Review): {recall_cg:.4f}')\n",
    "\n",
    "f1_cg = f1_score(y_test, xgb_y_pred)\n",
    "print(f'F1-Score (Fake Review): {f1_cg:.4f}')"
   ]
  },
  {
   "cell_type": "markdown",
   "id": "a20a94ba",
   "metadata": {
    "id": "UGDwq46rUxhp",
    "papermill": {
     "duration": 0.013312,
     "end_time": "2025-05-06T06:39:23.185919",
     "exception": false,
     "start_time": "2025-05-06T06:39:23.172607",
     "status": "completed"
    },
    "tags": []
   },
   "source": [
    "## Feature: rating, text_"
   ]
  },
  {
   "cell_type": "code",
   "execution_count": 29,
   "id": "a8dc8b07",
   "metadata": {
    "execution": {
     "iopub.execute_input": "2025-05-06T06:39:23.214692Z",
     "iopub.status.busy": "2025-05-06T06:39:23.214058Z",
     "iopub.status.idle": "2025-05-06T06:39:23.253052Z",
     "shell.execute_reply": "2025-05-06T06:39:23.252068Z"
    },
    "id": "zFBZzLtpVVkC",
    "papermill": {
     "duration": 0.055094,
     "end_time": "2025-05-06T06:39:23.254597",
     "exception": false,
     "start_time": "2025-05-06T06:39:23.199503",
     "status": "completed"
    },
    "tags": []
   },
   "outputs": [],
   "source": [
    "features = [\n",
    "    'rating'\n",
    "    ]\n",
    "\n",
    "X_train_features = X_train[features].astype(int).values\n",
    "X_test_features = X_test[features].astype(int).values\n",
    "\n",
    "X_train_combined = hstack([X_train_tfidf, X_train_features])\n",
    "X_test_combined = hstack([X_test_tfidf, X_test_features])"
   ]
  },
  {
   "cell_type": "code",
   "execution_count": 30,
   "id": "e021bdc8",
   "metadata": {
    "execution": {
     "iopub.execute_input": "2025-05-06T06:39:23.283441Z",
     "iopub.status.busy": "2025-05-06T06:39:23.282775Z",
     "iopub.status.idle": "2025-05-06T06:39:27.421000Z",
     "shell.execute_reply": "2025-05-06T06:39:27.419825Z"
    },
    "id": "w1caOmfVVVkG",
    "outputId": "2c6568b0-d8c0-4ad2-af86-4d1a24b3e865",
    "papermill": {
     "duration": 4.154178,
     "end_time": "2025-05-06T06:39:27.422590",
     "exception": false,
     "start_time": "2025-05-06T06:39:23.268412",
     "status": "completed"
    },
    "tags": []
   },
   "outputs": [
    {
     "name": "stdout",
     "output_type": "stream",
     "text": [
      "Data Train:\n",
      " [[0. 0. 0. ... 0. 0. 4.]\n",
      " [0. 0. 0. ... 0. 0. 3.]\n",
      " [0. 0. 0. ... 0. 0. 5.]\n",
      " [0. 0. 0. ... 0. 0. 5.]\n",
      " [0. 0. 0. ... 0. 0. 1.]]\n",
      "Data Test:\n",
      " [[0. 0. 0. ... 0. 0. 5.]\n",
      " [0. 0. 0. ... 0. 0. 5.]\n",
      " [0. 0. 0. ... 0. 0. 5.]\n",
      " [0. 0. 0. ... 0. 0. 5.]\n",
      " [0. 0. 0. ... 0. 0. 2.]]\n"
     ]
    }
   ],
   "source": [
    "print(\"Data Train:\\n\", X_train_combined.toarray()[:5])\n",
    "print(\"Data Test:\\n\", X_test_combined.toarray()[:5])"
   ]
  },
  {
   "cell_type": "code",
   "execution_count": 31,
   "id": "7b4b2156",
   "metadata": {
    "execution": {
     "iopub.execute_input": "2025-05-06T06:39:27.452053Z",
     "iopub.status.busy": "2025-05-06T06:39:27.451695Z",
     "iopub.status.idle": "2025-05-06T06:39:27.456740Z",
     "shell.execute_reply": "2025-05-06T06:39:27.455866Z"
    },
    "id": "4w_vnVizVVkM",
    "papermill": {
     "duration": 0.021602,
     "end_time": "2025-05-06T06:39:27.458413",
     "exception": false,
     "start_time": "2025-05-06T06:39:27.436811",
     "status": "completed"
    },
    "tags": []
   },
   "outputs": [],
   "source": [
    "rf_model = RandomForestClassifier(random_state=42)\n",
    "svm_model = SVC(random_state=42)\n",
    "nb_model = MultinomialNB()\n",
    "xgb_model = XGBClassifier(random_state=42)"
   ]
  },
  {
   "cell_type": "code",
   "execution_count": 32,
   "id": "aa0ab6af",
   "metadata": {
    "execution": {
     "iopub.execute_input": "2025-05-06T06:39:27.493716Z",
     "iopub.status.busy": "2025-05-06T06:39:27.492789Z",
     "iopub.status.idle": "2025-05-06T06:46:59.785302Z",
     "shell.execute_reply": "2025-05-06T06:46:59.784485Z"
    },
    "id": "hTh8OFxOVVkM",
    "papermill": {
     "duration": 452.322643,
     "end_time": "2025-05-06T06:46:59.800688",
     "exception": false,
     "start_time": "2025-05-06T06:39:27.478045",
     "status": "completed"
    },
    "tags": []
   },
   "outputs": [
    {
     "data": {
      "text/html": [
       "<style>#sk-container-id-2 {color: black;background-color: white;}#sk-container-id-2 pre{padding: 0;}#sk-container-id-2 div.sk-toggleable {background-color: white;}#sk-container-id-2 label.sk-toggleable__label {cursor: pointer;display: block;width: 100%;margin-bottom: 0;padding: 0.3em;box-sizing: border-box;text-align: center;}#sk-container-id-2 label.sk-toggleable__label-arrow:before {content: \"▸\";float: left;margin-right: 0.25em;color: #696969;}#sk-container-id-2 label.sk-toggleable__label-arrow:hover:before {color: black;}#sk-container-id-2 div.sk-estimator:hover label.sk-toggleable__label-arrow:before {color: black;}#sk-container-id-2 div.sk-toggleable__content {max-height: 0;max-width: 0;overflow: hidden;text-align: left;background-color: #f0f8ff;}#sk-container-id-2 div.sk-toggleable__content pre {margin: 0.2em;color: black;border-radius: 0.25em;background-color: #f0f8ff;}#sk-container-id-2 input.sk-toggleable__control:checked~div.sk-toggleable__content {max-height: 200px;max-width: 100%;overflow: auto;}#sk-container-id-2 input.sk-toggleable__control:checked~label.sk-toggleable__label-arrow:before {content: \"▾\";}#sk-container-id-2 div.sk-estimator input.sk-toggleable__control:checked~label.sk-toggleable__label {background-color: #d4ebff;}#sk-container-id-2 div.sk-label input.sk-toggleable__control:checked~label.sk-toggleable__label {background-color: #d4ebff;}#sk-container-id-2 input.sk-hidden--visually {border: 0;clip: rect(1px 1px 1px 1px);clip: rect(1px, 1px, 1px, 1px);height: 1px;margin: -1px;overflow: hidden;padding: 0;position: absolute;width: 1px;}#sk-container-id-2 div.sk-estimator {font-family: monospace;background-color: #f0f8ff;border: 1px dotted black;border-radius: 0.25em;box-sizing: border-box;margin-bottom: 0.5em;}#sk-container-id-2 div.sk-estimator:hover {background-color: #d4ebff;}#sk-container-id-2 div.sk-parallel-item::after {content: \"\";width: 100%;border-bottom: 1px solid gray;flex-grow: 1;}#sk-container-id-2 div.sk-label:hover label.sk-toggleable__label {background-color: #d4ebff;}#sk-container-id-2 div.sk-serial::before {content: \"\";position: absolute;border-left: 1px solid gray;box-sizing: border-box;top: 0;bottom: 0;left: 50%;z-index: 0;}#sk-container-id-2 div.sk-serial {display: flex;flex-direction: column;align-items: center;background-color: white;padding-right: 0.2em;padding-left: 0.2em;position: relative;}#sk-container-id-2 div.sk-item {position: relative;z-index: 1;}#sk-container-id-2 div.sk-parallel {display: flex;align-items: stretch;justify-content: center;background-color: white;position: relative;}#sk-container-id-2 div.sk-item::before, #sk-container-id-2 div.sk-parallel-item::before {content: \"\";position: absolute;border-left: 1px solid gray;box-sizing: border-box;top: 0;bottom: 0;left: 50%;z-index: -1;}#sk-container-id-2 div.sk-parallel-item {display: flex;flex-direction: column;z-index: 1;position: relative;background-color: white;}#sk-container-id-2 div.sk-parallel-item:first-child::after {align-self: flex-end;width: 50%;}#sk-container-id-2 div.sk-parallel-item:last-child::after {align-self: flex-start;width: 50%;}#sk-container-id-2 div.sk-parallel-item:only-child::after {width: 0;}#sk-container-id-2 div.sk-dashed-wrapped {border: 1px dashed gray;margin: 0 0.4em 0.5em 0.4em;box-sizing: border-box;padding-bottom: 0.4em;background-color: white;}#sk-container-id-2 div.sk-label label {font-family: monospace;font-weight: bold;display: inline-block;line-height: 1.2em;}#sk-container-id-2 div.sk-label-container {text-align: center;}#sk-container-id-2 div.sk-container {/* jupyter's `normalize.less` sets `[hidden] { display: none; }` but bootstrap.min.css set `[hidden] { display: none !important; }` so we also need the `!important` here to be able to override the default hidden behavior on the sphinx rendered scikit-learn.org. See: https://github.com/scikit-learn/scikit-learn/issues/21755 */display: inline-block !important;position: relative;}#sk-container-id-2 div.sk-text-repr-fallback {display: none;}</style><div id=\"sk-container-id-2\" class=\"sk-top-container\"><div class=\"sk-text-repr-fallback\"><pre>XGBClassifier(base_score=None, booster=None, callbacks=None,\n",
       "              colsample_bylevel=None, colsample_bynode=None,\n",
       "              colsample_bytree=None, device=None, early_stopping_rounds=None,\n",
       "              enable_categorical=False, eval_metric=None, feature_types=None,\n",
       "              gamma=None, grow_policy=None, importance_type=None,\n",
       "              interaction_constraints=None, learning_rate=None, max_bin=None,\n",
       "              max_cat_threshold=None, max_cat_to_onehot=None,\n",
       "              max_delta_step=None, max_depth=None, max_leaves=None,\n",
       "              min_child_weight=None, missing=nan, monotone_constraints=None,\n",
       "              multi_strategy=None, n_estimators=None, n_jobs=None,\n",
       "              num_parallel_tree=None, random_state=42, ...)</pre><b>In a Jupyter environment, please rerun this cell to show the HTML representation or trust the notebook. <br />On GitHub, the HTML representation is unable to render, please try loading this page with nbviewer.org.</b></div><div class=\"sk-container\" hidden><div class=\"sk-item\"><div class=\"sk-estimator sk-toggleable\"><input class=\"sk-toggleable__control sk-hidden--visually\" id=\"sk-estimator-id-2\" type=\"checkbox\" checked><label for=\"sk-estimator-id-2\" class=\"sk-toggleable__label sk-toggleable__label-arrow\">XGBClassifier</label><div class=\"sk-toggleable__content\"><pre>XGBClassifier(base_score=None, booster=None, callbacks=None,\n",
       "              colsample_bylevel=None, colsample_bynode=None,\n",
       "              colsample_bytree=None, device=None, early_stopping_rounds=None,\n",
       "              enable_categorical=False, eval_metric=None, feature_types=None,\n",
       "              gamma=None, grow_policy=None, importance_type=None,\n",
       "              interaction_constraints=None, learning_rate=None, max_bin=None,\n",
       "              max_cat_threshold=None, max_cat_to_onehot=None,\n",
       "              max_delta_step=None, max_depth=None, max_leaves=None,\n",
       "              min_child_weight=None, missing=nan, monotone_constraints=None,\n",
       "              multi_strategy=None, n_estimators=None, n_jobs=None,\n",
       "              num_parallel_tree=None, random_state=42, ...)</pre></div></div></div></div></div>"
      ],
      "text/plain": [
       "XGBClassifier(base_score=None, booster=None, callbacks=None,\n",
       "              colsample_bylevel=None, colsample_bynode=None,\n",
       "              colsample_bytree=None, device=None, early_stopping_rounds=None,\n",
       "              enable_categorical=False, eval_metric=None, feature_types=None,\n",
       "              gamma=None, grow_policy=None, importance_type=None,\n",
       "              interaction_constraints=None, learning_rate=None, max_bin=None,\n",
       "              max_cat_threshold=None, max_cat_to_onehot=None,\n",
       "              max_delta_step=None, max_depth=None, max_leaves=None,\n",
       "              min_child_weight=None, missing=nan, monotone_constraints=None,\n",
       "              multi_strategy=None, n_estimators=None, n_jobs=None,\n",
       "              num_parallel_tree=None, random_state=42, ...)"
      ]
     },
     "execution_count": 32,
     "metadata": {},
     "output_type": "execute_result"
    }
   ],
   "source": [
    "rf_model.fit(X_train_combined, y_train)\n",
    "svm_model.fit(X_train_combined, y_train)\n",
    "nb_model.fit(X_train_combined, y_train)\n",
    "xgb_model.fit(X_train_combined, y_train)"
   ]
  },
  {
   "cell_type": "code",
   "execution_count": 33,
   "id": "dc7aee3c",
   "metadata": {
    "execution": {
     "iopub.execute_input": "2025-05-06T06:46:59.829568Z",
     "iopub.status.busy": "2025-05-06T06:46:59.829288Z",
     "iopub.status.idle": "2025-05-06T06:48:05.972648Z",
     "shell.execute_reply": "2025-05-06T06:48:05.971977Z"
    },
    "id": "NpcS30hGVVkN",
    "papermill": {
     "duration": 66.160012,
     "end_time": "2025-05-06T06:48:05.974578",
     "exception": false,
     "start_time": "2025-05-06T06:46:59.814566",
     "status": "completed"
    },
    "tags": []
   },
   "outputs": [],
   "source": [
    "rf_y_pred = rf_model.predict(X_test_combined)\n",
    "svm_y_pred = svm_model.predict(X_test_combined)\n",
    "nb_y_pred = nb_model.predict(X_test_combined)\n",
    "xgb_y_pred = xgb_model.predict(X_test_combined)"
   ]
  },
  {
   "cell_type": "markdown",
   "id": "ced26eb6",
   "metadata": {
    "id": "OBceVptxVVkO",
    "papermill": {
     "duration": 0.013638,
     "end_time": "2025-05-06T06:48:06.002718",
     "exception": false,
     "start_time": "2025-05-06T06:48:05.989080",
     "status": "completed"
    },
    "tags": []
   },
   "source": [
    "RF"
   ]
  },
  {
   "cell_type": "code",
   "execution_count": 34,
   "id": "a6f5fe3e",
   "metadata": {
    "execution": {
     "iopub.execute_input": "2025-05-06T06:48:06.031995Z",
     "iopub.status.busy": "2025-05-06T06:48:06.031626Z",
     "iopub.status.idle": "2025-05-06T06:48:06.052634Z",
     "shell.execute_reply": "2025-05-06T06:48:06.051604Z"
    },
    "id": "s8lvOpzMVVkO",
    "outputId": "21b9e456-9fdc-41d8-ce21-1d93daec53eb",
    "papermill": {
     "duration": 0.037493,
     "end_time": "2025-05-06T06:48:06.054041",
     "exception": false,
     "start_time": "2025-05-06T06:48:06.016548",
     "status": "completed"
    },
    "tags": []
   },
   "outputs": [
    {
     "name": "stdout",
     "output_type": "stream",
     "text": [
      "Akurasi: 0.9057\n",
      "Presisi (Fake Review): 0.9309\n",
      "Recall (Fake Review): 0.8763\n",
      "F1-Score (Fake Review): 0.9028\n"
     ]
    }
   ],
   "source": [
    "accuracy_rf_2 = accuracy_score(y_test, rf_y_pred)\n",
    "print(f'Akurasi: {accuracy_rf_2:.4f}')\n",
    "\n",
    "precision_cg = precision_score(y_test, rf_y_pred)\n",
    "print(f'Presisi (Fake Review): {precision_cg:.4f}')\n",
    "\n",
    "recall_cg = recall_score(y_test, rf_y_pred)\n",
    "print(f'Recall (Fake Review): {recall_cg:.4f}')\n",
    "\n",
    "f1_cg = f1_score(y_test, rf_y_pred)\n",
    "print(f'F1-Score (Fake Review): {f1_cg:.4f}')"
   ]
  },
  {
   "cell_type": "markdown",
   "id": "5b2a2377",
   "metadata": {
    "id": "7hRsCt6nVVkP",
    "papermill": {
     "duration": 0.014314,
     "end_time": "2025-05-06T06:48:06.082218",
     "exception": false,
     "start_time": "2025-05-06T06:48:06.067904",
     "status": "completed"
    },
    "tags": []
   },
   "source": [
    "SVM"
   ]
  },
  {
   "cell_type": "code",
   "execution_count": 35,
   "id": "fc9dff96",
   "metadata": {
    "execution": {
     "iopub.execute_input": "2025-05-06T06:48:06.111684Z",
     "iopub.status.busy": "2025-05-06T06:48:06.111038Z",
     "iopub.status.idle": "2025-05-06T06:48:06.132305Z",
     "shell.execute_reply": "2025-05-06T06:48:06.131258Z"
    },
    "id": "pbBfCuHCVVkQ",
    "outputId": "c67d20ba-9da6-4ce7-9ed6-ccc80293b184",
    "papermill": {
     "duration": 0.037545,
     "end_time": "2025-05-06T06:48:06.133764",
     "exception": false,
     "start_time": "2025-05-06T06:48:06.096219",
     "status": "completed"
    },
    "tags": []
   },
   "outputs": [
    {
     "name": "stdout",
     "output_type": "stream",
     "text": [
      "Akurasi: 0.9289\n",
      "Presisi (Fake Review): 0.9513\n",
      "Recall (Fake Review): 0.9040\n",
      "F1-Score (Fake Review): 0.9271\n"
     ]
    }
   ],
   "source": [
    "accuracy_svm_2 = accuracy_score(y_test, svm_y_pred)\n",
    "print(f'Akurasi: {accuracy_svm_2:.4f}')\n",
    "\n",
    "precision_cg = precision_score(y_test, svm_y_pred)\n",
    "print(f'Presisi (Fake Review): {precision_cg:.4f}')\n",
    "\n",
    "recall_cg = recall_score(y_test, svm_y_pred)\n",
    "print(f'Recall (Fake Review): {recall_cg:.4f}')\n",
    "\n",
    "f1_cg = f1_score(y_test, svm_y_pred)\n",
    "print(f'F1-Score (Fake Review): {f1_cg:.4f}')"
   ]
  },
  {
   "cell_type": "markdown",
   "id": "2b0503db",
   "metadata": {
    "id": "Dpxg4rFyVVkR",
    "papermill": {
     "duration": 0.013843,
     "end_time": "2025-05-06T06:48:06.161691",
     "exception": false,
     "start_time": "2025-05-06T06:48:06.147848",
     "status": "completed"
    },
    "tags": []
   },
   "source": [
    "NB"
   ]
  },
  {
   "cell_type": "code",
   "execution_count": 36,
   "id": "d94c4974",
   "metadata": {
    "execution": {
     "iopub.execute_input": "2025-05-06T06:48:06.191575Z",
     "iopub.status.busy": "2025-05-06T06:48:06.190738Z",
     "iopub.status.idle": "2025-05-06T06:48:06.211795Z",
     "shell.execute_reply": "2025-05-06T06:48:06.210877Z"
    },
    "id": "je9QODw4VVkR",
    "outputId": "fa697812-262e-4eb2-b85f-c8c62ff0a1c9",
    "papermill": {
     "duration": 0.037733,
     "end_time": "2025-05-06T06:48:06.213248",
     "exception": false,
     "start_time": "2025-05-06T06:48:06.175515",
     "status": "completed"
    },
    "tags": []
   },
   "outputs": [
    {
     "name": "stdout",
     "output_type": "stream",
     "text": [
      "Akurasi: 0.9021\n",
      "Presisi (Fake Review): 0.8962\n",
      "Recall (Fake Review): 0.9095\n",
      "F1-Score (Fake Review): 0.9028\n"
     ]
    }
   ],
   "source": [
    "accuracy_nb_2 = accuracy_score(y_test, nb_y_pred)\n",
    "print(f'Akurasi: {accuracy_nb_2:.4f}')\n",
    "\n",
    "precision_cg = precision_score(y_test, nb_y_pred)\n",
    "print(f'Presisi (Fake Review): {precision_cg:.4f}')\n",
    "\n",
    "recall_cg = recall_score(y_test, nb_y_pred)\n",
    "print(f'Recall (Fake Review): {recall_cg:.4f}')\n",
    "\n",
    "f1_cg = f1_score(y_test, nb_y_pred)\n",
    "print(f'F1-Score (Fake Review): {f1_cg:.4f}')"
   ]
  },
  {
   "cell_type": "markdown",
   "id": "0de2ca55",
   "metadata": {
    "id": "UrefUlxgVVkS",
    "papermill": {
     "duration": 0.013766,
     "end_time": "2025-05-06T06:48:06.241060",
     "exception": false,
     "start_time": "2025-05-06T06:48:06.227294",
     "status": "completed"
    },
    "tags": []
   },
   "source": [
    "XGB"
   ]
  },
  {
   "cell_type": "code",
   "execution_count": 37,
   "id": "2807e2cd",
   "metadata": {
    "execution": {
     "iopub.execute_input": "2025-05-06T06:48:06.270130Z",
     "iopub.status.busy": "2025-05-06T06:48:06.269743Z",
     "iopub.status.idle": "2025-05-06T06:48:06.290777Z",
     "shell.execute_reply": "2025-05-06T06:48:06.289835Z"
    },
    "id": "fkeXpe7DVVkS",
    "outputId": "09574cf6-2d34-407c-c7e3-5fbe41b9044b",
    "papermill": {
     "duration": 0.037242,
     "end_time": "2025-05-06T06:48:06.292229",
     "exception": false,
     "start_time": "2025-05-06T06:48:06.254987",
     "status": "completed"
    },
    "tags": []
   },
   "outputs": [
    {
     "name": "stdout",
     "output_type": "stream",
     "text": [
      "Akurasi: 0.9039\n",
      "Presisi (Fake Review): 0.9231\n",
      "Recall (Fake Review): 0.8813\n",
      "F1-Score (Fake Review): 0.9017\n"
     ]
    }
   ],
   "source": [
    "accuracy_xgb_2 = accuracy_score(y_test, xgb_y_pred)\n",
    "print(f'Akurasi: {accuracy_xgb_2:.4f}')\n",
    "\n",
    "precision_cg = precision_score(y_test, xgb_y_pred)\n",
    "print(f'Presisi (Fake Review): {precision_cg:.4f}')\n",
    "\n",
    "recall_cg = recall_score(y_test, xgb_y_pred)\n",
    "print(f'Recall (Fake Review): {recall_cg:.4f}')\n",
    "\n",
    "f1_cg = f1_score(y_test, xgb_y_pred)\n",
    "print(f'F1-Score (Fake Review): {f1_cg:.4f}')"
   ]
  },
  {
   "cell_type": "markdown",
   "id": "c831f256",
   "metadata": {
    "id": "M__jkYMIU0MO",
    "papermill": {
     "duration": 0.014156,
     "end_time": "2025-05-06T06:48:06.320688",
     "exception": false,
     "start_time": "2025-05-06T06:48:06.306532",
     "status": "completed"
    },
    "tags": []
   },
   "source": [
    "## Feature: category, text_"
   ]
  },
  {
   "cell_type": "code",
   "execution_count": 38,
   "id": "e92efed6",
   "metadata": {
    "execution": {
     "iopub.execute_input": "2025-05-06T06:48:06.350332Z",
     "iopub.status.busy": "2025-05-06T06:48:06.350021Z",
     "iopub.status.idle": "2025-05-06T06:48:06.402189Z",
     "shell.execute_reply": "2025-05-06T06:48:06.401344Z"
    },
    "id": "BJR1CxIyVWew",
    "papermill": {
     "duration": 0.068846,
     "end_time": "2025-05-06T06:48:06.403773",
     "exception": false,
     "start_time": "2025-05-06T06:48:06.334927",
     "status": "completed"
    },
    "tags": []
   },
   "outputs": [],
   "source": [
    "features = [\n",
    "    'category_Books_5',\n",
    "    'category_Clothing_Shoes_and_Jewelry_5',\n",
    "    'category_Electronics_5',\n",
    "    'category_Home_and_Kitchen_5',\n",
    "    'category_Kindle_Store_5',\n",
    "    'category_Movies_and_TV_5',\n",
    "    'category_Pet_Supplies_5',\n",
    "    'category_Sports_and_Outdoors_5',\n",
    "    'category_Tools_and_Home_Improvement_5',\n",
    "    'category_Toys_and_Games_5'\n",
    "    ]\n",
    "\n",
    "X_train_features = X_train[features].astype(int).values\n",
    "X_test_features = X_test[features].astype(int).values\n",
    "\n",
    "X_train_combined = hstack([X_train_tfidf, X_train_features])\n",
    "X_test_combined = hstack([X_test_tfidf, X_test_features])"
   ]
  },
  {
   "cell_type": "code",
   "execution_count": 39,
   "id": "bc8d1e86",
   "metadata": {
    "execution": {
     "iopub.execute_input": "2025-05-06T06:48:06.434216Z",
     "iopub.status.busy": "2025-05-06T06:48:06.433838Z",
     "iopub.status.idle": "2025-05-06T06:48:10.547788Z",
     "shell.execute_reply": "2025-05-06T06:48:10.546717Z"
    },
    "id": "RV3bc69xVWex",
    "outputId": "e4860678-97c6-49d0-b5fb-fe632d726955",
    "papermill": {
     "duration": 4.130959,
     "end_time": "2025-05-06T06:48:10.549297",
     "exception": false,
     "start_time": "2025-05-06T06:48:06.418338",
     "status": "completed"
    },
    "tags": []
   },
   "outputs": [
    {
     "name": "stdout",
     "output_type": "stream",
     "text": [
      "Data Train:\n",
      " [[0. 0. 0. ... 0. 0. 0.]\n",
      " [0. 0. 0. ... 0. 0. 0.]\n",
      " [0. 0. 0. ... 0. 0. 0.]\n",
      " [0. 0. 0. ... 0. 0. 0.]\n",
      " [0. 0. 0. ... 0. 0. 0.]]\n",
      "Data Test:\n",
      " [[0. 0. 0. ... 0. 0. 1.]\n",
      " [0. 0. 0. ... 0. 0. 0.]\n",
      " [0. 0. 0. ... 0. 0. 0.]\n",
      " [0. 0. 0. ... 0. 0. 0.]\n",
      " [0. 0. 0. ... 0. 0. 0.]]\n"
     ]
    }
   ],
   "source": [
    "print(\"Data Train:\\n\", X_train_combined.toarray()[:5])\n",
    "print(\"Data Test:\\n\", X_test_combined.toarray()[:5])"
   ]
  },
  {
   "cell_type": "code",
   "execution_count": 40,
   "id": "e984f2b1",
   "metadata": {
    "execution": {
     "iopub.execute_input": "2025-05-06T06:48:10.578635Z",
     "iopub.status.busy": "2025-05-06T06:48:10.578348Z",
     "iopub.status.idle": "2025-05-06T06:48:10.583063Z",
     "shell.execute_reply": "2025-05-06T06:48:10.582346Z"
    },
    "id": "RPWdSBsRVWez",
    "papermill": {
     "duration": 0.020763,
     "end_time": "2025-05-06T06:48:10.584285",
     "exception": false,
     "start_time": "2025-05-06T06:48:10.563522",
     "status": "completed"
    },
    "tags": []
   },
   "outputs": [],
   "source": [
    "rf_model = RandomForestClassifier(random_state=42)\n",
    "svm_model = SVC(random_state=42)\n",
    "nb_model = MultinomialNB()\n",
    "xgb_model = XGBClassifier(random_state=42)"
   ]
  },
  {
   "cell_type": "code",
   "execution_count": 41,
   "id": "496e66ef",
   "metadata": {
    "execution": {
     "iopub.execute_input": "2025-05-06T06:48:10.613559Z",
     "iopub.status.busy": "2025-05-06T06:48:10.613241Z",
     "iopub.status.idle": "2025-05-06T07:02:48.930885Z",
     "shell.execute_reply": "2025-05-06T07:02:48.930040Z"
    },
    "id": "QYgTE8VJVWez",
    "papermill": {
     "duration": 878.349099,
     "end_time": "2025-05-06T07:02:48.947525",
     "exception": false,
     "start_time": "2025-05-06T06:48:10.598426",
     "status": "completed"
    },
    "tags": []
   },
   "outputs": [
    {
     "data": {
      "text/html": [
       "<style>#sk-container-id-3 {color: black;background-color: white;}#sk-container-id-3 pre{padding: 0;}#sk-container-id-3 div.sk-toggleable {background-color: white;}#sk-container-id-3 label.sk-toggleable__label {cursor: pointer;display: block;width: 100%;margin-bottom: 0;padding: 0.3em;box-sizing: border-box;text-align: center;}#sk-container-id-3 label.sk-toggleable__label-arrow:before {content: \"▸\";float: left;margin-right: 0.25em;color: #696969;}#sk-container-id-3 label.sk-toggleable__label-arrow:hover:before {color: black;}#sk-container-id-3 div.sk-estimator:hover label.sk-toggleable__label-arrow:before {color: black;}#sk-container-id-3 div.sk-toggleable__content {max-height: 0;max-width: 0;overflow: hidden;text-align: left;background-color: #f0f8ff;}#sk-container-id-3 div.sk-toggleable__content pre {margin: 0.2em;color: black;border-radius: 0.25em;background-color: #f0f8ff;}#sk-container-id-3 input.sk-toggleable__control:checked~div.sk-toggleable__content {max-height: 200px;max-width: 100%;overflow: auto;}#sk-container-id-3 input.sk-toggleable__control:checked~label.sk-toggleable__label-arrow:before {content: \"▾\";}#sk-container-id-3 div.sk-estimator input.sk-toggleable__control:checked~label.sk-toggleable__label {background-color: #d4ebff;}#sk-container-id-3 div.sk-label input.sk-toggleable__control:checked~label.sk-toggleable__label {background-color: #d4ebff;}#sk-container-id-3 input.sk-hidden--visually {border: 0;clip: rect(1px 1px 1px 1px);clip: rect(1px, 1px, 1px, 1px);height: 1px;margin: -1px;overflow: hidden;padding: 0;position: absolute;width: 1px;}#sk-container-id-3 div.sk-estimator {font-family: monospace;background-color: #f0f8ff;border: 1px dotted black;border-radius: 0.25em;box-sizing: border-box;margin-bottom: 0.5em;}#sk-container-id-3 div.sk-estimator:hover {background-color: #d4ebff;}#sk-container-id-3 div.sk-parallel-item::after {content: \"\";width: 100%;border-bottom: 1px solid gray;flex-grow: 1;}#sk-container-id-3 div.sk-label:hover label.sk-toggleable__label {background-color: #d4ebff;}#sk-container-id-3 div.sk-serial::before {content: \"\";position: absolute;border-left: 1px solid gray;box-sizing: border-box;top: 0;bottom: 0;left: 50%;z-index: 0;}#sk-container-id-3 div.sk-serial {display: flex;flex-direction: column;align-items: center;background-color: white;padding-right: 0.2em;padding-left: 0.2em;position: relative;}#sk-container-id-3 div.sk-item {position: relative;z-index: 1;}#sk-container-id-3 div.sk-parallel {display: flex;align-items: stretch;justify-content: center;background-color: white;position: relative;}#sk-container-id-3 div.sk-item::before, #sk-container-id-3 div.sk-parallel-item::before {content: \"\";position: absolute;border-left: 1px solid gray;box-sizing: border-box;top: 0;bottom: 0;left: 50%;z-index: -1;}#sk-container-id-3 div.sk-parallel-item {display: flex;flex-direction: column;z-index: 1;position: relative;background-color: white;}#sk-container-id-3 div.sk-parallel-item:first-child::after {align-self: flex-end;width: 50%;}#sk-container-id-3 div.sk-parallel-item:last-child::after {align-self: flex-start;width: 50%;}#sk-container-id-3 div.sk-parallel-item:only-child::after {width: 0;}#sk-container-id-3 div.sk-dashed-wrapped {border: 1px dashed gray;margin: 0 0.4em 0.5em 0.4em;box-sizing: border-box;padding-bottom: 0.4em;background-color: white;}#sk-container-id-3 div.sk-label label {font-family: monospace;font-weight: bold;display: inline-block;line-height: 1.2em;}#sk-container-id-3 div.sk-label-container {text-align: center;}#sk-container-id-3 div.sk-container {/* jupyter's `normalize.less` sets `[hidden] { display: none; }` but bootstrap.min.css set `[hidden] { display: none !important; }` so we also need the `!important` here to be able to override the default hidden behavior on the sphinx rendered scikit-learn.org. See: https://github.com/scikit-learn/scikit-learn/issues/21755 */display: inline-block !important;position: relative;}#sk-container-id-3 div.sk-text-repr-fallback {display: none;}</style><div id=\"sk-container-id-3\" class=\"sk-top-container\"><div class=\"sk-text-repr-fallback\"><pre>XGBClassifier(base_score=None, booster=None, callbacks=None,\n",
       "              colsample_bylevel=None, colsample_bynode=None,\n",
       "              colsample_bytree=None, device=None, early_stopping_rounds=None,\n",
       "              enable_categorical=False, eval_metric=None, feature_types=None,\n",
       "              gamma=None, grow_policy=None, importance_type=None,\n",
       "              interaction_constraints=None, learning_rate=None, max_bin=None,\n",
       "              max_cat_threshold=None, max_cat_to_onehot=None,\n",
       "              max_delta_step=None, max_depth=None, max_leaves=None,\n",
       "              min_child_weight=None, missing=nan, monotone_constraints=None,\n",
       "              multi_strategy=None, n_estimators=None, n_jobs=None,\n",
       "              num_parallel_tree=None, random_state=42, ...)</pre><b>In a Jupyter environment, please rerun this cell to show the HTML representation or trust the notebook. <br />On GitHub, the HTML representation is unable to render, please try loading this page with nbviewer.org.</b></div><div class=\"sk-container\" hidden><div class=\"sk-item\"><div class=\"sk-estimator sk-toggleable\"><input class=\"sk-toggleable__control sk-hidden--visually\" id=\"sk-estimator-id-3\" type=\"checkbox\" checked><label for=\"sk-estimator-id-3\" class=\"sk-toggleable__label sk-toggleable__label-arrow\">XGBClassifier</label><div class=\"sk-toggleable__content\"><pre>XGBClassifier(base_score=None, booster=None, callbacks=None,\n",
       "              colsample_bylevel=None, colsample_bynode=None,\n",
       "              colsample_bytree=None, device=None, early_stopping_rounds=None,\n",
       "              enable_categorical=False, eval_metric=None, feature_types=None,\n",
       "              gamma=None, grow_policy=None, importance_type=None,\n",
       "              interaction_constraints=None, learning_rate=None, max_bin=None,\n",
       "              max_cat_threshold=None, max_cat_to_onehot=None,\n",
       "              max_delta_step=None, max_depth=None, max_leaves=None,\n",
       "              min_child_weight=None, missing=nan, monotone_constraints=None,\n",
       "              multi_strategy=None, n_estimators=None, n_jobs=None,\n",
       "              num_parallel_tree=None, random_state=42, ...)</pre></div></div></div></div></div>"
      ],
      "text/plain": [
       "XGBClassifier(base_score=None, booster=None, callbacks=None,\n",
       "              colsample_bylevel=None, colsample_bynode=None,\n",
       "              colsample_bytree=None, device=None, early_stopping_rounds=None,\n",
       "              enable_categorical=False, eval_metric=None, feature_types=None,\n",
       "              gamma=None, grow_policy=None, importance_type=None,\n",
       "              interaction_constraints=None, learning_rate=None, max_bin=None,\n",
       "              max_cat_threshold=None, max_cat_to_onehot=None,\n",
       "              max_delta_step=None, max_depth=None, max_leaves=None,\n",
       "              min_child_weight=None, missing=nan, monotone_constraints=None,\n",
       "              multi_strategy=None, n_estimators=None, n_jobs=None,\n",
       "              num_parallel_tree=None, random_state=42, ...)"
      ]
     },
     "execution_count": 41,
     "metadata": {},
     "output_type": "execute_result"
    }
   ],
   "source": [
    "rf_model.fit(X_train_combined, y_train)\n",
    "svm_model.fit(X_train_combined, y_train)\n",
    "nb_model.fit(X_train_combined, y_train)\n",
    "xgb_model.fit(X_train_combined, y_train)"
   ]
  },
  {
   "cell_type": "code",
   "execution_count": 42,
   "id": "4320677d",
   "metadata": {
    "execution": {
     "iopub.execute_input": "2025-05-06T07:02:48.979925Z",
     "iopub.status.busy": "2025-05-06T07:02:48.979597Z",
     "iopub.status.idle": "2025-05-06T07:03:49.086499Z",
     "shell.execute_reply": "2025-05-06T07:03:49.085834Z"
    },
    "id": "hIRPohOhVWe0",
    "papermill": {
     "duration": 60.125022,
     "end_time": "2025-05-06T07:03:49.088322",
     "exception": false,
     "start_time": "2025-05-06T07:02:48.963300",
     "status": "completed"
    },
    "tags": []
   },
   "outputs": [],
   "source": [
    "rf_y_pred = rf_model.predict(X_test_combined)\n",
    "svm_y_pred = svm_model.predict(X_test_combined)\n",
    "nb_y_pred = nb_model.predict(X_test_combined)\n",
    "xgb_y_pred = xgb_model.predict(X_test_combined)"
   ]
  },
  {
   "cell_type": "markdown",
   "id": "16d184e9",
   "metadata": {
    "id": "FhECWwGwVWe1",
    "papermill": {
     "duration": 0.014768,
     "end_time": "2025-05-06T07:03:49.119052",
     "exception": false,
     "start_time": "2025-05-06T07:03:49.104284",
     "status": "completed"
    },
    "tags": []
   },
   "source": [
    "RF"
   ]
  },
  {
   "cell_type": "code",
   "execution_count": 43,
   "id": "fb25aed4",
   "metadata": {
    "execution": {
     "iopub.execute_input": "2025-05-06T07:03:49.150290Z",
     "iopub.status.busy": "2025-05-06T07:03:49.149682Z",
     "iopub.status.idle": "2025-05-06T07:03:49.170527Z",
     "shell.execute_reply": "2025-05-06T07:03:49.169533Z"
    },
    "id": "MjQUOzd_VWe1",
    "outputId": "fbf368dc-d442-4075-e435-0b6155da8830",
    "papermill": {
     "duration": 0.038256,
     "end_time": "2025-05-06T07:03:49.172234",
     "exception": false,
     "start_time": "2025-05-06T07:03:49.133978",
     "status": "completed"
    },
    "tags": []
   },
   "outputs": [
    {
     "name": "stdout",
     "output_type": "stream",
     "text": [
      "Akurasi: 0.9037\n",
      "Presisi (Fake Review): 0.9268\n",
      "Recall (Fake Review): 0.8766\n",
      "F1-Score (Fake Review): 0.9010\n"
     ]
    }
   ],
   "source": [
    "accuracy_rf_3 = accuracy_score(y_test, rf_y_pred)\n",
    "print(f'Akurasi: {accuracy_rf_3:.4f}')\n",
    "\n",
    "precision_cg = precision_score(y_test, rf_y_pred)\n",
    "print(f'Presisi (Fake Review): {precision_cg:.4f}')\n",
    "\n",
    "recall_cg = recall_score(y_test, rf_y_pred)\n",
    "print(f'Recall (Fake Review): {recall_cg:.4f}')\n",
    "\n",
    "f1_cg = f1_score(y_test, rf_y_pred)\n",
    "print(f'F1-Score (Fake Review): {f1_cg:.4f}')"
   ]
  },
  {
   "cell_type": "markdown",
   "id": "5fe1a75c",
   "metadata": {
    "id": "DcLyhpccVWe2",
    "papermill": {
     "duration": 0.01478,
     "end_time": "2025-05-06T07:03:49.203315",
     "exception": false,
     "start_time": "2025-05-06T07:03:49.188535",
     "status": "completed"
    },
    "tags": []
   },
   "source": [
    "SVM"
   ]
  },
  {
   "cell_type": "code",
   "execution_count": 44,
   "id": "38d14048",
   "metadata": {
    "execution": {
     "iopub.execute_input": "2025-05-06T07:03:49.234610Z",
     "iopub.status.busy": "2025-05-06T07:03:49.234324Z",
     "iopub.status.idle": "2025-05-06T07:03:49.254983Z",
     "shell.execute_reply": "2025-05-06T07:03:49.253930Z"
    },
    "id": "hYmUkhURVWe3",
    "outputId": "e74aa352-623c-4020-dd49-0cf9e5db9e43",
    "papermill": {
     "duration": 0.038139,
     "end_time": "2025-05-06T07:03:49.256407",
     "exception": false,
     "start_time": "2025-05-06T07:03:49.218268",
     "status": "completed"
    },
    "tags": []
   },
   "outputs": [
    {
     "name": "stdout",
     "output_type": "stream",
     "text": [
      "Akurasi: 0.9457\n",
      "Presisi (Fake Review): 0.9609\n",
      "Recall (Fake Review): 0.9293\n",
      "F1-Score (Fake Review): 0.9448\n"
     ]
    }
   ],
   "source": [
    "accuracy_svm_3 = accuracy_score(y_test, svm_y_pred)\n",
    "print(f'Akurasi: {accuracy_svm_3:.4f}')\n",
    "\n",
    "precision_cg = precision_score(y_test, svm_y_pred)\n",
    "print(f'Presisi (Fake Review): {precision_cg:.4f}')\n",
    "\n",
    "recall_cg = recall_score(y_test, svm_y_pred)\n",
    "print(f'Recall (Fake Review): {recall_cg:.4f}')\n",
    "\n",
    "f1_cg = f1_score(y_test, svm_y_pred)\n",
    "print(f'F1-Score (Fake Review): {f1_cg:.4f}')"
   ]
  },
  {
   "cell_type": "markdown",
   "id": "05f0ac93",
   "metadata": {
    "id": "5WIpqIPAVWe4",
    "papermill": {
     "duration": 0.016503,
     "end_time": "2025-05-06T07:03:49.288382",
     "exception": false,
     "start_time": "2025-05-06T07:03:49.271879",
     "status": "completed"
    },
    "tags": []
   },
   "source": [
    "NB"
   ]
  },
  {
   "cell_type": "code",
   "execution_count": 45,
   "id": "9c431de1",
   "metadata": {
    "execution": {
     "iopub.execute_input": "2025-05-06T07:03:49.321207Z",
     "iopub.status.busy": "2025-05-06T07:03:49.320398Z",
     "iopub.status.idle": "2025-05-06T07:03:49.341987Z",
     "shell.execute_reply": "2025-05-06T07:03:49.341026Z"
    },
    "id": "CT_PeFOPVWe4",
    "outputId": "8dc1afbd-9b63-4c6e-8594-f8eb5408eb7e",
    "papermill": {
     "duration": 0.039455,
     "end_time": "2025-05-06T07:03:49.343481",
     "exception": false,
     "start_time": "2025-05-06T07:03:49.304026",
     "status": "completed"
    },
    "tags": []
   },
   "outputs": [
    {
     "name": "stdout",
     "output_type": "stream",
     "text": [
      "Akurasi: 0.9018\n",
      "Presisi (Fake Review): 0.8965\n",
      "Recall (Fake Review): 0.9085\n",
      "F1-Score (Fake Review): 0.9025\n"
     ]
    }
   ],
   "source": [
    "accuracy_nb_3 = accuracy_score(y_test, nb_y_pred)\n",
    "print(f'Akurasi: {accuracy_nb_3:.4f}')\n",
    "\n",
    "precision_cg = precision_score(y_test, nb_y_pred)\n",
    "print(f'Presisi (Fake Review): {precision_cg:.4f}')\n",
    "\n",
    "recall_cg = recall_score(y_test, nb_y_pred)\n",
    "print(f'Recall (Fake Review): {recall_cg:.4f}')\n",
    "\n",
    "f1_cg = f1_score(y_test, nb_y_pred)\n",
    "print(f'F1-Score (Fake Review): {f1_cg:.4f}')"
   ]
  },
  {
   "cell_type": "markdown",
   "id": "254ed285",
   "metadata": {
    "id": "VHZJVyb5VWe5",
    "papermill": {
     "duration": 0.01593,
     "end_time": "2025-05-06T07:03:49.376446",
     "exception": false,
     "start_time": "2025-05-06T07:03:49.360516",
     "status": "completed"
    },
    "tags": []
   },
   "source": [
    "XGB"
   ]
  },
  {
   "cell_type": "code",
   "execution_count": 46,
   "id": "11b8d052",
   "metadata": {
    "execution": {
     "iopub.execute_input": "2025-05-06T07:03:49.408803Z",
     "iopub.status.busy": "2025-05-06T07:03:49.408493Z",
     "iopub.status.idle": "2025-05-06T07:03:49.430106Z",
     "shell.execute_reply": "2025-05-06T07:03:49.429127Z"
    },
    "id": "m9uee7QIVWe7",
    "outputId": "22a69de5-fbf4-49e5-90ab-00308679f50c",
    "papermill": {
     "duration": 0.039344,
     "end_time": "2025-05-06T07:03:49.431488",
     "exception": false,
     "start_time": "2025-05-06T07:03:49.392144",
     "status": "completed"
    },
    "tags": []
   },
   "outputs": [
    {
     "name": "stdout",
     "output_type": "stream",
     "text": [
      "Akurasi: 0.8985\n",
      "Presisi (Fake Review): 0.9161\n",
      "Recall (Fake Review): 0.8773\n",
      "F1-Score (Fake Review): 0.8963\n"
     ]
    }
   ],
   "source": [
    "accuracy_xgb_3 = accuracy_score(y_test, xgb_y_pred)\n",
    "print(f'Akurasi: {accuracy_xgb_3:.4f}')\n",
    "\n",
    "precision_cg = precision_score(y_test, xgb_y_pred)\n",
    "print(f'Presisi (Fake Review): {precision_cg:.4f}')\n",
    "\n",
    "recall_cg = recall_score(y_test, xgb_y_pred)\n",
    "print(f'Recall (Fake Review): {recall_cg:.4f}')\n",
    "\n",
    "f1_cg = f1_score(y_test, xgb_y_pred)\n",
    "print(f'F1-Score (Fake Review): {f1_cg:.4f}')"
   ]
  },
  {
   "cell_type": "markdown",
   "id": "75b0da7c",
   "metadata": {
    "id": "7varI_PKS8hx",
    "papermill": {
     "duration": 0.015189,
     "end_time": "2025-05-06T07:03:49.462262",
     "exception": false,
     "start_time": "2025-05-06T07:03:49.447073",
     "status": "completed"
    },
    "tags": []
   },
   "source": [
    "## Feature: text_"
   ]
  },
  {
   "cell_type": "code",
   "execution_count": 47,
   "id": "4840c7a6",
   "metadata": {
    "execution": {
     "iopub.execute_input": "2025-05-06T07:03:49.494443Z",
     "iopub.status.busy": "2025-05-06T07:03:49.494113Z",
     "iopub.status.idle": "2025-05-06T07:03:49.499019Z",
     "shell.execute_reply": "2025-05-06T07:03:49.498282Z"
    },
    "id": "wmqJQae74BAn",
    "papermill": {
     "duration": 0.022719,
     "end_time": "2025-05-06T07:03:49.500319",
     "exception": false,
     "start_time": "2025-05-06T07:03:49.477600",
     "status": "completed"
    },
    "tags": []
   },
   "outputs": [],
   "source": [
    "rf_model = RandomForestClassifier(random_state=42)\n",
    "svm_model = SVC(random_state=42)\n",
    "nb_model = MultinomialNB()\n",
    "xgb_model = XGBClassifier(random_state=42)"
   ]
  },
  {
   "cell_type": "code",
   "execution_count": 48,
   "id": "04d139bf",
   "metadata": {
    "execution": {
     "iopub.execute_input": "2025-05-06T07:03:49.533735Z",
     "iopub.status.busy": "2025-05-06T07:03:49.532822Z",
     "iopub.status.idle": "2025-05-06T07:19:52.754860Z",
     "shell.execute_reply": "2025-05-06T07:19:52.754044Z"
    },
    "id": "91UV6VkF5J9N",
    "papermill": {
     "duration": 963.25568,
     "end_time": "2025-05-06T07:19:52.771577",
     "exception": false,
     "start_time": "2025-05-06T07:03:49.515897",
     "status": "completed"
    },
    "tags": []
   },
   "outputs": [
    {
     "data": {
      "text/html": [
       "<style>#sk-container-id-4 {color: black;background-color: white;}#sk-container-id-4 pre{padding: 0;}#sk-container-id-4 div.sk-toggleable {background-color: white;}#sk-container-id-4 label.sk-toggleable__label {cursor: pointer;display: block;width: 100%;margin-bottom: 0;padding: 0.3em;box-sizing: border-box;text-align: center;}#sk-container-id-4 label.sk-toggleable__label-arrow:before {content: \"▸\";float: left;margin-right: 0.25em;color: #696969;}#sk-container-id-4 label.sk-toggleable__label-arrow:hover:before {color: black;}#sk-container-id-4 div.sk-estimator:hover label.sk-toggleable__label-arrow:before {color: black;}#sk-container-id-4 div.sk-toggleable__content {max-height: 0;max-width: 0;overflow: hidden;text-align: left;background-color: #f0f8ff;}#sk-container-id-4 div.sk-toggleable__content pre {margin: 0.2em;color: black;border-radius: 0.25em;background-color: #f0f8ff;}#sk-container-id-4 input.sk-toggleable__control:checked~div.sk-toggleable__content {max-height: 200px;max-width: 100%;overflow: auto;}#sk-container-id-4 input.sk-toggleable__control:checked~label.sk-toggleable__label-arrow:before {content: \"▾\";}#sk-container-id-4 div.sk-estimator input.sk-toggleable__control:checked~label.sk-toggleable__label {background-color: #d4ebff;}#sk-container-id-4 div.sk-label input.sk-toggleable__control:checked~label.sk-toggleable__label {background-color: #d4ebff;}#sk-container-id-4 input.sk-hidden--visually {border: 0;clip: rect(1px 1px 1px 1px);clip: rect(1px, 1px, 1px, 1px);height: 1px;margin: -1px;overflow: hidden;padding: 0;position: absolute;width: 1px;}#sk-container-id-4 div.sk-estimator {font-family: monospace;background-color: #f0f8ff;border: 1px dotted black;border-radius: 0.25em;box-sizing: border-box;margin-bottom: 0.5em;}#sk-container-id-4 div.sk-estimator:hover {background-color: #d4ebff;}#sk-container-id-4 div.sk-parallel-item::after {content: \"\";width: 100%;border-bottom: 1px solid gray;flex-grow: 1;}#sk-container-id-4 div.sk-label:hover label.sk-toggleable__label {background-color: #d4ebff;}#sk-container-id-4 div.sk-serial::before {content: \"\";position: absolute;border-left: 1px solid gray;box-sizing: border-box;top: 0;bottom: 0;left: 50%;z-index: 0;}#sk-container-id-4 div.sk-serial {display: flex;flex-direction: column;align-items: center;background-color: white;padding-right: 0.2em;padding-left: 0.2em;position: relative;}#sk-container-id-4 div.sk-item {position: relative;z-index: 1;}#sk-container-id-4 div.sk-parallel {display: flex;align-items: stretch;justify-content: center;background-color: white;position: relative;}#sk-container-id-4 div.sk-item::before, #sk-container-id-4 div.sk-parallel-item::before {content: \"\";position: absolute;border-left: 1px solid gray;box-sizing: border-box;top: 0;bottom: 0;left: 50%;z-index: -1;}#sk-container-id-4 div.sk-parallel-item {display: flex;flex-direction: column;z-index: 1;position: relative;background-color: white;}#sk-container-id-4 div.sk-parallel-item:first-child::after {align-self: flex-end;width: 50%;}#sk-container-id-4 div.sk-parallel-item:last-child::after {align-self: flex-start;width: 50%;}#sk-container-id-4 div.sk-parallel-item:only-child::after {width: 0;}#sk-container-id-4 div.sk-dashed-wrapped {border: 1px dashed gray;margin: 0 0.4em 0.5em 0.4em;box-sizing: border-box;padding-bottom: 0.4em;background-color: white;}#sk-container-id-4 div.sk-label label {font-family: monospace;font-weight: bold;display: inline-block;line-height: 1.2em;}#sk-container-id-4 div.sk-label-container {text-align: center;}#sk-container-id-4 div.sk-container {/* jupyter's `normalize.less` sets `[hidden] { display: none; }` but bootstrap.min.css set `[hidden] { display: none !important; }` so we also need the `!important` here to be able to override the default hidden behavior on the sphinx rendered scikit-learn.org. See: https://github.com/scikit-learn/scikit-learn/issues/21755 */display: inline-block !important;position: relative;}#sk-container-id-4 div.sk-text-repr-fallback {display: none;}</style><div id=\"sk-container-id-4\" class=\"sk-top-container\"><div class=\"sk-text-repr-fallback\"><pre>XGBClassifier(base_score=None, booster=None, callbacks=None,\n",
       "              colsample_bylevel=None, colsample_bynode=None,\n",
       "              colsample_bytree=None, device=None, early_stopping_rounds=None,\n",
       "              enable_categorical=False, eval_metric=None, feature_types=None,\n",
       "              gamma=None, grow_policy=None, importance_type=None,\n",
       "              interaction_constraints=None, learning_rate=None, max_bin=None,\n",
       "              max_cat_threshold=None, max_cat_to_onehot=None,\n",
       "              max_delta_step=None, max_depth=None, max_leaves=None,\n",
       "              min_child_weight=None, missing=nan, monotone_constraints=None,\n",
       "              multi_strategy=None, n_estimators=None, n_jobs=None,\n",
       "              num_parallel_tree=None, random_state=42, ...)</pre><b>In a Jupyter environment, please rerun this cell to show the HTML representation or trust the notebook. <br />On GitHub, the HTML representation is unable to render, please try loading this page with nbviewer.org.</b></div><div class=\"sk-container\" hidden><div class=\"sk-item\"><div class=\"sk-estimator sk-toggleable\"><input class=\"sk-toggleable__control sk-hidden--visually\" id=\"sk-estimator-id-4\" type=\"checkbox\" checked><label for=\"sk-estimator-id-4\" class=\"sk-toggleable__label sk-toggleable__label-arrow\">XGBClassifier</label><div class=\"sk-toggleable__content\"><pre>XGBClassifier(base_score=None, booster=None, callbacks=None,\n",
       "              colsample_bylevel=None, colsample_bynode=None,\n",
       "              colsample_bytree=None, device=None, early_stopping_rounds=None,\n",
       "              enable_categorical=False, eval_metric=None, feature_types=None,\n",
       "              gamma=None, grow_policy=None, importance_type=None,\n",
       "              interaction_constraints=None, learning_rate=None, max_bin=None,\n",
       "              max_cat_threshold=None, max_cat_to_onehot=None,\n",
       "              max_delta_step=None, max_depth=None, max_leaves=None,\n",
       "              min_child_weight=None, missing=nan, monotone_constraints=None,\n",
       "              multi_strategy=None, n_estimators=None, n_jobs=None,\n",
       "              num_parallel_tree=None, random_state=42, ...)</pre></div></div></div></div></div>"
      ],
      "text/plain": [
       "XGBClassifier(base_score=None, booster=None, callbacks=None,\n",
       "              colsample_bylevel=None, colsample_bynode=None,\n",
       "              colsample_bytree=None, device=None, early_stopping_rounds=None,\n",
       "              enable_categorical=False, eval_metric=None, feature_types=None,\n",
       "              gamma=None, grow_policy=None, importance_type=None,\n",
       "              interaction_constraints=None, learning_rate=None, max_bin=None,\n",
       "              max_cat_threshold=None, max_cat_to_onehot=None,\n",
       "              max_delta_step=None, max_depth=None, max_leaves=None,\n",
       "              min_child_weight=None, missing=nan, monotone_constraints=None,\n",
       "              multi_strategy=None, n_estimators=None, n_jobs=None,\n",
       "              num_parallel_tree=None, random_state=42, ...)"
      ]
     },
     "execution_count": 48,
     "metadata": {},
     "output_type": "execute_result"
    }
   ],
   "source": [
    "rf_model.fit(X_train_tfidf, y_train)\n",
    "svm_model.fit(X_train_tfidf, y_train)\n",
    "nb_model.fit(X_train_tfidf, y_train)\n",
    "xgb_model.fit(X_train_tfidf, y_train)"
   ]
  },
  {
   "cell_type": "code",
   "execution_count": 49,
   "id": "06b71307",
   "metadata": {
    "execution": {
     "iopub.execute_input": "2025-05-06T07:19:52.804295Z",
     "iopub.status.busy": "2025-05-06T07:19:52.803962Z",
     "iopub.status.idle": "2025-05-06T07:20:50.141914Z",
     "shell.execute_reply": "2025-05-06T07:20:50.141264Z"
    },
    "id": "7mz30EU25hKb",
    "papermill": {
     "duration": 57.356351,
     "end_time": "2025-05-06T07:20:50.143741",
     "exception": false,
     "start_time": "2025-05-06T07:19:52.787390",
     "status": "completed"
    },
    "tags": []
   },
   "outputs": [],
   "source": [
    "rf_y_pred = rf_model.predict(X_test_tfidf)\n",
    "svm_y_pred = svm_model.predict(X_test_tfidf)\n",
    "nb_y_pred = nb_model.predict(X_test_tfidf)\n",
    "xgb_y_pred = xgb_model.predict(X_test_tfidf)"
   ]
  },
  {
   "cell_type": "markdown",
   "id": "cbbe2600",
   "metadata": {
    "id": "nQDwxH4M5nCt",
    "papermill": {
     "duration": 0.015539,
     "end_time": "2025-05-06T07:20:50.176794",
     "exception": false,
     "start_time": "2025-05-06T07:20:50.161255",
     "status": "completed"
    },
    "tags": []
   },
   "source": [
    "RF"
   ]
  },
  {
   "cell_type": "code",
   "execution_count": 50,
   "id": "4d65af52",
   "metadata": {
    "execution": {
     "iopub.execute_input": "2025-05-06T07:20:50.209029Z",
     "iopub.status.busy": "2025-05-06T07:20:50.208669Z",
     "iopub.status.idle": "2025-05-06T07:20:50.230294Z",
     "shell.execute_reply": "2025-05-06T07:20:50.229241Z"
    },
    "id": "xoFH8b_T5nCw",
    "outputId": "9b4cc432-d831-4260-b07f-7d5a06dd36aa",
    "papermill": {
     "duration": 0.039428,
     "end_time": "2025-05-06T07:20:50.231654",
     "exception": false,
     "start_time": "2025-05-06T07:20:50.192226",
     "status": "completed"
    },
    "tags": []
   },
   "outputs": [
    {
     "name": "stdout",
     "output_type": "stream",
     "text": [
      "Akurasi: 0.9038\n",
      "Presisi (Fake Review): 0.9306\n",
      "Recall (Fake Review): 0.8726\n",
      "F1-Score (Fake Review): 0.9007\n"
     ]
    }
   ],
   "source": [
    "accuracy_rf_4 = accuracy_score(y_test, rf_y_pred)\n",
    "print(f'Akurasi: {accuracy_rf_4:.4f}')\n",
    "\n",
    "precision_cg = precision_score(y_test, rf_y_pred)\n",
    "print(f'Presisi (Fake Review): {precision_cg:.4f}')\n",
    "\n",
    "recall_cg = recall_score(y_test, rf_y_pred)\n",
    "print(f'Recall (Fake Review): {recall_cg:.4f}')\n",
    "\n",
    "f1_cg = f1_score(y_test, rf_y_pred)\n",
    "print(f'F1-Score (Fake Review): {f1_cg:.4f}')"
   ]
  },
  {
   "cell_type": "markdown",
   "id": "1868d490",
   "metadata": {
    "id": "XGr1MpnC5nCy",
    "papermill": {
     "duration": 0.015505,
     "end_time": "2025-05-06T07:20:50.262923",
     "exception": false,
     "start_time": "2025-05-06T07:20:50.247418",
     "status": "completed"
    },
    "tags": []
   },
   "source": [
    "SVM"
   ]
  },
  {
   "cell_type": "code",
   "execution_count": 51,
   "id": "0717d0fc",
   "metadata": {
    "execution": {
     "iopub.execute_input": "2025-05-06T07:20:50.295988Z",
     "iopub.status.busy": "2025-05-06T07:20:50.295654Z",
     "iopub.status.idle": "2025-05-06T07:20:50.316989Z",
     "shell.execute_reply": "2025-05-06T07:20:50.315913Z"
    },
    "id": "2hL9Urbe5nCz",
    "outputId": "e6afb60c-02e5-4b15-8674-fbdb0f3cf305",
    "papermill": {
     "duration": 0.039169,
     "end_time": "2025-05-06T07:20:50.318319",
     "exception": false,
     "start_time": "2025-05-06T07:20:50.279150",
     "status": "completed"
    },
    "tags": []
   },
   "outputs": [
    {
     "name": "stdout",
     "output_type": "stream",
     "text": [
      "Akurasi: 0.9504\n",
      "Presisi (Fake Review): 0.9612\n",
      "Recall (Fake Review): 0.9387\n",
      "F1-Score (Fake Review): 0.9498\n"
     ]
    }
   ],
   "source": [
    "accuracy_svm_4 = accuracy_score(y_test, svm_y_pred)\n",
    "print(f'Akurasi: {accuracy_svm_4:.4f}')\n",
    "\n",
    "precision_cg = precision_score(y_test, svm_y_pred)\n",
    "print(f'Presisi (Fake Review): {precision_cg:.4f}')\n",
    "\n",
    "recall_cg = recall_score(y_test, svm_y_pred)\n",
    "print(f'Recall (Fake Review): {recall_cg:.4f}')\n",
    "\n",
    "f1_cg = f1_score(y_test, svm_y_pred)\n",
    "print(f'F1-Score (Fake Review): {f1_cg:.4f}')"
   ]
  },
  {
   "cell_type": "markdown",
   "id": "15ea334d",
   "metadata": {
    "id": "V5kXgktn5nC0",
    "papermill": {
     "duration": 0.015327,
     "end_time": "2025-05-06T07:20:50.349388",
     "exception": false,
     "start_time": "2025-05-06T07:20:50.334061",
     "status": "completed"
    },
    "tags": []
   },
   "source": [
    "NB"
   ]
  },
  {
   "cell_type": "code",
   "execution_count": 52,
   "id": "c52bafd4",
   "metadata": {
    "execution": {
     "iopub.execute_input": "2025-05-06T07:20:50.382065Z",
     "iopub.status.busy": "2025-05-06T07:20:50.381741Z",
     "iopub.status.idle": "2025-05-06T07:20:50.403896Z",
     "shell.execute_reply": "2025-05-06T07:20:50.402926Z"
    },
    "id": "U5pmvsbZ5nC1",
    "outputId": "95c1e8ab-acae-475d-9128-e7f7287d3209",
    "papermill": {
     "duration": 0.040154,
     "end_time": "2025-05-06T07:20:50.405384",
     "exception": false,
     "start_time": "2025-05-06T07:20:50.365230",
     "status": "completed"
    },
    "tags": []
   },
   "outputs": [
    {
     "name": "stdout",
     "output_type": "stream",
     "text": [
      "Akurasi: 0.9026\n",
      "Presisi (Fake Review): 0.8974\n",
      "Recall (Fake Review): 0.9090\n",
      "F1-Score (Fake Review): 0.9032\n"
     ]
    }
   ],
   "source": [
    "accuracy_nb_4 = accuracy_score(y_test, nb_y_pred)\n",
    "print(f'Akurasi: {accuracy_nb_4:.4f}')\n",
    "\n",
    "precision_cg = precision_score(y_test, nb_y_pred)\n",
    "print(f'Presisi (Fake Review): {precision_cg:.4f}')\n",
    "\n",
    "recall_cg = recall_score(y_test, nb_y_pred)\n",
    "print(f'Recall (Fake Review): {recall_cg:.4f}')\n",
    "\n",
    "f1_cg = f1_score(y_test, nb_y_pred)\n",
    "print(f'F1-Score (Fake Review): {f1_cg:.4f}')"
   ]
  },
  {
   "cell_type": "markdown",
   "id": "cd058415",
   "metadata": {
    "id": "ry2tsfMc5nC2",
    "papermill": {
     "duration": 0.015588,
     "end_time": "2025-05-06T07:20:50.437048",
     "exception": false,
     "start_time": "2025-05-06T07:20:50.421460",
     "status": "completed"
    },
    "tags": []
   },
   "source": [
    "XGB"
   ]
  },
  {
   "cell_type": "code",
   "execution_count": 53,
   "id": "c3d8a2a2",
   "metadata": {
    "execution": {
     "iopub.execute_input": "2025-05-06T07:20:50.469344Z",
     "iopub.status.busy": "2025-05-06T07:20:50.469043Z",
     "iopub.status.idle": "2025-05-06T07:20:50.489770Z",
     "shell.execute_reply": "2025-05-06T07:20:50.488922Z"
    },
    "id": "VA0LPmAe5nC3",
    "outputId": "719376c4-1e67-49ee-cec7-2c70971d2097",
    "papermill": {
     "duration": 0.038766,
     "end_time": "2025-05-06T07:20:50.491295",
     "exception": false,
     "start_time": "2025-05-06T07:20:50.452529",
     "status": "completed"
    },
    "tags": []
   },
   "outputs": [
    {
     "name": "stdout",
     "output_type": "stream",
     "text": [
      "Akurasi: 0.9028\n",
      "Presisi (Fake Review): 0.9183\n",
      "Recall (Fake Review): 0.8842\n",
      "F1-Score (Fake Review): 0.9010\n"
     ]
    }
   ],
   "source": [
    "accuracy_xgb_4 = accuracy_score(y_test, xgb_y_pred)\n",
    "print(f'Akurasi: {accuracy_xgb_4:.4f}')\n",
    "\n",
    "precision_cg = precision_score(y_test, xgb_y_pred)\n",
    "print(f'Presisi (Fake Review): {precision_cg:.4f}')\n",
    "\n",
    "recall_cg = recall_score(y_test, xgb_y_pred)\n",
    "print(f'Recall (Fake Review): {recall_cg:.4f}')\n",
    "\n",
    "f1_cg = f1_score(y_test, xgb_y_pred)\n",
    "print(f'F1-Score (Fake Review): {f1_cg:.4f}')"
   ]
  },
  {
   "cell_type": "markdown",
   "id": "adce561c",
   "metadata": {
    "id": "mKPIeOzRj9Po",
    "papermill": {
     "duration": 0.01529,
     "end_time": "2025-05-06T07:20:50.522552",
     "exception": false,
     "start_time": "2025-05-06T07:20:50.507262",
     "status": "completed"
    },
    "tags": []
   },
   "source": [
    "## Comparison"
   ]
  },
  {
   "cell_type": "code",
   "execution_count": 54,
   "id": "837b4315",
   "metadata": {
    "execution": {
     "iopub.execute_input": "2025-05-06T07:20:50.556783Z",
     "iopub.status.busy": "2025-05-06T07:20:50.556482Z",
     "iopub.status.idle": "2025-05-06T07:20:50.858226Z",
     "shell.execute_reply": "2025-05-06T07:20:50.857290Z"
    },
    "id": "4Zu0Ez8lkAuj",
    "outputId": "c3e11615-8bd9-4103-c4fe-d2d18f992717",
    "papermill": {
     "duration": 0.320603,
     "end_time": "2025-05-06T07:20:50.859815",
     "exception": false,
     "start_time": "2025-05-06T07:20:50.539212",
     "status": "completed"
    },
    "tags": []
   },
   "outputs": [
    {
     "data": {
      "image/png": "[encoded data removed]",
      "text/plain": [
       "<Figure size 1500x600 with 1 Axes>"
      ]
     },
     "metadata": {},
     "output_type": "display_data"
    }
   ],
   "source": [
    "models = ['Random Forest', 'SVM', 'Naive Bayes', 'XGBoost']\n",
    "accuracy_1 = [accuracy_rf_1, accuracy_svm_1, accuracy_nb_1, accuracy_xgb_1]\n",
    "accuracy_2 = [accuracy_rf_2, accuracy_svm_2, accuracy_nb_2, accuracy_xgb_2]\n",
    "accuracy_3 = [accuracy_rf_3, accuracy_svm_3, accuracy_nb_3, accuracy_xgb_3]\n",
    "accuracy_4 = [accuracy_rf_4, accuracy_svm_4, accuracy_nb_4, accuracy_xgb_4]\n",
    "\n",
    "x = np.arange(len(models))\n",
    "width = 0.20\n",
    "\n",
    "fig, ax = plt.subplots(figsize=(15, 6))\n",
    "\n",
    "bars1 = ax.bar(x - 1.5*width, accuracy_1, width, label='rating, category, text_', color='blue')\n",
    "bars2 = ax.bar(x - 0.5*width, accuracy_2, width, label='rating, text_', color='orange')\n",
    "bars3 = ax.bar(x + 0.5*width, accuracy_3, width, label='category, text_', color='green')\n",
    "bars4 = ax.bar(x + 1.5*width, accuracy_4, width, label='text_', color='yellow')\n",
    "\n",
    "for bars in [bars1, bars2, bars3, bars4]:\n",
    "    for bar in bars:\n",
    "        height = bar.get_height()\n",
    "        ax.annotate(f'{height*100:.2f}',\n",
    "                    xy=(bar.get_x() + bar.get_width() / 2, height),\n",
    "                    xytext=(0, 3),\n",
    "                    textcoords=\"offset points\",\n",
    "                    ha='center', va='bottom')\n",
    "\n",
    "formatter = FuncFormatter(lambda y, _: f'{y*100:.2f}')\n",
    "ax.yaxis.set_major_formatter(formatter)\n",
    "\n",
    "ax.set_ylabel('Accuracy (%)')\n",
    "ax.set_title('Perbandingan Kinerja Model dalam Berbagai Kombinasi Fitur')\n",
    "ax.set_xticks(x)\n",
    "ax.set_xticklabels(models)\n",
    "ax.legend(loc='upper center', bbox_to_anchor=(0.5, -0.12), ncol=2)\n",
    "ax.margins(y=0.1)\n",
    "\n",
    "plt.tight_layout()\n",
    "plt.show()\n"
   ]
  }
 ],
 "metadata": {
  "colab": {
   "provenance": [],
   "toc_visible": true
  },
  "kaggle": {
   "accelerator": "none",
   "dataSources": [
    {
     "datasetId": 7266239,
     "sourceId": 11588322,
     "sourceType": "datasetVersion"
    }
   ],
   "dockerImageVersionId": 31012,
   "isGpuEnabled": false,
   "isInternetEnabled": true,
   "language": "python",
   "sourceType": "notebook"
  },
  "kernelspec": {
   "display_name": "Python 3",
   "language": "python",
   "name": "python3"
  },
  "language_info": {
   "codemirror_mode": {
    "name": "ipython",
    "version": 3
   },
   "file_extension": ".py",
   "mimetype": "text/x-python",
   "name": "python",
   "nbconvert_exporter": "python",
   "pygments_lexer": "ipython3",
   "version": "3.11.11"
  },
  "papermill": {
   "default_parameters": {},
   "duration": 3052.799416,
   "end_time": "2025-05-06T07:20:52.001806",
   "environment_variables": {},
   "exception": null,
   "input_path": "__notebook__.ipynb",
   "output_path": "__notebook__.ipynb",
   "parameters": {},
   "start_time": "2025-05-06T06:29:59.202390",
   "version": "2.6.0"
  }
 },
 "nbformat": 4,
 "nbformat_minor": 5
}
