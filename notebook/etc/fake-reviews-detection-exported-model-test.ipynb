{
 "cells": [
  {
   "cell_type": "code",
   "execution_count": 1,
   "id": "16426c2f",
   "metadata": {
    "execution": {
     "iopub.execute_input": "2025-05-07T02:05:35.059205Z",
     "iopub.status.busy": "2025-05-07T02:05:35.058932Z",
     "iopub.status.idle": "2025-05-07T02:05:35.181367Z",
     "shell.execute_reply": "2025-05-07T02:05:35.180208Z"
    },
    "papermill": {
     "duration": 0.131882,
     "end_time": "2025-05-07T02:05:35.182905",
     "exception": false,
     "start_time": "2025-05-07T02:05:35.051023",
     "status": "completed"
    },
    "tags": []
   },
   "outputs": [
    {
     "name": "stdout",
     "output_type": "stream",
     "text": [
      "Python 3.11.11\r\n"
     ]
    }
   ],
   "source": [
    "!python --version"
   ]
  },
  {
   "cell_type": "markdown",
   "id": "fafc1339",
   "metadata": {
    "id": "9F7sJ-QtSqE8",
    "papermill": {
     "duration": 0.005545,
     "end_time": "2025-05-07T02:05:35.194911",
     "exception": false,
     "start_time": "2025-05-07T02:05:35.189366",
     "status": "completed"
    },
    "tags": []
   },
   "source": [
    "## Import Library"
   ]
  },
  {
   "cell_type": "code",
   "execution_count": 2,
   "id": "e2459a3d",
   "metadata": {
    "execution": {
     "iopub.execute_input": "2025-05-07T02:05:35.207494Z",
     "iopub.status.busy": "2025-05-07T02:05:35.207230Z",
     "iopub.status.idle": "2025-05-07T02:05:47.405101Z",
     "shell.execute_reply": "2025-05-07T02:05:47.404334Z"
    },
    "id": "jzYZJejxZbdJ",
    "outputId": "3ccccae9-2608-4949-e309-2bbd8bde08ea",
    "papermill": {
     "duration": 12.205887,
     "end_time": "2025-05-07T02:05:47.406489",
     "exception": false,
     "start_time": "2025-05-07T02:05:35.200602",
     "status": "completed"
    },
    "tags": []
   },
   "outputs": [
    {
     "name": "stdout",
     "output_type": "stream",
     "text": [
      "Requirement already satisfied: xgboost in /usr/local/lib/python3.11/dist-packages (2.0.3)\r\n",
      "Collecting xgboost\r\n",
      "  Downloading xgboost-3.0.0-py3-none-manylinux_2_28_x86_64.whl.metadata (2.1 kB)\r\n",
      "Requirement already satisfied: numpy in /usr/local/lib/python3.11/dist-packages (from xgboost) (1.26.4)\r\n",
      "Requirement already satisfied: nvidia-nccl-cu12 in /usr/local/lib/python3.11/dist-packages (from xgboost) (2.21.5)\r\n",
      "Requirement already satisfied: scipy in /usr/local/lib/python3.11/dist-packages (from xgboost) (1.15.2)\r\n",
      "Requirement already satisfied: mkl_fft in /usr/local/lib/python3.11/dist-packages (from numpy->xgboost) (1.3.8)\r\n",
      "Requirement already satisfied: mkl_random in /usr/local/lib/python3.11/dist-packages (from numpy->xgboost) (1.2.4)\r\n",
      "Requirement already satisfied: mkl_umath in /usr/local/lib/python3.11/dist-packages (from numpy->xgboost) (0.1.1)\r\n",
      "Requirement already satisfied: mkl in /usr/local/lib/python3.11/dist-packages (from numpy->xgboost) (2025.1.0)\r\n",
      "Requirement already satisfied: tbb4py in /usr/local/lib/python3.11/dist-packages (from numpy->xgboost) (2022.1.0)\r\n",
      "Requirement already satisfied: mkl-service in /usr/local/lib/python3.11/dist-packages (from numpy->xgboost) (2.4.1)\r\n",
      "Requirement already satisfied: intel-openmp<2026,>=2024 in /usr/local/lib/python3.11/dist-packages (from mkl->numpy->xgboost) (2024.2.0)\r\n",
      "Requirement already satisfied: tbb==2022.* in /usr/local/lib/python3.11/dist-packages (from mkl->numpy->xgboost) (2022.1.0)\r\n",
      "Requirement already satisfied: tcmlib==1.* in /usr/local/lib/python3.11/dist-packages (from tbb==2022.*->mkl->numpy->xgboost) (1.2.0)\r\n",
      "Requirement already satisfied: intel-cmplr-lib-rt in /usr/local/lib/python3.11/dist-packages (from mkl_umath->numpy->xgboost) (2024.2.0)\r\n",
      "Requirement already satisfied: intel-cmplr-lib-ur==2024.2.0 in /usr/local/lib/python3.11/dist-packages (from intel-openmp<2026,>=2024->mkl->numpy->xgboost) (2024.2.0)\r\n",
      "Downloading xgboost-3.0.0-py3-none-manylinux_2_28_x86_64.whl (253.9 MB)\r\n",
      "\u001b[2K   \u001b[90m━━━━━━━━━━━━━━━━━━━━━━━━━━━━━━━━━━━━━━━━\u001b[0m \u001b[32m253.9/253.9 MB\u001b[0m \u001b[31m6.5 MB/s\u001b[0m eta \u001b[36m0:00:00\u001b[0m\r\n",
      "\u001b[?25hInstalling collected packages: xgboost\r\n",
      "  Attempting uninstall: xgboost\r\n",
      "    Found existing installation: xgboost 2.0.3\r\n",
      "    Uninstalling xgboost-2.0.3:\r\n",
      "      Successfully uninstalled xgboost-2.0.3\r\n",
      "Successfully installed xgboost-3.0.0\r\n"
     ]
    }
   ],
   "source": [
    "!pip install -U xgboost"
   ]
  },
  {
   "cell_type": "code",
   "execution_count": 3,
   "id": "8248600b",
   "metadata": {
    "execution": {
     "iopub.execute_input": "2025-05-07T02:05:47.424686Z",
     "iopub.status.busy": "2025-05-07T02:05:47.424440Z",
     "iopub.status.idle": "2025-05-07T02:05:50.307431Z",
     "shell.execute_reply": "2025-05-07T02:05:50.306463Z"
    },
    "id": "pvbcZKes78HW",
    "papermill": {
     "duration": 2.893471,
     "end_time": "2025-05-07T02:05:50.308799",
     "exception": false,
     "start_time": "2025-05-07T02:05:47.415328",
     "status": "completed"
    },
    "tags": []
   },
   "outputs": [],
   "source": [
    "import pandas as pd\n",
    "import matplotlib.pyplot as plt\n",
    "from matplotlib.ticker import FuncFormatter\n",
    "import numpy as np\n",
    "from sklearn.ensemble import RandomForestClassifier\n",
    "from sklearn.svm import SVC\n",
    "from sklearn.naive_bayes import MultinomialNB\n",
    "from xgboost import XGBClassifier\n",
    "from sklearn.feature_extraction.text import TfidfVectorizer\n",
    "from sklearn.model_selection import train_test_split\n",
    "from collections import Counter\n",
    "import joblib\n",
    "from sklearn.metrics import accuracy_score, precision_score, recall_score, f1_score, classification_report\n",
    "import psutil, os, time, gc"
   ]
  },
  {
   "cell_type": "markdown",
   "id": "1c585ece",
   "metadata": {
    "id": "ji_LCW3wSwVZ",
    "papermill": {
     "duration": 0.007901,
     "end_time": "2025-05-07T02:05:50.325601",
     "exception": false,
     "start_time": "2025-05-07T02:05:50.317700",
     "status": "completed"
    },
    "tags": []
   },
   "source": [
    "## Import Dataset"
   ]
  },
  {
   "cell_type": "code",
   "execution_count": 4,
   "id": "455cfddf",
   "metadata": {
    "execution": {
     "iopub.execute_input": "2025-05-07T02:05:50.343503Z",
     "iopub.status.busy": "2025-05-07T02:05:50.342633Z",
     "iopub.status.idle": "2025-05-07T02:05:50.877614Z",
     "shell.execute_reply": "2025-05-07T02:05:50.876938Z"
    },
    "id": "_RKHMPcV73eh",
    "papermill": {
     "duration": 0.545312,
     "end_time": "2025-05-07T02:05:50.878989",
     "exception": false,
     "start_time": "2025-05-07T02:05:50.333677",
     "status": "completed"
    },
    "tags": []
   },
   "outputs": [],
   "source": [
    "df = pd.read_csv('/kaggle/input/preprocessed-fake-reviews-dataset/preprocessed-fake-reviews-dataset.csv')"
   ]
  },
  {
   "cell_type": "code",
   "execution_count": 5,
   "id": "55938d32",
   "metadata": {
    "execution": {
     "iopub.execute_input": "2025-05-07T02:05:50.897687Z",
     "iopub.status.busy": "2025-05-07T02:05:50.897383Z",
     "iopub.status.idle": "2025-05-07T02:05:50.919655Z",
     "shell.execute_reply": "2025-05-07T02:05:50.918927Z"
    },
    "id": "XsiFzXFoUUCw",
    "outputId": "b7a06e00-ba2b-4e43-b298-47394cd328cf",
    "papermill": {
     "duration": 0.033326,
     "end_time": "2025-05-07T02:05:50.921101",
     "exception": false,
     "start_time": "2025-05-07T02:05:50.887775",
     "status": "completed"
    },
    "tags": []
   },
   "outputs": [
    {
     "data": {
      "text/html": [
       "<div>\n",
       "<style scoped>\n",
       "    .dataframe tbody tr th:only-of-type {\n",
       "        vertical-align: middle;\n",
       "    }\n",
       "\n",
       "    .dataframe tbody tr th {\n",
       "        vertical-align: top;\n",
       "    }\n",
       "\n",
       "    .dataframe thead th {\n",
       "        text-align: right;\n",
       "    }\n",
       "</style>\n",
       "<table border=\"1\" class=\"dataframe\">\n",
       "  <thead>\n",
       "    <tr style=\"text-align: right;\">\n",
       "      <th></th>\n",
       "      <th>rating</th>\n",
       "      <th>label</th>\n",
       "      <th>text_</th>\n",
       "      <th>cleaned_text</th>\n",
       "      <th>category_Books_5</th>\n",
       "      <th>category_Clothing_Shoes_and_Jewelry_5</th>\n",
       "      <th>category_Electronics_5</th>\n",
       "      <th>category_Home_and_Kitchen_5</th>\n",
       "      <th>category_Kindle_Store_5</th>\n",
       "      <th>category_Movies_and_TV_5</th>\n",
       "      <th>category_Pet_Supplies_5</th>\n",
       "      <th>category_Sports_and_Outdoors_5</th>\n",
       "      <th>category_Tools_and_Home_Improvement_5</th>\n",
       "      <th>category_Toys_and_Games_5</th>\n",
       "    </tr>\n",
       "  </thead>\n",
       "  <tbody>\n",
       "    <tr>\n",
       "      <th>0</th>\n",
       "      <td>5.0</td>\n",
       "      <td>1</td>\n",
       "      <td>Love this!  Well made, sturdy, and very comfor...</td>\n",
       "      <td>Love this  Well made sturdy and very comfortab...</td>\n",
       "      <td>False</td>\n",
       "      <td>False</td>\n",
       "      <td>False</td>\n",
       "      <td>True</td>\n",
       "      <td>False</td>\n",
       "      <td>False</td>\n",
       "      <td>False</td>\n",
       "      <td>False</td>\n",
       "      <td>False</td>\n",
       "      <td>False</td>\n",
       "    </tr>\n",
       "    <tr>\n",
       "      <th>1</th>\n",
       "      <td>5.0</td>\n",
       "      <td>1</td>\n",
       "      <td>love it, a great upgrade from the original.  I...</td>\n",
       "      <td>love it a great upgrade from the original  Ive...</td>\n",
       "      <td>False</td>\n",
       "      <td>False</td>\n",
       "      <td>False</td>\n",
       "      <td>True</td>\n",
       "      <td>False</td>\n",
       "      <td>False</td>\n",
       "      <td>False</td>\n",
       "      <td>False</td>\n",
       "      <td>False</td>\n",
       "      <td>False</td>\n",
       "    </tr>\n",
       "    <tr>\n",
       "      <th>2</th>\n",
       "      <td>5.0</td>\n",
       "      <td>1</td>\n",
       "      <td>This pillow saved my back. I love the look and...</td>\n",
       "      <td>This pillow saved my back I love the look and ...</td>\n",
       "      <td>False</td>\n",
       "      <td>False</td>\n",
       "      <td>False</td>\n",
       "      <td>True</td>\n",
       "      <td>False</td>\n",
       "      <td>False</td>\n",
       "      <td>False</td>\n",
       "      <td>False</td>\n",
       "      <td>False</td>\n",
       "      <td>False</td>\n",
       "    </tr>\n",
       "    <tr>\n",
       "      <th>3</th>\n",
       "      <td>1.0</td>\n",
       "      <td>1</td>\n",
       "      <td>Missing information on how to use it, but it i...</td>\n",
       "      <td>Missing information on how to use it but it is...</td>\n",
       "      <td>False</td>\n",
       "      <td>False</td>\n",
       "      <td>False</td>\n",
       "      <td>True</td>\n",
       "      <td>False</td>\n",
       "      <td>False</td>\n",
       "      <td>False</td>\n",
       "      <td>False</td>\n",
       "      <td>False</td>\n",
       "      <td>False</td>\n",
       "    </tr>\n",
       "    <tr>\n",
       "      <th>4</th>\n",
       "      <td>5.0</td>\n",
       "      <td>1</td>\n",
       "      <td>Very nice set. Good quality. We have had the s...</td>\n",
       "      <td>Very nice set Good quality We have had the set...</td>\n",
       "      <td>False</td>\n",
       "      <td>False</td>\n",
       "      <td>False</td>\n",
       "      <td>True</td>\n",
       "      <td>False</td>\n",
       "      <td>False</td>\n",
       "      <td>False</td>\n",
       "      <td>False</td>\n",
       "      <td>False</td>\n",
       "      <td>False</td>\n",
       "    </tr>\n",
       "  </tbody>\n",
       "</table>\n",
       "</div>"
      ],
      "text/plain": [
       "   rating  label                                              text_  \\\n",
       "0     5.0      1  Love this!  Well made, sturdy, and very comfor...   \n",
       "1     5.0      1  love it, a great upgrade from the original.  I...   \n",
       "2     5.0      1  This pillow saved my back. I love the look and...   \n",
       "3     1.0      1  Missing information on how to use it, but it i...   \n",
       "4     5.0      1  Very nice set. Good quality. We have had the s...   \n",
       "\n",
       "                                        cleaned_text  category_Books_5  \\\n",
       "0  Love this  Well made sturdy and very comfortab...             False   \n",
       "1  love it a great upgrade from the original  Ive...             False   \n",
       "2  This pillow saved my back I love the look and ...             False   \n",
       "3  Missing information on how to use it but it is...             False   \n",
       "4  Very nice set Good quality We have had the set...             False   \n",
       "\n",
       "   category_Clothing_Shoes_and_Jewelry_5  category_Electronics_5  \\\n",
       "0                                  False                   False   \n",
       "1                                  False                   False   \n",
       "2                                  False                   False   \n",
       "3                                  False                   False   \n",
       "4                                  False                   False   \n",
       "\n",
       "   category_Home_and_Kitchen_5  category_Kindle_Store_5  \\\n",
       "0                         True                    False   \n",
       "1                         True                    False   \n",
       "2                         True                    False   \n",
       "3                         True                    False   \n",
       "4                         True                    False   \n",
       "\n",
       "   category_Movies_and_TV_5  category_Pet_Supplies_5  \\\n",
       "0                     False                    False   \n",
       "1                     False                    False   \n",
       "2                     False                    False   \n",
       "3                     False                    False   \n",
       "4                     False                    False   \n",
       "\n",
       "   category_Sports_and_Outdoors_5  category_Tools_and_Home_Improvement_5  \\\n",
       "0                           False                                  False   \n",
       "1                           False                                  False   \n",
       "2                           False                                  False   \n",
       "3                           False                                  False   \n",
       "4                           False                                  False   \n",
       "\n",
       "   category_Toys_and_Games_5  \n",
       "0                      False  \n",
       "1                      False  \n",
       "2                      False  \n",
       "3                      False  \n",
       "4                      False  "
      ]
     },
     "execution_count": 5,
     "metadata": {},
     "output_type": "execute_result"
    }
   ],
   "source": [
    "df.head()"
   ]
  },
  {
   "cell_type": "code",
   "execution_count": 6,
   "id": "e624e96c",
   "metadata": {
    "execution": {
     "iopub.execute_input": "2025-05-07T02:05:50.940018Z",
     "iopub.status.busy": "2025-05-07T02:05:50.939730Z",
     "iopub.status.idle": "2025-05-07T02:05:50.959402Z",
     "shell.execute_reply": "2025-05-07T02:05:50.958717Z"
    },
    "id": "CArT75BzhGkh",
    "outputId": "84f65a7c-bc08-4d84-e1f9-3d6b8f3a4561",
    "papermill": {
     "duration": 0.030458,
     "end_time": "2025-05-07T02:05:50.960998",
     "exception": false,
     "start_time": "2025-05-07T02:05:50.930540",
     "status": "completed"
    },
    "tags": []
   },
   "outputs": [
    {
     "data": {
      "text/plain": [
       "rating                                   0\n",
       "label                                    0\n",
       "text_                                    0\n",
       "cleaned_text                             1\n",
       "category_Books_5                         0\n",
       "category_Clothing_Shoes_and_Jewelry_5    0\n",
       "category_Electronics_5                   0\n",
       "category_Home_and_Kitchen_5              0\n",
       "category_Kindle_Store_5                  0\n",
       "category_Movies_and_TV_5                 0\n",
       "category_Pet_Supplies_5                  0\n",
       "category_Sports_and_Outdoors_5           0\n",
       "category_Tools_and_Home_Improvement_5    0\n",
       "category_Toys_and_Games_5                0\n",
       "dtype: int64"
      ]
     },
     "execution_count": 6,
     "metadata": {},
     "output_type": "execute_result"
    }
   ],
   "source": [
    "df.isnull().sum()"
   ]
  },
  {
   "cell_type": "code",
   "execution_count": 7,
   "id": "755ad0b9",
   "metadata": {
    "execution": {
     "iopub.execute_input": "2025-05-07T02:05:50.987999Z",
     "iopub.status.busy": "2025-05-07T02:05:50.987732Z",
     "iopub.status.idle": "2025-05-07T02:05:50.999057Z",
     "shell.execute_reply": "2025-05-07T02:05:50.998461Z"
    },
    "id": "BGcJVkG-jp3j",
    "papermill": {
     "duration": 0.026505,
     "end_time": "2025-05-07T02:05:51.000713",
     "exception": false,
     "start_time": "2025-05-07T02:05:50.974208",
     "status": "completed"
    },
    "tags": []
   },
   "outputs": [],
   "source": [
    "df['cleaned_text'] = df['cleaned_text'].fillna(\"\")"
   ]
  },
  {
   "cell_type": "code",
   "execution_count": 8,
   "id": "b5ac95c8",
   "metadata": {
    "execution": {
     "iopub.execute_input": "2025-05-07T02:05:51.026438Z",
     "iopub.status.busy": "2025-05-07T02:05:51.026148Z",
     "iopub.status.idle": "2025-05-07T02:05:51.041729Z",
     "shell.execute_reply": "2025-05-07T02:05:51.041172Z"
    },
    "id": "laIIkbrvkCzX",
    "outputId": "af4503cb-7aca-4c8a-c7b3-9ee8ecabec73",
    "papermill": {
     "duration": 0.027475,
     "end_time": "2025-05-07T02:05:51.042715",
     "exception": false,
     "start_time": "2025-05-07T02:05:51.015240",
     "status": "completed"
    },
    "tags": []
   },
   "outputs": [
    {
     "data": {
      "text/plain": [
       "rating                                   0\n",
       "label                                    0\n",
       "text_                                    0\n",
       "cleaned_text                             0\n",
       "category_Books_5                         0\n",
       "category_Clothing_Shoes_and_Jewelry_5    0\n",
       "category_Electronics_5                   0\n",
       "category_Home_and_Kitchen_5              0\n",
       "category_Kindle_Store_5                  0\n",
       "category_Movies_and_TV_5                 0\n",
       "category_Pet_Supplies_5                  0\n",
       "category_Sports_and_Outdoors_5           0\n",
       "category_Tools_and_Home_Improvement_5    0\n",
       "category_Toys_and_Games_5                0\n",
       "dtype: int64"
      ]
     },
     "execution_count": 8,
     "metadata": {},
     "output_type": "execute_result"
    }
   ],
   "source": [
    "df.isnull().sum()"
   ]
  },
  {
   "cell_type": "code",
   "execution_count": 9,
   "id": "36bcab4d",
   "metadata": {
    "execution": {
     "iopub.execute_input": "2025-05-07T02:05:51.061090Z",
     "iopub.status.busy": "2025-05-07T02:05:51.060532Z",
     "iopub.status.idle": "2025-05-07T02:05:51.086458Z",
     "shell.execute_reply": "2025-05-07T02:05:51.085576Z"
    },
    "id": "h-huwLWdhGkm",
    "outputId": "578fc4c7-505e-41bd-8ee9-56009afde2b1",
    "papermill": {
     "duration": 0.036055,
     "end_time": "2025-05-07T02:05:51.087628",
     "exception": false,
     "start_time": "2025-05-07T02:05:51.051573",
     "status": "completed"
    },
    "tags": []
   },
   "outputs": [
    {
     "name": "stdout",
     "output_type": "stream",
     "text": [
      "<class 'pandas.core.frame.DataFrame'>\n",
      "RangeIndex: 40432 entries, 0 to 40431\n",
      "Data columns (total 14 columns):\n",
      " #   Column                                 Non-Null Count  Dtype  \n",
      "---  ------                                 --------------  -----  \n",
      " 0   rating                                 40432 non-null  float64\n",
      " 1   label                                  40432 non-null  int64  \n",
      " 2   text_                                  40432 non-null  object \n",
      " 3   cleaned_text                           40432 non-null  object \n",
      " 4   category_Books_5                       40432 non-null  bool   \n",
      " 5   category_Clothing_Shoes_and_Jewelry_5  40432 non-null  bool   \n",
      " 6   category_Electronics_5                 40432 non-null  bool   \n",
      " 7   category_Home_and_Kitchen_5            40432 non-null  bool   \n",
      " 8   category_Kindle_Store_5                40432 non-null  bool   \n",
      " 9   category_Movies_and_TV_5               40432 non-null  bool   \n",
      " 10  category_Pet_Supplies_5                40432 non-null  bool   \n",
      " 11  category_Sports_and_Outdoors_5         40432 non-null  bool   \n",
      " 12  category_Tools_and_Home_Improvement_5  40432 non-null  bool   \n",
      " 13  category_Toys_and_Games_5              40432 non-null  bool   \n",
      "dtypes: bool(10), float64(1), int64(1), object(2)\n",
      "memory usage: 1.6+ MB\n"
     ]
    }
   ],
   "source": [
    "df.info()"
   ]
  },
  {
   "cell_type": "code",
   "execution_count": 10,
   "id": "4e63331c",
   "metadata": {
    "execution": {
     "iopub.execute_input": "2025-05-07T02:05:51.106815Z",
     "iopub.status.busy": "2025-05-07T02:05:51.106600Z",
     "iopub.status.idle": "2025-05-07T02:05:51.119760Z",
     "shell.execute_reply": "2025-05-07T02:05:51.118971Z"
    },
    "id": "w-6GM3cgNxik",
    "outputId": "8188b8c8-9e53-4a01-d6ac-31ca777eb1a5",
    "papermill": {
     "duration": 0.023647,
     "end_time": "2025-05-07T02:05:51.120820",
     "exception": false,
     "start_time": "2025-05-07T02:05:51.097173",
     "status": "completed"
    },
    "tags": []
   },
   "outputs": [
    {
     "data": {
      "text/html": [
       "<div>\n",
       "<style scoped>\n",
       "    .dataframe tbody tr th:only-of-type {\n",
       "        vertical-align: middle;\n",
       "    }\n",
       "\n",
       "    .dataframe tbody tr th {\n",
       "        vertical-align: top;\n",
       "    }\n",
       "\n",
       "    .dataframe thead th {\n",
       "        text-align: right;\n",
       "    }\n",
       "</style>\n",
       "<table border=\"1\" class=\"dataframe\">\n",
       "  <thead>\n",
       "    <tr style=\"text-align: right;\">\n",
       "      <th></th>\n",
       "      <th>rating</th>\n",
       "      <th>label</th>\n",
       "    </tr>\n",
       "  </thead>\n",
       "  <tbody>\n",
       "    <tr>\n",
       "      <th>count</th>\n",
       "      <td>40432.000000</td>\n",
       "      <td>40432.000000</td>\n",
       "    </tr>\n",
       "    <tr>\n",
       "      <th>mean</th>\n",
       "      <td>4.256579</td>\n",
       "      <td>0.500000</td>\n",
       "    </tr>\n",
       "    <tr>\n",
       "      <th>std</th>\n",
       "      <td>1.144354</td>\n",
       "      <td>0.500006</td>\n",
       "    </tr>\n",
       "    <tr>\n",
       "      <th>min</th>\n",
       "      <td>1.000000</td>\n",
       "      <td>0.000000</td>\n",
       "    </tr>\n",
       "    <tr>\n",
       "      <th>25%</th>\n",
       "      <td>4.000000</td>\n",
       "      <td>0.000000</td>\n",
       "    </tr>\n",
       "    <tr>\n",
       "      <th>50%</th>\n",
       "      <td>5.000000</td>\n",
       "      <td>0.500000</td>\n",
       "    </tr>\n",
       "    <tr>\n",
       "      <th>75%</th>\n",
       "      <td>5.000000</td>\n",
       "      <td>1.000000</td>\n",
       "    </tr>\n",
       "    <tr>\n",
       "      <th>max</th>\n",
       "      <td>5.000000</td>\n",
       "      <td>1.000000</td>\n",
       "    </tr>\n",
       "  </tbody>\n",
       "</table>\n",
       "</div>"
      ],
      "text/plain": [
       "             rating         label\n",
       "count  40432.000000  40432.000000\n",
       "mean       4.256579      0.500000\n",
       "std        1.144354      0.500006\n",
       "min        1.000000      0.000000\n",
       "25%        4.000000      0.000000\n",
       "50%        5.000000      0.500000\n",
       "75%        5.000000      1.000000\n",
       "max        5.000000      1.000000"
      ]
     },
     "execution_count": 10,
     "metadata": {},
     "output_type": "execute_result"
    }
   ],
   "source": [
    "df.describe()"
   ]
  },
  {
   "cell_type": "code",
   "execution_count": 11,
   "id": "53e93578",
   "metadata": {
    "execution": {
     "iopub.execute_input": "2025-05-07T02:05:51.139508Z",
     "iopub.status.busy": "2025-05-07T02:05:51.139271Z",
     "iopub.status.idle": "2025-05-07T02:05:51.144678Z",
     "shell.execute_reply": "2025-05-07T02:05:51.144067Z"
    },
    "id": "lWW5ljJXCzva",
    "outputId": "2bab19bf-cbe4-41d1-ad11-55fd5c39449d",
    "papermill": {
     "duration": 0.015917,
     "end_time": "2025-05-07T02:05:51.145861",
     "exception": false,
     "start_time": "2025-05-07T02:05:51.129944",
     "status": "completed"
    },
    "tags": []
   },
   "outputs": [
    {
     "name": "stdout",
     "output_type": "stream",
     "text": [
      "Jumlah Real Review (0): 20216\n",
      "Jumlah Fake Review (1): 20216\n"
     ]
    }
   ],
   "source": [
    "label_counts = df['label'].value_counts()\n",
    "\n",
    "print(\"Jumlah Real Review (0):\", label_counts[0])\n",
    "print(\"Jumlah Fake Review (1):\", label_counts[1])"
   ]
  },
  {
   "cell_type": "code",
   "execution_count": 12,
   "id": "6c8239cb",
   "metadata": {
    "execution": {
     "iopub.execute_input": "2025-05-07T02:05:51.165298Z",
     "iopub.status.busy": "2025-05-07T02:05:51.165069Z",
     "iopub.status.idle": "2025-05-07T02:05:51.341098Z",
     "shell.execute_reply": "2025-05-07T02:05:51.340514Z"
    },
    "id": "z5eJ7_QmvA4t",
    "outputId": "c231676a-6f49-454a-91e5-ec90b712298a",
    "papermill": {
     "duration": 0.186709,
     "end_time": "2025-05-07T02:05:51.342054",
     "exception": false,
     "start_time": "2025-05-07T02:05:51.155345",
     "status": "completed"
    },
    "tags": []
   },
   "outputs": [
    {
     "data": {
      "image/png": "[encoded data removed]",
      "text/plain": [
       "<Figure size 600x400 with 1 Axes>"
      ]
     },
     "metadata": {},
     "output_type": "display_data"
    }
   ],
   "source": [
    "from collections import Counter\n",
    "import matplotlib.pyplot as plt\n",
    "\n",
    "train_counts = Counter(df['label'].astype(str))\n",
    "\n",
    "label_mapping = {'0': 'OR', '1': 'CG'}\n",
    "mapped_keys = [label_mapping[key] for key in train_counts.keys()]\n",
    "\n",
    "plt.figure(figsize=(6, 4))\n",
    "bars = plt.bar(mapped_keys, train_counts.values(), color=['blue', 'orange'])\n",
    "\n",
    "for bar in bars:\n",
    "    height = bar.get_height()\n",
    "    plt.text(\n",
    "        bar.get_x() + bar.get_width() / 2,\n",
    "        height,\n",
    "        f'{int(height)}',\n",
    "        ha='center',\n",
    "        va='bottom'\n",
    "    )\n",
    "\n",
    "plt.xlabel(\"Kelas\")\n",
    "plt.ylabel(\"Jumlah Data\")\n",
    "plt.title(\"Distribusi Dataset Ulasan Palsu\")\n",
    "plt.xticks(rotation=0)\n",
    "plt.grid(axis='y', linestyle='--', alpha=0.7)\n",
    "plt.margins(y=0.08)\n",
    "\n",
    "plt.show()\n"
   ]
  },
  {
   "cell_type": "markdown",
   "id": "ca431d44",
   "metadata": {
    "id": "rWRaAlD5ShwF",
    "papermill": {
     "duration": 0.008884,
     "end_time": "2025-05-07T02:05:51.360524",
     "exception": false,
     "start_time": "2025-05-07T02:05:51.351640",
     "status": "completed"
    },
    "tags": []
   },
   "source": [
    "## Data Splitting"
   ]
  },
  {
   "cell_type": "code",
   "execution_count": 13,
   "id": "594bb63c",
   "metadata": {
    "execution": {
     "iopub.execute_input": "2025-05-07T02:05:51.379394Z",
     "iopub.status.busy": "2025-05-07T02:05:51.379098Z",
     "iopub.status.idle": "2025-05-07T02:05:51.402796Z",
     "shell.execute_reply": "2025-05-07T02:05:51.402193Z"
    },
    "id": "qCxj8juiB2I5",
    "papermill": {
     "duration": 0.034801,
     "end_time": "2025-05-07T02:05:51.404181",
     "exception": false,
     "start_time": "2025-05-07T02:05:51.369380",
     "status": "completed"
    },
    "tags": []
   },
   "outputs": [],
   "source": [
    "X_train, X_test, y_train, y_test = train_test_split(df, df['label'], test_size=0.2, random_state=42, stratify=df['label'])"
   ]
  },
  {
   "cell_type": "code",
   "execution_count": 14,
   "id": "88180799",
   "metadata": {
    "execution": {
     "iopub.execute_input": "2025-05-07T02:05:51.478486Z",
     "iopub.status.busy": "2025-05-07T02:05:51.478216Z",
     "iopub.status.idle": "2025-05-07T02:05:51.483480Z",
     "shell.execute_reply": "2025-05-07T02:05:51.482684Z"
    },
    "id": "RBkT0YtA9rSq",
    "outputId": "e6b18673-6a87-42c0-db34-13d14bacbb3a",
    "papermill": {
     "duration": 0.070455,
     "end_time": "2025-05-07T02:05:51.484700",
     "exception": false,
     "start_time": "2025-05-07T02:05:51.414245",
     "status": "completed"
    },
    "tags": []
   },
   "outputs": [
    {
     "name": "stdout",
     "output_type": "stream",
     "text": [
      "Jumlah Real Review Train (0): 16172\n",
      "Jumlah Fake Review Train (1): 16173\n"
     ]
    }
   ],
   "source": [
    "label_counts = y_train.value_counts()\n",
    "\n",
    "print(\"Jumlah Real Review Train (0):\", label_counts[0])\n",
    "print(\"Jumlah Fake Review Train (1):\", label_counts[1])"
   ]
  },
  {
   "cell_type": "code",
   "execution_count": 15,
   "id": "0260179d",
   "metadata": {
    "execution": {
     "iopub.execute_input": "2025-05-07T02:05:51.504896Z",
     "iopub.status.busy": "2025-05-07T02:05:51.504648Z",
     "iopub.status.idle": "2025-05-07T02:05:51.510201Z",
     "shell.execute_reply": "2025-05-07T02:05:51.509471Z"
    },
    "id": "v3xfXUyC-PRg",
    "outputId": "6097cd62-6271-4a34-f334-5123451850de",
    "papermill": {
     "duration": 0.016998,
     "end_time": "2025-05-07T02:05:51.511507",
     "exception": false,
     "start_time": "2025-05-07T02:05:51.494509",
     "status": "completed"
    },
    "tags": []
   },
   "outputs": [
    {
     "name": "stdout",
     "output_type": "stream",
     "text": [
      "Jumlah Real Review Test (0): 4044\n",
      "Jumlah Fake Review Test (1): 4043\n"
     ]
    }
   ],
   "source": [
    "label_counts = y_test.value_counts()\n",
    "\n",
    "print(\"Jumlah Real Review Test (0):\", label_counts[0])\n",
    "print(\"Jumlah Fake Review Test (1):\", label_counts[1])"
   ]
  },
  {
   "cell_type": "code",
   "execution_count": 16,
   "id": "89e912b0",
   "metadata": {
    "execution": {
     "iopub.execute_input": "2025-05-07T02:05:51.532171Z",
     "iopub.status.busy": "2025-05-07T02:05:51.531584Z",
     "iopub.status.idle": "2025-05-07T02:05:51.771037Z",
     "shell.execute_reply": "2025-05-07T02:05:51.770313Z"
    },
    "id": "C24pHCnKEMX_",
    "outputId": "fe292cb1-a670-4dbf-eaa8-f665aae67333",
    "papermill": {
     "duration": 0.2507,
     "end_time": "2025-05-07T02:05:51.772336",
     "exception": false,
     "start_time": "2025-05-07T02:05:51.521636",
     "status": "completed"
    },
    "tags": []
   },
   "outputs": [
    {
     "data": {
      "image/png": "[encoded data removed]",
      "text/plain": [
       "<Figure size 1200x500 with 2 Axes>"
      ]
     },
     "metadata": {},
     "output_type": "display_data"
    }
   ],
   "source": [
    "train_counts = Counter(y_train)\n",
    "test_counts = Counter(y_test)\n",
    "\n",
    "fig, axes = plt.subplots(1, 2, figsize=(12, 5))\n",
    "\n",
    "bars_train = axes[0].bar(train_counts.keys(), train_counts.values(), color=['blue', 'orange'])\n",
    "axes[0].set_title('Distribusi Data Train')\n",
    "axes[0].set_xticks([0, 1])\n",
    "axes[0].set_xticklabels(['0', '1'])\n",
    "axes[0].set_xlabel('Kelas')\n",
    "axes[0].set_ylabel('Jumlah Data')\n",
    "axes[0].grid(axis='y', linestyle='--', alpha=0.7)\n",
    "axes[0].margins(y=0.08)\n",
    "\n",
    "for bar in bars_train:\n",
    "    height = bar.get_height()\n",
    "    axes[0].text(\n",
    "        bar.get_x() + bar.get_width() / 2,\n",
    "        height,\n",
    "        f'{int(height)}',\n",
    "        ha='center',\n",
    "        va='bottom'\n",
    "    )\n",
    "\n",
    "bars_test = axes[1].bar(test_counts.keys(), test_counts.values(), color=['blue', 'orange'])\n",
    "axes[1].set_title('Distribusi Data Test')\n",
    "axes[1].set_xticks([0, 1])\n",
    "axes[1].set_xticklabels(['0', '1'])\n",
    "axes[1].set_xlabel('Kelas')\n",
    "axes[1].set_ylabel('Jumlah Data')\n",
    "axes[1].grid(axis='y', linestyle='--', alpha=0.7)\n",
    "axes[1].margins(y=0.08)\n",
    "\n",
    "for bar in bars_test:\n",
    "    height = bar.get_height()\n",
    "    axes[1].text(\n",
    "        bar.get_x() + bar.get_width() / 2,\n",
    "        height,\n",
    "        f'{int(height)}',\n",
    "        ha='center',\n",
    "        va='bottom'\n",
    "    )\n",
    "\n",
    "plt.tight_layout()\n",
    "plt.show()"
   ]
  },
  {
   "cell_type": "markdown",
   "id": "e04e26e8",
   "metadata": {
    "id": "0m2OpE6FSeWl",
    "papermill": {
     "duration": 0.009594,
     "end_time": "2025-05-07T02:05:51.792258",
     "exception": false,
     "start_time": "2025-05-07T02:05:51.782664",
     "status": "completed"
    },
    "tags": []
   },
   "source": [
    "## TF-IDF"
   ]
  },
  {
   "cell_type": "code",
   "execution_count": 17,
   "id": "58b257da",
   "metadata": {
    "execution": {
     "iopub.execute_input": "2025-05-07T02:05:51.812832Z",
     "iopub.status.busy": "2025-05-07T02:05:51.812072Z",
     "iopub.status.idle": "2025-05-07T02:05:54.955310Z",
     "shell.execute_reply": "2025-05-07T02:05:54.954486Z"
    },
    "id": "BYpw6WjXGbwU",
    "papermill": {
     "duration": 3.155195,
     "end_time": "2025-05-07T02:05:54.957026",
     "exception": false,
     "start_time": "2025-05-07T02:05:51.801831",
     "status": "completed"
    },
    "tags": []
   },
   "outputs": [],
   "source": [
    "vectorizer = TfidfVectorizer(ngram_range=(1,2), min_df=30, max_df=0.90, strip_accents='unicode', sublinear_tf=True)\n",
    "X_train_tfidf = vectorizer.fit_transform(X_train['cleaned_text'])\n",
    "X_test_tfidf = vectorizer.transform(X_test['cleaned_text'])"
   ]
  },
  {
   "cell_type": "code",
   "execution_count": 18,
   "id": "02373d23",
   "metadata": {
    "execution": {
     "iopub.execute_input": "2025-05-07T02:05:54.977865Z",
     "iopub.status.busy": "2025-05-07T02:05:54.977618Z",
     "iopub.status.idle": "2025-05-07T02:05:54.981452Z",
     "shell.execute_reply": "2025-05-07T02:05:54.980871Z"
    },
    "id": "6PE_LCr5X7U_",
    "outputId": "e44934d3-0a48-42ef-f4f5-4ccff1ed713a",
    "papermill": {
     "duration": 0.015065,
     "end_time": "2025-05-07T02:05:54.982388",
     "exception": false,
     "start_time": "2025-05-07T02:05:54.967323",
     "status": "completed"
    },
    "tags": []
   },
   "outputs": [
    {
     "name": "stdout",
     "output_type": "stream",
     "text": [
      "Jumlah fitur yang diekstrak: 10256\n"
     ]
    }
   ],
   "source": [
    "print(\"Jumlah fitur yang diekstrak:\", len(vectorizer.vocabulary_))"
   ]
  },
  {
   "cell_type": "code",
   "execution_count": 19,
   "id": "138071ea",
   "metadata": {
    "execution": {
     "iopub.execute_input": "2025-05-07T02:05:55.003031Z",
     "iopub.status.busy": "2025-05-07T02:05:55.002769Z",
     "iopub.status.idle": "2025-05-07T02:05:57.179070Z",
     "shell.execute_reply": "2025-05-07T02:05:57.178042Z"
    },
    "id": "L7H68CtwJDfC",
    "outputId": "2005690a-74a4-4b50-d276-b7cdb4b8c7b9",
    "papermill": {
     "duration": 2.188534,
     "end_time": "2025-05-07T02:05:57.180480",
     "exception": false,
     "start_time": "2025-05-07T02:05:54.991946",
     "status": "completed"
    },
    "tags": []
   },
   "outputs": [
    {
     "name": "stdout",
     "output_type": "stream",
     "text": [
      "Data hasil ekstraksi (train):\n",
      "     aa  ability  ability to  able  able to  about  about an  about and  \\\n",
      "0  0.0      0.0         0.0   0.0      0.0    0.0       0.0        0.0   \n",
      "1  0.0      0.0         0.0   0.0      0.0    0.0       0.0        0.0   \n",
      "2  0.0      0.0         0.0   0.0      0.0    0.0       0.0        0.0   \n",
      "3  0.0      0.0         0.0   0.0      0.0    0.0       0.0        0.0   \n",
      "4  0.0      0.0         0.0   0.0      0.0    0.0       0.0        0.0   \n",
      "\n",
      "   about buying  about getting  ...  youtube  youve   yr  yr old  zero  zip  \\\n",
      "0           0.0            0.0  ...      0.0    0.0  0.0     0.0   0.0  0.0   \n",
      "1           0.0            0.0  ...      0.0    0.0  0.0     0.0   0.0  0.0   \n",
      "2           0.0            0.0  ...      0.0    0.0  0.0     0.0   0.0  0.0   \n",
      "3           0.0            0.0  ...      0.0    0.0  0.0     0.0   0.0  0.0   \n",
      "4           0.0            0.0  ...      0.0    0.0  0.0     0.0   0.0  0.0   \n",
      "\n",
      "   zipper  zipper is  zippers  zoom  \n",
      "0     0.0        0.0      0.0   0.0  \n",
      "1     0.0        0.0      0.0   0.0  \n",
      "2     0.0        0.0      0.0   0.0  \n",
      "3     0.0        0.0      0.0   0.0  \n",
      "4     0.0        0.0      0.0   0.0  \n",
      "\n",
      "[5 rows x 10256 columns]\n",
      "Data hasil ekstraksi (test):\n",
      "     aa  ability  ability to  able  able to  about  about an  about and  \\\n",
      "0  0.0      0.0         0.0   0.0      0.0    0.0       0.0        0.0   \n",
      "1  0.0      0.0         0.0   0.0      0.0    0.0       0.0        0.0   \n",
      "2  0.0      0.0         0.0   0.0      0.0    0.0       0.0        0.0   \n",
      "3  0.0      0.0         0.0   0.0      0.0    0.0       0.0        0.0   \n",
      "4  0.0      0.0         0.0   0.0      0.0    0.0       0.0        0.0   \n",
      "\n",
      "   about buying  about getting  ...  youtube  youve   yr  yr old  zero  zip  \\\n",
      "0           0.0            0.0  ...      0.0    0.0  0.0     0.0   0.0  0.0   \n",
      "1           0.0            0.0  ...      0.0    0.0  0.0     0.0   0.0  0.0   \n",
      "2           0.0            0.0  ...      0.0    0.0  0.0     0.0   0.0  0.0   \n",
      "3           0.0            0.0  ...      0.0    0.0  0.0     0.0   0.0  0.0   \n",
      "4           0.0            0.0  ...      0.0    0.0  0.0     0.0   0.0  0.0   \n",
      "\n",
      "   zipper  zipper is  zippers  zoom  \n",
      "0     0.0        0.0      0.0   0.0  \n",
      "1     0.0        0.0      0.0   0.0  \n",
      "2     0.0        0.0      0.0   0.0  \n",
      "3     0.0        0.0      0.0   0.0  \n",
      "4     0.0        0.0      0.0   0.0  \n",
      "\n",
      "[5 rows x 10256 columns]\n"
     ]
    }
   ],
   "source": [
    "df_train_tfidf = pd.DataFrame(X_train_tfidf.toarray(), columns=vectorizer.get_feature_names_out())\n",
    "df_test_tfidf = pd.DataFrame(X_test_tfidf.toarray(), columns=vectorizer.get_feature_names_out())\n",
    "\n",
    "print(\"Data hasil ekstraksi (train):\\n\", df_train_tfidf.head())\n",
    "print(\"Data hasil ekstraksi (test):\\n\", df_test_tfidf.head())"
   ]
  },
  {
   "cell_type": "code",
   "execution_count": 20,
   "id": "f4397f0d",
   "metadata": {
    "execution": {
     "iopub.execute_input": "2025-05-07T02:05:57.204022Z",
     "iopub.status.busy": "2025-05-07T02:05:57.203772Z",
     "iopub.status.idle": "2025-05-07T02:05:57.219384Z",
     "shell.execute_reply": "2025-05-07T02:05:57.218206Z"
    },
    "id": "Ue51mtuGt59L",
    "outputId": "fef368d9-eabe-4183-d5b2-dc26b03c9daa",
    "papermill": {
     "duration": 0.029401,
     "end_time": "2025-05-07T02:05:57.220719",
     "exception": false,
     "start_time": "2025-05-07T02:05:57.191318",
     "status": "completed"
    },
    "tags": []
   },
   "outputs": [
    {
     "name": "stdout",
     "output_type": "stream",
     "text": [
      "       zoom\n",
      "0       0.0\n",
      "1       0.0\n",
      "2       0.0\n",
      "3       0.0\n",
      "32344   0.0\n",
      "        aa  ability  ability to  able  able to  about  zoom\n",
      "32344  0.0      0.0         0.0   0.0      0.0    0.0   0.0\n"
     ]
    }
   ],
   "source": [
    "print(df_train_tfidf.iloc[[0, 1, 2, 3, -1], [-1]])\n",
    "print(df_train_tfidf.iloc[[-1], list(range(6)) + [-1]])"
   ]
  },
  {
   "cell_type": "code",
   "execution_count": 21,
   "id": "92cb4a54",
   "metadata": {
    "execution": {
     "iopub.execute_input": "2025-05-07T02:05:57.242515Z",
     "iopub.status.busy": "2025-05-07T02:05:57.242269Z",
     "iopub.status.idle": "2025-05-07T02:05:57.252019Z",
     "shell.execute_reply": "2025-05-07T02:05:57.250996Z"
    },
    "id": "zrLVXJ_PuKUk",
    "outputId": "90a4109f-4fec-49ed-e2e0-cf9319d136d0",
    "papermill": {
     "duration": 0.021752,
     "end_time": "2025-05-07T02:05:57.253278",
     "exception": false,
     "start_time": "2025-05-07T02:05:57.231526",
     "status": "completed"
    },
    "tags": []
   },
   "outputs": [
    {
     "name": "stdout",
     "output_type": "stream",
     "text": [
      "      zoom\n",
      "0      0.0\n",
      "1      0.0\n",
      "2      0.0\n",
      "3      0.0\n",
      "8086   0.0\n",
      "       aa  ability  ability to  able  able to  about  zoom\n",
      "8086  0.0      0.0         0.0   0.0      0.0    0.0   0.0\n"
     ]
    }
   ],
   "source": [
    "print(df_test_tfidf.iloc[[0, 1, 2, 3, -1], [-1]])\n",
    "print(df_test_tfidf.iloc[[-1], list(range(6)) + [-1]])"
   ]
  },
  {
   "cell_type": "code",
   "execution_count": 22,
   "id": "87ca0152",
   "metadata": {
    "execution": {
     "iopub.execute_input": "2025-05-07T02:05:57.275628Z",
     "iopub.status.busy": "2025-05-07T02:05:57.275373Z",
     "iopub.status.idle": "2025-05-07T02:05:57.279530Z",
     "shell.execute_reply": "2025-05-07T02:05:57.278859Z"
    },
    "papermill": {
     "duration": 0.016344,
     "end_time": "2025-05-07T02:05:57.280605",
     "exception": false,
     "start_time": "2025-05-07T02:05:57.264261",
     "status": "completed"
    },
    "tags": []
   },
   "outputs": [],
   "source": [
    "process = psutil.Process(os.getpid())"
   ]
  },
  {
   "cell_type": "markdown",
   "id": "e89f69bf",
   "metadata": {
    "id": "7varI_PKS8hx",
    "papermill": {
     "duration": 0.011595,
     "end_time": "2025-05-07T02:05:57.303439",
     "exception": false,
     "start_time": "2025-05-07T02:05:57.291844",
     "status": "completed"
    },
    "tags": []
   },
   "source": [
    "## Unoptimized"
   ]
  },
  {
   "cell_type": "code",
   "execution_count": 23,
   "id": "b33a6cfe",
   "metadata": {
    "execution": {
     "iopub.execute_input": "2025-05-07T02:05:57.325661Z",
     "iopub.status.busy": "2025-05-07T02:05:57.325374Z",
     "iopub.status.idle": "2025-05-07T02:05:57.329676Z",
     "shell.execute_reply": "2025-05-07T02:05:57.329042Z"
    },
    "id": "wmqJQae74BAn",
    "papermill": {
     "duration": 0.016708,
     "end_time": "2025-05-07T02:05:57.330791",
     "exception": false,
     "start_time": "2025-05-07T02:05:57.314083",
     "status": "completed"
    },
    "tags": []
   },
   "outputs": [],
   "source": [
    "rf_model = RandomForestClassifier(random_state=42)\n",
    "svm_model = SVC()\n",
    "nb_model = MultinomialNB()\n",
    "xgb_model = XGBClassifier(random_state=42)"
   ]
  },
  {
   "cell_type": "code",
   "execution_count": 24,
   "id": "913bb975",
   "metadata": {
    "execution": {
     "iopub.execute_input": "2025-05-07T02:05:57.352722Z",
     "iopub.status.busy": "2025-05-07T02:05:57.352424Z",
     "iopub.status.idle": "2025-05-07T02:17:12.852556Z",
     "shell.execute_reply": "2025-05-07T02:17:12.851849Z"
    },
    "id": "91UV6VkF5J9N",
    "papermill": {
     "duration": 675.520133,
     "end_time": "2025-05-07T02:17:12.861747",
     "exception": false,
     "start_time": "2025-05-07T02:05:57.341614",
     "status": "completed"
    },
    "tags": []
   },
   "outputs": [
    {
     "data": {
      "text/html": [
       "<style>#sk-container-id-1 {color: black;background-color: white;}#sk-container-id-1 pre{padding: 0;}#sk-container-id-1 div.sk-toggleable {background-color: white;}#sk-container-id-1 label.sk-toggleable__label {cursor: pointer;display: block;width: 100%;margin-bottom: 0;padding: 0.3em;box-sizing: border-box;text-align: center;}#sk-container-id-1 label.sk-toggleable__label-arrow:before {content: \"▸\";float: left;margin-right: 0.25em;color: #696969;}#sk-container-id-1 label.sk-toggleable__label-arrow:hover:before {color: black;}#sk-container-id-1 div.sk-estimator:hover label.sk-toggleable__label-arrow:before {color: black;}#sk-container-id-1 div.sk-toggleable__content {max-height: 0;max-width: 0;overflow: hidden;text-align: left;background-color: #f0f8ff;}#sk-container-id-1 div.sk-toggleable__content pre {margin: 0.2em;color: black;border-radius: 0.25em;background-color: #f0f8ff;}#sk-container-id-1 input.sk-toggleable__control:checked~div.sk-toggleable__content {max-height: 200px;max-width: 100%;overflow: auto;}#sk-container-id-1 input.sk-toggleable__control:checked~label.sk-toggleable__label-arrow:before {content: \"▾\";}#sk-container-id-1 div.sk-estimator input.sk-toggleable__control:checked~label.sk-toggleable__label {background-color: #d4ebff;}#sk-container-id-1 div.sk-label input.sk-toggleable__control:checked~label.sk-toggleable__label {background-color: #d4ebff;}#sk-container-id-1 input.sk-hidden--visually {border: 0;clip: rect(1px 1px 1px 1px);clip: rect(1px, 1px, 1px, 1px);height: 1px;margin: -1px;overflow: hidden;padding: 0;position: absolute;width: 1px;}#sk-container-id-1 div.sk-estimator {font-family: monospace;background-color: #f0f8ff;border: 1px dotted black;border-radius: 0.25em;box-sizing: border-box;margin-bottom: 0.5em;}#sk-container-id-1 div.sk-estimator:hover {background-color: #d4ebff;}#sk-container-id-1 div.sk-parallel-item::after {content: \"\";width: 100%;border-bottom: 1px solid gray;flex-grow: 1;}#sk-container-id-1 div.sk-label:hover label.sk-toggleable__label {background-color: #d4ebff;}#sk-container-id-1 div.sk-serial::before {content: \"\";position: absolute;border-left: 1px solid gray;box-sizing: border-box;top: 0;bottom: 0;left: 50%;z-index: 0;}#sk-container-id-1 div.sk-serial {display: flex;flex-direction: column;align-items: center;background-color: white;padding-right: 0.2em;padding-left: 0.2em;position: relative;}#sk-container-id-1 div.sk-item {position: relative;z-index: 1;}#sk-container-id-1 div.sk-parallel {display: flex;align-items: stretch;justify-content: center;background-color: white;position: relative;}#sk-container-id-1 div.sk-item::before, #sk-container-id-1 div.sk-parallel-item::before {content: \"\";position: absolute;border-left: 1px solid gray;box-sizing: border-box;top: 0;bottom: 0;left: 50%;z-index: -1;}#sk-container-id-1 div.sk-parallel-item {display: flex;flex-direction: column;z-index: 1;position: relative;background-color: white;}#sk-container-id-1 div.sk-parallel-item:first-child::after {align-self: flex-end;width: 50%;}#sk-container-id-1 div.sk-parallel-item:last-child::after {align-self: flex-start;width: 50%;}#sk-container-id-1 div.sk-parallel-item:only-child::after {width: 0;}#sk-container-id-1 div.sk-dashed-wrapped {border: 1px dashed gray;margin: 0 0.4em 0.5em 0.4em;box-sizing: border-box;padding-bottom: 0.4em;background-color: white;}#sk-container-id-1 div.sk-label label {font-family: monospace;font-weight: bold;display: inline-block;line-height: 1.2em;}#sk-container-id-1 div.sk-label-container {text-align: center;}#sk-container-id-1 div.sk-container {/* jupyter's `normalize.less` sets `[hidden] { display: none; }` but bootstrap.min.css set `[hidden] { display: none !important; }` so we also need the `!important` here to be able to override the default hidden behavior on the sphinx rendered scikit-learn.org. See: https://github.com/scikit-learn/scikit-learn/issues/21755 */display: inline-block !important;position: relative;}#sk-container-id-1 div.sk-text-repr-fallback {display: none;}</style><div id=\"sk-container-id-1\" class=\"sk-top-container\"><div class=\"sk-text-repr-fallback\"><pre>XGBClassifier(base_score=None, booster=None, callbacks=None,\n",
       "              colsample_bylevel=None, colsample_bynode=None,\n",
       "              colsample_bytree=None, device=None, early_stopping_rounds=None,\n",
       "              enable_categorical=False, eval_metric=None, feature_types=None,\n",
       "              feature_weights=None, gamma=None, grow_policy=None,\n",
       "              importance_type=None, interaction_constraints=None,\n",
       "              learning_rate=None, max_bin=None, max_cat_threshold=None,\n",
       "              max_cat_to_onehot=None, max_delta_step=None, max_depth=None,\n",
       "              max_leaves=None, min_child_weight=None, missing=nan,\n",
       "              monotone_constraints=None, multi_strategy=None, n_estimators=None,\n",
       "              n_jobs=None, num_parallel_tree=None, ...)</pre><b>In a Jupyter environment, please rerun this cell to show the HTML representation or trust the notebook. <br />On GitHub, the HTML representation is unable to render, please try loading this page with nbviewer.org.</b></div><div class=\"sk-container\" hidden><div class=\"sk-item\"><div class=\"sk-estimator sk-toggleable\"><input class=\"sk-toggleable__control sk-hidden--visually\" id=\"sk-estimator-id-1\" type=\"checkbox\" checked><label for=\"sk-estimator-id-1\" class=\"sk-toggleable__label sk-toggleable__label-arrow\">XGBClassifier</label><div class=\"sk-toggleable__content\"><pre>XGBClassifier(base_score=None, booster=None, callbacks=None,\n",
       "              colsample_bylevel=None, colsample_bynode=None,\n",
       "              colsample_bytree=None, device=None, early_stopping_rounds=None,\n",
       "              enable_categorical=False, eval_metric=None, feature_types=None,\n",
       "              feature_weights=None, gamma=None, grow_policy=None,\n",
       "              importance_type=None, interaction_constraints=None,\n",
       "              learning_rate=None, max_bin=None, max_cat_threshold=None,\n",
       "              max_cat_to_onehot=None, max_delta_step=None, max_depth=None,\n",
       "              max_leaves=None, min_child_weight=None, missing=nan,\n",
       "              monotone_constraints=None, multi_strategy=None, n_estimators=None,\n",
       "              n_jobs=None, num_parallel_tree=None, ...)</pre></div></div></div></div></div>"
      ],
      "text/plain": [
       "XGBClassifier(base_score=None, booster=None, callbacks=None,\n",
       "              colsample_bylevel=None, colsample_bynode=None,\n",
       "              colsample_bytree=None, device=None, early_stopping_rounds=None,\n",
       "              enable_categorical=False, eval_metric=None, feature_types=None,\n",
       "              feature_weights=None, gamma=None, grow_policy=None,\n",
       "              importance_type=None, interaction_constraints=None,\n",
       "              learning_rate=None, max_bin=None, max_cat_threshold=None,\n",
       "              max_cat_to_onehot=None, max_delta_step=None, max_depth=None,\n",
       "              max_leaves=None, min_child_weight=None, missing=nan,\n",
       "              monotone_constraints=None, multi_strategy=None, n_estimators=None,\n",
       "              n_jobs=None, num_parallel_tree=None, ...)"
      ]
     },
     "execution_count": 24,
     "metadata": {},
     "output_type": "execute_result"
    }
   ],
   "source": [
    "rf_model.fit(X_train_tfidf, y_train)\n",
    "svm_model.fit(X_train_tfidf, y_train)\n",
    "nb_model.fit(X_train_tfidf, y_train)\n",
    "xgb_model.fit(X_train_tfidf, y_train)"
   ]
  },
  {
   "cell_type": "code",
   "execution_count": 25,
   "id": "1f046f4f",
   "metadata": {
    "execution": {
     "iopub.execute_input": "2025-05-07T02:17:12.882750Z",
     "iopub.status.busy": "2025-05-07T02:17:12.882521Z",
     "iopub.status.idle": "2025-05-07T02:17:13.278364Z",
     "shell.execute_reply": "2025-05-07T02:17:13.277664Z"
    },
    "id": "7mz30EU25hKb",
    "papermill": {
     "duration": 0.40774,
     "end_time": "2025-05-07T02:17:13.279363",
     "exception": false,
     "start_time": "2025-05-07T02:17:12.871623",
     "status": "completed"
    },
    "tags": []
   },
   "outputs": [
    {
     "name": "stdout",
     "output_type": "stream",
     "text": [
      "  Inference Time     : 0.295115 sec\n",
      "  Memory Used (RSS)  : 128.000000 KB\n",
      "\n",
      "  Memory Used (RSS)  : 131072.000000 B\n",
      "\n"
     ]
    }
   ],
   "source": [
    "gc.collect()\n",
    "mem_before = process.memory_info().rss\n",
    "start_time = time.time()\n",
    "\n",
    "rf_y_pred = rf_model.predict(X_test_tfidf)\n",
    "\n",
    "end_time = time.time()\n",
    "mem_after = process.memory_info().rss\n",
    "mem_diff = mem_after - mem_before\n",
    "print(f\"  Inference Time     : {end_time - start_time:.6f} sec\")\n",
    "print(f\"  Memory Used (RSS)  : {mem_diff / 1024:.6f} KB\\n\")\n",
    "print(f\"  Memory Used (RSS)  : {mem_diff:.6f} B\\n\")"
   ]
  },
  {
   "cell_type": "code",
   "execution_count": 26,
   "id": "12eed126",
   "metadata": {
    "execution": {
     "iopub.execute_input": "2025-05-07T02:17:13.301051Z",
     "iopub.status.busy": "2025-05-07T02:17:13.300830Z",
     "iopub.status.idle": "2025-05-07T02:17:52.057806Z",
     "shell.execute_reply": "2025-05-07T02:17:52.056957Z"
    },
    "papermill": {
     "duration": 38.779028,
     "end_time": "2025-05-07T02:17:52.068874",
     "exception": false,
     "start_time": "2025-05-07T02:17:13.289846",
     "status": "completed"
    },
    "tags": []
   },
   "outputs": [
    {
     "name": "stdout",
     "output_type": "stream",
     "text": [
      "  Inference Time     : 38.656014 sec\n",
      "  Memory Used (RSS)  : -186584.000000 KB\n",
      "\n",
      "  Memory Used (RSS)  : -191062016.000000 B\n",
      "\n"
     ]
    }
   ],
   "source": [
    "gc.collect()\n",
    "mem_before = process.memory_info().rss\n",
    "start_time = time.time()\n",
    "\n",
    "svm_y_pred = svm_model.predict(X_test_tfidf)\n",
    "\n",
    "end_time = time.time()\n",
    "mem_after = process.memory_info().rss\n",
    "mem_diff = mem_after - mem_before\n",
    "print(f\"  Inference Time     : {end_time - start_time:.6f} sec\")\n",
    "print(f\"  Memory Used (RSS)  : {mem_diff / 1024:.6f} KB\\n\")\n",
    "print(f\"  Memory Used (RSS)  : {mem_diff:.6f} B\\n\")"
   ]
  },
  {
   "cell_type": "code",
   "execution_count": 27,
   "id": "493f3b14",
   "metadata": {
    "execution": {
     "iopub.execute_input": "2025-05-07T02:17:52.089900Z",
     "iopub.status.busy": "2025-05-07T02:17:52.089670Z",
     "iopub.status.idle": "2025-05-07T02:17:52.192465Z",
     "shell.execute_reply": "2025-05-07T02:17:52.191393Z"
    },
    "papermill": {
     "duration": 0.114696,
     "end_time": "2025-05-07T02:17:52.193631",
     "exception": false,
     "start_time": "2025-05-07T02:17:52.078935",
     "status": "completed"
    },
    "tags": []
   },
   "outputs": [
    {
     "name": "stdout",
     "output_type": "stream",
     "text": [
      "  Inference Time     : 0.003288 sec\n",
      "  Memory Used (RSS)  : 0.000000 KB\n",
      "\n",
      "  Memory Used (RSS)  : 0.000000 B\n",
      "\n"
     ]
    }
   ],
   "source": [
    "gc.collect()\n",
    "mem_before = process.memory_info().rss\n",
    "start_time = time.time()\n",
    "\n",
    "nb_y_pred = nb_model.predict(X_test_tfidf)\n",
    "\n",
    "end_time = time.time()\n",
    "mem_after = process.memory_info().rss\n",
    "mem_diff = mem_after - mem_before\n",
    "print(f\"  Inference Time     : {end_time - start_time:.6f} sec\")\n",
    "print(f\"  Memory Used (RSS)  : {mem_diff / 1024:.6f} KB\\n\")\n",
    "print(f\"  Memory Used (RSS)  : {mem_diff:.6f} B\\n\")"
   ]
  },
  {
   "cell_type": "code",
   "execution_count": 28,
   "id": "be12a1e2",
   "metadata": {
    "execution": {
     "iopub.execute_input": "2025-05-07T02:17:52.215874Z",
     "iopub.status.busy": "2025-05-07T02:17:52.215618Z",
     "iopub.status.idle": "2025-05-07T02:17:52.331606Z",
     "shell.execute_reply": "2025-05-07T02:17:52.330406Z"
    },
    "papermill": {
     "duration": 0.128356,
     "end_time": "2025-05-07T02:17:52.332890",
     "exception": false,
     "start_time": "2025-05-07T02:17:52.204534",
     "status": "completed"
    },
    "tags": []
   },
   "outputs": [
    {
     "name": "stdout",
     "output_type": "stream",
     "text": [
      "  Inference Time     : 0.015635 sec\n",
      "  Memory Used (RSS)  : 128.000000 KB\n",
      "\n",
      "  Memory Used (RSS)  : 131072.000000 B\n",
      "\n"
     ]
    }
   ],
   "source": [
    "gc.collect()\n",
    "mem_before = process.memory_info().rss\n",
    "start_time = time.time()\n",
    "\n",
    "xgb_y_pred = xgb_model.predict(X_test_tfidf)\n",
    "\n",
    "end_time = time.time()\n",
    "mem_after = process.memory_info().rss\n",
    "mem_diff = mem_after - mem_before\n",
    "print(f\"  Inference Time     : {end_time - start_time:.6f} sec\")\n",
    "print(f\"  Memory Used (RSS)  : {mem_diff / 1024:.6f} KB\\n\")\n",
    "print(f\"  Memory Used (RSS)  : {mem_diff:.6f} B\\n\")"
   ]
  },
  {
   "cell_type": "markdown",
   "id": "76fab2a9",
   "metadata": {
    "id": "nQDwxH4M5nCt",
    "papermill": {
     "duration": 0.009925,
     "end_time": "2025-05-07T02:17:52.353988",
     "exception": false,
     "start_time": "2025-05-07T02:17:52.344063",
     "status": "completed"
    },
    "tags": []
   },
   "source": [
    "RF"
   ]
  },
  {
   "cell_type": "code",
   "execution_count": 29,
   "id": "380be4f8",
   "metadata": {
    "execution": {
     "iopub.execute_input": "2025-05-07T02:17:52.375455Z",
     "iopub.status.busy": "2025-05-07T02:17:52.374716Z",
     "iopub.status.idle": "2025-05-07T02:17:52.390645Z",
     "shell.execute_reply": "2025-05-07T02:17:52.389922Z"
    },
    "id": "xoFH8b_T5nCw",
    "outputId": "bea31933-dec9-4f07-9477-0b348cb8e24d",
    "papermill": {
     "duration": 0.027596,
     "end_time": "2025-05-07T02:17:52.391572",
     "exception": false,
     "start_time": "2025-05-07T02:17:52.363976",
     "status": "completed"
    },
    "tags": []
   },
   "outputs": [
    {
     "name": "stdout",
     "output_type": "stream",
     "text": [
      "Akurasi: 0.9038\n",
      "Presisi (Fake Review): 0.9306\n",
      "Recall (Fake Review): 0.8726\n",
      "F1-Score (Fake Review): 0.9007\n"
     ]
    }
   ],
   "source": [
    "accuracy = accuracy_score(y_test, rf_y_pred)\n",
    "print(f'Akurasi: {accuracy:.4f}')\n",
    "\n",
    "precision_cg = precision_score(y_test, rf_y_pred)\n",
    "print(f'Presisi (Fake Review): {precision_cg:.4f}')\n",
    "\n",
    "recall_cg = recall_score(y_test, rf_y_pred)\n",
    "print(f'Recall (Fake Review): {recall_cg:.4f}')\n",
    "\n",
    "f1_cg = f1_score(y_test, rf_y_pred)\n",
    "print(f'F1-Score (Fake Review): {f1_cg:.4f}')"
   ]
  },
  {
   "cell_type": "markdown",
   "id": "04dd92bf",
   "metadata": {
    "id": "XGr1MpnC5nCy",
    "papermill": {
     "duration": 0.009904,
     "end_time": "2025-05-07T02:17:52.411969",
     "exception": false,
     "start_time": "2025-05-07T02:17:52.402065",
     "status": "completed"
    },
    "tags": []
   },
   "source": [
    "SVM"
   ]
  },
  {
   "cell_type": "code",
   "execution_count": 30,
   "id": "6ac7837c",
   "metadata": {
    "execution": {
     "iopub.execute_input": "2025-05-07T02:17:52.433582Z",
     "iopub.status.busy": "2025-05-07T02:17:52.432857Z",
     "iopub.status.idle": "2025-05-07T02:17:52.448389Z",
     "shell.execute_reply": "2025-05-07T02:17:52.447519Z"
    },
    "id": "2hL9Urbe5nCz",
    "outputId": "ac1b0411-470d-4e3d-919e-ad3558c2be7f",
    "papermill": {
     "duration": 0.027673,
     "end_time": "2025-05-07T02:17:52.449583",
     "exception": false,
     "start_time": "2025-05-07T02:17:52.421910",
     "status": "completed"
    },
    "tags": []
   },
   "outputs": [
    {
     "name": "stdout",
     "output_type": "stream",
     "text": [
      "Akurasi: 0.9504\n",
      "Presisi (Fake Review): 0.9612\n",
      "Recall (Fake Review): 0.9387\n",
      "F1-Score (Fake Review): 0.9498\n"
     ]
    }
   ],
   "source": [
    "accuracy = accuracy_score(y_test, svm_y_pred)\n",
    "print(f'Akurasi: {accuracy:.4f}')\n",
    "\n",
    "precision_cg = precision_score(y_test, svm_y_pred)\n",
    "print(f'Presisi (Fake Review): {precision_cg:.4f}')\n",
    "\n",
    "recall_cg = recall_score(y_test, svm_y_pred)\n",
    "print(f'Recall (Fake Review): {recall_cg:.4f}')\n",
    "\n",
    "f1_cg = f1_score(y_test, svm_y_pred)\n",
    "print(f'F1-Score (Fake Review): {f1_cg:.4f}')"
   ]
  },
  {
   "cell_type": "markdown",
   "id": "a222490b",
   "metadata": {
    "id": "V5kXgktn5nC0",
    "papermill": {
     "duration": 0.010003,
     "end_time": "2025-05-07T02:17:52.470691",
     "exception": false,
     "start_time": "2025-05-07T02:17:52.460688",
     "status": "completed"
    },
    "tags": []
   },
   "source": [
    "NB"
   ]
  },
  {
   "cell_type": "code",
   "execution_count": 31,
   "id": "6f76ebca",
   "metadata": {
    "execution": {
     "iopub.execute_input": "2025-05-07T02:17:52.492479Z",
     "iopub.status.busy": "2025-05-07T02:17:52.492172Z",
     "iopub.status.idle": "2025-05-07T02:17:52.507507Z",
     "shell.execute_reply": "2025-05-07T02:17:52.506711Z"
    },
    "id": "U5pmvsbZ5nC1",
    "outputId": "6b5f7bff-b5cb-4902-ce88-9e3378ab80e5",
    "papermill": {
     "duration": 0.027676,
     "end_time": "2025-05-07T02:17:52.508562",
     "exception": false,
     "start_time": "2025-05-07T02:17:52.480886",
     "status": "completed"
    },
    "tags": []
   },
   "outputs": [
    {
     "name": "stdout",
     "output_type": "stream",
     "text": [
      "Akurasi: 0.9026\n",
      "Presisi (Fake Review): 0.8974\n",
      "Recall (Fake Review): 0.9090\n",
      "F1-Score (Fake Review): 0.9032\n"
     ]
    }
   ],
   "source": [
    "accuracy = accuracy_score(y_test, nb_y_pred)\n",
    "print(f'Akurasi: {accuracy:.4f}')\n",
    "\n",
    "precision_cg = precision_score(y_test, nb_y_pred)\n",
    "print(f'Presisi (Fake Review): {precision_cg:.4f}')\n",
    "\n",
    "recall_cg = recall_score(y_test, nb_y_pred)\n",
    "print(f'Recall (Fake Review): {recall_cg:.4f}')\n",
    "\n",
    "f1_cg = f1_score(y_test, nb_y_pred)\n",
    "print(f'F1-Score (Fake Review): {f1_cg:.4f}')"
   ]
  },
  {
   "cell_type": "markdown",
   "id": "4ae7dbb9",
   "metadata": {
    "id": "ry2tsfMc5nC2",
    "papermill": {
     "duration": 0.009772,
     "end_time": "2025-05-07T02:17:52.528999",
     "exception": false,
     "start_time": "2025-05-07T02:17:52.519227",
     "status": "completed"
    },
    "tags": []
   },
   "source": [
    "XGB"
   ]
  },
  {
   "cell_type": "code",
   "execution_count": 32,
   "id": "e1c1cd89",
   "metadata": {
    "execution": {
     "iopub.execute_input": "2025-05-07T02:17:52.550038Z",
     "iopub.status.busy": "2025-05-07T02:17:52.549779Z",
     "iopub.status.idle": "2025-05-07T02:17:52.564781Z",
     "shell.execute_reply": "2025-05-07T02:17:52.564066Z"
    },
    "id": "VA0LPmAe5nC3",
    "outputId": "559e3445-7f08-48f4-d078-f43da23c2e0c",
    "papermill": {
     "duration": 0.026815,
     "end_time": "2025-05-07T02:17:52.565811",
     "exception": false,
     "start_time": "2025-05-07T02:17:52.538996",
     "status": "completed"
    },
    "tags": []
   },
   "outputs": [
    {
     "name": "stdout",
     "output_type": "stream",
     "text": [
      "Akurasi: 0.9028\n",
      "Presisi (Fake Review): 0.9183\n",
      "Recall (Fake Review): 0.8842\n",
      "F1-Score (Fake Review): 0.9010\n"
     ]
    }
   ],
   "source": [
    "accuracy = accuracy_score(y_test, xgb_y_pred)\n",
    "print(f'Akurasi: {accuracy:.4f}')\n",
    "\n",
    "precision_cg = precision_score(y_test, xgb_y_pred)\n",
    "print(f'Presisi (Fake Review): {precision_cg:.4f}')\n",
    "\n",
    "recall_cg = recall_score(y_test, xgb_y_pred)\n",
    "print(f'Recall (Fake Review): {recall_cg:.4f}')\n",
    "\n",
    "f1_cg = f1_score(y_test, xgb_y_pred)\n",
    "print(f'F1-Score (Fake Review): {f1_cg:.4f}')"
   ]
  },
  {
   "cell_type": "markdown",
   "id": "62871d02",
   "metadata": {
    "id": "bMAT1jgsTDQb",
    "papermill": {
     "duration": 0.009954,
     "end_time": "2025-05-07T02:17:52.586831",
     "exception": false,
     "start_time": "2025-05-07T02:17:52.576877",
     "status": "completed"
    },
    "tags": []
   },
   "source": [
    "## Optimized"
   ]
  },
  {
   "cell_type": "code",
   "execution_count": 33,
   "id": "a1b2571d",
   "metadata": {
    "execution": {
     "iopub.execute_input": "2025-05-07T02:17:52.608772Z",
     "iopub.status.busy": "2025-05-07T02:17:52.608547Z",
     "iopub.status.idle": "2025-05-07T02:17:54.278093Z",
     "shell.execute_reply": "2025-05-07T02:17:54.277442Z"
    },
    "id": "ETHb_u35GHbq",
    "papermill": {
     "duration": 1.682165,
     "end_time": "2025-05-07T02:17:54.279337",
     "exception": false,
     "start_time": "2025-05-07T02:17:52.597172",
     "status": "completed"
    },
    "tags": []
   },
   "outputs": [],
   "source": [
    "rf_model2 = joblib.load('/kaggle/input/fake-reviews-detection-models/scikitlearn/default/1/rf.pkl')\n",
    "svm_model2 = joblib.load('/kaggle/input/fake-reviews-detection-models/scikitlearn/default/1/svm.pkl')\n",
    "nb_model2 = joblib.load('/kaggle/input/fake-reviews-detection-models/scikitlearn/default/1/nb.pkl')\n",
    "xgb_model2 = XGBClassifier()\n",
    "xgb_model2.load_model('/kaggle/input/fake-reviews-detection-models/scikitlearn/default/1/xgb.json')"
   ]
  },
  {
   "cell_type": "code",
   "execution_count": 34,
   "id": "6113a725",
   "metadata": {
    "execution": {
     "iopub.execute_input": "2025-05-07T02:17:54.301238Z",
     "iopub.status.busy": "2025-05-07T02:17:54.301013Z",
     "iopub.status.idle": "2025-05-07T02:17:55.212402Z",
     "shell.execute_reply": "2025-05-07T02:17:55.211596Z"
    },
    "id": "hzeMrUFsGr5g",
    "papermill": {
     "duration": 0.923402,
     "end_time": "2025-05-07T02:17:55.213524",
     "exception": false,
     "start_time": "2025-05-07T02:17:54.290122",
     "status": "completed"
    },
    "tags": []
   },
   "outputs": [
    {
     "name": "stdout",
     "output_type": "stream",
     "text": [
      "  Inference Time     : 0.811948 sec\n",
      "  Memory Used (RSS)  : 4224.000000 KB\n",
      "\n",
      "  Memory Used (RSS)  : 4325376.000000 B\n",
      "\n"
     ]
    }
   ],
   "source": [
    "gc.collect()\n",
    "mem_before = process.memory_info().rss\n",
    "start_time = time.time()\n",
    "\n",
    "rf_y_pred2 = rf_model2.predict(X_test_tfidf)\n",
    "\n",
    "end_time = time.time()\n",
    "mem_after = process.memory_info().rss\n",
    "mem_diff = mem_after - mem_before\n",
    "print(f\"  Inference Time     : {end_time - start_time:.6f} sec\")\n",
    "print(f\"  Memory Used (RSS)  : {mem_diff / 1024:.6f} KB\\n\")\n",
    "print(f\"  Memory Used (RSS)  : {mem_diff:.6f} B\\n\")"
   ]
  },
  {
   "cell_type": "code",
   "execution_count": 35,
   "id": "ca807f09",
   "metadata": {
    "execution": {
     "iopub.execute_input": "2025-05-07T02:17:55.235370Z",
     "iopub.status.busy": "2025-05-07T02:17:55.235121Z",
     "iopub.status.idle": "2025-05-07T02:18:38.674122Z",
     "shell.execute_reply": "2025-05-07T02:18:38.673469Z"
    },
    "papermill": {
     "duration": 43.460653,
     "end_time": "2025-05-07T02:18:38.684877",
     "exception": false,
     "start_time": "2025-05-07T02:17:55.224224",
     "status": "completed"
    },
    "tags": []
   },
   "outputs": [
    {
     "name": "stdout",
     "output_type": "stream",
     "text": [
      "  Inference Time     : 43.333930 sec\n",
      "  Memory Used (RSS)  : 0.000000 KB\n",
      "\n",
      "  Memory Used (RSS)  : 0.000000 B\n",
      "\n"
     ]
    }
   ],
   "source": [
    "gc.collect()\n",
    "mem_before = process.memory_info().rss\n",
    "start_time = time.time()\n",
    "\n",
    "svm_y_pred2 = svm_model2.predict(X_test_tfidf)\n",
    "\n",
    "end_time = time.time()\n",
    "mem_after = process.memory_info().rss\n",
    "mem_diff = mem_after - mem_before\n",
    "print(f\"  Inference Time     : {end_time - start_time:.6f} sec\")\n",
    "print(f\"  Memory Used (RSS)  : {mem_diff / 1024:.6f} KB\\n\")\n",
    "print(f\"  Memory Used (RSS)  : {mem_diff:.6f} B\\n\")"
   ]
  },
  {
   "cell_type": "code",
   "execution_count": 36,
   "id": "d84d0589",
   "metadata": {
    "execution": {
     "iopub.execute_input": "2025-05-07T02:18:38.708045Z",
     "iopub.status.busy": "2025-05-07T02:18:38.707370Z",
     "iopub.status.idle": "2025-05-07T02:18:38.817823Z",
     "shell.execute_reply": "2025-05-07T02:18:38.816978Z"
    },
    "papermill": {
     "duration": 0.123593,
     "end_time": "2025-05-07T02:18:38.818818",
     "exception": false,
     "start_time": "2025-05-07T02:18:38.695225",
     "status": "completed"
    },
    "tags": []
   },
   "outputs": [
    {
     "name": "stdout",
     "output_type": "stream",
     "text": [
      "  Inference Time     : 0.003322 sec\n",
      "  Memory Used (RSS)  : 0.000000 KB\n",
      "\n",
      "  Memory Used (RSS)  : 0.000000 B\n",
      "\n"
     ]
    }
   ],
   "source": [
    "gc.collect()\n",
    "mem_before = process.memory_info().rss\n",
    "start_time = time.time()\n",
    "\n",
    "nb_y_pred2 = nb_model2.predict(X_test_tfidf)\n",
    "\n",
    "end_time = time.time()\n",
    "mem_after = process.memory_info().rss\n",
    "mem_diff = mem_after - mem_before\n",
    "print(f\"  Inference Time     : {end_time - start_time:.6f} sec\")\n",
    "print(f\"  Memory Used (RSS)  : {mem_diff / 1024:.6f} KB\\n\")\n",
    "print(f\"  Memory Used (RSS)  : {mem_diff:.6f} B\\n\")"
   ]
  },
  {
   "cell_type": "code",
   "execution_count": 37,
   "id": "9ce9a0dd",
   "metadata": {
    "execution": {
     "iopub.execute_input": "2025-05-07T02:18:38.840926Z",
     "iopub.status.busy": "2025-05-07T02:18:38.840717Z",
     "iopub.status.idle": "2025-05-07T02:18:39.001944Z",
     "shell.execute_reply": "2025-05-07T02:18:39.001469Z"
    },
    "papermill": {
     "duration": 0.173308,
     "end_time": "2025-05-07T02:18:39.003136",
     "exception": false,
     "start_time": "2025-05-07T02:18:38.829828",
     "status": "completed"
    },
    "tags": []
   },
   "outputs": [
    {
     "name": "stdout",
     "output_type": "stream",
     "text": [
      "  Inference Time     : 0.064130 sec\n",
      "  Memory Used (RSS)  : 0.000000 KB\n",
      "\n",
      "  Memory Used (RSS)  : 0.000000 B\n",
      "\n"
     ]
    }
   ],
   "source": [
    "gc.collect()\n",
    "mem_before = process.memory_info().rss\n",
    "start_time = time.time()\n",
    "\n",
    "xgb_y_pred2 = xgb_model2.predict(X_test_tfidf)\n",
    "\n",
    "end_time = time.time()\n",
    "mem_after = process.memory_info().rss\n",
    "mem_diff = mem_after - mem_before\n",
    "print(f\"  Inference Time     : {end_time - start_time:.6f} sec\")\n",
    "print(f\"  Memory Used (RSS)  : {mem_diff / 1024:.6f} KB\\n\")\n",
    "print(f\"  Memory Used (RSS)  : {mem_diff:.6f} B\\n\")"
   ]
  },
  {
   "cell_type": "markdown",
   "id": "6dc780f1",
   "metadata": {
    "id": "J1NoaslBHq-L",
    "papermill": {
     "duration": 0.010281,
     "end_time": "2025-05-07T02:18:39.024561",
     "exception": false,
     "start_time": "2025-05-07T02:18:39.014280",
     "status": "completed"
    },
    "tags": []
   },
   "source": [
    "RF"
   ]
  },
  {
   "cell_type": "code",
   "execution_count": 38,
   "id": "4fc94e3d",
   "metadata": {
    "execution": {
     "iopub.execute_input": "2025-05-07T02:18:39.046815Z",
     "iopub.status.busy": "2025-05-07T02:18:39.046324Z",
     "iopub.status.idle": "2025-05-07T02:18:39.061141Z",
     "shell.execute_reply": "2025-05-07T02:18:39.060390Z"
    },
    "id": "-fmZY8hQHqCW",
    "outputId": "4f2d24a0-9f06-4eb1-b9b4-396e7190378b",
    "papermill": {
     "duration": 0.027386,
     "end_time": "2025-05-07T02:18:39.062315",
     "exception": false,
     "start_time": "2025-05-07T02:18:39.034929",
     "status": "completed"
    },
    "tags": []
   },
   "outputs": [
    {
     "name": "stdout",
     "output_type": "stream",
     "text": [
      "Akurasi: 0.9248\n",
      "Presisi (Fake Review): 0.9467\n",
      "Recall (Fake Review): 0.9003\n",
      "F1-Score (Fake Review): 0.9229\n"
     ]
    }
   ],
   "source": [
    "accuracy = accuracy_score(y_test, rf_y_pred2)\n",
    "print(f'Akurasi: {accuracy:.4f}')\n",
    "\n",
    "precision_cg = precision_score(y_test, rf_y_pred2)\n",
    "print(f'Presisi (Fake Review): {precision_cg:.4f}')\n",
    "\n",
    "recall_cg = recall_score(y_test, rf_y_pred2)\n",
    "print(f'Recall (Fake Review): {recall_cg:.4f}')\n",
    "\n",
    "f1_cg = f1_score(y_test, rf_y_pred2)\n",
    "print(f'F1-Score (Fake Review): {f1_cg:.4f}')"
   ]
  },
  {
   "cell_type": "markdown",
   "id": "ea5b3c38",
   "metadata": {
    "id": "lC92JljFH1oV",
    "papermill": {
     "duration": 0.010277,
     "end_time": "2025-05-07T02:18:39.083776",
     "exception": false,
     "start_time": "2025-05-07T02:18:39.073499",
     "status": "completed"
    },
    "tags": []
   },
   "source": [
    "SVM"
   ]
  },
  {
   "cell_type": "code",
   "execution_count": 39,
   "id": "7bf65687",
   "metadata": {
    "execution": {
     "iopub.execute_input": "2025-05-07T02:18:39.105266Z",
     "iopub.status.busy": "2025-05-07T02:18:39.105030Z",
     "iopub.status.idle": "2025-05-07T02:18:39.119858Z",
     "shell.execute_reply": "2025-05-07T02:18:39.119037Z"
    },
    "id": "dJa2FQFxHxcS",
    "outputId": "1cfe76d9-2ad4-49d6-80b7-cc73172ee5fc",
    "papermill": {
     "duration": 0.026758,
     "end_time": "2025-05-07T02:18:39.120823",
     "exception": false,
     "start_time": "2025-05-07T02:18:39.094065",
     "status": "completed"
    },
    "tags": []
   },
   "outputs": [
    {
     "name": "stdout",
     "output_type": "stream",
     "text": [
      "Akurasi: 0.9531\n",
      "Presisi (Fake Review): 0.9612\n",
      "Recall (Fake Review): 0.9443\n",
      "F1-Score (Fake Review): 0.9527\n"
     ]
    }
   ],
   "source": [
    "accuracy = accuracy_score(y_test, svm_y_pred2)\n",
    "print(f'Akurasi: {accuracy:.4f}')\n",
    "\n",
    "precision_cg = precision_score(y_test, svm_y_pred2)\n",
    "print(f'Presisi (Fake Review): {precision_cg:.4f}')\n",
    "\n",
    "recall_cg = recall_score(y_test, svm_y_pred2)\n",
    "print(f'Recall (Fake Review): {recall_cg:.4f}')\n",
    "\n",
    "f1_cg = f1_score(y_test, svm_y_pred2)\n",
    "print(f'F1-Score (Fake Review): {f1_cg:.4f}')"
   ]
  },
  {
   "cell_type": "markdown",
   "id": "10978aff",
   "metadata": {
    "id": "q_bAcmKNH3FL",
    "papermill": {
     "duration": 0.010267,
     "end_time": "2025-05-07T02:18:39.142408",
     "exception": false,
     "start_time": "2025-05-07T02:18:39.132141",
     "status": "completed"
    },
    "tags": []
   },
   "source": [
    "NB"
   ]
  },
  {
   "cell_type": "code",
   "execution_count": 40,
   "id": "2c54b471",
   "metadata": {
    "execution": {
     "iopub.execute_input": "2025-05-07T02:18:39.164579Z",
     "iopub.status.busy": "2025-05-07T02:18:39.164355Z",
     "iopub.status.idle": "2025-05-07T02:18:39.179465Z",
     "shell.execute_reply": "2025-05-07T02:18:39.178664Z"
    },
    "id": "fz2D6-_vHx7H",
    "outputId": "8d117ecf-2d59-4e3c-b42b-45f8b3ede71a",
    "papermill": {
     "duration": 0.027708,
     "end_time": "2025-05-07T02:18:39.180468",
     "exception": false,
     "start_time": "2025-05-07T02:18:39.152760",
     "status": "completed"
    },
    "tags": []
   },
   "outputs": [
    {
     "name": "stdout",
     "output_type": "stream",
     "text": [
      "Akurasi: 0.9049\n",
      "Presisi (Fake Review): 0.9054\n",
      "Recall (Fake Review): 0.9043\n",
      "F1-Score (Fake Review): 0.9048\n"
     ]
    }
   ],
   "source": [
    "accuracy = accuracy_score(y_test, nb_y_pred2)\n",
    "print(f'Akurasi: {accuracy:.4f}')\n",
    "\n",
    "precision_cg = precision_score(y_test, nb_y_pred2)\n",
    "print(f'Presisi (Fake Review): {precision_cg:.4f}')\n",
    "\n",
    "recall_cg = recall_score(y_test, nb_y_pred2)\n",
    "print(f'Recall (Fake Review): {recall_cg:.4f}')\n",
    "\n",
    "f1_cg = f1_score(y_test, nb_y_pred2)\n",
    "print(f'F1-Score (Fake Review): {f1_cg:.4f}')"
   ]
  },
  {
   "cell_type": "markdown",
   "id": "e16ccb19",
   "metadata": {
    "id": "BioH2HFuH4Xb",
    "papermill": {
     "duration": 0.010755,
     "end_time": "2025-05-07T02:18:39.202471",
     "exception": false,
     "start_time": "2025-05-07T02:18:39.191716",
     "status": "completed"
    },
    "tags": []
   },
   "source": [
    "XGB"
   ]
  },
  {
   "cell_type": "code",
   "execution_count": 41,
   "id": "b88eaafe",
   "metadata": {
    "execution": {
     "iopub.execute_input": "2025-05-07T02:18:39.224579Z",
     "iopub.status.busy": "2025-05-07T02:18:39.224356Z",
     "iopub.status.idle": "2025-05-07T02:18:39.239462Z",
     "shell.execute_reply": "2025-05-07T02:18:39.238752Z"
    },
    "id": "KWtK8XvPHy-G",
    "outputId": "764e9ac8-3007-4206-877a-b842fa6e2968",
    "papermill": {
     "duration": 0.02723,
     "end_time": "2025-05-07T02:18:39.240456",
     "exception": false,
     "start_time": "2025-05-07T02:18:39.213226",
     "status": "completed"
    },
    "tags": []
   },
   "outputs": [
    {
     "name": "stdout",
     "output_type": "stream",
     "text": [
      "Akurasi: 0.9343\n",
      "Presisi (Fake Review): 0.9419\n",
      "Recall (Fake Review): 0.9258\n",
      "F1-Score (Fake Review): 0.9338\n"
     ]
    }
   ],
   "source": [
    "accuracy = accuracy_score(y_test, xgb_y_pred2)\n",
    "print(f'Akurasi: {accuracy:.4f}')\n",
    "\n",
    "precision_cg = precision_score(y_test, xgb_y_pred2)\n",
    "print(f'Presisi (Fake Review): {precision_cg:.4f}')\n",
    "\n",
    "recall_cg = recall_score(y_test, xgb_y_pred2)\n",
    "print(f'Recall (Fake Review): {recall_cg:.4f}')\n",
    "\n",
    "f1_cg = f1_score(y_test, xgb_y_pred2)\n",
    "print(f'F1-Score (Fake Review): {f1_cg:.4f}')"
   ]
  },
  {
   "cell_type": "markdown",
   "id": "072a75b2",
   "metadata": {
    "id": "m27GHeXuTKGD",
    "papermill": {
     "duration": 0.010287,
     "end_time": "2025-05-07T02:18:39.261576",
     "exception": false,
     "start_time": "2025-05-07T02:18:39.251289",
     "status": "completed"
    },
    "tags": []
   },
   "source": [
    "## Comparison"
   ]
  },
  {
   "cell_type": "code",
   "execution_count": 42,
   "id": "1800e637",
   "metadata": {
    "execution": {
     "iopub.execute_input": "2025-05-07T02:18:39.283579Z",
     "iopub.status.busy": "2025-05-07T02:18:39.283322Z",
     "iopub.status.idle": "2025-05-07T02:18:39.438372Z",
     "shell.execute_reply": "2025-05-07T02:18:39.437698Z"
    },
    "id": "KiVCbJxM-aig",
    "outputId": "a374fe00-149c-4241-ef7c-d31b921ee4cc",
    "papermill": {
     "duration": 0.167295,
     "end_time": "2025-05-07T02:18:39.439356",
     "exception": false,
     "start_time": "2025-05-07T02:18:39.272061",
     "status": "completed"
    },
    "tags": []
   },
   "outputs": [
    {
     "data": {
      "image/png": "[encoded data removed]",
      "text/plain": [
       "<Figure size 640x480 with 1 Axes>"
      ]
     },
     "metadata": {},
     "output_type": "display_data"
    }
   ],
   "source": [
    "models = ['Random Forest', 'SVM', 'Naive Bayes', 'XGBoost']\n",
    "accuracy_before = [accuracy_score(y_test, rf_y_pred), accuracy_score(y_test, svm_y_pred), accuracy_score(y_test, nb_y_pred), accuracy_score(y_test, xgb_y_pred)]\n",
    "accuracy_after = [accuracy_score(y_test, rf_y_pred2), accuracy_score(y_test, svm_y_pred2), accuracy_score(y_test, nb_y_pred2), accuracy_score(y_test, xgb_y_pred2)]\n",
    "\n",
    "x = np.arange(len(models))\n",
    "width = 0.40\n",
    "\n",
    "fig, ax = plt.subplots()\n",
    "bars1 = ax.bar(x - width/2, accuracy_before, width, label='Sebelum Tuning', color='blue')\n",
    "bars2 = ax.bar(x + width/2, accuracy_after, width, label='Setelah Tuning', color='orange')\n",
    "\n",
    "for bar in bars1:\n",
    "    height = bar.get_height()\n",
    "    ax.annotate(f\"{height*100:.2f}\",\n",
    "                xy=(bar.get_x() + bar.get_width() / 2, height),\n",
    "                xytext=(0, 3),\n",
    "                textcoords=\"offset points\",\n",
    "                ha='center', va='bottom')\n",
    "\n",
    "for bar in bars2:\n",
    "    height = bar.get_height()\n",
    "    ax.annotate(f\"{height*100:.2f}\",\n",
    "                xy=(bar.get_x() + bar.get_width() / 2, height),\n",
    "                xytext=(0, 3),\n",
    "                textcoords=\"offset points\",\n",
    "                ha='center', va='bottom')\n",
    "\n",
    "formatter = FuncFormatter(lambda y, _: f'{y*100:.2f}')\n",
    "ax.yaxis.set_major_formatter(formatter)\n",
    "\n",
    "ax.set_ylabel('Accuracy (%)')\n",
    "ax.set_title('Perbandingan Accuracy Model Sebelum dan Setelah Tuning')\n",
    "ax.set_xticks(x)\n",
    "ax.set_xticklabels(models)\n",
    "ax.legend(loc='upper center', bbox_to_anchor=(0.5, -0.10), ncol=2)\n",
    "ax.margins(y=0.1)\n",
    "\n",
    "plt.tight_layout()\n",
    "plt.show()"
   ]
  }
 ],
 "metadata": {
  "colab": {
   "provenance": []
  },
  "kaggle": {
   "accelerator": "none",
   "dataSources": [
    {
     "datasetId": 7266239,
     "sourceId": 11588322,
     "sourceType": "datasetVersion"
    },
    {
     "isSourceIdPinned": true,
     "modelId": 331603,
     "modelInstanceId": 311249,
     "sourceId": 376781,
     "sourceType": "modelInstanceVersion"
    }
   ],
   "dockerImageVersionId": 31012,
   "isGpuEnabled": false,
   "isInternetEnabled": true,
   "language": "python",
   "sourceType": "notebook"
  },
  "kernelspec": {
   "display_name": "Python 3",
   "language": "python",
   "name": "python3"
  },
  "language_info": {
   "codemirror_mode": {
    "name": "ipython",
    "version": 3
   },
   "file_extension": ".py",
   "mimetype": "text/x-python",
   "name": "python",
   "nbconvert_exporter": "python",
   "pygments_lexer": "ipython3",
   "version": "3.11.11"
  },
  "papermill": {
   "default_parameters": {},
   "duration": 789.04166,
   "end_time": "2025-05-07T02:18:40.571428",
   "environment_variables": {},
   "exception": null,
   "input_path": "__notebook__.ipynb",
   "output_path": "__notebook__.ipynb",
   "parameters": {},
   "start_time": "2025-05-07T02:05:31.529768",
   "version": "2.6.0"
  }
 },
 "nbformat": 4,
 "nbformat_minor": 5
}
